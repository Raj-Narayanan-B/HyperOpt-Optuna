{
 "cells": [
  {
   "cell_type": "markdown",
   "metadata": {
    "id": "B9pNStzCwJWC"
   },
   "source": [
    "# **Classification Problem**\n",
    "---\n",
    "## UCI Cleveland Heart disease dataset\n",
    "\n"
   ]
  },
  {
   "cell_type": "markdown",
   "metadata": {
    "id": "XiU-xs1WwbcZ"
   },
   "source": [
    "### Algorithms used:\n",
    "* Adaptive Boost (AdaBoost)\n",
    "* Gradient Boost (GradBoost)\n",
    "* Extreme Boost (XGBoost)\n",
    "---\n",
    "### HyperParameter Tuning tools used\n",
    "* GridSearch CV\n",
    "* RandomizedSearch CV\n",
    "* Optuna\n",
    "* HyperOpt\n"
   ]
  },
  {
   "cell_type": "code",
   "execution_count": null,
   "metadata": {},
   "outputs": [],
   "source": [
    "!pip install optuna\n",
    "!pip install hyperopt"
   ]
  },
  {
   "cell_type": "code",
   "execution_count": 14,
   "metadata": {
    "colab": {
     "base_uri": "https://localhost:8080/",
     "height": 818
    },
    "id": "X7VNN61Lts6x",
    "outputId": "3cb6c2dc-13fb-45dc-9361-66f23fe517b5"
   },
   "outputs": [],
   "source": [
    "import pandas as pd\n",
    "import numpy as np\n",
    "import seaborn as sns\n",
    "import matplotlib.pyplot as plt\n",
    "\n",
    "from xgboost import XGBClassifier\n",
    "from sklearn.ensemble import RandomForestClassifier,AdaBoostClassifier,GradientBoostingClassifier\n",
    "\n",
    "from sklearn.preprocessing import StandardScaler\n",
    "from sklearn.metrics import accuracy_score,log_loss\n",
    "from sklearn.model_selection import GridSearchCV,RandomizedSearchCV,train_test_split\n",
    "\n",
    "import optuna\n",
    "from hyperopt import hp,fmin,tpe,Trials,space_eval\n",
    "\n",
    "import warnings as w\n",
    "w.filterwarnings('ignore')"
   ]
  },
  {
   "cell_type": "markdown",
   "metadata": {
    "id": "68ZS8kFa13c6"
   },
   "source": [
    "\n",
    "\n",
    "> **Data Loading**\n",
    "\n"
   ]
  },
  {
   "cell_type": "code",
   "execution_count": 2,
   "metadata": {
    "colab": {
     "base_uri": "https://localhost:8080/"
    },
    "id": "dd6UgciRzXgO",
    "outputId": "7cf244f5-2ff5-4146-d557-09dd1a282b00"
   },
   "outputs": [
    {
     "name": "stdout",
     "output_type": "stream",
     "text": [
      "Mounted at /content/drive\n"
     ]
    }
   ],
   "source": [
    "from google.colab import drive\n",
    "drive.mount('/content/drive')"
   ]
  },
  {
   "cell_type": "code",
   "execution_count": 3,
   "metadata": {
    "colab": {
     "base_uri": "https://localhost:8080/",
     "height": 206
    },
    "id": "AAJOP7d2vocT",
    "outputId": "131e7a19-b3bd-4538-a50f-2d56c9993588"
   },
   "outputs": [
    {
     "data": {
      "text/html": [
       "<div>\n",
       "<style scoped>\n",
       "    .dataframe tbody tr th:only-of-type {\n",
       "        vertical-align: middle;\n",
       "    }\n",
       "\n",
       "    .dataframe tbody tr th {\n",
       "        vertical-align: top;\n",
       "    }\n",
       "\n",
       "    .dataframe thead th {\n",
       "        text-align: right;\n",
       "    }\n",
       "</style>\n",
       "<table border=\"1\" class=\"dataframe\">\n",
       "  <thead>\n",
       "    <tr style=\"text-align: right;\">\n",
       "      <th></th>\n",
       "      <th>age</th>\n",
       "      <th>sex</th>\n",
       "      <th>cp</th>\n",
       "      <th>trestbps</th>\n",
       "      <th>chol</th>\n",
       "      <th>fbs</th>\n",
       "      <th>restecg</th>\n",
       "      <th>thalach</th>\n",
       "      <th>exang</th>\n",
       "      <th>oldpeak</th>\n",
       "      <th>slope</th>\n",
       "      <th>ca</th>\n",
       "      <th>thal</th>\n",
       "      <th>target</th>\n",
       "    </tr>\n",
       "  </thead>\n",
       "  <tbody>\n",
       "    <tr>\n",
       "      <th>0</th>\n",
       "      <td>52</td>\n",
       "      <td>1</td>\n",
       "      <td>0</td>\n",
       "      <td>125</td>\n",
       "      <td>212</td>\n",
       "      <td>0</td>\n",
       "      <td>1</td>\n",
       "      <td>168</td>\n",
       "      <td>0</td>\n",
       "      <td>1.0</td>\n",
       "      <td>2</td>\n",
       "      <td>2</td>\n",
       "      <td>3</td>\n",
       "      <td>0</td>\n",
       "    </tr>\n",
       "    <tr>\n",
       "      <th>1</th>\n",
       "      <td>53</td>\n",
       "      <td>1</td>\n",
       "      <td>0</td>\n",
       "      <td>140</td>\n",
       "      <td>203</td>\n",
       "      <td>1</td>\n",
       "      <td>0</td>\n",
       "      <td>155</td>\n",
       "      <td>1</td>\n",
       "      <td>3.1</td>\n",
       "      <td>0</td>\n",
       "      <td>0</td>\n",
       "      <td>3</td>\n",
       "      <td>0</td>\n",
       "    </tr>\n",
       "    <tr>\n",
       "      <th>2</th>\n",
       "      <td>70</td>\n",
       "      <td>1</td>\n",
       "      <td>0</td>\n",
       "      <td>145</td>\n",
       "      <td>174</td>\n",
       "      <td>0</td>\n",
       "      <td>1</td>\n",
       "      <td>125</td>\n",
       "      <td>1</td>\n",
       "      <td>2.6</td>\n",
       "      <td>0</td>\n",
       "      <td>0</td>\n",
       "      <td>3</td>\n",
       "      <td>0</td>\n",
       "    </tr>\n",
       "    <tr>\n",
       "      <th>3</th>\n",
       "      <td>61</td>\n",
       "      <td>1</td>\n",
       "      <td>0</td>\n",
       "      <td>148</td>\n",
       "      <td>203</td>\n",
       "      <td>0</td>\n",
       "      <td>1</td>\n",
       "      <td>161</td>\n",
       "      <td>0</td>\n",
       "      <td>0.0</td>\n",
       "      <td>2</td>\n",
       "      <td>1</td>\n",
       "      <td>3</td>\n",
       "      <td>0</td>\n",
       "    </tr>\n",
       "    <tr>\n",
       "      <th>4</th>\n",
       "      <td>62</td>\n",
       "      <td>0</td>\n",
       "      <td>0</td>\n",
       "      <td>138</td>\n",
       "      <td>294</td>\n",
       "      <td>1</td>\n",
       "      <td>1</td>\n",
       "      <td>106</td>\n",
       "      <td>0</td>\n",
       "      <td>1.9</td>\n",
       "      <td>1</td>\n",
       "      <td>3</td>\n",
       "      <td>2</td>\n",
       "      <td>0</td>\n",
       "    </tr>\n",
       "  </tbody>\n",
       "</table>\n",
       "</div>"
      ],
      "text/plain": [
       "   age  sex  cp  trestbps  chol  fbs  restecg  thalach  exang  oldpeak  slope  \\\n",
       "0   52    1   0       125   212    0        1      168      0      1.0      2   \n",
       "1   53    1   0       140   203    1        0      155      1      3.1      0   \n",
       "2   70    1   0       145   174    0        1      125      1      2.6      0   \n",
       "3   61    1   0       148   203    0        1      161      0      0.0      2   \n",
       "4   62    0   0       138   294    1        1      106      0      1.9      1   \n",
       "\n",
       "   ca  thal  target  \n",
       "0   2     3       0  \n",
       "1   0     3       0  \n",
       "2   0     3       0  \n",
       "3   1     3       0  \n",
       "4   3     2       0  "
      ]
     },
     "execution_count": 3,
     "metadata": {},
     "output_type": "execute_result"
    }
   ],
   "source": [
    "df=pd.read_csv('heart.csv')\n",
    "df.head()"
   ]
  },
  {
   "cell_type": "markdown",
   "metadata": {
    "id": "jJnIxzD319xu"
   },
   "source": [
    "\n",
    "\n",
    "> **Check info of dataset**\n",
    "\n"
   ]
  },
  {
   "cell_type": "code",
   "execution_count": 4,
   "metadata": {
    "colab": {
     "base_uri": "https://localhost:8080/"
    },
    "id": "V0AbCMeIwADr",
    "outputId": "114c7992-6aa0-4ab9-9b11-a5ed0ab7227e"
   },
   "outputs": [
    {
     "name": "stdout",
     "output_type": "stream",
     "text": [
      "<class 'pandas.core.frame.DataFrame'>\n",
      "RangeIndex: 1025 entries, 0 to 1024\n",
      "Data columns (total 14 columns):\n",
      " #   Column    Non-Null Count  Dtype  \n",
      "---  ------    --------------  -----  \n",
      " 0   age       1025 non-null   int64  \n",
      " 1   sex       1025 non-null   int64  \n",
      " 2   cp        1025 non-null   int64  \n",
      " 3   trestbps  1025 non-null   int64  \n",
      " 4   chol      1025 non-null   int64  \n",
      " 5   fbs       1025 non-null   int64  \n",
      " 6   restecg   1025 non-null   int64  \n",
      " 7   thalach   1025 non-null   int64  \n",
      " 8   exang     1025 non-null   int64  \n",
      " 9   oldpeak   1025 non-null   float64\n",
      " 10  slope     1025 non-null   int64  \n",
      " 11  ca        1025 non-null   int64  \n",
      " 12  thal      1025 non-null   int64  \n",
      " 13  target    1025 non-null   int64  \n",
      "dtypes: float64(1), int64(13)\n",
      "memory usage: 112.2 KB\n"
     ]
    }
   ],
   "source": [
    "df.info()"
   ]
  },
  {
   "cell_type": "markdown",
   "metadata": {
    "id": "rj__pSSw2Fpm"
   },
   "source": [
    "\n",
    "\n",
    "> **Check for any null values**\n",
    "\n"
   ]
  },
  {
   "cell_type": "code",
   "execution_count": 5,
   "metadata": {
    "colab": {
     "base_uri": "https://localhost:8080/"
    },
    "id": "xntCXuOhwISE",
    "outputId": "2cb49ab1-2853-4caf-8151-1613edab96a5"
   },
   "outputs": [
    {
     "data": {
      "text/plain": [
       "age         0\n",
       "sex         0\n",
       "cp          0\n",
       "trestbps    0\n",
       "chol        0\n",
       "fbs         0\n",
       "restecg     0\n",
       "thalach     0\n",
       "exang       0\n",
       "oldpeak     0\n",
       "slope       0\n",
       "ca          0\n",
       "thal        0\n",
       "target      0\n",
       "dtype: int64"
      ]
     },
     "execution_count": 5,
     "metadata": {},
     "output_type": "execute_result"
    }
   ],
   "source": [
    "df.isnull().sum()"
   ]
  },
  {
   "cell_type": "markdown",
   "metadata": {
    "id": "zA8gAw-s2MPv"
   },
   "source": [
    "\n",
    "\n",
    "> **Check the correlation between variables in dataset**\n",
    "\n"
   ]
  },
  {
   "cell_type": "code",
   "execution_count": 6,
   "metadata": {
    "colab": {
     "base_uri": "https://localhost:8080/",
     "height": 575
    },
    "id": "wCACgUXQxfvU",
    "outputId": "bf1acfe4-cc94-45cc-a0e6-b24b81f38e9e"
   },
   "outputs": [
    {
     "data": {
      "image/png": "[encoded data removed]",
      "text/plain": [
       "<Figure size 1500x700 with 2 Axes>"
      ]
     },
     "metadata": {},
     "output_type": "display_data"
    }
   ],
   "source": [
    "plt.figure(figsize=(15,7))\n",
    "sns.heatmap(df.corr(),cmap='magma',annot=True)\n",
    "plt.show()"
   ]
  },
  {
   "cell_type": "code",
   "execution_count": 7,
   "metadata": {
    "colab": {
     "base_uri": "https://localhost:8080/",
     "height": 599
    },
    "id": "jKePOAJYx2p7",
    "outputId": "1fdebd93-49be-493a-bbd1-8370d1bd26ae"
   },
   "outputs": [
    {
     "data": {
      "image/png": "[encoded data removed]",
      "text/plain": [
       "<Figure size 200x700 with 2 Axes>"
      ]
     },
     "metadata": {},
     "output_type": "display_data"
    }
   ],
   "source": [
    "plt.figure(figsize=(2,7))\n",
    "sns.heatmap(df.corr()[['target']],cmap='magma',annot=True)\n",
    "plt.show()"
   ]
  },
  {
   "cell_type": "markdown",
   "metadata": {
    "id": "81Esx6Dm2TJ8"
   },
   "source": [
    "\n",
    "\n",
    "> **Separate features and target variables**\n",
    "\n"
   ]
  },
  {
   "cell_type": "code",
   "execution_count": 8,
   "metadata": {
    "colab": {
     "base_uri": "https://localhost:8080/",
     "height": 206
    },
    "id": "E1a7D2Qx1OHr",
    "outputId": "1866cf35-6187-403a-ca14-b48df2d5cacf"
   },
   "outputs": [
    {
     "data": {
      "text/html": [
       "<div>\n",
       "<style scoped>\n",
       "    .dataframe tbody tr th:only-of-type {\n",
       "        vertical-align: middle;\n",
       "    }\n",
       "\n",
       "    .dataframe tbody tr th {\n",
       "        vertical-align: top;\n",
       "    }\n",
       "\n",
       "    .dataframe thead th {\n",
       "        text-align: right;\n",
       "    }\n",
       "</style>\n",
       "<table border=\"1\" class=\"dataframe\">\n",
       "  <thead>\n",
       "    <tr style=\"text-align: right;\">\n",
       "      <th></th>\n",
       "      <th>age</th>\n",
       "      <th>sex</th>\n",
       "      <th>cp</th>\n",
       "      <th>trestbps</th>\n",
       "      <th>chol</th>\n",
       "      <th>fbs</th>\n",
       "      <th>restecg</th>\n",
       "      <th>thalach</th>\n",
       "      <th>exang</th>\n",
       "      <th>oldpeak</th>\n",
       "      <th>slope</th>\n",
       "      <th>ca</th>\n",
       "      <th>thal</th>\n",
       "    </tr>\n",
       "  </thead>\n",
       "  <tbody>\n",
       "    <tr>\n",
       "      <th>0</th>\n",
       "      <td>52</td>\n",
       "      <td>1</td>\n",
       "      <td>0</td>\n",
       "      <td>125</td>\n",
       "      <td>212</td>\n",
       "      <td>0</td>\n",
       "      <td>1</td>\n",
       "      <td>168</td>\n",
       "      <td>0</td>\n",
       "      <td>1.0</td>\n",
       "      <td>2</td>\n",
       "      <td>2</td>\n",
       "      <td>3</td>\n",
       "    </tr>\n",
       "    <tr>\n",
       "      <th>1</th>\n",
       "      <td>53</td>\n",
       "      <td>1</td>\n",
       "      <td>0</td>\n",
       "      <td>140</td>\n",
       "      <td>203</td>\n",
       "      <td>1</td>\n",
       "      <td>0</td>\n",
       "      <td>155</td>\n",
       "      <td>1</td>\n",
       "      <td>3.1</td>\n",
       "      <td>0</td>\n",
       "      <td>0</td>\n",
       "      <td>3</td>\n",
       "    </tr>\n",
       "    <tr>\n",
       "      <th>2</th>\n",
       "      <td>70</td>\n",
       "      <td>1</td>\n",
       "      <td>0</td>\n",
       "      <td>145</td>\n",
       "      <td>174</td>\n",
       "      <td>0</td>\n",
       "      <td>1</td>\n",
       "      <td>125</td>\n",
       "      <td>1</td>\n",
       "      <td>2.6</td>\n",
       "      <td>0</td>\n",
       "      <td>0</td>\n",
       "      <td>3</td>\n",
       "    </tr>\n",
       "    <tr>\n",
       "      <th>3</th>\n",
       "      <td>61</td>\n",
       "      <td>1</td>\n",
       "      <td>0</td>\n",
       "      <td>148</td>\n",
       "      <td>203</td>\n",
       "      <td>0</td>\n",
       "      <td>1</td>\n",
       "      <td>161</td>\n",
       "      <td>0</td>\n",
       "      <td>0.0</td>\n",
       "      <td>2</td>\n",
       "      <td>1</td>\n",
       "      <td>3</td>\n",
       "    </tr>\n",
       "    <tr>\n",
       "      <th>4</th>\n",
       "      <td>62</td>\n",
       "      <td>0</td>\n",
       "      <td>0</td>\n",
       "      <td>138</td>\n",
       "      <td>294</td>\n",
       "      <td>1</td>\n",
       "      <td>1</td>\n",
       "      <td>106</td>\n",
       "      <td>0</td>\n",
       "      <td>1.9</td>\n",
       "      <td>1</td>\n",
       "      <td>3</td>\n",
       "      <td>2</td>\n",
       "    </tr>\n",
       "  </tbody>\n",
       "</table>\n",
       "</div>"
      ],
      "text/plain": [
       "   age  sex  cp  trestbps  chol  fbs  restecg  thalach  exang  oldpeak  slope  \\\n",
       "0   52    1   0       125   212    0        1      168      0      1.0      2   \n",
       "1   53    1   0       140   203    1        0      155      1      3.1      0   \n",
       "2   70    1   0       145   174    0        1      125      1      2.6      0   \n",
       "3   61    1   0       148   203    0        1      161      0      0.0      2   \n",
       "4   62    0   0       138   294    1        1      106      0      1.9      1   \n",
       "\n",
       "   ca  thal  \n",
       "0   2     3  \n",
       "1   0     3  \n",
       "2   0     3  \n",
       "3   1     3  \n",
       "4   3     2  "
      ]
     },
     "execution_count": 8,
     "metadata": {},
     "output_type": "execute_result"
    }
   ],
   "source": [
    "X=df.drop('target',axis=1)\n",
    "X.head()"
   ]
  },
  {
   "cell_type": "code",
   "execution_count": 9,
   "metadata": {
    "colab": {
     "base_uri": "https://localhost:8080/"
    },
    "id": "fJA1cWVY1ozI",
    "outputId": "6dbc0780-9bdb-48ca-dfc0-8d9c3236a743"
   },
   "outputs": [
    {
     "data": {
      "text/plain": [
       "0    0\n",
       "1    0\n",
       "2    0\n",
       "3    0\n",
       "4    0\n",
       "Name: target, dtype: int64"
      ]
     },
     "execution_count": 9,
     "metadata": {},
     "output_type": "execute_result"
    }
   ],
   "source": [
    "y=df['target']\n",
    "y.head()"
   ]
  },
  {
   "cell_type": "markdown",
   "metadata": {
    "id": "_9gpSrlx2aLL"
   },
   "source": [
    "\n",
    "\n",
    "> **Perform Train-Test-Split on X & y**\n",
    "\n"
   ]
  },
  {
   "cell_type": "code",
   "execution_count": 10,
   "metadata": {
    "id": "oYX9yQKX1Emf"
   },
   "outputs": [],
   "source": [
    "x_train,x_test,y_train,y_test=train_test_split(X,y,random_state=3,train_size=0.75)"
   ]
  },
  {
   "cell_type": "code",
   "execution_count": 11,
   "metadata": {
    "colab": {
     "base_uri": "https://localhost:8080/"
    },
    "id": "mT8uih7t3PI8",
    "outputId": "ce3769a0-3fcc-4543-bb40-359236a09dc2"
   },
   "outputs": [
    {
     "name": "stdout",
     "output_type": "stream",
     "text": [
      "(768, 13)\n",
      "(257, 13)\n",
      "(768,)\n",
      "(257,)\n"
     ]
    }
   ],
   "source": [
    "print(x_train.shape)\n",
    "print(x_test.shape)\n",
    "print(y_train.shape)\n",
    "print(y_test.shape)"
   ]
  },
  {
   "cell_type": "markdown",
   "metadata": {
    "id": "AUvIpQjY4D1E"
   },
   "source": [
    "### **GridSearchCV**\n"
   ]
  },
  {
   "cell_type": "markdown",
   "metadata": {
    "id": "5itdHNjV3czd"
   },
   "source": [
    "\n",
    "\n",
    "> **Initialize the classifiers for GridSearchCV**\n",
    "\n",
    "\n",
    "\n"
   ]
  },
  {
   "cell_type": "code",
   "execution_count": 12,
   "metadata": {
    "id": "JV4vxvJQ3oAc"
   },
   "outputs": [],
   "source": [
    "base_randf=RandomForestClassifier()\n",
    "base_adab=AdaBoostClassifier()\n",
    "base_gradb=GradientBoostingClassifier()\n",
    "base_xgb=XGBClassifier()"
   ]
  },
  {
   "cell_type": "markdown",
   "metadata": {
    "id": "9QU7qg4GAZGp"
   },
   "source": [
    "#### **1. RandomForest**"
   ]
  },
  {
   "cell_type": "code",
   "execution_count": null,
   "metadata": {},
   "outputs": [],
   "source": [
    "param={'n_estimators'  :[400,650,950],\n",
    "      'criterion'      :['gini', 'entropy', 'log_loss'],\n",
    "      'max_features'   :['sqrt', 'log2', None]\n",
    "      }\n",
    "\n",
    "gsv_randf=GridSearchCV(estimator=base_randf,\n",
    "                      param_grid=param,\n",
    "                      n_jobs=-1,\n",
    "                      scoring='accuracy',\n",
    "                      cv=5,\n",
    "                      verbose=2)\n",
    "\n",
    "gsv_randf.fit(x_train,y_train)"
   ]
  },
  {
   "cell_type": "code",
   "execution_count": 13,
   "metadata": {
    "collapsed": true
   },
   "outputs": [
    {
     "ename": "NameError",
     "evalue": "name 'gsv_randf' is not defined",
     "output_type": "error",
     "traceback": [
      "\u001b[1;31m---------------------------------------------------------------------------\u001b[0m",
      "\u001b[1;31mNameError\u001b[0m                                 Traceback (most recent call last)",
      "Cell \u001b[1;32mIn[13], line 1\u001b[0m\n\u001b[1;32m----> 1\u001b[0m \u001b[38;5;28mprint\u001b[39m(\u001b[43mgsv_randf\u001b[49m\u001b[38;5;241m.\u001b[39mbest_score_)\n\u001b[0;32m      2\u001b[0m \u001b[38;5;28mprint\u001b[39m(gsv_randf\u001b[38;5;241m.\u001b[39mbest_params_)\n",
      "\u001b[1;31mNameError\u001b[0m: name 'gsv_randf' is not defined"
     ]
    }
   ],
   "source": [
    "print(gsv_randf.best_score_)\n",
    "print(gsv_randf.best_params_)"
   ]
  },
  {
   "cell_type": "code",
   "execution_count": null,
   "metadata": {},
   "outputs": [],
   "source": [
    "randf=RandomForestClassifier(**gsv_randf.best_params_)\n",
    "randf.fit(x_train,y_train)\n",
    "y_pred=randf.predict(x_test)\n",
    "print(round(accuracy_score(y_test,y_pred)*100,2),'%')"
   ]
  },
  {
   "cell_type": "markdown",
   "metadata": {
    "id": "9QU7qg4GAZGp"
   },
   "source": [
    "#### **2. AdaBoost**"
   ]
  },
  {
   "cell_type": "code",
   "execution_count": null,
   "metadata": {
    "id": "CZoMNAbrzpQ0"
   },
   "outputs": [],
   "source": [
    "param={\n",
    "    'n_estimators'  :[300,350,400],\n",
    "    'learning_rate' :list(np.linspace(0.1,1,100)),\n",
    "    'algorithm'     :['SAMME', 'SAMME.R']\n",
    "}\n",
    "\n",
    "gsv_adab=GridSearchCV(estimator=base_adab,\n",
    "                 param_grid=param,\n",
    "                 n_jobs=-1,\n",
    "                 scoring='accuracy',\n",
    "                 cv=5,\n",
    "                 verbose=2)\n",
    "\n",
    "gsv_adab.fit(x_train,y_train)"
   ]
  },
  {
   "cell_type": "code",
   "execution_count": null,
   "metadata": {
    "colab": {
     "base_uri": "https://localhost:8080/"
    },
    "id": "jCy_jPzJCnMq",
    "outputId": "a3a17c9b-dbdd-4ad4-a101-5a2573c80a54"
   },
   "outputs": [
    {
     "name": "stdout",
     "output_type": "stream",
     "text": [
      "0.9609540786011375\n",
      "{'algorithm': 'SAMME.R', 'learning_rate': 0.9545454545454545, 'n_estimators': 400}\n"
     ]
    }
   ],
   "source": [
    "print(gsv_adab.best_score_)\n",
    "print(gsv_adab.best_params_)"
   ]
  },
  {
   "cell_type": "code",
   "execution_count": null,
   "metadata": {
    "id": "QeWqz6agLS1v"
   },
   "outputs": [],
   "source": [
    "adab=AdaBoostClassifier(**gsv_adab.best_params_)\n",
    "adab.fit(x_train,y_train)\n",
    "y_pred=adab.predict(x_test)\n",
    "print(round(accuracy_score(y_test,y_pred)*100,2),'%')"
   ]
  },
  {
   "cell_type": "markdown",
   "metadata": {
    "id": "2_hKXEQ2L2rm"
   },
   "source": [
    "#### **3. GradientBoost**"
   ]
  },
  {
   "cell_type": "code",
   "execution_count": null,
   "metadata": {
    "id": "ptJUTtKrLwgO"
   },
   "outputs": [],
   "source": [
    "param={\n",
    "    'n_estimators'  :[300,350,400,450],\n",
    "    'learning_rate' :list(np.linspace(0.1,1,100)),\n",
    "    'max_depth'     :list(range(4,13)),\n",
    "    'max_features'  :['auto','log2']\n",
    "}\n",
    "\n",
    "gsv_gb=GridSearchCV(estimator=base_gradb,\n",
    "                 param_grid=param,\n",
    "                 n_jobs=-1,\n",
    "                 scoring='accuracy',\n",
    "                 cv=5,\n",
    "                 verbose=2)\n",
    "\n",
    "gsv_gb.fit(x_train,y_train)"
   ]
  },
  {
   "cell_type": "code",
   "execution_count": null,
   "metadata": {
    "id": "XksH5rmgzJrE",
    "outputId": "a1b89cf2-aeb7-428f-e81d-dc78a2010992"
   },
   "outputs": [
    {
     "name": "stdout",
     "output_type": "stream",
     "text": [
      "0.9843731431966726\n",
      "{'learning_rate': 0.23636363636363636, 'max_depth': 8, 'max_features': 'auto', 'n_estimators': 400}\n"
     ]
    }
   ],
   "source": [
    "print(gsv_gb.best_score_)\n",
    "print(gsv_gb.best_params_)"
   ]
  },
  {
   "cell_type": "code",
   "execution_count": null,
   "metadata": {},
   "outputs": [],
   "source": [
    "gradb=GradientBoostingClassifier(**gsv_gb.best_params_)\n",
    "gradb.fit(x_train,y_train)\n",
    "y_pred=gradb.predict(x_test)\n",
    "print(round(accuracy_score(y_test,y_pred)*100,2),'%')"
   ]
  },
  {
   "cell_type": "markdown",
   "metadata": {
    "id": "rPnS1_Fok25S"
   },
   "source": [
    "#### **4. XGBoost**"
   ]
  },
  {
   "cell_type": "code",
   "execution_count": null,
   "metadata": {
    "id": "rypUS34Tn-Ja"
   },
   "outputs": [],
   "source": [
    "param = {\n",
    "    'n_estimators'      : [400,500,750,900,1000],\n",
    "    'max_depth'         : [8,9,10],\n",
    "    'learning_rate'     : list(np.linspace(0.01,1,100))\n",
    "}\n",
    "\n",
    "gsv_xgb=GridSearchCV(estimator=base_xgb,\n",
    "                     param_grid=param,\n",
    "                     n_jobs=-1,\n",
    "                     cv=5,\n",
    "                     scoring='accuracy',\n",
    "                     verbose=2)\n",
    "\n",
    "gsv_xgb.fit(x_train,y_train)"
   ]
  },
  {
   "cell_type": "code",
   "execution_count": null,
   "metadata": {
    "colab": {
     "base_uri": "https://localhost:8080/"
    },
    "id": "pALhzr0ivss7",
    "outputId": "1c1268dd-eef4-450f-e396-2683bfa3ab8b"
   },
   "outputs": [
    {
     "name": "stdout",
     "output_type": "stream",
     "text": [
      "0.9765809354044649\n",
      "{'learning_rate': 0.7100000000000001, 'max_depth': 10, 'n_estimators': 400, 'tree_method': 'gpu_hist'}\n"
     ]
    }
   ],
   "source": [
    "print(gsv_xgb.best_score_)\n",
    "print(gsv_xgb.best_params_)"
   ]
  },
  {
   "cell_type": "code",
   "execution_count": null,
   "metadata": {
    "id": "dkJ72BhKxegB"
   },
   "outputs": [],
   "source": [
    "xgb=XGBClassifier(**gsv_xgb.best_params_)\n",
    "xgb.fit(x_train,y_train)\n",
    "y_pred=xgb.predict(x_test)\n",
    "print(round(accuracy_score(y_test,y_pred)*100,2),'%')"
   ]
  },
  {
   "cell_type": "markdown",
   "metadata": {
    "id": "LAjrjxfdzPbq"
   },
   "source": [
    "### **RandomizedSearchCV**\n"
   ]
  },
  {
   "cell_type": "markdown",
   "metadata": {},
   "source": [
    "> **Initialize the base classifiers for RandomizedSearchCV**"
   ]
  },
  {
   "cell_type": "code",
   "execution_count": null,
   "metadata": {},
   "outputs": [],
   "source": [
    "base_randf=RandomForestClassifier()\n",
    "base_adab=AdaBoostClassifier()\n",
    "base_gradb=GradientBoostingClassifier()\n",
    "base_xgb=XGBClassifier()"
   ]
  },
  {
   "cell_type": "markdown",
   "metadata": {
    "id": "vqLO1YBIT6x2"
   },
   "source": [
    "#### **1. RandomForest**"
   ]
  },
  {
   "cell_type": "code",
   "execution_count": null,
   "metadata": {},
   "outputs": [],
   "source": [
    "param={'n_estimators'  :[400,650,950],\n",
    "      'criterion'      :['gini', 'entropy', 'log_loss'],\n",
    "      'max_features'   :['sqrt', 'log2', None]\n",
    "      }\n",
    "\n",
    "randSCV_randf=RandomizedSearchCV(\n",
    "                        estimator=base_randf,\n",
    "                        param_distributions=param,\n",
    "                        n_iter=100,\n",
    "                        n_jobs=-1,\n",
    "                        scoring='accuracy',\n",
    "                        cv=5,\n",
    "                        verbose=2,\n",
    "                        random_state=3)\n",
    "\n",
    "randSCV_randf.fit(x_train,y_train)"
   ]
  },
  {
   "cell_type": "code",
   "execution_count": null,
   "metadata": {},
   "outputs": [],
   "source": [
    "print(randSCV_randf.best_score_)\n",
    "print(randSCV_randf.best_params_)"
   ]
  },
  {
   "cell_type": "code",
   "execution_count": null,
   "metadata": {},
   "outputs": [],
   "source": [
    "randf=RandomForestClassifier(**randSCV_randf.best_params_)\n",
    "randf.fit(x_train,y_train)\n",
    "y_pred=randf.predict(x_test)\n",
    "print(round(accuracy_score(y_test,y_pred)*100,2),'%')"
   ]
  },
  {
   "cell_type": "markdown",
   "metadata": {
    "id": "vqLO1YBIT6x2"
   },
   "source": [
    "#### **2. AdaBoost**"
   ]
  },
  {
   "cell_type": "code",
   "execution_count": null,
   "metadata": {
    "id": "IIHFgFHpT6x2"
   },
   "outputs": [],
   "source": [
    "param={\n",
    "    'n_estimators'  :[300,350,400,500,1000],\n",
    "    'learning_rate' :list(np.linspace(0.1,1,100)),\n",
    "    'algorithm'     :['SAMME', 'SAMME.R']\n",
    "}\n",
    "\n",
    "randSCV_adab=RandomizedSearchCV(\n",
    "    estimator=base_adab,\n",
    "    param_distributions =param,\n",
    "    n_iter=100,\n",
    "    n_jobs=-1,\n",
    "    scoring='accuracy',\n",
    "    cv=5,\n",
    "    verbose=2,\n",
    "    random_state=3)\n",
    "\n",
    "randSCV_adab.fit(x_train,y_train)"
   ]
  },
  {
   "cell_type": "code",
   "execution_count": null,
   "metadata": {
    "colab": {
     "base_uri": "https://localhost:8080/"
    },
    "id": "uvGlDxoVT6x3",
    "outputId": "f8014339-001a-4d8b-c94e-084707c37f81"
   },
   "outputs": [
    {
     "name": "stdout",
     "output_type": "stream",
     "text": [
      "0.9648841354723707\n",
      "{'n_estimators': 1000, 'learning_rate': 0.7363636363636363, 'algorithm': 'SAMME.R'}\n"
     ]
    }
   ],
   "source": [
    "print(randSCV_adab.best_score_)\n",
    "print(randSCV_adab.best_params_)"
   ]
  },
  {
   "cell_type": "code",
   "execution_count": null,
   "metadata": {},
   "outputs": [],
   "source": [
    "adab=AdaBoostClassifier(**randSCV_adab.best_params_)\n",
    "adab.fit(x_train,y_train)\n",
    "y_pred=adab.predict(x_test)\n",
    "print(round(accuracy_score(y_test,y_pred)*100,2),'%')"
   ]
  },
  {
   "cell_type": "markdown",
   "metadata": {
    "id": "To7ipLzvT6x3"
   },
   "source": [
    "#### **3. GradientBoost**"
   ]
  },
  {
   "cell_type": "code",
   "execution_count": null,
   "metadata": {
    "id": "q4Rv9dW0T6x3"
   },
   "outputs": [],
   "source": [
    "param={\n",
    "    'n_estimators'  :[300,350,400,450,600,700,800,900,1000,2000,3000],\n",
    "    'learning_rate' :list(np.linspace(0.1,1,100)),\n",
    "    'max_depth'     :list(range(4,13)),\n",
    "    'max_features'  :['auto','log2']\n",
    "}\n",
    "\n",
    "randSCV_gb=RandomizedSearchCV(\n",
    "    estimator=base_gradb,\n",
    "    param_distributions =param,\n",
    "    n_iter=100,\n",
    "    n_jobs=-1,\n",
    "    scoring='accuracy',\n",
    "    cv=5,\n",
    "    verbose=2,\n",
    "    random_state=3)\n",
    "\n",
    "randSCV_gb.fit(x_train,y_train)"
   ]
  },
  {
   "cell_type": "code",
   "execution_count": null,
   "metadata": {
    "colab": {
     "base_uri": "https://localhost:8080/"
    },
    "id": "IAktBNSTT6x4",
    "outputId": "251f5996-9051-4d6b-a548-6013c2bfa768"
   },
   "outputs": [
    {
     "name": "stdout",
     "output_type": "stream",
     "text": [
      "0.9791868262456498\n",
      "{'n_estimators': 300, 'max_features': 'auto', 'max_depth': 10, 'learning_rate': 0.5454545454545454}\n"
     ]
    }
   ],
   "source": [
    "print(randSCV_gb.best_score_)\n",
    "print(randSCV_gb.best_params_)"
   ]
  },
  {
   "cell_type": "code",
   "execution_count": null,
   "metadata": {
    "id": "j-w7gnygT6x5"
   },
   "outputs": [],
   "source": [
    "gradb=GradientBoostingClassifier(**randSCV_gb.best_params_)\n",
    "gradb.fit(x_train,y_train)\n",
    "y_pred=gradb.predict(x_test)\n",
    "print(round(accuracy_score(y_test,y_pred)*100,2),'%')"
   ]
  },
  {
   "cell_type": "markdown",
   "metadata": {
    "id": "BgN4EMvJT6x5"
   },
   "source": [
    "#### **4. XGBoost**"
   ]
  },
  {
   "cell_type": "code",
   "execution_count": null,
   "metadata": {
    "id": "oltDUamjT6x5"
   },
   "outputs": [],
   "source": [
    "param = {\n",
    "    'n_estimators'      : [100,200,300,350,400,450,500,750,900,1000],\n",
    "    'max_depth'         : list(range(4,13)),\n",
    "    'learning_rate'     : list(np.linspace(0.1,1,100)),\n",
    "    'min_child_weight'  : [1,200]\n",
    "}\n",
    "\n",
    "randSCV_xgb=RandomizedSearchCV(estimator=base_xgb,\n",
    "    param_distributions =param,\n",
    "    n_iter=100,\n",
    "    n_jobs=-1,\n",
    "    scoring='accuracy',\n",
    "    cv=5,\n",
    "    verbose=2,\n",
    "    random_state=3)\n",
    "\n",
    "randSCV_xgb.fit(x_train,y_train)"
   ]
  },
  {
   "cell_type": "code",
   "execution_count": null,
   "metadata": {
    "colab": {
     "base_uri": "https://localhost:8080/"
    },
    "id": "ulpEPn2QT6x6",
    "outputId": "59dbd871-14d5-4440-9c9a-83f78822be0d"
   },
   "outputs": [
    {
     "name": "stdout",
     "output_type": "stream",
     "text": [
      "0.9726848315083609\n",
      "{'tree_method': 'gpu_hist', 'n_estimators': 450, 'min_child_weight': 1, 'max_depth': 10, 'learning_rate': 0.3727272727272727}\n"
     ]
    }
   ],
   "source": [
    "print(randSCV_xgb.best_score_)\n",
    "print(randSCV_xgb.best_params_)"
   ]
  },
  {
   "cell_type": "code",
   "execution_count": null,
   "metadata": {},
   "outputs": [],
   "source": [
    "xgb=XGBClassifier(**randSCV_xgb.best_params_)\n",
    "xgb.fit(x_train,y_train)\n",
    "y_pred=xgb.predict(x_test)\n",
    "print(round(accuracy_score(y_test,y_pred)*100,2),'%')"
   ]
  },
  {
   "cell_type": "markdown",
   "metadata": {
    "id": "ckBU55u2o4bN"
   },
   "source": [
    "### **Optuna**\n"
   ]
  },
  {
   "cell_type": "markdown",
   "metadata": {
    "id": "-2UUdmJUo-88"
   },
   "source": [
    "#### **1. RandomForest**"
   ]
  },
  {
   "cell_type": "code",
   "execution_count": null,
   "metadata": {},
   "outputs": [],
   "source": [
    "def objective(trial):\n",
    "  param={\n",
    "      'n_estimators'  :trial.suggest_int('n_estimators',100,2000),\n",
    "      'criterion'     :trial.suggest_categorical('criterion',['gini', 'entropy', 'log_loss']),\n",
    "      'max_features'  :trial.suggest_categorical('max_features',['sqrt', 'log2', None])\n",
    "  }\n",
    "\n",
    "  opt_randf=RandomForestClassifier(**param)\n",
    "  opt_randf.fit(x_train,y_train)\n",
    "  y_pred=opt_randf.predict(x_test)\n",
    "  accuracy=accuracy_score(y_test,y_pred)\n",
    "#  accuracies.append(accuracy)\n",
    "#  print('max_accuracy',max(accuracies))\n",
    "  return(accuracy)"
   ]
  },
  {
   "cell_type": "code",
   "execution_count": null,
   "metadata": {},
   "outputs": [],
   "source": [
    "#accuracies=[]\n",
    "find_params=optuna.create_study()\n",
    "find_params.optimize(objective,n_trials=50,n_jobs=-1,)"
   ]
  },
  {
   "cell_type": "code",
   "execution_count": null,
   "metadata": {},
   "outputs": [],
   "source": [
    "param_df=find_params.trials_dataframe()[['value','params_criterion','params_max_features','params_n_estimators']]\n",
    "param_df=param_df[param_df['value']==max(param_df['value'])]\n",
    "best_param={'n_estimators': param_df['params_n_estimators'].values[0], \n",
    "            'criterion'   : param_df['params_criterion'].values[0], \n",
    "            'max_features': param_df['params_max_features'].values[0]}\n",
    "best_param"
   ]
  },
  {
   "cell_type": "code",
   "execution_count": null,
   "metadata": {},
   "outputs": [],
   "source": [
    "randf=RandomForestClassifier(**best_param)\n",
    "randf.fit(x_train,y_train)\n",
    "y_pred=randf.predict(x_test)\n",
    "print(round(accuracy_score(y_test,y_pred)*100,2),'%')"
   ]
  },
  {
   "cell_type": "markdown",
   "metadata": {
    "id": "-2UUdmJUo-88"
   },
   "source": [
    "#### **2. AdaBoost**"
   ]
  },
  {
   "cell_type": "code",
   "execution_count": null,
   "metadata": {
    "id": "ajA9CzKlxvOe"
   },
   "outputs": [],
   "source": [
    "def objective(trial):\n",
    "  param={\n",
    "      'n_estimators'  :trial.suggest_int('n_estimators',100,2000),\n",
    "      'learning_rate' :trial.suggest_uniform('learning_rate',0.1,1),\n",
    "      'algorithm'     :trial.suggest_categorical('algorithm',['SAMME', 'SAMME.R'])\n",
    "  }\n",
    "  opt_adab=AdaBoostClassifier(**param)\n",
    "  opt_adab.fit(x_train,y_train)\n",
    "  y_pred=opt_adab.predict(x_test)\n",
    "  accuracy=accuracy_score(y_test,y_pred)\n",
    "#  accuracies.append(accuracy)\n",
    "#  print('max_accuracy',max(accuracies))\n",
    "  return(accuracy)"
   ]
  },
  {
   "cell_type": "code",
   "execution_count": null,
   "metadata": {
    "colab": {
     "base_uri": "https://localhost:8080/"
    },
    "collapsed": true,
    "id": "U4302qZ731CH",
    "outputId": "d5b6309b-56b0-4caa-e4e5-4fa2a4f1f8c9"
   },
   "outputs": [
    {
     "name": "stderr",
     "output_type": "stream",
     "text": [
      "\u001b[32m[I 2023-05-29 15:05:49,140]\u001b[0m A new study created in memory with name: no-name-fbb6422e-ba9a-4c22-913b-b4065ee0dade\u001b[0m\n",
      "\u001b[32m[I 2023-05-29 15:05:50,657]\u001b[0m Trial 0 finished with value: 0.8793774319066148 and parameters: {'n_estimators': 371, 'learning_rate': 0.30328330189646835, 'algorithm': 'SAMME'}. Best is trial 0 with value: 0.8793774319066148.\u001b[0m\n"
     ]
    },
    {
     "name": "stdout",
     "output_type": "stream",
     "text": [
      "max_accuracy 0.8793774319066148\n"
     ]
    },
    {
     "name": "stderr",
     "output_type": "stream",
     "text": [
      "\u001b[32m[I 2023-05-29 15:05:52,712]\u001b[0m Trial 1 finished with value: 0.8949416342412452 and parameters: {'n_estimators': 814, 'learning_rate': 0.4567380914213772, 'algorithm': 'SAMME'}. Best is trial 0 with value: 0.8793774319066148.\u001b[0m\n"
     ]
    },
    {
     "name": "stdout",
     "output_type": "stream",
     "text": [
      "max_accuracy 0.8949416342412452\n"
     ]
    },
    {
     "name": "stderr",
     "output_type": "stream",
     "text": [
      "\u001b[32m[I 2023-05-29 15:05:57,790]\u001b[0m Trial 2 finished with value: 0.9066147859922179 and parameters: {'n_estimators': 1371, 'learning_rate': 0.1382310218593664, 'algorithm': 'SAMME.R'}. Best is trial 0 with value: 0.8793774319066148.\u001b[0m\n"
     ]
    },
    {
     "name": "stdout",
     "output_type": "stream",
     "text": [
      "max_accuracy 0.9066147859922179\n"
     ]
    },
    {
     "name": "stderr",
     "output_type": "stream",
     "text": [
      "\u001b[32m[I 2023-05-29 15:05:58,645]\u001b[0m Trial 3 finished with value: 0.933852140077821 and parameters: {'n_estimators': 1424, 'learning_rate': 0.9156665167382483, 'algorithm': 'SAMME'}. Best is trial 0 with value: 0.8793774319066148.\u001b[0m\n"
     ]
    },
    {
     "name": "stdout",
     "output_type": "stream",
     "text": [
      "max_accuracy 0.933852140077821\n"
     ]
    },
    {
     "name": "stderr",
     "output_type": "stream",
     "text": [
      "\u001b[32m[I 2023-05-29 15:05:59,352]\u001b[0m Trial 4 finished with value: 0.9066147859922179 and parameters: {'n_estimators': 357, 'learning_rate': 0.6351891722988648, 'algorithm': 'SAMME'}. Best is trial 0 with value: 0.8793774319066148.\u001b[0m\n"
     ]
    },
    {
     "name": "stdout",
     "output_type": "stream",
     "text": [
      "max_accuracy 0.933852140077821\n"
     ]
    },
    {
     "name": "stderr",
     "output_type": "stream",
     "text": [
      "\u001b[32m[I 2023-05-29 15:05:59,851]\u001b[0m Trial 6 finished with value: 0.8988326848249028 and parameters: {'n_estimators': 101, 'learning_rate': 0.6922045486824072, 'algorithm': 'SAMME.R'}. Best is trial 0 with value: 0.8793774319066148.\u001b[0m\n"
     ]
    },
    {
     "name": "stdout",
     "output_type": "stream",
     "text": [
      "max_accuracy 0.933852140077821\n"
     ]
    },
    {
     "name": "stderr",
     "output_type": "stream",
     "text": [
      "\u001b[32m[I 2023-05-29 15:06:01,068]\u001b[0m Trial 5 finished with value: 0.8793774319066148 and parameters: {'n_estimators': 587, 'learning_rate': 0.25306576430427974, 'algorithm': 'SAMME'}. Best is trial 0 with value: 0.8793774319066148.\u001b[0m\n"
     ]
    },
    {
     "name": "stdout",
     "output_type": "stream",
     "text": [
      "max_accuracy 0.933852140077821\n"
     ]
    },
    {
     "name": "stderr",
     "output_type": "stream",
     "text": [
      "\u001b[32m[I 2023-05-29 15:06:02,036]\u001b[0m Trial 8 finished with value: 0.8832684824902723 and parameters: {'n_estimators': 233, 'learning_rate': 0.5092698739426904, 'algorithm': 'SAMME'}. Best is trial 0 with value: 0.8793774319066148.\u001b[0m\n"
     ]
    },
    {
     "name": "stdout",
     "output_type": "stream",
     "text": [
      "max_accuracy 0.933852140077821\n"
     ]
    },
    {
     "name": "stderr",
     "output_type": "stream",
     "text": [
      "\u001b[32m[I 2023-05-29 15:06:03,706]\u001b[0m Trial 7 finished with value: 0.9766536964980544 and parameters: {'n_estimators': 811, 'learning_rate': 0.8634982446328968, 'algorithm': 'SAMME.R'}. Best is trial 0 with value: 0.8793774319066148.\u001b[0m\n"
     ]
    },
    {
     "name": "stdout",
     "output_type": "stream",
     "text": [
      "max_accuracy 0.9766536964980544\n"
     ]
    },
    {
     "name": "stderr",
     "output_type": "stream",
     "text": [
      "\u001b[32m[I 2023-05-29 15:06:07,104]\u001b[0m Trial 10 finished with value: 0.9766536964980544 and parameters: {'n_estimators': 662, 'learning_rate': 0.9669330988837052, 'algorithm': 'SAMME.R'}. Best is trial 0 with value: 0.8793774319066148.\u001b[0m\n"
     ]
    },
    {
     "name": "stdout",
     "output_type": "stream",
     "text": [
      "max_accuracy 0.9766536964980544\n"
     ]
    },
    {
     "name": "stderr",
     "output_type": "stream",
     "text": [
      "\u001b[32m[I 2023-05-29 15:06:09,189]\u001b[0m Trial 9 finished with value: 0.9883268482490273 and parameters: {'n_estimators': 1380, 'learning_rate': 0.8055560837998734, 'algorithm': 'SAMME.R'}. Best is trial 0 with value: 0.8793774319066148.\u001b[0m\n"
     ]
    },
    {
     "name": "stdout",
     "output_type": "stream",
     "text": [
      "max_accuracy 0.9883268482490273\n"
     ]
    },
    {
     "name": "stderr",
     "output_type": "stream",
     "text": [
      "\u001b[32m[I 2023-05-29 15:06:11,586]\u001b[0m Trial 12 finished with value: 0.8715953307392996 and parameters: {'n_estimators': 588, 'learning_rate': 0.24303579004010506, 'algorithm': 'SAMME'}. Best is trial 12 with value: 0.8715953307392996.\u001b[0m\n"
     ]
    },
    {
     "name": "stdout",
     "output_type": "stream",
     "text": [
      "max_accuracy 0.9883268482490273\n"
     ]
    },
    {
     "name": "stderr",
     "output_type": "stream",
     "text": [
      "\u001b[32m[I 2023-05-29 15:06:14,909]\u001b[0m Trial 11 finished with value: 0.8910505836575876 and parameters: {'n_estimators': 1835, 'learning_rate': 0.3951503261190425, 'algorithm': 'SAMME'}. Best is trial 12 with value: 0.8715953307392996.\u001b[0m\n"
     ]
    },
    {
     "name": "stdout",
     "output_type": "stream",
     "text": [
      "max_accuracy 0.9883268482490273\n"
     ]
    },
    {
     "name": "stderr",
     "output_type": "stream",
     "text": [
      "\u001b[32m[I 2023-05-29 15:06:16,798]\u001b[0m Trial 14 finished with value: 0.8793774319066148 and parameters: {'n_estimators': 470, 'learning_rate': 0.30612558399503653, 'algorithm': 'SAMME'}. Best is trial 12 with value: 0.8715953307392996.\u001b[0m\n"
     ]
    },
    {
     "name": "stdout",
     "output_type": "stream",
     "text": [
      "max_accuracy 0.9883268482490273\n"
     ]
    },
    {
     "name": "stderr",
     "output_type": "stream",
     "text": [
      "\u001b[32m[I 2023-05-29 15:06:19,165]\u001b[0m Trial 13 finished with value: 0.8949416342412452 and parameters: {'n_estimators': 1892, 'learning_rate': 0.3395011676151637, 'algorithm': 'SAMME'}. Best is trial 12 with value: 0.8715953307392996.\u001b[0m\n"
     ]
    },
    {
     "name": "stdout",
     "output_type": "stream",
     "text": [
      "max_accuracy 0.9883268482490273\n"
     ]
    },
    {
     "name": "stderr",
     "output_type": "stream",
     "text": [
      "\u001b[32m[I 2023-05-29 15:06:20,665]\u001b[0m Trial 15 finished with value: 0.8754863813229572 and parameters: {'n_estimators': 901, 'learning_rate': 0.12391034893217723, 'algorithm': 'SAMME'}. Best is trial 12 with value: 0.8715953307392996.\u001b[0m\n"
     ]
    },
    {
     "name": "stdout",
     "output_type": "stream",
     "text": [
      "max_accuracy 0.9883268482490273\n"
     ]
    },
    {
     "name": "stderr",
     "output_type": "stream",
     "text": [
      "\u001b[32m[I 2023-05-29 15:06:24,057]\u001b[0m Trial 16 finished with value: 0.8715953307392996 and parameters: {'n_estimators': 1051, 'learning_rate': 0.12927525287059316, 'algorithm': 'SAMME'}. Best is trial 12 with value: 0.8715953307392996.\u001b[0m\n"
     ]
    },
    {
     "name": "stdout",
     "output_type": "stream",
     "text": [
      "max_accuracy 0.9883268482490273\n"
     ]
    },
    {
     "name": "stderr",
     "output_type": "stream",
     "text": [
      "\u001b[32m[I 2023-05-29 15:06:25,387]\u001b[0m Trial 17 finished with value: 0.8754863813229572 and parameters: {'n_estimators': 1051, 'learning_rate': 0.10594199383310332, 'algorithm': 'SAMME'}. Best is trial 12 with value: 0.8715953307392996.\u001b[0m\n"
     ]
    },
    {
     "name": "stdout",
     "output_type": "stream",
     "text": [
      "max_accuracy 0.9883268482490273\n"
     ]
    },
    {
     "name": "stderr",
     "output_type": "stream",
     "text": [
      "\u001b[32m[I 2023-05-29 15:06:28,593]\u001b[0m Trial 18 finished with value: 0.8832684824902723 and parameters: {'n_estimators': 1110, 'learning_rate': 0.23135847050007752, 'algorithm': 'SAMME'}. Best is trial 12 with value: 0.8715953307392996.\u001b[0m\n"
     ]
    },
    {
     "name": "stdout",
     "output_type": "stream",
     "text": [
      "max_accuracy 0.9883268482490273\n"
     ]
    },
    {
     "name": "stderr",
     "output_type": "stream",
     "text": [
      "\u001b[32m[I 2023-05-29 15:06:30,361]\u001b[0m Trial 19 finished with value: 0.8871595330739299 and parameters: {'n_estimators': 1076, 'learning_rate': 0.22313486529687132, 'algorithm': 'SAMME'}. Best is trial 12 with value: 0.8715953307392996.\u001b[0m\n"
     ]
    },
    {
     "name": "stdout",
     "output_type": "stream",
     "text": [
      "max_accuracy 0.9883268482490273\n"
     ]
    },
    {
     "name": "stderr",
     "output_type": "stream",
     "text": [
      "\u001b[32m[I 2023-05-29 15:06:34,188]\u001b[0m Trial 20 finished with value: 0.8910505836575876 and parameters: {'n_estimators': 1153, 'learning_rate': 0.2214809813384671, 'algorithm': 'SAMME'}. Best is trial 12 with value: 0.8715953307392996.\u001b[0m\n"
     ]
    },
    {
     "name": "stdout",
     "output_type": "stream",
     "text": [
      "max_accuracy 0.9883268482490273\n"
     ]
    },
    {
     "name": "stderr",
     "output_type": "stream",
     "text": [
      "\u001b[32m[I 2023-05-29 15:06:35,989]\u001b[0m Trial 21 finished with value: 0.8949416342412452 and parameters: {'n_estimators': 1230, 'learning_rate': 0.4104815091742636, 'algorithm': 'SAMME'}. Best is trial 12 with value: 0.8715953307392996.\u001b[0m\n"
     ]
    },
    {
     "name": "stdout",
     "output_type": "stream",
     "text": [
      "max_accuracy 0.9883268482490273\n"
     ]
    },
    {
     "name": "stderr",
     "output_type": "stream",
     "text": [
      "\u001b[32m[I 2023-05-29 15:06:37,981]\u001b[0m Trial 22 finished with value: 0.8754863813229572 and parameters: {'n_estimators': 834, 'learning_rate': 0.13019327678055445, 'algorithm': 'SAMME'}. Best is trial 12 with value: 0.8715953307392996.\u001b[0m\n"
     ]
    },
    {
     "name": "stdout",
     "output_type": "stream",
     "text": [
      "max_accuracy 0.9883268482490273\n"
     ]
    },
    {
     "name": "stderr",
     "output_type": "stream",
     "text": [
      "\u001b[32m[I 2023-05-29 15:06:39,745]\u001b[0m Trial 23 finished with value: 0.8754863813229572 and parameters: {'n_estimators': 880, 'learning_rate': 0.11898352322229333, 'algorithm': 'SAMME'}. Best is trial 12 with value: 0.8715953307392996.\u001b[0m\n"
     ]
    },
    {
     "name": "stdout",
     "output_type": "stream",
     "text": [
      "max_accuracy 0.9883268482490273\n"
     ]
    },
    {
     "name": "stderr",
     "output_type": "stream",
     "text": [
      "\u001b[32m[I 2023-05-29 15:06:41,861]\u001b[0m Trial 24 finished with value: 0.867704280155642 and parameters: {'n_estimators': 929, 'learning_rate': 0.1761210908327125, 'algorithm': 'SAMME'}. Best is trial 24 with value: 0.867704280155642.\u001b[0m\n"
     ]
    },
    {
     "name": "stdout",
     "output_type": "stream",
     "text": [
      "max_accuracy 0.9883268482490273\n"
     ]
    },
    {
     "name": "stderr",
     "output_type": "stream",
     "text": [
      "\u001b[32m[I 2023-05-29 15:06:46,346]\u001b[0m Trial 25 finished with value: 0.8910505836575876 and parameters: {'n_estimators': 1650, 'learning_rate': 0.17278373905775835, 'algorithm': 'SAMME'}. Best is trial 24 with value: 0.867704280155642.\u001b[0m\n"
     ]
    },
    {
     "name": "stdout",
     "output_type": "stream",
     "text": [
      "max_accuracy 0.9883268482490273\n"
     ]
    },
    {
     "name": "stderr",
     "output_type": "stream",
     "text": [
      "\u001b[32m[I 2023-05-29 15:06:48,588]\u001b[0m Trial 26 finished with value: 0.8910505836575876 and parameters: {'n_estimators': 1601, 'learning_rate': 0.18981001336832337, 'algorithm': 'SAMME'}. Best is trial 24 with value: 0.867704280155642.\u001b[0m\n"
     ]
    },
    {
     "name": "stdout",
     "output_type": "stream",
     "text": [
      "max_accuracy 0.9883268482490273\n"
     ]
    },
    {
     "name": "stderr",
     "output_type": "stream",
     "text": [
      "\u001b[32m[I 2023-05-29 15:06:49,859]\u001b[0m Trial 27 finished with value: 0.9027237354085603 and parameters: {'n_estimators': 640, 'learning_rate': 0.21285061061162264, 'algorithm': 'SAMME.R'}. Best is trial 24 with value: 0.867704280155642.\u001b[0m\n"
     ]
    },
    {
     "name": "stdout",
     "output_type": "stream",
     "text": [
      "max_accuracy 0.9883268482490273\n"
     ]
    },
    {
     "name": "stderr",
     "output_type": "stream",
     "text": [
      "\u001b[32m[I 2023-05-29 15:06:52,097]\u001b[0m Trial 28 finished with value: 0.9299610894941635 and parameters: {'n_estimators': 655, 'learning_rate': 0.2918082235631062, 'algorithm': 'SAMME.R'}. Best is trial 24 with value: 0.867704280155642.\u001b[0m\n"
     ]
    },
    {
     "name": "stdout",
     "output_type": "stream",
     "text": [
      "max_accuracy 0.9883268482490273\n"
     ]
    },
    {
     "name": "stderr",
     "output_type": "stream",
     "text": [
      "\u001b[32m[I 2023-05-29 15:06:53,830]\u001b[0m Trial 29 finished with value: 0.8910505836575876 and parameters: {'n_estimators': 960, 'learning_rate': 0.2883293145442869, 'algorithm': 'SAMME'}. Best is trial 24 with value: 0.867704280155642.\u001b[0m\n"
     ]
    },
    {
     "name": "stdout",
     "output_type": "stream",
     "text": [
      "max_accuracy 0.9883268482490273\n"
     ]
    },
    {
     "name": "stderr",
     "output_type": "stream",
     "text": [
      "\u001b[32m[I 2023-05-29 15:06:55,976]\u001b[0m Trial 30 finished with value: 0.8910505836575876 and parameters: {'n_estimators': 963, 'learning_rate': 0.34419696899672547, 'algorithm': 'SAMME'}. Best is trial 24 with value: 0.867704280155642.\u001b[0m\n"
     ]
    },
    {
     "name": "stdout",
     "output_type": "stream",
     "text": [
      "max_accuracy 0.9883268482490273\n"
     ]
    },
    {
     "name": "stderr",
     "output_type": "stream",
     "text": [
      "\u001b[32m[I 2023-05-29 15:06:57,821]\u001b[0m Trial 32 finished with value: 0.8599221789883269 and parameters: {'n_estimators': 458, 'learning_rate': 0.1678732169800141, 'algorithm': 'SAMME'}. Best is trial 32 with value: 0.8599221789883269.\u001b[0m\n"
     ]
    },
    {
     "name": "stdout",
     "output_type": "stream",
     "text": [
      "max_accuracy 0.9883268482490273\n"
     ]
    },
    {
     "name": "stderr",
     "output_type": "stream",
     "text": [
      "\u001b[32m[I 2023-05-29 15:06:58,725]\u001b[0m Trial 31 finished with value: 0.8949416342412452 and parameters: {'n_estimators': 1208, 'learning_rate': 0.34631772659865856, 'algorithm': 'SAMME'}. Best is trial 32 with value: 0.8599221789883269.\u001b[0m\n"
     ]
    },
    {
     "name": "stdout",
     "output_type": "stream",
     "text": [
      "max_accuracy 0.9883268482490273\n"
     ]
    },
    {
     "name": "stderr",
     "output_type": "stream",
     "text": [
      "\u001b[32m[I 2023-05-29 15:06:59,434]\u001b[0m Trial 33 finished with value: 0.8715953307392996 and parameters: {'n_estimators': 368, 'learning_rate': 0.18098823814514653, 'algorithm': 'SAMME'}. Best is trial 32 with value: 0.8599221789883269.\u001b[0m\n"
     ]
    },
    {
     "name": "stdout",
     "output_type": "stream",
     "text": [
      "max_accuracy 0.9883268482490273\n"
     ]
    },
    {
     "name": "stderr",
     "output_type": "stream",
     "text": [
      "\u001b[32m[I 2023-05-29 15:07:00,178]\u001b[0m Trial 34 finished with value: 0.8482490272373541 and parameters: {'n_estimators': 347, 'learning_rate': 0.18289165911239139, 'algorithm': 'SAMME'}. Best is trial 34 with value: 0.8482490272373541.\u001b[0m\n"
     ]
    },
    {
     "name": "stdout",
     "output_type": "stream",
     "text": [
      "max_accuracy 0.9883268482490273\n"
     ]
    },
    {
     "name": "stderr",
     "output_type": "stream",
     "text": [
      "\u001b[32m[I 2023-05-29 15:07:01,518]\u001b[0m Trial 35 finished with value: 0.8715953307392996 and parameters: {'n_estimators': 479, 'learning_rate': 0.15380835163117657, 'algorithm': 'SAMME'}. Best is trial 34 with value: 0.8482490272373541.\u001b[0m\n"
     ]
    },
    {
     "name": "stdout",
     "output_type": "stream",
     "text": [
      "max_accuracy 0.9883268482490273\n"
     ]
    },
    {
     "name": "stderr",
     "output_type": "stream",
     "text": [
      "\u001b[32m[I 2023-05-29 15:07:02,485]\u001b[0m Trial 36 finished with value: 0.8715953307392996 and parameters: {'n_estimators': 494, 'learning_rate': 0.17474775562821207, 'algorithm': 'SAMME'}. Best is trial 34 with value: 0.8482490272373541.\u001b[0m\n"
     ]
    },
    {
     "name": "stdout",
     "output_type": "stream",
     "text": [
      "max_accuracy 0.9883268482490273\n"
     ]
    },
    {
     "name": "stderr",
     "output_type": "stream",
     "text": [
      "\u001b[32m[I 2023-05-29 15:07:02,753]\u001b[0m Trial 37 finished with value: 0.8599221789883269 and parameters: {'n_estimators': 241, 'learning_rate': 0.26791916542775657, 'algorithm': 'SAMME'}. Best is trial 34 with value: 0.8482490272373541.\u001b[0m\n"
     ]
    },
    {
     "name": "stdout",
     "output_type": "stream",
     "text": [
      "max_accuracy 0.9883268482490273\n"
     ]
    },
    {
     "name": "stderr",
     "output_type": "stream",
     "text": [
      "\u001b[32m[I 2023-05-29 15:07:03,841]\u001b[0m Trial 39 finished with value: 0.8560311284046692 and parameters: {'n_estimators': 214, 'learning_rate': 0.2551204254179938, 'algorithm': 'SAMME'}. Best is trial 34 with value: 0.8482490272373541.\u001b[0m\n",
      "\u001b[32m[I 2023-05-29 15:07:03,890]\u001b[0m Trial 38 finished with value: 0.8521400778210116 and parameters: {'n_estimators': 278, 'learning_rate': 0.26999506054734457, 'algorithm': 'SAMME'}. Best is trial 34 with value: 0.8482490272373541.\u001b[0m\n"
     ]
    },
    {
     "name": "stdout",
     "output_type": "stream",
     "text": [
      "max_accuracy 0.9883268482490273\n",
      "max_accuracy 0.9883268482490273\n"
     ]
    },
    {
     "name": "stderr",
     "output_type": "stream",
     "text": [
      "\u001b[32m[I 2023-05-29 15:07:04,569]\u001b[0m Trial 40 finished with value: 0.867704280155642 and parameters: {'n_estimators': 121, 'learning_rate': 0.27502367294081137, 'algorithm': 'SAMME.R'}. Best is trial 34 with value: 0.8482490272373541.\u001b[0m\n",
      "\u001b[32m[I 2023-05-29 15:07:04,732]\u001b[0m Trial 41 finished with value: 0.8988326848249028 and parameters: {'n_estimators': 134, 'learning_rate': 0.49943049333951517, 'algorithm': 'SAMME.R'}. Best is trial 34 with value: 0.8482490272373541.\u001b[0m\n"
     ]
    },
    {
     "name": "stdout",
     "output_type": "stream",
     "text": [
      "max_accuracy 0.9883268482490273\n",
      "max_accuracy 0.9883268482490273\n"
     ]
    },
    {
     "name": "stderr",
     "output_type": "stream",
     "text": [
      "\u001b[32m[I 2023-05-29 15:07:05,580]\u001b[0m Trial 42 finished with value: 0.8482490272373541 and parameters: {'n_estimators': 241, 'learning_rate': 0.2643354051075453, 'algorithm': 'SAMME'}. Best is trial 34 with value: 0.8482490272373541.\u001b[0m\n"
     ]
    },
    {
     "name": "stdout",
     "output_type": "stream",
     "text": [
      "max_accuracy 0.9883268482490273\n"
     ]
    },
    {
     "name": "stderr",
     "output_type": "stream",
     "text": [
      "\u001b[32m[I 2023-05-29 15:07:05,891]\u001b[0m Trial 43 finished with value: 0.8521400778210116 and parameters: {'n_estimators': 275, 'learning_rate': 0.25876518633668955, 'algorithm': 'SAMME'}. Best is trial 34 with value: 0.8482490272373541.\u001b[0m\n"
     ]
    },
    {
     "name": "stdout",
     "output_type": "stream",
     "text": [
      "max_accuracy 0.9883268482490273\n"
     ]
    },
    {
     "name": "stderr",
     "output_type": "stream",
     "text": [
      "\u001b[32m[I 2023-05-29 15:07:06,640]\u001b[0m Trial 44 finished with value: 0.8560311284046692 and parameters: {'n_estimators': 252, 'learning_rate': 0.25518796218389556, 'algorithm': 'SAMME'}. Best is trial 34 with value: 0.8482490272373541.\u001b[0m\n"
     ]
    },
    {
     "name": "stdout",
     "output_type": "stream",
     "text": [
      "max_accuracy 0.9883268482490273\n"
     ]
    },
    {
     "name": "stderr",
     "output_type": "stream",
     "text": [
      "\u001b[32m[I 2023-05-29 15:07:07,020]\u001b[0m Trial 45 finished with value: 0.8754863813229572 and parameters: {'n_estimators': 272, 'learning_rate': 0.4034277861811934, 'algorithm': 'SAMME'}. Best is trial 34 with value: 0.8482490272373541.\u001b[0m\n"
     ]
    },
    {
     "name": "stdout",
     "output_type": "stream",
     "text": [
      "max_accuracy 0.9883268482490273\n"
     ]
    },
    {
     "name": "stderr",
     "output_type": "stream",
     "text": [
      "\u001b[32m[I 2023-05-29 15:07:07,879]\u001b[0m Trial 46 finished with value: 0.8754863813229572 and parameters: {'n_estimators': 302, 'learning_rate': 0.3174428269918612, 'algorithm': 'SAMME'}. Best is trial 34 with value: 0.8482490272373541.\u001b[0m\n"
     ]
    },
    {
     "name": "stdout",
     "output_type": "stream",
     "text": [
      "max_accuracy 0.9883268482490273\n"
     ]
    },
    {
     "name": "stderr",
     "output_type": "stream",
     "text": [
      "\u001b[32m[I 2023-05-29 15:07:08,436]\u001b[0m Trial 47 finished with value: 0.8754863813229572 and parameters: {'n_estimators': 341, 'learning_rate': 0.32060066888865796, 'algorithm': 'SAMME'}. Best is trial 34 with value: 0.8482490272373541.\u001b[0m\n",
      "\u001b[32m[I 2023-05-29 15:07:08,624]\u001b[0m Trial 48 finished with value: 0.8638132295719845 and parameters: {'n_estimators': 175, 'learning_rate': 0.35876007304220675, 'algorithm': 'SAMME'}. Best is trial 34 with value: 0.8482490272373541.\u001b[0m\n"
     ]
    },
    {
     "name": "stdout",
     "output_type": "stream",
     "text": [
      "max_accuracy 0.9883268482490273\n",
      "max_accuracy 0.9883268482490273\n"
     ]
    },
    {
     "name": "stderr",
     "output_type": "stream",
     "text": [
      "\u001b[32m[I 2023-05-29 15:07:08,808]\u001b[0m Trial 49 finished with value: 0.8599221789883269 and parameters: {'n_estimators': 147, 'learning_rate': 0.35909806057556337, 'algorithm': 'SAMME'}. Best is trial 34 with value: 0.8482490272373541.\u001b[0m\n"
     ]
    },
    {
     "name": "stdout",
     "output_type": "stream",
     "text": [
      "max_accuracy 0.9883268482490273\n"
     ]
    }
   ],
   "source": [
    "#accuracies=[]\n",
    "find_params=optuna.create_study()\n",
    "find_params.optimize(objective,n_trials=50,n_jobs=-1,)"
   ]
  },
  {
   "cell_type": "code",
   "execution_count": null,
   "metadata": {},
   "outputs": [],
   "source": [
    "param_df=find_params.trials_dataframe()[['value','params_learning_rate','params_algorithm','params_n_estimators']]\n",
    "param_df=param_df[param_df['value']==max(param_df['value'])]\n",
    "best_param={'n_estimators'    : param_df['params_n_estimators'].values[0], \n",
    "            'learning_rate'   : param_df['params_learning_rate'].values[0], \n",
    "            'algorithm'       : param_df['params_algorithm'].values[0]}\n",
    "best_param"
   ]
  },
  {
   "cell_type": "code",
   "execution_count": null,
   "metadata": {
    "colab": {
     "base_uri": "https://localhost:8080/"
    },
    "id": "r630RPv95-xz",
    "outputId": "e38802ce-d946-4df8-e37d-5d0b359f5fff"
   },
   "outputs": [
    {
     "name": "stdout",
     "output_type": "stream",
     "text": [
      "0.9883268482490273\n"
     ]
    }
   ],
   "source": [
    "adab=AdaBoostClassifier(**best_param)\n",
    "adab.fit(x_train,y_train)\n",
    "y_pred=adab.predict(x_test)\n",
    "print(round(accuracy_score(y_test,y_pred)*100,2),'%')"
   ]
  },
  {
   "cell_type": "markdown",
   "metadata": {
    "id": "4U19yd-kETag"
   },
   "source": [
    "#### **3. GradientBoost**"
   ]
  },
  {
   "cell_type": "code",
   "execution_count": null,
   "metadata": {
    "id": "poGkrUge7ig9"
   },
   "outputs": [],
   "source": [
    "def objective(trial):\n",
    "  param={\n",
    "    'n_estimators'              :trial.suggest_int('n_estimators',100,3000),\n",
    "    'learning_rate'             :trial.suggest_float('learning_rate',0.0001,1.0),\n",
    "    'max_depth'                 :trial.suggest_int('max_depth',1,15),\n",
    "    'max_features'              :trial.suggest_categorical('max_features',['auto','log2']),\n",
    "    'min_samples_split'         :trial.suggest_int('min_samples_split',2,100),\n",
    "    'min_weight_fraction_leaf'  :trial.suggest_float('min_weight_fraction_leaf',0.0,0.5)\n",
    "}\n",
    "\n",
    "  opt_gradb=GradientBoostingClassifier(**param)\n",
    "  opt_gradb.fit(x_train,y_train)\n",
    "  y_pred=opt_gradb.predict(x_test)\n",
    "  accuracy=accuracy_score(y_test,y_pred)\n",
    "#  accuracies.append(accuracy)\n",
    "#  print('max_accuracy',max(accuracies))\n",
    "  return(accuracy)"
   ]
  },
  {
   "cell_type": "code",
   "execution_count": null,
   "metadata": {
    "colab": {
     "base_uri": "https://localhost:8080/"
    },
    "collapsed": true,
    "id": "OHxsnjK1ExD6",
    "outputId": "7a50fd31-11ab-4fa5-f38a-ae5a55922032"
   },
   "outputs": [
    {
     "name": "stderr",
     "output_type": "stream",
     "text": [
      "\u001b[32m[I 2023-05-29 15:37:14,174]\u001b[0m A new study created in memory with name: no-name-c535e009-39df-401e-8239-d6cad054d162\u001b[0m\n",
      "\u001b[32m[I 2023-05-29 15:37:14,682]\u001b[0m Trial 1 finished with value: 0.9285714285714286 and parameters: {'n_estimators': 242, 'learning_rate': 0.6423180192316905, 'max_depth': 9, 'max_features': 'log2', 'min_samples_split': 84, 'min_weight_fraction_leaf': 0.23355262608608207}. Best is trial 1 with value: 0.9285714285714286.\u001b[0m\n"
     ]
    },
    {
     "name": "stdout",
     "output_type": "stream",
     "text": [
      "max_accuracy 0.9285714285714286\n"
     ]
    },
    {
     "name": "stderr",
     "output_type": "stream",
     "text": [
      "\u001b[32m[I 2023-05-29 15:37:18,121]\u001b[0m Trial 2 finished with value: 0.8733766233766234 and parameters: {'n_estimators': 1763, 'learning_rate': 0.5457250308846952, 'max_depth': 13, 'max_features': 'log2', 'min_samples_split': 77, 'min_weight_fraction_leaf': 0.31185146709706113}. Best is trial 2 with value: 0.8733766233766234.\u001b[0m\n"
     ]
    },
    {
     "name": "stdout",
     "output_type": "stream",
     "text": [
      "max_accuracy 0.9285714285714286\n"
     ]
    },
    {
     "name": "stderr",
     "output_type": "stream",
     "text": [
      "\u001b[32m[I 2023-05-29 15:37:18,718]\u001b[0m Trial 0 finished with value: 0.8506493506493507 and parameters: {'n_estimators': 2415, 'learning_rate': 0.24713669548022132, 'max_depth': 12, 'max_features': 'log2', 'min_samples_split': 91, 'min_weight_fraction_leaf': 0.40598651418126336}. Best is trial 0 with value: 0.8506493506493507.\u001b[0m\n"
     ]
    },
    {
     "name": "stdout",
     "output_type": "stream",
     "text": [
      "max_accuracy 0.9285714285714286\n"
     ]
    },
    {
     "name": "stderr",
     "output_type": "stream",
     "text": [
      "\u001b[32m[I 2023-05-29 15:37:20,622]\u001b[0m Trial 4 finished with value: 0.9545454545454546 and parameters: {'n_estimators': 1086, 'learning_rate': 0.36504978004603583, 'max_depth': 10, 'max_features': 'log2', 'min_samples_split': 80, 'min_weight_fraction_leaf': 0.19821812838009795}. Best is trial 0 with value: 0.8506493506493507.\u001b[0m\n"
     ]
    },
    {
     "name": "stdout",
     "output_type": "stream",
     "text": [
      "max_accuracy 0.9545454545454546\n"
     ]
    },
    {
     "name": "stderr",
     "output_type": "stream",
     "text": [
      "\u001b[32m[I 2023-05-29 15:37:20,906]\u001b[0m Trial 3 finished with value: 0.8344155844155844 and parameters: {'n_estimators': 1466, 'learning_rate': 0.6360942756918624, 'max_depth': 12, 'max_features': 'auto', 'min_samples_split': 95, 'min_weight_fraction_leaf': 0.3754849026809698}. Best is trial 3 with value: 0.8344155844155844.\u001b[0m\n"
     ]
    },
    {
     "name": "stdout",
     "output_type": "stream",
     "text": [
      "max_accuracy 0.9545454545454546\n"
     ]
    },
    {
     "name": "stderr",
     "output_type": "stream",
     "text": [
      "\u001b[32m[I 2023-05-29 15:37:21,671]\u001b[0m Trial 5 finished with value: 0.762987012987013 and parameters: {'n_estimators': 661, 'learning_rate': 0.15869835226914114, 'max_depth': 5, 'max_features': 'log2', 'min_samples_split': 62, 'min_weight_fraction_leaf': 0.4666122085853794}. Best is trial 5 with value: 0.762987012987013.\u001b[0m\n"
     ]
    },
    {
     "name": "stdout",
     "output_type": "stream",
     "text": [
      "max_accuracy 0.9545454545454546\n"
     ]
    },
    {
     "name": "stderr",
     "output_type": "stream",
     "text": [
      "\u001b[32m[I 2023-05-29 15:37:23,738]\u001b[0m Trial 7 finished with value: 0.8441558441558441 and parameters: {'n_estimators': 1196, 'learning_rate': 0.07154822110976407, 'max_depth': 13, 'max_features': 'auto', 'min_samples_split': 71, 'min_weight_fraction_leaf': 0.3904799046258389}. Best is trial 5 with value: 0.762987012987013.\u001b[0m\n"
     ]
    },
    {
     "name": "stdout",
     "output_type": "stream",
     "text": [
      "max_accuracy 0.9545454545454546\n"
     ]
    },
    {
     "name": "stderr",
     "output_type": "stream",
     "text": [
      "\u001b[32m[I 2023-05-29 15:37:24,571]\u001b[0m Trial 6 finished with value: 0.9545454545454546 and parameters: {'n_estimators': 2061, 'learning_rate': 0.16863618317619286, 'max_depth': 10, 'max_features': 'log2', 'min_samples_split': 21, 'min_weight_fraction_leaf': 0.2105507274168525}. Best is trial 5 with value: 0.762987012987013.\u001b[0m\n"
     ]
    },
    {
     "name": "stdout",
     "output_type": "stream",
     "text": [
      "max_accuracy 0.9545454545454546\n"
     ]
    },
    {
     "name": "stderr",
     "output_type": "stream",
     "text": [
      "\u001b[32m[I 2023-05-29 15:37:26,679]\u001b[0m Trial 8 finished with value: 0.8214285714285714 and parameters: {'n_estimators': 1724, 'learning_rate': 0.8378610023447942, 'max_depth': 7, 'max_features': 'auto', 'min_samples_split': 50, 'min_weight_fraction_leaf': 0.36307373279102895}. Best is trial 5 with value: 0.762987012987013.\u001b[0m\n"
     ]
    },
    {
     "name": "stdout",
     "output_type": "stream",
     "text": [
      "max_accuracy 0.9545454545454546\n"
     ]
    },
    {
     "name": "stderr",
     "output_type": "stream",
     "text": [
      "\u001b[32m[I 2023-05-29 15:37:27,928]\u001b[0m Trial 10 finished with value: 0.9772727272727273 and parameters: {'n_estimators': 341, 'learning_rate': 0.27078700548720075, 'max_depth': 11, 'max_features': 'log2', 'min_samples_split': 40, 'min_weight_fraction_leaf': 0.02537122100394551}. Best is trial 5 with value: 0.762987012987013.\u001b[0m\n"
     ]
    },
    {
     "name": "stdout",
     "output_type": "stream",
     "text": [
      "max_accuracy 0.9772727272727273\n"
     ]
    },
    {
     "name": "stderr",
     "output_type": "stream",
     "text": [
      "\u001b[32m[I 2023-05-29 15:37:29,121]\u001b[0m Trial 9 finished with value: 0.9707792207792207 and parameters: {'n_estimators': 2588, 'learning_rate': 0.4325052838244933, 'max_depth': 5, 'max_features': 'log2', 'min_samples_split': 10, 'min_weight_fraction_leaf': 0.2549690579365563}. Best is trial 5 with value: 0.762987012987013.\u001b[0m\n",
      "\u001b[32m[I 2023-05-29 15:37:29,223]\u001b[0m Trial 11 finished with value: 0.7532467532467533 and parameters: {'n_estimators': 766, 'learning_rate': 0.05294644855325341, 'max_depth': 2, 'max_features': 'log2', 'min_samples_split': 6, 'min_weight_fraction_leaf': 0.4832350681642368}. Best is trial 11 with value: 0.7532467532467533.\u001b[0m\n"
     ]
    },
    {
     "name": "stdout",
     "output_type": "stream",
     "text": [
      "max_accuracy 0.9772727272727273\n",
      "max_accuracy 0.9772727272727273\n"
     ]
    },
    {
     "name": "stderr",
     "output_type": "stream",
     "text": [
      "\u001b[32m[I 2023-05-29 15:37:30,584]\u001b[0m Trial 13 finished with value: 0.6785714285714286 and parameters: {'n_estimators': 735, 'learning_rate': 0.026273567893551564, 'max_depth': 1, 'max_features': 'log2', 'min_samples_split': 32, 'min_weight_fraction_leaf': 0.48976005940747824}. Best is trial 13 with value: 0.6785714285714286.\u001b[0m\n"
     ]
    },
    {
     "name": "stdout",
     "output_type": "stream",
     "text": [
      "max_accuracy 0.9772727272727273\n"
     ]
    },
    {
     "name": "stderr",
     "output_type": "stream",
     "text": [
      "\u001b[32m[I 2023-05-29 15:37:30,830]\u001b[0m Trial 12 finished with value: 0.6785714285714286 and parameters: {'n_estimators': 731, 'learning_rate': 0.9500034246519395, 'max_depth': 1, 'max_features': 'auto', 'min_samples_split': 54, 'min_weight_fraction_leaf': 0.4902902933755065}. Best is trial 13 with value: 0.6785714285714286.\u001b[0m\n"
     ]
    },
    {
     "name": "stdout",
     "output_type": "stream",
     "text": [
      "max_accuracy 0.9772727272727273\n"
     ]
    },
    {
     "name": "stderr",
     "output_type": "stream",
     "text": [
      "\u001b[32m[I 2023-05-29 15:37:31,927]\u001b[0m Trial 14 finished with value: 0.4675324675324675 and parameters: {'n_estimators': 760, 'learning_rate': 0.008384978317267287, 'max_depth': 1, 'max_features': 'log2', 'min_samples_split': 28, 'min_weight_fraction_leaf': 0.49957389148511205}. Best is trial 14 with value: 0.4675324675324675.\u001b[0m\n"
     ]
    },
    {
     "name": "stdout",
     "output_type": "stream",
     "text": [
      "max_accuracy 0.9772727272727273\n"
     ]
    },
    {
     "name": "stderr",
     "output_type": "stream",
     "text": [
      "\u001b[32m[I 2023-05-29 15:37:32,630]\u001b[0m Trial 15 finished with value: 0.6785714285714286 and parameters: {'n_estimators': 771, 'learning_rate': 0.8879489510542586, 'max_depth': 1, 'max_features': 'auto', 'min_samples_split': 32, 'min_weight_fraction_leaf': 0.4889380574945938}. Best is trial 14 with value: 0.4675324675324675.\u001b[0m\n"
     ]
    },
    {
     "name": "stdout",
     "output_type": "stream",
     "text": [
      "max_accuracy 0.9772727272727273\n"
     ]
    },
    {
     "name": "stderr",
     "output_type": "stream",
     "text": [
      "\u001b[32m[I 2023-05-29 15:37:34,089]\u001b[0m Trial 16 finished with value: 0.7694805194805194 and parameters: {'n_estimators': 1101, 'learning_rate': 0.9731885134811722, 'max_depth': 4, 'max_features': 'auto', 'min_samples_split': 52, 'min_weight_fraction_leaf': 0.4490766789745963}. Best is trial 14 with value: 0.4675324675324675.\u001b[0m\n"
     ]
    },
    {
     "name": "stdout",
     "output_type": "stream",
     "text": [
      "max_accuracy 0.9772727272727273\n",
      "max_accuracy "
     ]
    },
    {
     "name": "stderr",
     "output_type": "stream",
     "text": [
      "\u001b[32m[I 2023-05-29 15:37:34,293]\u001b[0m Trial 18 finished with value: 0.7532467532467533 and parameters: {'n_estimators': 108, 'learning_rate': 0.7648000832488744, 'max_depth': 15, 'max_features': 'auto', 'min_samples_split': 20, 'min_weight_fraction_leaf': 0.43167368192897493}. Best is trial 14 with value: 0.4675324675324675.\u001b[0m\n"
     ]
    },
    {
     "name": "stdout",
     "output_type": "stream",
     "text": [
      "0.9772727272727273\n"
     ]
    },
    {
     "name": "stderr",
     "output_type": "stream",
     "text": [
      "\u001b[32m[I 2023-05-29 15:37:35,101]\u001b[0m Trial 19 finished with value: 0.8701298701298701 and parameters: {'n_estimators': 498, 'learning_rate': 0.9974248765438972, 'max_depth': 4, 'max_features': 'auto', 'min_samples_split': 58, 'min_weight_fraction_leaf': 0.4189718968953239}. Best is trial 14 with value: 0.4675324675324675.\u001b[0m\n"
     ]
    },
    {
     "name": "stdout",
     "output_type": "stream",
     "text": [
      "max_accuracy 0.9772727272727273\n"
     ]
    },
    {
     "name": "stderr",
     "output_type": "stream",
     "text": [
      "\u001b[32m[I 2023-05-29 15:37:37,255]\u001b[0m Trial 20 finished with value: 0.8538961038961039 and parameters: {'n_estimators': 1354, 'learning_rate': 0.4881022422723993, 'max_depth': 7, 'max_features': 'auto', 'min_samples_split': 39, 'min_weight_fraction_leaf': 0.34232802957298825}. Best is trial 14 with value: 0.4675324675324675.\u001b[0m\n"
     ]
    },
    {
     "name": "stdout",
     "output_type": "stream",
     "text": [
      "max_accuracy 0.9772727272727273\n"
     ]
    },
    {
     "name": "stderr",
     "output_type": "stream",
     "text": [
      "\u001b[32m[I 2023-05-29 15:37:37,634]\u001b[0m Trial 17 finished with value: 0.7727272727272727 and parameters: {'n_estimators': 2959, 'learning_rate': 0.7295345046761377, 'max_depth': 3, 'max_features': 'auto', 'min_samples_split': 56, 'min_weight_fraction_leaf': 0.43425397900694496}. Best is trial 14 with value: 0.4675324675324675.\u001b[0m\n"
     ]
    },
    {
     "name": "stdout",
     "output_type": "stream",
     "text": [
      "max_accuracy 0.9772727272727273\n"
     ]
    },
    {
     "name": "stderr",
     "output_type": "stream",
     "text": [
      "\u001b[32m[I 2023-05-29 15:37:38,848]\u001b[0m Trial 22 finished with value: 0.6785714285714286 and parameters: {'n_estimators': 793, 'learning_rate': 0.03150288886922812, 'max_depth': 1, 'max_features': 'log2', 'min_samples_split': 26, 'min_weight_fraction_leaf': 0.490728938542134}. Best is trial 14 with value: 0.4675324675324675.\u001b[0m\n"
     ]
    },
    {
     "name": "stdout",
     "output_type": "stream",
     "text": [
      "max_accuracy 0.9772727272727273\n"
     ]
    },
    {
     "name": "stderr",
     "output_type": "stream",
     "text": [
      "\u001b[32m[I 2023-05-29 15:37:40,235]\u001b[0m Trial 23 finished with value: 0.4675324675324675 and parameters: {'n_estimators': 982, 'learning_rate': 0.002492616832468264, 'max_depth': 2, 'max_features': 'log2', 'min_samples_split': 40, 'min_weight_fraction_leaf': 0.49748902508749426}. Best is trial 14 with value: 0.4675324675324675.\u001b[0m\n"
     ]
    },
    {
     "name": "stdout",
     "output_type": "stream",
     "text": [
      "max_accuracy 0.9772727272727273\n"
     ]
    },
    {
     "name": "stderr",
     "output_type": "stream",
     "text": [
      "\u001b[32m[I 2023-05-29 15:37:41,851]\u001b[0m Trial 24 finished with value: 0.762987012987013 and parameters: {'n_estimators': 996, 'learning_rate': 0.13784338257018824, 'max_depth': 3, 'max_features': 'log2', 'min_samples_split': 44, 'min_weight_fraction_leaf': 0.4487807617426771}. Best is trial 14 with value: 0.4675324675324675.\u001b[0m\n"
     ]
    },
    {
     "name": "stdout",
     "output_type": "stream",
     "text": [
      "max_accuracy 0.9772727272727273\n"
     ]
    },
    {
     "name": "stderr",
     "output_type": "stream",
     "text": [
      "\u001b[32m[I 2023-05-29 15:37:42,501]\u001b[0m Trial 21 finished with value: 0.7694805194805194 and parameters: {'n_estimators': 2854, 'learning_rate': 0.3830632921314102, 'max_depth': 3, 'max_features': 'auto', 'min_samples_split': 21, 'min_weight_fraction_leaf': 0.43979739817583896}. Best is trial 14 with value: 0.4675324675324675.\u001b[0m\n",
      "\u001b[32m[I 2023-05-29 15:37:42,691]\u001b[0m Trial 25 finished with value: 0.762987012987013 and parameters: {'n_estimators': 465, 'learning_rate': 0.30858794542491064, 'max_depth': 2, 'max_features': 'log2', 'min_samples_split': 65, 'min_weight_fraction_leaf': 0.4503147431355576}. Best is trial 14 with value: 0.4675324675324675.\u001b[0m\n"
     ]
    },
    {
     "name": "stdout",
     "output_type": "stream",
     "text": [
      "max_accuracy 0.9772727272727273\n",
      "max_accuracy 0.9772727272727273\n"
     ]
    },
    {
     "name": "stderr",
     "output_type": "stream",
     "text": [
      "\u001b[32m[I 2023-05-29 15:37:43,246]\u001b[0m Trial 26 finished with value: 0.4675324675324675 and parameters: {'n_estimators': 468, 'learning_rate': 0.27243017937794556, 'max_depth': 2, 'max_features': 'log2', 'min_samples_split': 67, 'min_weight_fraction_leaf': 0.498994930939581}. Best is trial 14 with value: 0.4675324675324675.\u001b[0m\n"
     ]
    },
    {
     "name": "stdout",
     "output_type": "stream",
     "text": [
      "max_accuracy 0.9772727272727273\n"
     ]
    },
    {
     "name": "stderr",
     "output_type": "stream",
     "text": [
      "\u001b[32m[I 2023-05-29 15:37:44,418]\u001b[0m Trial 27 finished with value: 0.6201298701298701 and parameters: {'n_estimators': 985, 'learning_rate': 0.0058738329171497804, 'max_depth': 6, 'max_features': 'log2', 'min_samples_split': 49, 'min_weight_fraction_leaf': 0.49121947535048693}. Best is trial 14 with value: 0.4675324675324675.\u001b[0m\n"
     ]
    },
    {
     "name": "stdout",
     "output_type": "stream",
     "text": [
      "max_accuracy 0.9772727272727273\n"
     ]
    },
    {
     "name": "stderr",
     "output_type": "stream",
     "text": [
      "\u001b[32m[I 2023-05-29 15:37:45,054]\u001b[0m Trial 28 finished with value: 0.8344155844155844 and parameters: {'n_estimators': 941, 'learning_rate': 0.11027347658054974, 'max_depth': 6, 'max_features': 'log2', 'min_samples_split': 69, 'min_weight_fraction_leaf': 0.40519150258310777}. Best is trial 14 with value: 0.4675324675324675.\u001b[0m\n"
     ]
    },
    {
     "name": "stdout",
     "output_type": "stream",
     "text": [
      "max_accuracy 0.9772727272727273\n"
     ]
    },
    {
     "name": "stderr",
     "output_type": "stream",
     "text": [
      "\u001b[32m[I 2023-05-29 15:37:45,430]\u001b[0m Trial 29 finished with value: 0.8344155844155844 and parameters: {'n_estimators': 519, 'learning_rate': 0.202358154377861, 'max_depth': 2, 'max_features': 'log2', 'min_samples_split': 37, 'min_weight_fraction_leaf': 0.3996431733653491}. Best is trial 14 with value: 0.4675324675324675.\u001b[0m\n"
     ]
    },
    {
     "name": "stdout",
     "output_type": "stream",
     "text": [
      "max_accuracy 0.9772727272727273\n"
     ]
    },
    {
     "name": "stderr",
     "output_type": "stream",
     "text": [
      "\u001b[32m[I 2023-05-29 15:37:46,040]\u001b[0m Trial 30 finished with value: 0.8246753246753247 and parameters: {'n_estimators': 510, 'learning_rate': 0.26625892004681284, 'max_depth': 2, 'max_features': 'log2', 'min_samples_split': 12, 'min_weight_fraction_leaf': 0.4075085678109776}. Best is trial 14 with value: 0.4675324675324675.\u001b[0m\n"
     ]
    },
    {
     "name": "stdout",
     "output_type": "stream",
     "text": [
      "max_accuracy 0.9772727272727273\n"
     ]
    },
    {
     "name": "stderr",
     "output_type": "stream",
     "text": [
      "\u001b[32m[I 2023-05-29 15:37:47,547]\u001b[0m Trial 31 finished with value: 0.4675324675324675 and parameters: {'n_estimators': 1261, 'learning_rate': 0.21887347056459217, 'max_depth': 4, 'max_features': 'log2', 'min_samples_split': 30, 'min_weight_fraction_leaf': 0.4993725956393866}. Best is trial 14 with value: 0.4675324675324675.\u001b[0m\n"
     ]
    },
    {
     "name": "stdout",
     "output_type": "stream",
     "text": [
      "max_accuracy 0.9772727272727273\n"
     ]
    },
    {
     "name": "stderr",
     "output_type": "stream",
     "text": [
      "\u001b[32m[I 2023-05-29 15:37:48,414]\u001b[0m Trial 32 finished with value: 0.6201298701298701 and parameters: {'n_estimators': 1331, 'learning_rate': 0.004283534811024699, 'max_depth': 4, 'max_features': 'log2', 'min_samples_split': 45, 'min_weight_fraction_leaf': 0.4935709980439215}. Best is trial 14 with value: 0.4675324675324675.\u001b[0m\n"
     ]
    },
    {
     "name": "stdout",
     "output_type": "stream",
     "text": [
      "max_accuracy 0.9772727272727273\n"
     ]
    },
    {
     "name": "stderr",
     "output_type": "stream",
     "text": [
      "\u001b[32m[I 2023-05-29 15:37:49,733]\u001b[0m Trial 33 finished with value: 0.7597402597402597 and parameters: {'n_estimators': 1298, 'learning_rate': 0.21089305820778653, 'max_depth': 4, 'max_features': 'log2', 'min_samples_split': 32, 'min_weight_fraction_leaf': 0.463707148808243}. Best is trial 14 with value: 0.4675324675324675.\u001b[0m\n"
     ]
    },
    {
     "name": "stdout",
     "output_type": "stream",
     "text": [
      "max_accuracy 0.9772727272727273\n"
     ]
    },
    {
     "name": "stderr",
     "output_type": "stream",
     "text": [
      "\u001b[32m[I 2023-05-29 15:37:51,620]\u001b[0m Trial 34 finished with value: 0.7532467532467533 and parameters: {'n_estimators': 1916, 'learning_rate': 0.20650669343373265, 'max_depth': 3, 'max_features': 'log2', 'min_samples_split': 30, 'min_weight_fraction_leaf': 0.4602874327906762}. Best is trial 14 with value: 0.4675324675324675.\u001b[0m\n"
     ]
    },
    {
     "name": "stdout",
     "output_type": "stream",
     "text": [
      "max_accuracy 0.9772727272727273\n"
     ]
    },
    {
     "name": "stderr",
     "output_type": "stream",
     "text": [
      "\u001b[32m[I 2023-05-29 15:37:52,721]\u001b[0m Trial 35 finished with value: 0.7662337662337663 and parameters: {'n_estimators': 1748, 'learning_rate': 0.10502568448721478, 'max_depth': 3, 'max_features': 'log2', 'min_samples_split': 26, 'min_weight_fraction_leaf': 0.44483797050007173}. Best is trial 14 with value: 0.4675324675324675.\u001b[0m\n"
     ]
    },
    {
     "name": "stdout",
     "output_type": "stream",
     "text": [
      "max_accuracy 0.9772727272727273\n"
     ]
    },
    {
     "name": "stderr",
     "output_type": "stream",
     "text": [
      "\u001b[32m[I 2023-05-29 15:37:54,288]\u001b[0m Trial 36 finished with value: 0.8376623376623377 and parameters: {'n_estimators': 1577, 'learning_rate': 0.09655059729573529, 'max_depth': 2, 'max_features': 'log2', 'min_samples_split': 86, 'min_weight_fraction_leaf': 0.4245507334781346}. Best is trial 14 with value: 0.4675324675324675.\u001b[0m\n"
     ]
    },
    {
     "name": "stdout",
     "output_type": "stream",
     "text": [
      "max_accuracy 0.9772727272727273\n"
     ]
    },
    {
     "name": "stderr",
     "output_type": "stream",
     "text": [
      "\u001b[32m[I 2023-05-29 15:37:54,793]\u001b[0m Trial 38 finished with value: 0.8376623376623377 and parameters: {'n_estimators': 275, 'learning_rate': 0.163034073151769, 'max_depth': 5, 'max_features': 'log2', 'min_samples_split': 97, 'min_weight_fraction_leaf': 0.36782855829747596}. Best is trial 14 with value: 0.4675324675324675.\u001b[0m\n"
     ]
    },
    {
     "name": "stdout",
     "output_type": "stream",
     "text": [
      "max_accuracy 0.9772727272727273\n"
     ]
    },
    {
     "name": "stderr",
     "output_type": "stream",
     "text": [
      "\u001b[32m[I 2023-05-29 15:37:55,387]\u001b[0m Trial 37 finished with value: 0.8376623376623377 and parameters: {'n_estimators': 1528, 'learning_rate': 0.10384161548647187, 'max_depth': 5, 'max_features': 'log2', 'min_samples_split': 86, 'min_weight_fraction_leaf': 0.4229320742873826}. Best is trial 14 with value: 0.4675324675324675.\u001b[0m\n"
     ]
    },
    {
     "name": "stdout",
     "output_type": "stream",
     "text": [
      "max_accuracy 0.9772727272727273\n"
     ]
    },
    {
     "name": "stderr",
     "output_type": "stream",
     "text": [
      "\u001b[32m[I 2023-05-29 15:37:55,620]\u001b[0m Trial 40 finished with value: 0.7824675324675324 and parameters: {'n_estimators': 106, 'learning_rate': 0.06260591009273887, 'max_depth': 9, 'max_features': 'log2', 'min_samples_split': 76, 'min_weight_fraction_leaf': 0.4643784271290134}. Best is trial 14 with value: 0.4675324675324675.\u001b[0m\n"
     ]
    },
    {
     "name": "stdout",
     "output_type": "stream",
     "text": [
      "max_accuracy 0.9772727272727273\n"
     ]
    },
    {
     "name": "stderr",
     "output_type": "stream",
     "text": [
      "\u001b[32m[I 2023-05-29 15:37:57,007]\u001b[0m Trial 39 finished with value: 0.4675324675324675 and parameters: {'n_estimators': 1459, 'learning_rate': 0.08826596317931881, 'max_depth': 8, 'max_features': 'log2', 'min_samples_split': 17, 'min_weight_fraction_leaf': 0.49969329316200195}. Best is trial 14 with value: 0.4675324675324675.\u001b[0m\n"
     ]
    },
    {
     "name": "stdout",
     "output_type": "stream",
     "text": [
      "max_accuracy 0.9772727272727273\n"
     ]
    },
    {
     "name": "stderr",
     "output_type": "stream",
     "text": [
      "\u001b[32m[I 2023-05-29 15:37:59,229]\u001b[0m Trial 42 finished with value: 0.762987012987013 and parameters: {'n_estimators': 1221, 'learning_rate': 0.1601475078022357, 'max_depth': 8, 'max_features': 'log2', 'min_samples_split': 16, 'min_weight_fraction_leaf': 0.4696035520115629}. Best is trial 14 with value: 0.4675324675324675.\u001b[0m\n"
     ]
    },
    {
     "name": "stdout",
     "output_type": "stream",
     "text": [
      "max_accuracy 0.9772727272727273\n"
     ]
    },
    {
     "name": "stderr",
     "output_type": "stream",
     "text": [
      "\u001b[32m[I 2023-05-29 15:37:59,456]\u001b[0m Trial 41 finished with value: 0.7597402597402597 and parameters: {'n_estimators': 2178, 'learning_rate': 0.3331313444140212, 'max_depth': 1, 'max_features': 'log2', 'min_samples_split': 16, 'min_weight_fraction_leaf': 0.4633304807333569}. Best is trial 14 with value: 0.4675324675324675.\u001b[0m\n"
     ]
    },
    {
     "name": "stdout",
     "output_type": "stream",
     "text": [
      "max_accuracy 0.9772727272727273\n"
     ]
    },
    {
     "name": "stderr",
     "output_type": "stream",
     "text": [
      "\u001b[32m[I 2023-05-29 15:38:01,092]\u001b[0m Trial 44 finished with value: 0.4675324675324675 and parameters: {'n_estimators': 913, 'learning_rate': 0.06592407382127882, 'max_depth': 2, 'max_features': 'log2', 'min_samples_split': 26, 'min_weight_fraction_leaf': 0.4992598794695784}. Best is trial 14 with value: 0.4675324675324675.\u001b[0m\n"
     ]
    },
    {
     "name": "stdout",
     "output_type": "stream",
     "text": [
      "max_accuracy 0.9772727272727273\n"
     ]
    },
    {
     "name": "stderr",
     "output_type": "stream",
     "text": [
      "\u001b[32m[I 2023-05-29 15:38:02,544]\u001b[0m Trial 43 finished with value: 0.4675324675324675 and parameters: {'n_estimators': 2040, 'learning_rate': 0.05501332096883374, 'max_depth': 1, 'max_features': 'log2', 'min_samples_split': 26, 'min_weight_fraction_leaf': 0.4980611704838228}. Best is trial 14 with value: 0.4675324675324675.\u001b[0m\n"
     ]
    },
    {
     "name": "stdout",
     "output_type": "stream",
     "text": [
      "max_accuracy 0.9772727272727273\n"
     ]
    },
    {
     "name": "stderr",
     "output_type": "stream",
     "text": [
      "\u001b[32m[I 2023-05-29 15:38:02,867]\u001b[0m Trial 45 finished with value: 0.4675324675324675 and parameters: {'n_estimators': 1112, 'learning_rate': 0.000962425626341773, 'max_depth': 10, 'max_features': 'log2', 'min_samples_split': 6, 'min_weight_fraction_leaf': 0.49907075324797284}. Best is trial 14 with value: 0.4675324675324675.\u001b[0m\n"
     ]
    },
    {
     "name": "stdout",
     "output_type": "stream",
     "text": [
      "max_accuracy 0.9772727272727273\n"
     ]
    },
    {
     "name": "stderr",
     "output_type": "stream",
     "text": [
      "\u001b[32m[I 2023-05-29 15:38:04,976]\u001b[0m Trial 46 finished with value: 0.8311688311688312 and parameters: {'n_estimators': 1453, 'learning_rate': 0.23894378636309754, 'max_depth': 12, 'max_features': 'log2', 'min_samples_split': 37, 'min_weight_fraction_leaf': 0.38650766583991847}. Best is trial 14 with value: 0.4675324675324675.\u001b[0m\n"
     ]
    },
    {
     "name": "stdout",
     "output_type": "stream",
     "text": [
      "max_accuracy 0.9772727272727273\n"
     ]
    },
    {
     "name": "stderr",
     "output_type": "stream",
     "text": [
      "\u001b[32m[I 2023-05-29 15:38:05,321]\u001b[0m Trial 47 finished with value: 0.8311688311688312 and parameters: {'n_estimators': 1462, 'learning_rate': 0.2529327741857069, 'max_depth': 12, 'max_features': 'log2', 'min_samples_split': 35, 'min_weight_fraction_leaf': 0.3809317939761393}. Best is trial 14 with value: 0.4675324675324675.\u001b[0m\n"
     ]
    },
    {
     "name": "stdout",
     "output_type": "stream",
     "text": [
      "max_accuracy 0.9772727272727273\n"
     ]
    },
    {
     "name": "stderr",
     "output_type": "stream",
     "text": [
      "\u001b[32m[I 2023-05-29 15:38:06,147]\u001b[0m Trial 48 finished with value: 0.762987012987013 and parameters: {'n_estimators': 667, 'learning_rate': 0.13504961756210335, 'max_depth': 6, 'max_features': 'log2', 'min_samples_split': 17, 'min_weight_fraction_leaf': 0.4664824518453404}. Best is trial 14 with value: 0.4675324675324675.\u001b[0m\n"
     ]
    },
    {
     "name": "stdout",
     "output_type": "stream",
     "text": [
      "max_accuracy 0.9772727272727273\n"
     ]
    },
    {
     "name": "stderr",
     "output_type": "stream",
     "text": [
      "\u001b[32m[I 2023-05-29 15:38:06,850]\u001b[0m Trial 49 finished with value: 0.7532467532467533 and parameters: {'n_estimators': 1667, 'learning_rate': 0.1428869557521498, 'max_depth': 8, 'max_features': 'log2', 'min_samples_split': 45, 'min_weight_fraction_leaf': 0.4796290263192217}. Best is trial 14 with value: 0.4675324675324675.\u001b[0m\n"
     ]
    },
    {
     "name": "stdout",
     "output_type": "stream",
     "text": [
      "max_accuracy 0.9772727272727273\n"
     ]
    }
   ],
   "source": [
    "#accuracies=[]\n",
    "find_params=optuna.create_study()\n",
    "find_params.optimize(objective,n_trials=50,n_jobs=-1,)"
   ]
  },
  {
   "cell_type": "code",
   "execution_count": null,
   "metadata": {},
   "outputs": [],
   "source": [
    "param_df=find_params.trials_dataframe()[['value','params_learning_rate','params_max_depth','params_n_estimators','params_min_samples_split','params_min_weight_fraction_leaf']]\n",
    "param_df=param_df[param_df['value']==max(param_df['value'])]\n",
    "best_param={'n_estimators'             : param_df['params_n_estimators'].values[0], \n",
    "            'learning_rate'            : param_df['params_learning_rate'].values[0], \n",
    "            'max_depth'                : param_df['params_max_depth'].values[0],\n",
    "            'min_samples_split'        : param_df['params_min_samples_split'].values[0],\n",
    "            'min_weight_fraction_leaf' : param_df['params_min_weight_fraction_leaf'].values[0]}\n",
    "best_param"
   ]
  },
  {
   "cell_type": "code",
   "execution_count": null,
   "metadata": {
    "colab": {
     "base_uri": "https://localhost:8080/"
    },
    "id": "vKkHPn5uIM_v",
    "outputId": "b4ab4678-549d-4ec9-8c98-f6849f3ca569"
   },
   "outputs": [
    {
     "name": "stdout",
     "output_type": "stream",
     "text": [
      "0.9883268482490273\n"
     ]
    }
   ],
   "source": [
    "gradb=GradientBoostingClassifier(**best_param)\n",
    "gradb.fit(x_train,y_train)\n",
    "y_pred=gradb.predict(x_test)\n",
    "print(round(accuracy_score(y_test,y_pred)*100,2),'%')"
   ]
  },
  {
   "cell_type": "markdown",
   "metadata": {
    "id": "Q6S0qCrxKd_s"
   },
   "source": [
    "#### **4. XGBoost**"
   ]
  },
  {
   "cell_type": "code",
   "execution_count": null,
   "metadata": {
    "id": "c2V4qbO-IXmn"
   },
   "outputs": [],
   "source": [
    "def objective(trial):\n",
    "  param={'n_estimators'              :trial.suggest_int('n_estimators',100,3000),\n",
    "         'learning_rate'             :trial.suggest_float('learning_rate',0.0001,1.0),\n",
    "         'max_depth'                 :trial.suggest_int('max_depth',1,15),\n",
    "         'colsample_bytree'          :trial.suggest_categorical('colsample_bytree' , [.1,.2,.3,.4,.5,.6,.7,.8,.9,1]),\n",
    "         'subsample'                 :trial.suggest_categorical('subsample' , [.1,.2,.3,.4,.5,.6,.7,.8,.9,1]),\n",
    "         'min_child_weight'          :trial.suggest_int('min_child_weight' ,1,200)\n",
    "        }\n",
    "\n",
    "  opt_xgb=XGBClassifier(**param)\n",
    "  opt_xgb.fit(x_train,y_train)\n",
    "  y_pred=opt_xgb.predict(x_test)\n",
    "  accuracy=accuracy_score(y_test,y_pred)\n",
    "#  accuracies.append(accuracy)\n",
    "#  print('max_accuracy',max(accuracies))\n",
    "  return(accuracy)"
   ]
  },
  {
   "cell_type": "code",
   "execution_count": null,
   "metadata": {
    "colab": {
     "base_uri": "https://localhost:8080/"
    },
    "collapsed": true,
    "id": "bd0vXyTVMqgx",
    "outputId": "dc27f775-008a-415e-dd54-fe33269502d8"
   },
   "outputs": [
    {
     "name": "stderr",
     "output_type": "stream",
     "text": [
      "\u001b[32m[I 2023-05-29 15:50:30,967]\u001b[0m A new study created in memory with name: no-name-97d2d533-3a9b-4306-8c9a-1276aa94219a\u001b[0m\n",
      "\u001b[32m[I 2023-05-29 15:50:33,725]\u001b[0m Trial 1 finished with value: 0.8084415584415584 and parameters: {'n_estimators': 1336, 'learning_rate': 0.4025425408234907, 'max_depth': 11, 'colsample_bytree': 0.1, 'subsample': 0.7, 'min_child_weight': 41}. Best is trial 1 with value: 0.8084415584415584.\u001b[0m\n"
     ]
    },
    {
     "name": "stdout",
     "output_type": "stream",
     "text": [
      "max_accuracy 0.8084415584415584\n"
     ]
    },
    {
     "name": "stderr",
     "output_type": "stream",
     "text": [
      "\u001b[32m[I 2023-05-29 15:50:34,771]\u001b[0m Trial 0 finished with value: 0.7922077922077922 and parameters: {'n_estimators': 2246, 'learning_rate': 0.8564397047261244, 'max_depth': 3, 'colsample_bytree': 1, 'subsample': 0.8, 'min_child_weight': 73}. Best is trial 0 with value: 0.7922077922077922.\u001b[0m\n"
     ]
    },
    {
     "name": "stdout",
     "output_type": "stream",
     "text": [
      "max_accuracy 0.8084415584415584\n"
     ]
    },
    {
     "name": "stderr",
     "output_type": "stream",
     "text": [
      "\u001b[32m[I 2023-05-29 15:50:35,210]\u001b[0m Trial 2 finished with value: 0.5064935064935064 and parameters: {'n_estimators': 1140, 'learning_rate': 0.9372853221005306, 'max_depth': 13, 'colsample_bytree': 0.9, 'subsample': 0.1, 'min_child_weight': 200}. Best is trial 2 with value: 0.5064935064935064.\u001b[0m\n",
      "\u001b[32m[I 2023-05-29 15:50:35,283]\u001b[0m Trial 3 finished with value: 0.5064935064935064 and parameters: {'n_estimators': 393, 'learning_rate': 0.46999185244809205, 'max_depth': 9, 'colsample_bytree': 0.3, 'subsample': 0.6, 'min_child_weight': 195}. Best is trial 2 with value: 0.5064935064935064.\u001b[0m\n"
     ]
    },
    {
     "name": "stdout",
     "output_type": "stream",
     "text": [
      "max_accuracy 0.8084415584415584\n",
      "max_accuracy 0.8084415584415584\n"
     ]
    },
    {
     "name": "stderr",
     "output_type": "stream",
     "text": [
      "\u001b[32m[I 2023-05-29 15:50:36,025]\u001b[0m Trial 5 finished with value: 0.4935064935064935 and parameters: {'n_estimators': 531, 'learning_rate': 0.2416747945072267, 'max_depth': 12, 'colsample_bytree': 0.9, 'subsample': 0.8, 'min_child_weight': 146}. Best is trial 5 with value: 0.4935064935064935.\u001b[0m\n"
     ]
    },
    {
     "name": "stdout",
     "output_type": "stream",
     "text": [
      "max_accuracy 0.8084415584415584\n"
     ]
    },
    {
     "name": "stderr",
     "output_type": "stream",
     "text": [
      "\u001b[32m[I 2023-05-29 15:50:37,421]\u001b[0m Trial 4 finished with value: 0.5064935064935064 and parameters: {'n_estimators': 1655, 'learning_rate': 0.03596095408456923, 'max_depth': 6, 'colsample_bytree': 0.1, 'subsample': 0.5, 'min_child_weight': 197}. Best is trial 5 with value: 0.4935064935064935.\u001b[0m\n"
     ]
    },
    {
     "name": "stdout",
     "output_type": "stream",
     "text": [
      "max_accuracy 0.8084415584415584\n"
     ]
    },
    {
     "name": "stderr",
     "output_type": "stream",
     "text": [
      "\u001b[32m[I 2023-05-29 15:50:37,664]\u001b[0m Trial 6 finished with value: 0.5064935064935064 and parameters: {'n_estimators': 1198, 'learning_rate': 0.9616632831338221, 'max_depth': 8, 'colsample_bytree': 0.4, 'subsample': 0.9, 'min_child_weight': 171}. Best is trial 5 with value: 0.4935064935064935.\u001b[0m\n"
     ]
    },
    {
     "name": "stdout",
     "output_type": "stream",
     "text": [
      "max_accuracy 0.8084415584415584\n"
     ]
    },
    {
     "name": "stderr",
     "output_type": "stream",
     "text": [
      "\u001b[32m[I 2023-05-29 15:50:39,173]\u001b[0m Trial 8 finished with value: 0.8506493506493507 and parameters: {'n_estimators': 1108, 'learning_rate': 0.8275758526668185, 'max_depth': 9, 'colsample_bytree': 0.3, 'subsample': 1, 'min_child_weight': 29}. Best is trial 5 with value: 0.4935064935064935.\u001b[0m\n"
     ]
    },
    {
     "name": "stdout",
     "output_type": "stream",
     "text": [
      "max_accuracy 0.8506493506493507\n"
     ]
    },
    {
     "name": "stderr",
     "output_type": "stream",
     "text": [
      "\u001b[32m[I 2023-05-29 15:50:41,214]\u001b[0m Trial 7 finished with value: 0.4935064935064935 and parameters: {'n_estimators': 2669, 'learning_rate': 0.5040908604640433, 'max_depth': 3, 'colsample_bytree': 0.4, 'subsample': 0.5, 'min_child_weight': 58}. Best is trial 5 with value: 0.4935064935064935.\u001b[0m\n"
     ]
    },
    {
     "name": "stdout",
     "output_type": "stream",
     "text": [
      "max_accuracy 0.8506493506493507\n"
     ]
    },
    {
     "name": "stderr",
     "output_type": "stream",
     "text": [
      "\u001b[32m[I 2023-05-29 15:50:41,923]\u001b[0m Trial 10 finished with value: 0.9285714285714286 and parameters: {'n_estimators': 300, 'learning_rate': 0.7148504444422303, 'max_depth': 13, 'colsample_bytree': 1, 'subsample': 0.5, 'min_child_weight': 8}. Best is trial 5 with value: 0.4935064935064935.\u001b[0m\n"
     ]
    },
    {
     "name": "stdout",
     "output_type": "stream",
     "text": [
      "max_accuracy 0.9285714285714286\n"
     ]
    },
    {
     "name": "stderr",
     "output_type": "stream",
     "text": [
      "\u001b[32m[I 2023-05-29 15:50:42,189]\u001b[0m Trial 11 finished with value: 0.4935064935064935 and parameters: {'n_estimators': 106, 'learning_rate': 0.08081877848989708, 'max_depth': 14, 'colsample_bytree': 0.5, 'subsample': 0.8, 'min_child_weight': 133}. Best is trial 5 with value: 0.4935064935064935.\u001b[0m\n"
     ]
    },
    {
     "name": "stdout",
     "output_type": "stream",
     "text": [
      "max_accuracy 0.9285714285714286\n"
     ]
    },
    {
     "name": "stderr",
     "output_type": "stream",
     "text": [
      "\u001b[32m[I 2023-05-29 15:50:42,472]\u001b[0m Trial 9 finished with value: 0.5064935064935064 and parameters: {'n_estimators': 2234, 'learning_rate': 0.701077697827904, 'max_depth': 4, 'colsample_bytree': 0.3, 'subsample': 0.3, 'min_child_weight': 77}. Best is trial 5 with value: 0.4935064935064935.\u001b[0m\n"
     ]
    },
    {
     "name": "stdout",
     "output_type": "stream",
     "text": [
      "max_accuracy 0.9285714285714286\n"
     ]
    },
    {
     "name": "stderr",
     "output_type": "stream",
     "text": [
      "\u001b[32m[I 2023-05-29 15:50:46,429]\u001b[0m Trial 12 finished with value: 0.5064935064935064 and parameters: {'n_estimators': 2960, 'learning_rate': 0.3175033156697941, 'max_depth': 2, 'colsample_bytree': 0.6, 'subsample': 0.2, 'min_child_weight': 116}. Best is trial 5 with value: 0.4935064935064935.\u001b[0m\n",
      "\u001b[32m[I 2023-05-29 15:50:46,466]\u001b[0m Trial 13 finished with value: 0.5064935064935064 and parameters: {'n_estimators': 2812, 'learning_rate': 0.3140818307892329, 'max_depth': 1, 'colsample_bytree': 0.6, 'subsample': 0.4, 'min_child_weight': 126}. Best is trial 5 with value: 0.4935064935064935.\u001b[0m\n"
     ]
    },
    {
     "name": "stdout",
     "output_type": "stream",
     "text": [
      "max_accuracy 0.9285714285714286\n",
      "max_accuracy 0.9285714285714286\n"
     ]
    },
    {
     "name": "stderr",
     "output_type": "stream",
     "text": [
      "\u001b[32m[I 2023-05-29 15:50:49,051]\u001b[0m Trial 15 finished with value: 0.4935064935064935 and parameters: {'n_estimators': 1878, 'learning_rate': 0.5982571377895018, 'max_depth': 5, 'colsample_bytree': 0.9, 'subsample': 0.5, 'min_child_weight': 81}. Best is trial 5 with value: 0.4935064935064935.\u001b[0m\n"
     ]
    },
    {
     "name": "stdout",
     "output_type": "stream",
     "text": [
      "max_accuracy 0.9285714285714286\n"
     ]
    },
    {
     "name": "stderr",
     "output_type": "stream",
     "text": [
      "\u001b[32m[I 2023-05-29 15:50:50,085]\u001b[0m Trial 16 finished with value: 0.5064935064935064 and parameters: {'n_estimators': 722, 'learning_rate': 0.20079600791556285, 'max_depth': 11, 'colsample_bytree': 0.2, 'subsample': 0.8, 'min_child_weight': 156}. Best is trial 5 with value: 0.4935064935064935.\u001b[0m\n"
     ]
    },
    {
     "name": "stdout",
     "output_type": "stream",
     "text": [
      "max_accuracy 0.9285714285714286\n"
     ]
    },
    {
     "name": "stderr",
     "output_type": "stream",
     "text": [
      "\u001b[32m[I 2023-05-29 15:50:50,479]\u001b[0m Trial 14 finished with value: 0.5064935064935064 and parameters: {'n_estimators': 2945, 'learning_rate': 0.2325104861511469, 'max_depth': 1, 'colsample_bytree': 0.9, 'subsample': 0.4, 'min_child_weight': 146}. Best is trial 5 with value: 0.4935064935064935.\u001b[0m\n"
     ]
    },
    {
     "name": "stdout",
     "output_type": "stream",
     "text": [
      "max_accuracy 0.9285714285714286\n"
     ]
    },
    {
     "name": "stderr",
     "output_type": "stream",
     "text": [
      "\u001b[32m[I 2023-05-29 15:50:51,623]\u001b[0m Trial 18 finished with value: 0.4935064935064935 and parameters: {'n_estimators': 812, 'learning_rate': 0.5292773927833133, 'max_depth': 7, 'colsample_bytree': 0.4, 'subsample': 0.7, 'min_child_weight': 105}. Best is trial 5 with value: 0.4935064935064935.\u001b[0m\n"
     ]
    },
    {
     "name": "stdout",
     "output_type": "stream",
     "text": [
      "max_accuracy 0.9285714285714286\n"
     ]
    },
    {
     "name": "stderr",
     "output_type": "stream",
     "text": [
      "\u001b[32m[I 2023-05-29 15:50:53,453]\u001b[0m Trial 17 finished with value: 0.4935064935064935 and parameters: {'n_estimators': 2542, 'learning_rate': 0.5573523207617745, 'max_depth': 7, 'colsample_bytree': 0.8, 'subsample': 1, 'min_child_weight': 98}. Best is trial 5 with value: 0.4935064935064935.\u001b[0m\n"
     ]
    },
    {
     "name": "stdout",
     "output_type": "stream",
     "text": [
      "max_accuracy 0.9285714285714286\n"
     ]
    },
    {
     "name": "stderr",
     "output_type": "stream",
     "text": [
      "\u001b[32m[I 2023-05-29 15:50:55,227]\u001b[0m Trial 19 finished with value: 0.5064935064935064 and parameters: {'n_estimators': 2516, 'learning_rate': 0.412359392319824, 'max_depth': 15, 'colsample_bytree': 0.8, 'subsample': 0.2, 'min_child_weight': 52}. Best is trial 5 with value: 0.4935064935064935.\u001b[0m\n"
     ]
    },
    {
     "name": "stdout",
     "output_type": "stream",
     "text": [
      "max_accuracy 0.9285714285714286\n"
     ]
    },
    {
     "name": "stderr",
     "output_type": "stream",
     "text": [
      "\u001b[32m[I 2023-05-29 15:50:56,372]\u001b[0m Trial 20 finished with value: 0.8474025974025974 and parameters: {'n_estimators': 1891, 'learning_rate': 0.4120275842503256, 'max_depth': 15, 'colsample_bytree': 0.7, 'subsample': 0.9, 'min_child_weight': 50}. Best is trial 5 with value: 0.4935064935064935.\u001b[0m\n"
     ]
    },
    {
     "name": "stdout",
     "output_type": "stream",
     "text": [
      "max_accuracy 0.9285714285714286\n"
     ]
    },
    {
     "name": "stderr",
     "output_type": "stream",
     "text": [
      "\u001b[32m[I 2023-05-29 15:50:56,680]\u001b[0m Trial 22 finished with value: 0.4935064935064935 and parameters: {'n_estimators': 131, 'learning_rate': 0.05711067468239964, 'max_depth': 13, 'colsample_bytree': 0.5, 'subsample': 0.8, 'min_child_weight': 136}. Best is trial 5 with value: 0.4935064935064935.\u001b[0m\n"
     ]
    },
    {
     "name": "stdout",
     "output_type": "stream",
     "text": [
      "max_accuracy 0.9285714285714286\n"
     ]
    },
    {
     "name": "stderr",
     "output_type": "stream",
     "text": [
      "\u001b[32m[I 2023-05-29 15:50:57,776]\u001b[0m Trial 23 finished with value: 0.5064935064935064 and parameters: {'n_estimators': 630, 'learning_rate': 0.13743544949121628, 'max_depth': 11, 'colsample_bytree': 0.5, 'subsample': 0.8, 'min_child_weight': 166}. Best is trial 5 with value: 0.4935064935064935.\u001b[0m\n"
     ]
    },
    {
     "name": "stdout",
     "output_type": "stream",
     "text": [
      "max_accuracy 0.9285714285714286\n"
     ]
    },
    {
     "name": "stderr",
     "output_type": "stream",
     "text": [
      "\u001b[32m[I 2023-05-29 15:50:58,016]\u001b[0m Trial 24 finished with value: 0.4935064935064935 and parameters: {'n_estimators': 105, 'learning_rate': 0.10748440177869895, 'max_depth': 14, 'colsample_bytree': 0.4, 'subsample': 0.8, 'min_child_weight': 99}. Best is trial 5 with value: 0.4935064935064935.\u001b[0m\n"
     ]
    },
    {
     "name": "stdout",
     "output_type": "stream",
     "text": [
      "max_accuracy 0.9285714285714286\n"
     ]
    },
    {
     "name": "stderr",
     "output_type": "stream",
     "text": [
      "\u001b[32m[I 2023-05-29 15:50:58,729]\u001b[0m Trial 25 finished with value: 0.5064935064935064 and parameters: {'n_estimators': 494, 'learning_rate': 0.007227432209604964, 'max_depth': 12, 'colsample_bytree': 0.5, 'subsample': 0.1, 'min_child_weight': 133}. Best is trial 5 with value: 0.4935064935064935.\u001b[0m\n",
      "\u001b[32m[I 2023-05-29 15:50:58,783]\u001b[0m Trial 21 finished with value: 0.8766233766233766 and parameters: {'n_estimators': 1914, 'learning_rate': 0.17798077298794232, 'max_depth': 11, 'colsample_bytree': 0.7, 'subsample': 0.1, 'min_child_weight': 3}. Best is trial 5 with value: 0.4935064935064935.\u001b[0m\n"
     ]
    },
    {
     "name": "stdout",
     "output_type": "stream",
     "text": [
      "max_accuracy 0.9285714285714286\n",
      "max_accuracy 0.9285714285714286\n"
     ]
    },
    {
     "name": "stderr",
     "output_type": "stream",
     "text": [
      "\u001b[32m[I 2023-05-29 15:50:59,987]\u001b[0m Trial 27 finished with value: 0.5064935064935064 and parameters: {'n_estimators': 841, 'learning_rate': 0.27535717300899076, 'max_depth': 9, 'colsample_bytree': 0.5, 'subsample': 0.3, 'min_child_weight': 119}. Best is trial 5 with value: 0.4935064935064935.\u001b[0m\n",
      "\u001b[32m[I 2023-05-29 15:51:00,091]\u001b[0m Trial 26 finished with value: 0.5064935064935064 and parameters: {'n_estimators': 953, 'learning_rate': 0.1584744665378262, 'max_depth': 10, 'colsample_bytree': 0.7, 'subsample': 0.6, 'min_child_weight': 176}. Best is trial 5 with value: 0.4935064935064935.\u001b[0m\n"
     ]
    },
    {
     "name": "stdout",
     "output_type": "stream",
     "text": [
      "max_accuracy 0.9285714285714286\n",
      "max_accuracy 0.9285714285714286\n"
     ]
    },
    {
     "name": "stderr",
     "output_type": "stream",
     "text": [
      "\u001b[32m[I 2023-05-29 15:51:00,800]\u001b[0m Trial 29 finished with value: 0.5064935064935064 and parameters: {'n_estimators': 487, 'learning_rate': 0.2519200427436441, 'max_depth': 14, 'colsample_bytree': 0.2, 'subsample': 0.5, 'min_child_weight': 152}. Best is trial 5 with value: 0.4935064935064935.\u001b[0m\n"
     ]
    },
    {
     "name": "stdout",
     "output_type": "stream",
     "text": [
      "max_accuracy 0.9285714285714286\n"
     ]
    },
    {
     "name": "stderr",
     "output_type": "stream",
     "text": [
      "\u001b[32m[I 2023-05-29 15:51:01,983]\u001b[0m Trial 28 finished with value: 0.5064935064935064 and parameters: {'n_estimators': 1457, 'learning_rate': 0.09408348106271586, 'max_depth': 14, 'colsample_bytree': 0.2, 'subsample': 0.6, 'min_child_weight': 147}. Best is trial 5 with value: 0.4935064935064935.\u001b[0m\n"
     ]
    },
    {
     "name": "stdout",
     "output_type": "stream",
     "text": [
      "max_accuracy 0.9285714285714286\n"
     ]
    },
    {
     "name": "stderr",
     "output_type": "stream",
     "text": [
      "\u001b[32m[I 2023-05-29 15:51:02,823]\u001b[0m Trial 30 finished with value: 0.7954545454545454 and parameters: {'n_estimators': 1584, 'learning_rate': 0.087466491355139, 'max_depth': 4, 'colsample_bytree': 1, 'subsample': 0.8, 'min_child_weight': 61}. Best is trial 5 with value: 0.4935064935064935.\u001b[0m\n"
     ]
    },
    {
     "name": "stdout",
     "output_type": "stream",
     "text": [
      "max_accuracy 0.9285714285714286\n"
     ]
    },
    {
     "name": "stderr",
     "output_type": "stream",
     "text": [
      "\u001b[32m[I 2023-05-29 15:51:04,609]\u001b[0m Trial 31 finished with value: 0.7922077922077922 and parameters: {'n_estimators': 2179, 'learning_rate': 0.08881176162884255, 'max_depth': 3, 'colsample_bytree': 1, 'subsample': 0.8, 'min_child_weight': 62}. Best is trial 5 with value: 0.4935064935064935.\u001b[0m\n"
     ]
    },
    {
     "name": "stdout",
     "output_type": "stream",
     "text": [
      "max_accuracy 0.9285714285714286\n"
     ]
    },
    {
     "name": "stderr",
     "output_type": "stream",
     "text": [
      "\u001b[32m[I 2023-05-29 15:51:05,477]\u001b[0m Trial 32 finished with value: 0.4935064935064935 and parameters: {'n_estimators': 2072, 'learning_rate': 0.5857228408964692, 'max_depth': 5, 'colsample_bytree': 0.9, 'subsample': 0.5, 'min_child_weight': 78}. Best is trial 5 with value: 0.4935064935064935.\u001b[0m\n"
     ]
    },
    {
     "name": "stdout",
     "output_type": "stream",
     "text": [
      "max_accuracy 0.9285714285714286\n"
     ]
    },
    {
     "name": "stderr",
     "output_type": "stream",
     "text": [
      "\u001b[32m[I 2023-05-29 15:51:07,225]\u001b[0m Trial 33 finished with value: 0.4935064935064935 and parameters: {'n_estimators': 1921, 'learning_rate': 0.5876325191823759, 'max_depth': 5, 'colsample_bytree': 0.9, 'subsample': 0.5, 'min_child_weight': 83}. Best is trial 5 with value: 0.4935064935064935.\u001b[0m\n"
     ]
    },
    {
     "name": "stdout",
     "output_type": "stream",
     "text": [
      "max_accuracy 0.9285714285714286\n"
     ]
    },
    {
     "name": "stderr",
     "output_type": "stream",
     "text": [
      "\u001b[32m[I 2023-05-29 15:51:09,010]\u001b[0m Trial 34 finished with value: 0.4935064935064935 and parameters: {'n_estimators': 2477, 'learning_rate': 0.4813132649624456, 'max_depth': 3, 'colsample_bytree': 0.9, 'subsample': 0.5, 'min_child_weight': 86}. Best is trial 5 with value: 0.4935064935064935.\u001b[0m\n"
     ]
    },
    {
     "name": "stdout",
     "output_type": "stream",
     "text": [
      "max_accuracy 0.9285714285714286\n"
     ]
    },
    {
     "name": "stderr",
     "output_type": "stream",
     "text": [
      "\u001b[32m[I 2023-05-29 15:51:10,024]\u001b[0m Trial 35 finished with value: 0.8246753246753247 and parameters: {'n_estimators': 1757, 'learning_rate': 0.4700411671021336, 'max_depth': 4, 'colsample_bytree': 0.9, 'subsample': 0.5, 'min_child_weight': 38}. Best is trial 5 with value: 0.4935064935064935.\u001b[0m\n"
     ]
    },
    {
     "name": "stdout",
     "output_type": "stream",
     "text": [
      "max_accuracy 0.9285714285714286\n"
     ]
    },
    {
     "name": "stderr",
     "output_type": "stream",
     "text": [
      "\u001b[32m[I 2023-05-29 15:51:11,756]\u001b[0m Trial 36 finished with value: 0.4935064935064935 and parameters: {'n_estimators': 1732, 'learning_rate': 0.35188856721195916, 'max_depth': 2, 'colsample_bytree': 0.9, 'subsample': 0.7, 'min_child_weight': 111}. Best is trial 5 with value: 0.4935064935064935.\u001b[0m\n"
     ]
    },
    {
     "name": "stdout",
     "output_type": "stream",
     "text": [
      "max_accuracy 0.9285714285714286\n"
     ]
    },
    {
     "name": "stderr",
     "output_type": "stream",
     "text": [
      "\u001b[32m[I 2023-05-29 15:51:11,979]\u001b[0m Trial 37 finished with value: 0.4935064935064935 and parameters: {'n_estimators': 1314, 'learning_rate': 0.3614409890678548, 'max_depth': 6, 'colsample_bytree': 0.1, 'subsample': 0.8, 'min_child_weight': 108}. Best is trial 5 with value: 0.4935064935064935.\u001b[0m\n"
     ]
    },
    {
     "name": "stdout",
     "output_type": "stream",
     "text": [
      "max_accuracy 0.9285714285714286\n"
     ]
    },
    {
     "name": "stderr",
     "output_type": "stream",
     "text": [
      "\u001b[32m[I 2023-05-29 15:51:12,313]\u001b[0m Trial 38 finished with value: 0.8344155844155844 and parameters: {'n_estimators': 273, 'learning_rate': 0.024985397839531603, 'max_depth': 6, 'colsample_bytree': 0.1, 'subsample': 0.8, 'min_child_weight': 29}. Best is trial 5 with value: 0.4935064935064935.\u001b[0m\n",
      "\u001b[32m[I 2023-05-29 15:51:12,508]\u001b[0m Trial 39 finished with value: 0.5064935064935064 and parameters: {'n_estimators': 332, 'learning_rate': 0.18786172169765958, 'max_depth': 5, 'colsample_bytree': 0.4, 'subsample': 0.9, 'min_child_weight': 181}. Best is trial 5 with value: 0.4935064935064935.\u001b[0m\n"
     ]
    },
    {
     "name": "stdout",
     "output_type": "stream",
     "text": [
      "max_accuracy 0.9285714285714286\n",
      "max_accuracy 0.9285714285714286\n"
     ]
    },
    {
     "name": "stderr",
     "output_type": "stream",
     "text": [
      "\u001b[32m[I 2023-05-29 15:51:15,573]\u001b[0m Trial 40 finished with value: 0.4935064935064935 and parameters: {'n_estimators': 2360, 'learning_rate': 0.16872501051974192, 'max_depth': 12, 'colsample_bytree': 0.4, 'subsample': 0.9, 'min_child_weight': 91}. Best is trial 5 with value: 0.4935064935064935.\u001b[0m\n"
     ]
    },
    {
     "name": "stdout",
     "output_type": "stream",
     "text": [
      "max_accuracy 0.9285714285714286\n"
     ]
    },
    {
     "name": "stderr",
     "output_type": "stream",
     "text": [
      "\u001b[32m[I 2023-05-29 15:51:16,061]\u001b[0m Trial 41 finished with value: 0.4935064935064935 and parameters: {'n_estimators': 2643, 'learning_rate': 0.6284489220135979, 'max_depth': 12, 'colsample_bytree': 0.4, 'subsample': 0.5, 'min_child_weight': 92}. Best is trial 5 with value: 0.4935064935064935.\u001b[0m\n"
     ]
    },
    {
     "name": "stdout",
     "output_type": "stream",
     "text": [
      "max_accuracy 0.9285714285714286\n"
     ]
    },
    {
     "name": "stderr",
     "output_type": "stream",
     "text": [
      "\u001b[32m[I 2023-05-29 15:51:19,195]\u001b[0m Trial 42 finished with value: 0.7564935064935064 and parameters: {'n_estimators': 2704, 'learning_rate': 0.5355503115330692, 'max_depth': 6, 'colsample_bytree': 0.8, 'subsample': 1, 'min_child_weight': 69}. Best is trial 5 with value: 0.4935064935064935.\u001b[0m\n"
     ]
    },
    {
     "name": "stdout",
     "output_type": "stream",
     "text": [
      "max_accuracy 0.9285714285714286\n"
     ]
    },
    {
     "name": "stderr",
     "output_type": "stream",
     "text": [
      "\u001b[32m[I 2023-05-29 15:51:19,674]\u001b[0m Trial 43 finished with value: 0.8409090909090909 and parameters: {'n_estimators': 2718, 'learning_rate': 0.5089950025058617, 'max_depth': 7, 'colsample_bytree': 0.8, 'subsample': 1, 'min_child_weight': 66}. Best is trial 5 with value: 0.4935064935064935.\u001b[0m\n"
     ]
    },
    {
     "name": "stdout",
     "output_type": "stream",
     "text": [
      "max_accuracy 0.9285714285714286\n"
     ]
    },
    {
     "name": "stderr",
     "output_type": "stream",
     "text": [
      "\u001b[32m[I 2023-05-29 15:51:22,562]\u001b[0m Trial 44 finished with value: 0.4935064935064935 and parameters: {'n_estimators': 2384, 'learning_rate': 0.4233165184864777, 'max_depth': 8, 'colsample_bytree': 0.8, 'subsample': 1, 'min_child_weight': 128}. Best is trial 5 with value: 0.4935064935064935.\u001b[0m\n"
     ]
    },
    {
     "name": "stdout",
     "output_type": "stream",
     "text": [
      "max_accuracy 0.9285714285714286\n"
     ]
    },
    {
     "name": "stderr",
     "output_type": "stream",
     "text": [
      "\u001b[32m[I 2023-05-29 15:51:23,160]\u001b[0m Trial 45 finished with value: 0.4935064935064935 and parameters: {'n_estimators': 2407, 'learning_rate': 0.43133204575121353, 'max_depth': 8, 'colsample_bytree': 0.8, 'subsample': 1, 'min_child_weight': 126}. Best is trial 5 with value: 0.4935064935064935.\u001b[0m\n"
     ]
    },
    {
     "name": "stdout",
     "output_type": "stream",
     "text": [
      "max_accuracy 0.9285714285714286\n"
     ]
    },
    {
     "name": "stderr",
     "output_type": "stream",
     "text": [
      "\u001b[32m[I 2023-05-29 15:51:24,259]\u001b[0m Trial 46 finished with value: 0.4935064935064935 and parameters: {'n_estimators': 1047, 'learning_rate': 0.6812175404127596, 'max_depth': 8, 'colsample_bytree': 0.6, 'subsample': 1, 'min_child_weight': 119}. Best is trial 5 with value: 0.4935064935064935.\u001b[0m\n"
     ]
    },
    {
     "name": "stdout",
     "output_type": "stream",
     "text": [
      "max_accuracy 0.9285714285714286\n"
     ]
    },
    {
     "name": "stderr",
     "output_type": "stream",
     "text": [
      "\u001b[32m[I 2023-05-29 15:51:24,884]\u001b[0m Trial 47 finished with value: 0.5064935064935064 and parameters: {'n_estimators': 1025, 'learning_rate': 0.6570720924705178, 'max_depth': 2, 'colsample_bytree': 0.6, 'subsample': 0.3, 'min_child_weight': 98}. Best is trial 5 with value: 0.4935064935064935.\u001b[0m\n"
     ]
    },
    {
     "name": "stdout",
     "output_type": "stream",
     "text": [
      "max_accuracy 0.9285714285714286\n"
     ]
    },
    {
     "name": "stderr",
     "output_type": "stream",
     "text": [
      "\u001b[32m[I 2023-05-29 15:51:27,883]\u001b[0m Trial 49 finished with value: 0.5064935064935064 and parameters: {'n_estimators': 2117, 'learning_rate': 0.5578856993834577, 'max_depth': 7, 'colsample_bytree': 0.3, 'subsample': 0.4, 'min_child_weight': 163}. Best is trial 5 with value: 0.4935064935064935.\u001b[0m\n"
     ]
    },
    {
     "name": "stdout",
     "output_type": "stream",
     "text": [
      "max_accuracy 0.9285714285714286\n"
     ]
    },
    {
     "name": "stderr",
     "output_type": "stream",
     "text": [
      "\u001b[32m[I 2023-05-29 15:51:28,188]\u001b[0m Trial 48 finished with value: 0.5064935064935064 and parameters: {'n_estimators': 2983, 'learning_rate': 0.7609836829843878, 'max_depth': 2, 'colsample_bytree': 0.9, 'subsample': 0.4, 'min_child_weight': 138}. Best is trial 5 with value: 0.4935064935064935.\u001b[0m\n"
     ]
    },
    {
     "name": "stdout",
     "output_type": "stream",
     "text": [
      "max_accuracy 0.9285714285714286\n"
     ]
    }
   ],
   "source": [
    "#accuracies=[]\n",
    "find_params=optuna.create_study()\n",
    "find_params.optimize(objective,n_trials=50,n_jobs=-1)"
   ]
  },
  {
   "cell_type": "code",
   "execution_count": null,
   "metadata": {},
   "outputs": [],
   "source": [
    "param_df=find_params.trials_dataframe()[['value','params_learning_rate','params_max_depth','params_n_estimators','params_colsample_bytree','params_subsample','params_min_child_weight']]\n",
    "param_df=param_df[param_df['value']==max(param_df['value'])]\n",
    "best_param={'n_estimators'     : param_df['params_n_estimators'].values[0], \n",
    "            'learning_rate'    : param_df['params_learning_rate'].values[0], \n",
    "            'max_depth'        : param_df['params_max_depth'].values[0],\n",
    "            'colsample_bytree' : param_df['params_colsample_bytree'].values[0],\n",
    "            'subsample'        : param_df['params_subsample'].values[0],\n",
    "            'min_child_weight' : param_df['params_min_child_weight'].values[0]}\n",
    "best_param"
   ]
  },
  {
   "cell_type": "code",
   "execution_count": null,
   "metadata": {
    "colab": {
     "base_uri": "https://localhost:8080/"
    },
    "id": "sMpc3qNmNYPe",
    "outputId": "e3f2703e-c56a-4165-92e0-981b59ff0743"
   },
   "outputs": [
    {
     "name": "stdout",
     "output_type": "stream",
     "text": [
      "0.9260700389105059\n"
     ]
    }
   ],
   "source": [
    "xgb=XGBClassifier(**best_param)\n",
    "xgb.fit(x_train,y_train)\n",
    "y_pred=xgb.predict(x_test)\n",
    "print(round(accuracy_score(y_test,y_pred)*100,2),'%')"
   ]
  },
  {
   "cell_type": "markdown",
   "metadata": {
    "id": "fO28FldoOZzt"
   },
   "source": [
    "### **HyperOpt**\n"
   ]
  },
  {
   "cell_type": "markdown",
   "metadata": {
    "id": "XAr8Ox0X_64J"
   },
   "source": [
    "#### **1. RandomForest**"
   ]
  },
  {
   "cell_type": "code",
   "execution_count": null,
   "metadata": {},
   "outputs": [],
   "source": [
    "def objective(space):    \n",
    "    hyperopt_randf=RandomForestClassifier(**space) #define model\n",
    "    hyperopt_randf.fit(x_train,y_train)        #fit model\n",
    "    y_pred=hyperopt_randf.predict(x_test)      #prediction\n",
    "    \n",
    "    logloss=log_loss(y_test,y_pred)    #cross entropy calculation\n",
    "    \n",
    "    return(logloss)"
   ]
  },
  {
   "cell_type": "code",
   "execution_count": null,
   "metadata": {},
   "outputs": [],
   "source": [
    "trials = Trials()\n",
    "#accuracies=[0]\n",
    "#list_space=[]\n",
    "space={'n_estimators'     :hp.choice('n_estimators',list(range(100,2000))),\n",
    "      'criterion'         :hp.choice('criterion',['gini', 'entropy', 'log_loss']),\n",
    "      'max_features'      :hp.choice('max_features',['sqrt', 'log2', None])\n",
    "      }\n",
    "\n",
    "\n",
    "best = fmin(fn= objective,\n",
    "            space= space,\n",
    "            algo= tpe.suggest,\n",
    "            max_evals = 100,\n",
    "            trials= trials)\n",
    "best_randf=space_eval(space,best)\n",
    "best_randf"
   ]
  },
  {
   "cell_type": "code",
   "execution_count": null,
   "metadata": {},
   "outputs": [],
   "source": [
    "min(trials.losses())"
   ]
  },
  {
   "cell_type": "code",
   "execution_count": null,
   "metadata": {},
   "outputs": [],
   "source": [
    "randf=RandomForestClassifier(**best_randf)\n",
    "randf.fit(x_train,y_train)\n",
    "y_pred=randf.predict(x_test)\n",
    "print(round(accuracy_score(y_test,y_pred)*100,2),'%')"
   ]
  },
  {
   "cell_type": "markdown",
   "metadata": {
    "id": "XAr8Ox0X_64J"
   },
   "source": [
    "#### **2. AdaBoost**"
   ]
  },
  {
   "cell_type": "code",
   "execution_count": 19,
   "metadata": {
    "id": "4tjhjmZgNiLK"
   },
   "outputs": [],
   "source": [
    "def objective(space):    \n",
    "    hyperopt_adab=AdaBoostClassifier(**space) #define model\n",
    "    hyperopt_adab.fit(x_train,y_train)        #fit model\n",
    "    y_pred=hyperopt_adab.predict(x_test)      #prediction\n",
    "    \n",
    "    logloss=log_loss(y_test,y_pred)    #cross entropy calculation\n",
    "    \n",
    "    return(logloss)"
   ]
  },
  {
   "cell_type": "markdown",
   "metadata": {},
   "source": [
    "* In the above code, we are using if-else because by default, HyperOpt, \"fmin()\" calculates and chooses the minimum loss function from the \"Objective\" function.\n",
    "* In our case we are calculating accuracy and returning the same from the \"Objective\" function. HyperOpt does not know we have calculated the accuracy and not the loss of model. Therefore, by default once the epochs are complete, HyperOpt will choose the minimum value from the list of values returned from \"Objective\" function. Thus it will provide the minimum accuracy and its parameters.\n",
    "* Therefore, we are manually getting the space parameters for maximum accuracy using the if-else"
   ]
  },
  {
   "cell_type": "code",
   "execution_count": 20,
   "metadata": {
    "colab": {
     "base_uri": "https://localhost:8080/"
    },
    "id": "Mfr6fKLeOZWU",
    "outputId": "e63848f5-c73f-4cc7-ca71-44b925ccaaa5"
   },
   "outputs": [
    {
     "name": "stdout",
     "output_type": "stream",
     "text": [
      "100%|██████████████████████████████████████████████| 100/100 [02:22<00:00,  1.42s/trial, best loss: 0.8443579766536965]\n"
     ]
    },
    {
     "data": {
      "text/plain": [
       "{'algorithm': 'SAMME',\n",
       " 'learning_rate': 0.2864582658933096,\n",
       " 'n_estimators': 169}"
      ]
     },
     "execution_count": 20,
     "metadata": {},
     "output_type": "execute_result"
    }
   ],
   "source": [
    "trials = Trials()\n",
    "#accuracies=[0]\n",
    "#list_space=[]\n",
    "space={'n_estimators'     :hp.choice('n_estimators',list(range(100,2000))),\n",
    "      'learning_rate'     :hp.uniform('learning_rate',0.1,1),\n",
    "      'algorithm'         :hp.choice('algorithm',[\"SAMME.R\", \"SAMME\"])\n",
    "      }\n",
    "best = fmin(fn= objective,\n",
    "            space= space,\n",
    "            algo= tpe.suggest,\n",
    "            max_evals = 100,\n",
    "            trials= trials)\n",
    "best_adab=space_eval(space,best)\n",
    "best_adab"
   ]
  },
  {
   "cell_type": "code",
   "execution_count": 21,
   "metadata": {},
   "outputs": [
    {
     "data": {
      "text/plain": [
       "0.9883268482490273"
      ]
     },
     "execution_count": 21,
     "metadata": {},
     "output_type": "execute_result"
    }
   ],
   "source": [
    "min(trials.losses())"
   ]
  },
  {
   "cell_type": "code",
   "execution_count": 25,
   "metadata": {
    "colab": {
     "base_uri": "https://localhost:8080/"
    },
    "id": "qNgKNI0QG0pf",
    "outputId": "6e55fc35-2666-48ce-f499-d14809ba0d9d"
   },
   "outputs": [
    {
     "data": {
      "text/plain": [
       "0.9883268482490273"
      ]
     },
     "execution_count": 25,
     "metadata": {},
     "output_type": "execute_result"
    }
   ],
   "source": [
    "adab=AdaBoostClassifier(**best_adab)\n",
    "adab.fit(x_train,y_train)\n",
    "y_pred=adab.predict(x_test)\n",
    "print(round(accuracy_score(y_test,y_pred)*100,2),'%')"
   ]
  },
  {
   "cell_type": "markdown",
   "metadata": {},
   "source": [
    "#### **3. GradientBoost**"
   ]
  },
  {
   "cell_type": "code",
   "execution_count": 12,
   "metadata": {},
   "outputs": [],
   "source": [
    "def objective(space):\n",
    "     \n",
    "    hyperopt_gradb=GradientBoostingClassifier(**space) \n",
    "    hyperopt_gradb.fit(x_train,y_train)        \n",
    "    y_pred=hyperopt_gradb.predict(x_test)      \n",
    "    \n",
    "    logloss=log_loss(y_test,y_pred)    #cross entropy calculation\n",
    "    \n",
    "    return(logloss)"
   ]
  },
  {
   "cell_type": "code",
   "execution_count": 13,
   "metadata": {},
   "outputs": [
    {
     "name": "stdout",
     "output_type": "stream",
     "text": [
      "100%|██████████████████████████████████████████████| 100/100 [01:35<00:00,  1.04trial/s, best loss: 0.9883268482490273]\n"
     ]
    },
    {
     "data": {
      "text/plain": [
       "{'learning_rate': 0.5822876796988276,\n",
       " 'max_depth': 13,\n",
       " 'max_features': 'log2',\n",
       " 'n_estimators': 342}"
      ]
     },
     "execution_count": 13,
     "metadata": {},
     "output_type": "execute_result"
    }
   ],
   "source": [
    "trials = Trials()\n",
    "#accuracies=[0]\n",
    "#list_space=[]\n",
    "space={'n_estimators'      :hp.choice('n_estimators',list(range(100,3000))),\n",
    "       'learning_rate'     :hp.uniform('learning_rate',0.001,1.0),\n",
    "       'max_depth'         :hp.choice('max_depth',list(range(4, 15))),\n",
    "       'max_features'      :hp.choice('max_features',['auto','log2'])\n",
    "      }\n",
    "best = fmin(fn= objective,\n",
    "            space= space,\n",
    "            algo= tpe.suggest,\n",
    "            max_evals = 100,\n",
    "            trials= trials)\n",
    "best_gradb=space_eval(space,best)\n",
    "best_gradb"
   ]
  },
  {
   "cell_type": "code",
   "execution_count": 14,
   "metadata": {},
   "outputs": [
    {
     "data": {
      "text/plain": [
       "1.0"
      ]
     },
     "execution_count": 14,
     "metadata": {},
     "output_type": "execute_result"
    }
   ],
   "source": [
    "min(trials.losses())"
   ]
  },
  {
   "cell_type": "code",
   "execution_count": 18,
   "metadata": {},
   "outputs": [
    {
     "data": {
      "text/plain": [
       "0.9883268482490273"
      ]
     },
     "execution_count": 18,
     "metadata": {},
     "output_type": "execute_result"
    }
   ],
   "source": [
    "gradb=GradientBoostingClassifier(**best_gradb)\n",
    "gradb.fit(x_train,y_train)\n",
    "y_pred=gradb.predict(x_test)\n",
    "print(round(accuracy_score(y_test,y_pred)*100,2),'%')"
   ]
  },
  {
   "cell_type": "markdown",
   "metadata": {},
   "source": [
    "#### **4. XGBoost**"
   ]
  },
  {
   "cell_type": "code",
   "execution_count": 26,
   "metadata": {},
   "outputs": [],
   "source": [
    "def objective(space):\n",
    "     \n",
    "    hyperopt_xgb=XGBClassifier(**space) \n",
    "    hyperopt_xgb.fit(x_train,y_train)        \n",
    "    y_pred=hyperopt_xgb.predict(x_test)      \n",
    "    \n",
    "    logloss=log_loss(y_test,y_pred)    #cross entropy calculation\n",
    "    \n",
    "    return(logloss)"
   ]
  },
  {
   "cell_type": "code",
   "execution_count": 27,
   "metadata": {},
   "outputs": [
    {
     "name": "stdout",
     "output_type": "stream",
     "text": [
      "100%|█████████████████████████████████████████████| 100/100 [02:29<00:00,  1.49s/trial, best loss: 0.48638132295719844]\n"
     ]
    },
    {
     "data": {
      "text/plain": [
       "{'colsample_bytree': 0.8,\n",
       " 'learning_rate': 0.9573501969991727,\n",
       " 'max_depth': 3,\n",
       " 'min_child_weight': 151.65444578315973,\n",
       " 'n_estimators': 2949,\n",
       " 'subsample': 0.3,\n",
       " 'tree_method': 'gpu_hist'}"
      ]
     },
     "execution_count": 27,
     "metadata": {},
     "output_type": "execute_result"
    }
   ],
   "source": [
    "trials = Trials()\n",
    "#accuracies=[0]\n",
    "#list_space=[]\n",
    "space={'n_estimators'      :hp.choice('n_estimators',list(range(100,3000))),\n",
    "       'learning_rate'     :hp.uniform('learning_rate',0.0001,1),\n",
    "       'max_depth'         :hp.choice('max_depth',list(range(1, 15))),\n",
    "       'colsample_bytree'  :hp.choice('colsample_bytree',[.1,.2,.3,.4,.5,.6,.7,.8,.9,1]),\n",
    "       'subsample'         :hp.choice('subsample',[.1,.2,.3,.4,.5,.6,.7,.8,.9,1]),\n",
    "       'min_child_weight'  :hp.uniform('min_child_weight',1,200)\n",
    "      }\n",
    "    \n",
    "best = fmin(fn= objective,\n",
    "            space= space,\n",
    "            algo= tpe.suggest,\n",
    "            max_evals = 100,\n",
    "            trials= trials)\n",
    "best_xgb=space_eval(space,best)\n",
    "best_xgb"
   ]
  },
  {
   "cell_type": "code",
   "execution_count": 28,
   "metadata": {},
   "outputs": [
    {
     "data": {
      "text/plain": [
       "0.9922178988326849"
      ]
     },
     "execution_count": 28,
     "metadata": {},
     "output_type": "execute_result"
    }
   ],
   "source": [
    "min(trials.losses())"
   ]
  },
  {
   "cell_type": "code",
   "execution_count": 32,
   "metadata": {},
   "outputs": [
    {
     "data": {
      "text/plain": [
       "0.9922178988326849"
      ]
     },
     "execution_count": 32,
     "metadata": {},
     "output_type": "execute_result"
    }
   ],
   "source": [
    "xgb=XGBClassifier(**best_xgb)\n",
    "xgb.fit(x_train,y_train)\n",
    "y_pred=xgb.predict(x_test)\n",
    "print(round(accuracy_score(y_test,y_pred)*100,2),'%')"
   ]
  },
  {
   "cell_type": "code",
   "execution_count": null,
   "metadata": {},
   "outputs": [],
   "source": []
  }
 ],
 "metadata": {
  "accelerator": "GPU",
  "colab": {
   "gpuType": "T4",
   "provenance": []
  },
  "kernelspec": {
   "display_name": "Python 3 (ipykernel)",
   "language": "python",
   "name": "python3"
  },
  "language_info": {
   "codemirror_mode": {
    "name": "ipython",
    "version": 3
   },
   "file_extension": ".py",
   "mimetype": "text/x-python",
   "name": "python",
   "nbconvert_exporter": "python",
   "pygments_lexer": "ipython3",
   "version": "3.10.9"
  }
 },
 "nbformat": 4,
 "nbformat_minor": 1
}
