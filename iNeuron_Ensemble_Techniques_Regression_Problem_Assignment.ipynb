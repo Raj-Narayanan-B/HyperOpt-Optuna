{
 "cells": [
  {
   "cell_type": "markdown",
   "metadata": {
    "id": "B9pNStzCwJWC"
   },
   "source": [
    "# **Regression Problem**\n",
    "---\n",
    "## Data Science Salaries 2023 💸\n",
    "\n"
   ]
  },
  {
   "cell_type": "markdown",
   "metadata": {
    "id": "XiU-xs1WwbcZ"
   },
   "source": [
    "### Algorithms used:\n",
    "* Adaptive Boost (AdaBoost)\n",
    "* Gradient Boost (GradBoost)\n",
    "* Extreme Boost (XGBoost)\n",
    "---\n",
    "### HyperParameter Tuning tools used\n",
    "* GridSearch CV\n",
    "* RandomizedSearch CV\n",
    "* Optuna\n",
    "* HyperOpt\n"
   ]
  },
  {
   "cell_type": "code",
   "execution_count": 1,
   "metadata": {
    "colab": {
     "base_uri": "https://localhost:8080/"
    },
    "id": "s9zmlHlK9_zF",
    "outputId": "b23ee2f8-8efa-409c-f7bc-e81b1f9ca4a6"
   },
   "outputs": [
    {
     "name": "stdout",
     "output_type": "stream",
     "text": [
      "Requirement already satisfied: optuna in c:\\users\\dell\\anaconda3\\lib\\site-packages (3.1.1)\n",
      "Requirement already satisfied: alembic>=1.5.0 in c:\\users\\dell\\anaconda3\\lib\\site-packages (from optuna) (1.11.1)\n",
      "Requirement already satisfied: cmaes>=0.9.1 in c:\\users\\dell\\anaconda3\\lib\\site-packages (from optuna) (0.9.1)\n",
      "Requirement already satisfied: colorlog in c:\\users\\dell\\anaconda3\\lib\\site-packages (from optuna) (6.7.0)\n",
      "Requirement already satisfied: numpy in c:\\users\\dell\\anaconda3\\lib\\site-packages (from optuna) (1.23.5)\n",
      "Requirement already satisfied: packaging>=20.0 in c:\\users\\dell\\anaconda3\\lib\\site-packages (from optuna) (22.0)\n",
      "Requirement already satisfied: sqlalchemy>=1.3.0 in c:\\users\\dell\\anaconda3\\lib\\site-packages (from optuna) (1.4.39)\n",
      "Requirement already satisfied: tqdm in c:\\users\\dell\\anaconda3\\lib\\site-packages (from optuna) (4.64.1)\n",
      "Requirement already satisfied: PyYAML in c:\\users\\dell\\anaconda3\\lib\\site-packages (from optuna) (6.0)\n",
      "Requirement already satisfied: Mako in c:\\users\\dell\\anaconda3\\lib\\site-packages (from alembic>=1.5.0->optuna) (1.2.4)\n",
      "Requirement already satisfied: typing-extensions>=4 in c:\\users\\dell\\anaconda3\\lib\\site-packages (from alembic>=1.5.0->optuna) (4.4.0)\n",
      "Requirement already satisfied: greenlet!=0.4.17 in c:\\users\\dell\\anaconda3\\lib\\site-packages (from sqlalchemy>=1.3.0->optuna) (2.0.1)\n",
      "Requirement already satisfied: colorama in c:\\users\\dell\\anaconda3\\lib\\site-packages (from colorlog->optuna) (0.4.6)\n",
      "Requirement already satisfied: MarkupSafe>=0.9.2 in c:\\users\\dell\\anaconda3\\lib\\site-packages (from Mako->alembic>=1.5.0->optuna) (2.1.1)\n",
      "Requirement already satisfied: hyperopt in c:\\users\\dell\\anaconda3\\lib\\site-packages (0.2.7)\n",
      "Requirement already satisfied: numpy in c:\\users\\dell\\anaconda3\\lib\\site-packages (from hyperopt) (1.23.5)\n",
      "Requirement already satisfied: scipy in c:\\users\\dell\\anaconda3\\lib\\site-packages (from hyperopt) (1.10.0)\n",
      "Requirement already satisfied: six in c:\\users\\dell\\anaconda3\\lib\\site-packages (from hyperopt) (1.16.0)\n",
      "Requirement already satisfied: networkx>=2.2 in c:\\users\\dell\\anaconda3\\lib\\site-packages (from hyperopt) (2.8.4)\n",
      "Requirement already satisfied: future in c:\\users\\dell\\anaconda3\\lib\\site-packages (from hyperopt) (0.18.3)\n",
      "Requirement already satisfied: tqdm in c:\\users\\dell\\anaconda3\\lib\\site-packages (from hyperopt) (4.64.1)\n",
      "Requirement already satisfied: cloudpickle in c:\\users\\dell\\anaconda3\\lib\\site-packages (from hyperopt) (2.0.0)\n",
      "Requirement already satisfied: py4j in c:\\users\\dell\\anaconda3\\lib\\site-packages (from hyperopt) (0.10.9.7)\n",
      "Requirement already satisfied: colorama in c:\\users\\dell\\anaconda3\\lib\\site-packages (from tqdm->hyperopt) (0.4.6)\n"
     ]
    }
   ],
   "source": [
    "!pip install optuna\n",
    "!pip install hyperopt"
   ]
  },
  {
   "cell_type": "code",
   "execution_count": 114,
   "metadata": {
    "id": "n61nYPt2qh_L"
   },
   "outputs": [],
   "source": [
    "import pandas as pd\n",
    "import numpy as np\n",
    "import seaborn as sns\n",
    "import matplotlib.pyplot as plt\n",
    "import plotly.express as py\n",
    "\n",
    "from sklearn.ensemble import RandomForestRegressor,AdaBoostRegressor,GradientBoostingRegressor\n",
    "from xgboost import XGBRegressor\n",
    "\n",
    "from sklearn.model_selection import GridSearchCV, RandomizedSearchCV, train_test_split\n",
    "from sklearn.preprocessing import StandardScaler,OneHotEncoder\n",
    "from sklearn.decomposition import PCA\n",
    "from sklearn.metrics import mean_squared_error,r2_score\n",
    "\n",
    "import optuna\n",
    "from hyperopt import hp,fmin,tpe,Trials,space_eval\n",
    "\n",
    "import warnings as w\n",
    "w.filterwarnings('ignore')"
   ]
  },
  {
   "cell_type": "markdown",
   "metadata": {
    "id": "68ZS8kFa13c6"
   },
   "source": [
    "\n",
    "\n",
    "> **Data Loading**\n",
    "\n"
   ]
  },
  {
   "cell_type": "code",
   "execution_count": 3,
   "metadata": {
    "id": "pHFRJviosVDC"
   },
   "outputs": [],
   "source": [
    "df=pd.read_csv('https://raw.githubusercontent.com/Raj-Narayanan-B/iNeuron/Datasets/Reg%20-%20ds_salaries.csv')"
   ]
  },
  {
   "cell_type": "code",
   "execution_count": 4,
   "metadata": {
    "colab": {
     "base_uri": "https://localhost:8080/"
    },
    "id": "g0fu-Dso9Vhh",
    "outputId": "87db176a-f46e-4b8c-c236-22b8476f1f2e"
   },
   "outputs": [
    {
     "data": {
      "text/plain": [
       "(3755, 11)"
      ]
     },
     "execution_count": 4,
     "metadata": {},
     "output_type": "execute_result"
    }
   ],
   "source": [
    "df.shape"
   ]
  },
  {
   "cell_type": "code",
   "execution_count": 5,
   "metadata": {
    "colab": {
     "base_uri": "https://localhost:8080/",
     "height": 374
    },
    "id": "p8E8-Uui_0Im",
    "outputId": "9e8ea932-89d9-4f06-83a3-3a3625690ee1"
   },
   "outputs": [
    {
     "data": {
      "text/html": [
       "<div>\n",
       "<style scoped>\n",
       "    .dataframe tbody tr th:only-of-type {\n",
       "        vertical-align: middle;\n",
       "    }\n",
       "\n",
       "    .dataframe tbody tr th {\n",
       "        vertical-align: top;\n",
       "    }\n",
       "\n",
       "    .dataframe thead th {\n",
       "        text-align: right;\n",
       "    }\n",
       "</style>\n",
       "<table border=\"1\" class=\"dataframe\">\n",
       "  <thead>\n",
       "    <tr style=\"text-align: right;\">\n",
       "      <th></th>\n",
       "      <th>work_year</th>\n",
       "      <th>experience_level</th>\n",
       "      <th>employment_type</th>\n",
       "      <th>job_title</th>\n",
       "      <th>salary</th>\n",
       "      <th>salary_currency</th>\n",
       "      <th>salary_in_usd</th>\n",
       "      <th>employee_residence</th>\n",
       "      <th>remote_ratio</th>\n",
       "      <th>company_location</th>\n",
       "      <th>company_size</th>\n",
       "    </tr>\n",
       "  </thead>\n",
       "  <tbody>\n",
       "    <tr>\n",
       "      <th>0</th>\n",
       "      <td>2023</td>\n",
       "      <td>SE</td>\n",
       "      <td>FT</td>\n",
       "      <td>Principal Data Scientist</td>\n",
       "      <td>80000</td>\n",
       "      <td>EUR</td>\n",
       "      <td>85847</td>\n",
       "      <td>ES</td>\n",
       "      <td>100</td>\n",
       "      <td>ES</td>\n",
       "      <td>L</td>\n",
       "    </tr>\n",
       "    <tr>\n",
       "      <th>1</th>\n",
       "      <td>2023</td>\n",
       "      <td>MI</td>\n",
       "      <td>CT</td>\n",
       "      <td>ML Engineer</td>\n",
       "      <td>30000</td>\n",
       "      <td>USD</td>\n",
       "      <td>30000</td>\n",
       "      <td>US</td>\n",
       "      <td>100</td>\n",
       "      <td>US</td>\n",
       "      <td>S</td>\n",
       "    </tr>\n",
       "    <tr>\n",
       "      <th>2</th>\n",
       "      <td>2023</td>\n",
       "      <td>MI</td>\n",
       "      <td>CT</td>\n",
       "      <td>ML Engineer</td>\n",
       "      <td>25500</td>\n",
       "      <td>USD</td>\n",
       "      <td>25500</td>\n",
       "      <td>US</td>\n",
       "      <td>100</td>\n",
       "      <td>US</td>\n",
       "      <td>S</td>\n",
       "    </tr>\n",
       "    <tr>\n",
       "      <th>3</th>\n",
       "      <td>2023</td>\n",
       "      <td>SE</td>\n",
       "      <td>FT</td>\n",
       "      <td>Data Scientist</td>\n",
       "      <td>175000</td>\n",
       "      <td>USD</td>\n",
       "      <td>175000</td>\n",
       "      <td>CA</td>\n",
       "      <td>100</td>\n",
       "      <td>CA</td>\n",
       "      <td>M</td>\n",
       "    </tr>\n",
       "    <tr>\n",
       "      <th>4</th>\n",
       "      <td>2023</td>\n",
       "      <td>SE</td>\n",
       "      <td>FT</td>\n",
       "      <td>Data Scientist</td>\n",
       "      <td>120000</td>\n",
       "      <td>USD</td>\n",
       "      <td>120000</td>\n",
       "      <td>CA</td>\n",
       "      <td>100</td>\n",
       "      <td>CA</td>\n",
       "      <td>M</td>\n",
       "    </tr>\n",
       "  </tbody>\n",
       "</table>\n",
       "</div>"
      ],
      "text/plain": [
       "   work_year experience_level employment_type                 job_title  \\\n",
       "0       2023               SE              FT  Principal Data Scientist   \n",
       "1       2023               MI              CT               ML Engineer   \n",
       "2       2023               MI              CT               ML Engineer   \n",
       "3       2023               SE              FT            Data Scientist   \n",
       "4       2023               SE              FT            Data Scientist   \n",
       "\n",
       "   salary salary_currency  salary_in_usd employee_residence  remote_ratio  \\\n",
       "0   80000             EUR          85847                 ES           100   \n",
       "1   30000             USD          30000                 US           100   \n",
       "2   25500             USD          25500                 US           100   \n",
       "3  175000             USD         175000                 CA           100   \n",
       "4  120000             USD         120000                 CA           100   \n",
       "\n",
       "  company_location company_size  \n",
       "0               ES            L  \n",
       "1               US            S  \n",
       "2               US            S  \n",
       "3               CA            M  \n",
       "4               CA            M  "
      ]
     },
     "execution_count": 5,
     "metadata": {},
     "output_type": "execute_result"
    }
   ],
   "source": [
    "df.head()"
   ]
  },
  {
   "cell_type": "markdown",
   "metadata": {
    "id": "jJnIxzD319xu"
   },
   "source": [
    "\n",
    "\n",
    "> **Check info of dataset**\n",
    "\n"
   ]
  },
  {
   "cell_type": "code",
   "execution_count": 6,
   "metadata": {
    "colab": {
     "base_uri": "https://localhost:8080/"
    },
    "id": "JC3h7uD3ssgR",
    "outputId": "23b5b2ff-3069-4334-87e0-ebad8a45e61e"
   },
   "outputs": [
    {
     "name": "stdout",
     "output_type": "stream",
     "text": [
      "<class 'pandas.core.frame.DataFrame'>\n",
      "RangeIndex: 3755 entries, 0 to 3754\n",
      "Data columns (total 11 columns):\n",
      " #   Column              Non-Null Count  Dtype \n",
      "---  ------              --------------  ----- \n",
      " 0   work_year           3755 non-null   int64 \n",
      " 1   experience_level    3755 non-null   object\n",
      " 2   employment_type     3755 non-null   object\n",
      " 3   job_title           3755 non-null   object\n",
      " 4   salary              3755 non-null   int64 \n",
      " 5   salary_currency     3755 non-null   object\n",
      " 6   salary_in_usd       3755 non-null   int64 \n",
      " 7   employee_residence  3755 non-null   object\n",
      " 8   remote_ratio        3755 non-null   int64 \n",
      " 9   company_location    3755 non-null   object\n",
      " 10  company_size        3755 non-null   object\n",
      "dtypes: int64(4), object(7)\n",
      "memory usage: 322.8+ KB\n"
     ]
    }
   ],
   "source": [
    "df.info()"
   ]
  },
  {
   "cell_type": "markdown",
   "metadata": {
    "id": "w7_jmr7mpTpQ"
   },
   "source": [
    "\n",
    "\n",
    "> **Check Unique values of Categorical Variables**\n",
    "\n"
   ]
  },
  {
   "cell_type": "code",
   "execution_count": 7,
   "metadata": {
    "colab": {
     "base_uri": "https://localhost:8080/"
    },
    "id": "g8qk_peH-rib",
    "outputId": "09daf662-4cec-4d87-f734-5e1a55062ad6"
   },
   "outputs": [
    {
     "name": "stdout",
     "output_type": "stream",
     "text": [
      "experience_level \n",
      " ['SE' 'MI' 'EN' 'EX'] \n",
      "\n",
      "employment_type \n",
      " ['FT' 'CT' 'FL' 'PT'] \n",
      "\n",
      "job_title \n",
      " ['Principal Data Scientist' 'ML Engineer' 'Data Scientist'\n",
      " 'Applied Scientist' 'Data Analyst' 'Data Modeler' 'Research Engineer'\n",
      " 'Analytics Engineer' 'Business Intelligence Engineer'\n",
      " 'Machine Learning Engineer' 'Data Strategist' 'Data Engineer'\n",
      " 'Computer Vision Engineer' 'Data Quality Analyst'\n",
      " 'Compliance Data Analyst' 'Data Architect'\n",
      " 'Applied Machine Learning Engineer' 'AI Developer' 'Research Scientist'\n",
      " 'Data Analytics Manager' 'Business Data Analyst' 'Applied Data Scientist'\n",
      " 'Staff Data Analyst' 'ETL Engineer' 'Data DevOps Engineer' 'Head of Data'\n",
      " 'Data Science Manager' 'Data Manager' 'Machine Learning Researcher'\n",
      " 'Big Data Engineer' 'Data Specialist' 'Lead Data Analyst'\n",
      " 'BI Data Engineer' 'Director of Data Science'\n",
      " 'Machine Learning Scientist' 'MLOps Engineer' 'AI Scientist'\n",
      " 'Autonomous Vehicle Technician' 'Applied Machine Learning Scientist'\n",
      " 'Lead Data Scientist' 'Cloud Database Engineer' 'Financial Data Analyst'\n",
      " 'Data Infrastructure Engineer' 'Software Data Engineer' 'AI Programmer'\n",
      " 'Data Operations Engineer' 'BI Developer' 'Data Science Lead'\n",
      " 'Deep Learning Researcher' 'BI Analyst' 'Data Science Consultant'\n",
      " 'Data Analytics Specialist' 'Machine Learning Infrastructure Engineer'\n",
      " 'BI Data Analyst' 'Head of Data Science' 'Insight Analyst'\n",
      " 'Deep Learning Engineer' 'Machine Learning Software Engineer'\n",
      " 'Big Data Architect' 'Product Data Analyst'\n",
      " 'Computer Vision Software Engineer' 'Azure Data Engineer'\n",
      " 'Marketing Data Engineer' 'Data Analytics Lead' 'Data Lead'\n",
      " 'Data Science Engineer' 'Machine Learning Research Engineer'\n",
      " 'NLP Engineer' 'Manager Data Management' 'Machine Learning Developer'\n",
      " '3D Computer Vision Researcher' 'Principal Machine Learning Engineer'\n",
      " 'Data Analytics Engineer' 'Data Analytics Consultant'\n",
      " 'Data Management Specialist' 'Data Science Tech Lead'\n",
      " 'Data Scientist Lead' 'Cloud Data Engineer' 'Data Operations Analyst'\n",
      " 'Marketing Data Analyst' 'Power BI Developer' 'Product Data Scientist'\n",
      " 'Principal Data Architect' 'Machine Learning Manager'\n",
      " 'Lead Machine Learning Engineer' 'ETL Developer' 'Cloud Data Architect'\n",
      " 'Lead Data Engineer' 'Head of Machine Learning' 'Principal Data Analyst'\n",
      " 'Principal Data Engineer' 'Staff Data Scientist' 'Finance Data Analyst'] \n",
      "\n",
      "salary_currency \n",
      " ['EUR' 'USD' 'INR' 'HKD' 'CHF' 'GBP' 'AUD' 'SGD' 'CAD' 'ILS' 'BRL' 'THB'\n",
      " 'PLN' 'HUF' 'CZK' 'DKK' 'JPY' 'MXN' 'TRY' 'CLP'] \n",
      "\n",
      "employee_residence \n",
      " ['ES' 'US' 'CA' 'DE' 'GB' 'NG' 'IN' 'HK' 'PT' 'NL' 'CH' 'CF' 'FR' 'AU'\n",
      " 'FI' 'UA' 'IE' 'IL' 'GH' 'AT' 'CO' 'SG' 'SE' 'SI' 'MX' 'UZ' 'BR' 'TH'\n",
      " 'HR' 'PL' 'KW' 'VN' 'CY' 'AR' 'AM' 'BA' 'KE' 'GR' 'MK' 'LV' 'RO' 'PK'\n",
      " 'IT' 'MA' 'LT' 'BE' 'AS' 'IR' 'HU' 'SK' 'CN' 'CZ' 'CR' 'TR' 'CL' 'PR'\n",
      " 'DK' 'BO' 'PH' 'DO' 'EG' 'ID' 'AE' 'MY' 'JP' 'EE' 'HN' 'TN' 'RU' 'DZ'\n",
      " 'IQ' 'BG' 'JE' 'RS' 'NZ' 'MD' 'LU' 'MT'] \n",
      "\n",
      "company_location \n",
      " ['ES' 'US' 'CA' 'DE' 'GB' 'NG' 'IN' 'HK' 'NL' 'CH' 'CF' 'FR' 'FI' 'UA'\n",
      " 'IE' 'IL' 'GH' 'CO' 'SG' 'AU' 'SE' 'SI' 'MX' 'BR' 'PT' 'RU' 'TH' 'HR'\n",
      " 'VN' 'EE' 'AM' 'BA' 'KE' 'GR' 'MK' 'LV' 'RO' 'PK' 'IT' 'MA' 'PL' 'AL'\n",
      " 'AR' 'LT' 'AS' 'CR' 'IR' 'BS' 'HU' 'AT' 'SK' 'CZ' 'TR' 'PR' 'DK' 'BO'\n",
      " 'PH' 'BE' 'ID' 'EG' 'AE' 'LU' 'MY' 'HN' 'JP' 'DZ' 'IQ' 'CN' 'NZ' 'CL'\n",
      " 'MD' 'MT'] \n",
      "\n",
      "company_size \n",
      " ['L' 'S' 'M'] \n",
      "\n"
     ]
    }
   ],
   "source": [
    "for i in df.select_dtypes(include='object').columns:\n",
    "    print(i,'\\n',df[i].unique(),'\\n')"
   ]
  },
  {
   "cell_type": "markdown",
   "metadata": {
    "id": "rwKGGoU_o1uf"
   },
   "source": [
    "\n",
    "\n",
    "> **Missing Value Check**\n",
    "\n"
   ]
  },
  {
   "cell_type": "code",
   "execution_count": 8,
   "metadata": {
    "colab": {
     "base_uri": "https://localhost:8080/"
    },
    "id": "osaLJzYN7UaC",
    "outputId": "2a7c2d3f-9046-49d8-9565-057205be3c39"
   },
   "outputs": [
    {
     "data": {
      "text/plain": [
       "work_year             0\n",
       "experience_level      0\n",
       "employment_type       0\n",
       "job_title             0\n",
       "salary                0\n",
       "salary_currency       0\n",
       "salary_in_usd         0\n",
       "employee_residence    0\n",
       "remote_ratio          0\n",
       "company_location      0\n",
       "company_size          0\n",
       "dtype: int64"
      ]
     },
     "execution_count": 8,
     "metadata": {},
     "output_type": "execute_result"
    }
   ],
   "source": [
    "df.isnull().sum()"
   ]
  },
  {
   "cell_type": "markdown",
   "metadata": {
    "id": "XmAkD5Wroxb0"
   },
   "source": [
    "\n",
    "\n",
    "> **Outlier Removal**\n",
    "\n"
   ]
  },
  {
   "cell_type": "code",
   "execution_count": 9,
   "metadata": {
    "colab": {
     "base_uri": "https://localhost:8080/",
     "height": 546
    },
    "id": "s0uzJ-st8BuK",
    "outputId": "0be5837f-82bb-4421-f58f-76bf4c3bdf39"
   },
   "outputs": [
    {
     "data": {
      "image/png": "[encoded data removed]",
      "text/plain": [
       "<Figure size 1500x700 with 1 Axes>"
      ]
     },
     "metadata": {},
     "output_type": "display_data"
    }
   ],
   "source": [
    "plt.figure(figsize=(15,7))\n",
    "sns.boxplot(x=df['salary_in_usd'],hue=df['company_size'])\n",
    "plt.show()"
   ]
  },
  {
   "cell_type": "code",
   "execution_count": 10,
   "metadata": {
    "id": "mTgQJv8Ql377"
   },
   "outputs": [],
   "source": [
    "#OUTLIER DETECTION\n",
    "\n",
    "q1=np.quantile(df['salary_in_usd'],0.25)\n",
    "q3=np.quantile(df['salary_in_usd'],0.75)\n",
    "IQR=q3-q1\n",
    "\n",
    "low_range=q1-(1.5*IQR)\n",
    "high_range=q3+(1.5*IQR)\n",
    "\n",
    "indices=df.index[(df['salary_in_usd'] < low_range) | (df['salary_in_usd'] > high_range)]\n",
    "\n",
    "df.drop(index=indices,inplace=True)\n",
    "df.reset_index(drop=True,inplace=True)"
   ]
  },
  {
   "cell_type": "code",
   "execution_count": 11,
   "metadata": {
    "colab": {
     "base_uri": "https://localhost:8080/",
     "height": 546
    },
    "id": "1q0si0Kal377",
    "outputId": "830c88d2-e371-4f75-e489-cef1ebe866b9"
   },
   "outputs": [
    {
     "data": {
      "image/png": "[encoded data removed]",
      "text/plain": [
       "<Figure size 1500x700 with 1 Axes>"
      ]
     },
     "metadata": {},
     "output_type": "display_data"
    }
   ],
   "source": [
    "plt.figure(figsize=(15,7))\n",
    "sns.boxplot(x=df['salary_in_usd'])\n",
    "plt.show()"
   ]
  },
  {
   "cell_type": "markdown",
   "metadata": {
    "id": "hBna8fWsorTH"
   },
   "source": [
    "\n",
    "\n",
    "> **Check distribution for Target Variable**\n",
    "\n"
   ]
  },
  {
   "cell_type": "code",
   "execution_count": 12,
   "metadata": {
    "colab": {
     "base_uri": "https://localhost:8080/",
     "height": 467
    },
    "id": "ghdeJ-4sl377",
    "outputId": "e227b791-67ca-4bb7-8230-4b932ea4d22d"
   },
   "outputs": [
    {
     "data": {
      "text/plain": [
       "<Axes: xlabel='salary_in_usd', ylabel='Count'>"
      ]
     },
     "execution_count": 12,
     "metadata": {},
     "output_type": "execute_result"
    },
    {
     "data": {
      "image/png": "[encoded data removed]",
      "text/plain": [
       "<Figure size 640x480 with 1 Axes>"
      ]
     },
     "metadata": {},
     "output_type": "display_data"
    }
   ],
   "source": [
    "sns.histplot(df['salary_in_usd'],alpha=0.8,color = \"teal\",bins=50,kde = True)"
   ]
  },
  {
   "cell_type": "markdown",
   "metadata": {
    "id": "LFJEZVNuoeAx"
   },
   "source": [
    "\n",
    "\n",
    "> **Drop Unneccesary columns**\n",
    "\n"
   ]
  },
  {
   "cell_type": "code",
   "execution_count": 13,
   "metadata": {
    "id": "xso7MPF1l377"
   },
   "outputs": [],
   "source": [
    "df.drop(columns=['salary','salary_currency','work_year'],inplace=True)"
   ]
  },
  {
   "cell_type": "markdown",
   "metadata": {
    "id": "fimO4jKmpcwm"
   },
   "source": [
    "\n",
    "\n",
    "> **Rename column-remote_ratio's values into categorical variables**\n",
    "\n"
   ]
  },
  {
   "cell_type": "code",
   "execution_count": 14,
   "metadata": {
    "id": "pxf0mcY7l377"
   },
   "outputs": [],
   "source": [
    "df['remote_ratio'] = df['remote_ratio'].replace({100: 'On-site', 0:'Remote', 50:'Hybrid'})"
   ]
  },
  {
   "cell_type": "markdown",
   "metadata": {
    "id": "YzLGqncJpqTI"
   },
   "source": [
    "\n",
    "\n",
    "> **Get Categorical & Numerical variables**\n",
    "\n"
   ]
  },
  {
   "cell_type": "code",
   "execution_count": 15,
   "metadata": {
    "id": "VD4Kp4Fgl378"
   },
   "outputs": [],
   "source": [
    "cat_cols=df.select_dtypes(include=['object']).columns"
   ]
  },
  {
   "cell_type": "code",
   "execution_count": 16,
   "metadata": {
    "id": "Dbs4f0pkl378"
   },
   "outputs": [],
   "source": [
    "num_cols=df.select_dtypes(include=['number']).columns"
   ]
  },
  {
   "cell_type": "markdown",
   "metadata": {
    "id": "FthL-CCaoXme"
   },
   "source": [
    "\n",
    "\n",
    "> **Categorical Encoding via OHE**\n",
    "\n"
   ]
  },
  {
   "cell_type": "code",
   "execution_count": 17,
   "metadata": {
    "colab": {
     "base_uri": "https://localhost:8080/",
     "height": 267
    },
    "id": "SDjk6UfCl378",
    "outputId": "96a89ad7-be9e-41d8-eeb6-1ba35e491f3d"
   },
   "outputs": [
    {
     "data": {
      "text/html": [
       "<div>\n",
       "<style scoped>\n",
       "    .dataframe tbody tr th:only-of-type {\n",
       "        vertical-align: middle;\n",
       "    }\n",
       "\n",
       "    .dataframe tbody tr th {\n",
       "        vertical-align: top;\n",
       "    }\n",
       "\n",
       "    .dataframe thead th {\n",
       "        text-align: right;\n",
       "    }\n",
       "</style>\n",
       "<table border=\"1\" class=\"dataframe\">\n",
       "  <thead>\n",
       "    <tr style=\"text-align: right;\">\n",
       "      <th></th>\n",
       "      <th>experience_level</th>\n",
       "      <th>employment_type</th>\n",
       "      <th>job_title</th>\n",
       "      <th>salary_in_usd</th>\n",
       "      <th>employee_residence</th>\n",
       "      <th>remote_ratio</th>\n",
       "      <th>company_location</th>\n",
       "      <th>company_size</th>\n",
       "    </tr>\n",
       "  </thead>\n",
       "  <tbody>\n",
       "    <tr>\n",
       "      <th>0</th>\n",
       "      <td>SE</td>\n",
       "      <td>FT</td>\n",
       "      <td>Principal Data Scientist</td>\n",
       "      <td>85847</td>\n",
       "      <td>ES</td>\n",
       "      <td>On-site</td>\n",
       "      <td>ES</td>\n",
       "      <td>L</td>\n",
       "    </tr>\n",
       "    <tr>\n",
       "      <th>1</th>\n",
       "      <td>MI</td>\n",
       "      <td>CT</td>\n",
       "      <td>ML Engineer</td>\n",
       "      <td>30000</td>\n",
       "      <td>US</td>\n",
       "      <td>On-site</td>\n",
       "      <td>US</td>\n",
       "      <td>S</td>\n",
       "    </tr>\n",
       "    <tr>\n",
       "      <th>2</th>\n",
       "      <td>MI</td>\n",
       "      <td>CT</td>\n",
       "      <td>ML Engineer</td>\n",
       "      <td>25500</td>\n",
       "      <td>US</td>\n",
       "      <td>On-site</td>\n",
       "      <td>US</td>\n",
       "      <td>S</td>\n",
       "    </tr>\n",
       "    <tr>\n",
       "      <th>3</th>\n",
       "      <td>SE</td>\n",
       "      <td>FT</td>\n",
       "      <td>Data Scientist</td>\n",
       "      <td>175000</td>\n",
       "      <td>CA</td>\n",
       "      <td>On-site</td>\n",
       "      <td>CA</td>\n",
       "      <td>M</td>\n",
       "    </tr>\n",
       "    <tr>\n",
       "      <th>4</th>\n",
       "      <td>SE</td>\n",
       "      <td>FT</td>\n",
       "      <td>Data Scientist</td>\n",
       "      <td>120000</td>\n",
       "      <td>CA</td>\n",
       "      <td>On-site</td>\n",
       "      <td>CA</td>\n",
       "      <td>M</td>\n",
       "    </tr>\n",
       "  </tbody>\n",
       "</table>\n",
       "</div>"
      ],
      "text/plain": [
       "  experience_level employment_type                 job_title  salary_in_usd  \\\n",
       "0               SE              FT  Principal Data Scientist          85847   \n",
       "1               MI              CT               ML Engineer          30000   \n",
       "2               MI              CT               ML Engineer          25500   \n",
       "3               SE              FT            Data Scientist         175000   \n",
       "4               SE              FT            Data Scientist         120000   \n",
       "\n",
       "  employee_residence remote_ratio company_location company_size  \n",
       "0                 ES      On-site               ES            L  \n",
       "1                 US      On-site               US            S  \n",
       "2                 US      On-site               US            S  \n",
       "3                 CA      On-site               CA            M  \n",
       "4                 CA      On-site               CA            M  "
      ]
     },
     "execution_count": 17,
     "metadata": {},
     "output_type": "execute_result"
    }
   ],
   "source": [
    "df.head()"
   ]
  },
  {
   "cell_type": "code",
   "execution_count": 18,
   "metadata": {
    "id": "_yc4qNTkl378"
   },
   "outputs": [],
   "source": [
    "for i in cat_cols:\n",
    "    ohe=OneHotEncoder(dtype='int')\n",
    "    array1=ohe.fit_transform(df[[i]])\n",
    "    df[ohe.get_feature_names_out()]=array1.toarray()"
   ]
  },
  {
   "cell_type": "code",
   "execution_count": 19,
   "metadata": {
    "id": "6nfrhq-el378",
    "scrolled": true
   },
   "outputs": [],
   "source": [
    "df.drop(columns=list(cat_cols),inplace=True)"
   ]
  },
  {
   "cell_type": "code",
   "execution_count": 20,
   "metadata": {
    "colab": {
     "base_uri": "https://localhost:8080/",
     "height": 351
    },
    "id": "3hjf9jJ63TdP",
    "outputId": "944a7538-ed52-4bcb-a927-dde27a5bc497"
   },
   "outputs": [
    {
     "data": {
      "text/html": [
       "<div>\n",
       "<style scoped>\n",
       "    .dataframe tbody tr th:only-of-type {\n",
       "        vertical-align: middle;\n",
       "    }\n",
       "\n",
       "    .dataframe tbody tr th {\n",
       "        vertical-align: top;\n",
       "    }\n",
       "\n",
       "    .dataframe thead th {\n",
       "        text-align: right;\n",
       "    }\n",
       "</style>\n",
       "<table border=\"1\" class=\"dataframe\">\n",
       "  <thead>\n",
       "    <tr style=\"text-align: right;\">\n",
       "      <th></th>\n",
       "      <th>salary_in_usd</th>\n",
       "      <th>experience_level_EN</th>\n",
       "      <th>experience_level_EX</th>\n",
       "      <th>experience_level_MI</th>\n",
       "      <th>experience_level_SE</th>\n",
       "      <th>employment_type_CT</th>\n",
       "      <th>employment_type_FL</th>\n",
       "      <th>employment_type_FT</th>\n",
       "      <th>employment_type_PT</th>\n",
       "      <th>job_title_3D Computer Vision Researcher</th>\n",
       "      <th>...</th>\n",
       "      <th>company_location_SI</th>\n",
       "      <th>company_location_SK</th>\n",
       "      <th>company_location_TH</th>\n",
       "      <th>company_location_TR</th>\n",
       "      <th>company_location_UA</th>\n",
       "      <th>company_location_US</th>\n",
       "      <th>company_location_VN</th>\n",
       "      <th>company_size_L</th>\n",
       "      <th>company_size_M</th>\n",
       "      <th>company_size_S</th>\n",
       "    </tr>\n",
       "  </thead>\n",
       "  <tbody>\n",
       "    <tr>\n",
       "      <th>0</th>\n",
       "      <td>85847</td>\n",
       "      <td>0</td>\n",
       "      <td>0</td>\n",
       "      <td>0</td>\n",
       "      <td>1</td>\n",
       "      <td>0</td>\n",
       "      <td>0</td>\n",
       "      <td>1</td>\n",
       "      <td>0</td>\n",
       "      <td>0</td>\n",
       "      <td>...</td>\n",
       "      <td>0</td>\n",
       "      <td>0</td>\n",
       "      <td>0</td>\n",
       "      <td>0</td>\n",
       "      <td>0</td>\n",
       "      <td>0</td>\n",
       "      <td>0</td>\n",
       "      <td>1</td>\n",
       "      <td>0</td>\n",
       "      <td>0</td>\n",
       "    </tr>\n",
       "    <tr>\n",
       "      <th>1</th>\n",
       "      <td>30000</td>\n",
       "      <td>0</td>\n",
       "      <td>0</td>\n",
       "      <td>1</td>\n",
       "      <td>0</td>\n",
       "      <td>1</td>\n",
       "      <td>0</td>\n",
       "      <td>0</td>\n",
       "      <td>0</td>\n",
       "      <td>0</td>\n",
       "      <td>...</td>\n",
       "      <td>0</td>\n",
       "      <td>0</td>\n",
       "      <td>0</td>\n",
       "      <td>0</td>\n",
       "      <td>0</td>\n",
       "      <td>1</td>\n",
       "      <td>0</td>\n",
       "      <td>0</td>\n",
       "      <td>0</td>\n",
       "      <td>1</td>\n",
       "    </tr>\n",
       "    <tr>\n",
       "      <th>2</th>\n",
       "      <td>25500</td>\n",
       "      <td>0</td>\n",
       "      <td>0</td>\n",
       "      <td>1</td>\n",
       "      <td>0</td>\n",
       "      <td>1</td>\n",
       "      <td>0</td>\n",
       "      <td>0</td>\n",
       "      <td>0</td>\n",
       "      <td>0</td>\n",
       "      <td>...</td>\n",
       "      <td>0</td>\n",
       "      <td>0</td>\n",
       "      <td>0</td>\n",
       "      <td>0</td>\n",
       "      <td>0</td>\n",
       "      <td>1</td>\n",
       "      <td>0</td>\n",
       "      <td>0</td>\n",
       "      <td>0</td>\n",
       "      <td>1</td>\n",
       "    </tr>\n",
       "    <tr>\n",
       "      <th>3</th>\n",
       "      <td>175000</td>\n",
       "      <td>0</td>\n",
       "      <td>0</td>\n",
       "      <td>0</td>\n",
       "      <td>1</td>\n",
       "      <td>0</td>\n",
       "      <td>0</td>\n",
       "      <td>1</td>\n",
       "      <td>0</td>\n",
       "      <td>0</td>\n",
       "      <td>...</td>\n",
       "      <td>0</td>\n",
       "      <td>0</td>\n",
       "      <td>0</td>\n",
       "      <td>0</td>\n",
       "      <td>0</td>\n",
       "      <td>0</td>\n",
       "      <td>0</td>\n",
       "      <td>0</td>\n",
       "      <td>1</td>\n",
       "      <td>0</td>\n",
       "    </tr>\n",
       "    <tr>\n",
       "      <th>4</th>\n",
       "      <td>120000</td>\n",
       "      <td>0</td>\n",
       "      <td>0</td>\n",
       "      <td>0</td>\n",
       "      <td>1</td>\n",
       "      <td>0</td>\n",
       "      <td>0</td>\n",
       "      <td>1</td>\n",
       "      <td>0</td>\n",
       "      <td>0</td>\n",
       "      <td>...</td>\n",
       "      <td>0</td>\n",
       "      <td>0</td>\n",
       "      <td>0</td>\n",
       "      <td>0</td>\n",
       "      <td>0</td>\n",
       "      <td>0</td>\n",
       "      <td>0</td>\n",
       "      <td>0</td>\n",
       "      <td>1</td>\n",
       "      <td>0</td>\n",
       "    </tr>\n",
       "  </tbody>\n",
       "</table>\n",
       "<p>5 rows × 256 columns</p>\n",
       "</div>"
      ],
      "text/plain": [
       "   salary_in_usd  experience_level_EN  experience_level_EX  \\\n",
       "0          85847                    0                    0   \n",
       "1          30000                    0                    0   \n",
       "2          25500                    0                    0   \n",
       "3         175000                    0                    0   \n",
       "4         120000                    0                    0   \n",
       "\n",
       "   experience_level_MI  experience_level_SE  employment_type_CT  \\\n",
       "0                    0                    1                   0   \n",
       "1                    1                    0                   1   \n",
       "2                    1                    0                   1   \n",
       "3                    0                    1                   0   \n",
       "4                    0                    1                   0   \n",
       "\n",
       "   employment_type_FL  employment_type_FT  employment_type_PT  \\\n",
       "0                   0                   1                   0   \n",
       "1                   0                   0                   0   \n",
       "2                   0                   0                   0   \n",
       "3                   0                   1                   0   \n",
       "4                   0                   1                   0   \n",
       "\n",
       "   job_title_3D Computer Vision Researcher  ...  company_location_SI  \\\n",
       "0                                        0  ...                    0   \n",
       "1                                        0  ...                    0   \n",
       "2                                        0  ...                    0   \n",
       "3                                        0  ...                    0   \n",
       "4                                        0  ...                    0   \n",
       "\n",
       "   company_location_SK  company_location_TH  company_location_TR  \\\n",
       "0                    0                    0                    0   \n",
       "1                    0                    0                    0   \n",
       "2                    0                    0                    0   \n",
       "3                    0                    0                    0   \n",
       "4                    0                    0                    0   \n",
       "\n",
       "   company_location_UA  company_location_US  company_location_VN  \\\n",
       "0                    0                    0                    0   \n",
       "1                    0                    1                    0   \n",
       "2                    0                    1                    0   \n",
       "3                    0                    0                    0   \n",
       "4                    0                    0                    0   \n",
       "\n",
       "   company_size_L  company_size_M  company_size_S  \n",
       "0               1               0               0  \n",
       "1               0               0               1  \n",
       "2               0               0               1  \n",
       "3               0               1               0  \n",
       "4               0               1               0  \n",
       "\n",
       "[5 rows x 256 columns]"
      ]
     },
     "execution_count": 20,
     "metadata": {},
     "output_type": "execute_result"
    }
   ],
   "source": [
    "df.head()"
   ]
  },
  {
   "cell_type": "markdown",
   "metadata": {
    "id": "81Esx6Dm2TJ8"
   },
   "source": [
    "\n",
    "\n",
    "> **Separate features and target variables**\n",
    "\n"
   ]
  },
  {
   "cell_type": "code",
   "execution_count": 21,
   "metadata": {
    "id": "6P17Zcbmp_QP"
   },
   "outputs": [],
   "source": [
    "x=df.drop(columns='salary_in_usd')"
   ]
  },
  {
   "cell_type": "code",
   "execution_count": 22,
   "metadata": {
    "id": "zDmCV7lHqOX1"
   },
   "outputs": [],
   "source": [
    "y=df['salary_in_usd']"
   ]
  },
  {
   "cell_type": "markdown",
   "metadata": {
    "id": "Ck6RkwUAxrXa"
   },
   "source": [
    "\n",
    "\n",
    "> **Dimensionality Reduction**\n",
    "\n"
   ]
  },
  {
   "cell_type": "code",
   "execution_count": 23,
   "metadata": {
    "colab": {
     "base_uri": "https://localhost:8080/"
    },
    "id": "sfc8hhCNWHrc",
    "outputId": "86fbc161-f42a-472b-f071-c95f42455534"
   },
   "outputs": [
    {
     "data": {
      "text/plain": [
       "False    219\n",
       "True      36\n",
       "dtype: int64"
      ]
     },
     "execution_count": 23,
     "metadata": {},
     "output_type": "execute_result"
    }
   ],
   "source": [
    "pca=PCA()\n",
    "pca.fit_transform(x)\n",
    "pd.Series(np.cumsum(pca.explained_variance_ratio_)<=0.93).value_counts()"
   ]
  },
  {
   "cell_type": "code",
   "execution_count": 24,
   "metadata": {
    "id": "oxRs0FJYxrXd"
   },
   "outputs": [],
   "source": [
    "pca1=PCA(n_components=36)\n",
    "pc_components=pca1.fit_transform(x)\n",
    "x_pca = pd.DataFrame(data=pc_components)\n",
    "x_pca.columns = ['PC' + str(col+1) for col in x_pca.columns.values]"
   ]
  },
  {
   "cell_type": "code",
   "execution_count": 25,
   "metadata": {
    "colab": {
     "base_uri": "https://localhost:8080/"
    },
    "id": "xY59jcYgxrXu",
    "outputId": "c17a3715-fc7c-44d0-f356-1ad33794bf4a"
   },
   "outputs": [
    {
     "data": {
      "text/plain": [
       "(3692, 36)"
      ]
     },
     "execution_count": 25,
     "metadata": {},
     "output_type": "execute_result"
    }
   ],
   "source": [
    "x_pca.shape"
   ]
  },
  {
   "cell_type": "code",
   "execution_count": 26,
   "metadata": {
    "colab": {
     "base_uri": "https://localhost:8080/",
     "height": 299
    },
    "id": "0zMKqCgzxrXw",
    "outputId": "4c011b3c-4558-47a9-d230-37a81a0e7b16"
   },
   "outputs": [
    {
     "data": {
      "text/html": [
       "<div>\n",
       "<style scoped>\n",
       "    .dataframe tbody tr th:only-of-type {\n",
       "        vertical-align: middle;\n",
       "    }\n",
       "\n",
       "    .dataframe tbody tr th {\n",
       "        vertical-align: top;\n",
       "    }\n",
       "\n",
       "    .dataframe thead th {\n",
       "        text-align: right;\n",
       "    }\n",
       "</style>\n",
       "<table border=\"1\" class=\"dataframe\">\n",
       "  <thead>\n",
       "    <tr style=\"text-align: right;\">\n",
       "      <th></th>\n",
       "      <th>PC1</th>\n",
       "      <th>PC2</th>\n",
       "      <th>PC3</th>\n",
       "      <th>PC4</th>\n",
       "      <th>PC5</th>\n",
       "      <th>PC6</th>\n",
       "      <th>PC7</th>\n",
       "      <th>PC8</th>\n",
       "      <th>PC9</th>\n",
       "      <th>PC10</th>\n",
       "      <th>...</th>\n",
       "      <th>PC27</th>\n",
       "      <th>PC28</th>\n",
       "      <th>PC29</th>\n",
       "      <th>PC30</th>\n",
       "      <th>PC31</th>\n",
       "      <th>PC32</th>\n",
       "      <th>PC33</th>\n",
       "      <th>PC34</th>\n",
       "      <th>PC35</th>\n",
       "      <th>PC36</th>\n",
       "    </tr>\n",
       "  </thead>\n",
       "  <tbody>\n",
       "    <tr>\n",
       "      <th>0</th>\n",
       "      <td>1.283764</td>\n",
       "      <td>-0.254543</td>\n",
       "      <td>0.787575</td>\n",
       "      <td>0.913713</td>\n",
       "      <td>0.204895</td>\n",
       "      <td>0.324967</td>\n",
       "      <td>-0.422071</td>\n",
       "      <td>-0.279883</td>\n",
       "      <td>-0.267465</td>\n",
       "      <td>-0.612735</td>\n",
       "      <td>...</td>\n",
       "      <td>-0.020545</td>\n",
       "      <td>0.005996</td>\n",
       "      <td>-0.035293</td>\n",
       "      <td>0.036544</td>\n",
       "      <td>-0.018050</td>\n",
       "      <td>-0.004045</td>\n",
       "      <td>-0.045150</td>\n",
       "      <td>-0.039559</td>\n",
       "      <td>0.018688</td>\n",
       "      <td>0.080465</td>\n",
       "    </tr>\n",
       "    <tr>\n",
       "      <th>1</th>\n",
       "      <td>1.047288</td>\n",
       "      <td>-0.204756</td>\n",
       "      <td>-0.477142</td>\n",
       "      <td>-0.572247</td>\n",
       "      <td>0.615308</td>\n",
       "      <td>-0.205133</td>\n",
       "      <td>-0.289030</td>\n",
       "      <td>0.270175</td>\n",
       "      <td>-0.298621</td>\n",
       "      <td>-0.219002</td>\n",
       "      <td>...</td>\n",
       "      <td>0.252426</td>\n",
       "      <td>-0.271961</td>\n",
       "      <td>0.042966</td>\n",
       "      <td>-0.151440</td>\n",
       "      <td>0.108607</td>\n",
       "      <td>-0.006413</td>\n",
       "      <td>0.133554</td>\n",
       "      <td>-0.174855</td>\n",
       "      <td>0.060875</td>\n",
       "      <td>-0.097366</td>\n",
       "    </tr>\n",
       "    <tr>\n",
       "      <th>2</th>\n",
       "      <td>1.047288</td>\n",
       "      <td>-0.204756</td>\n",
       "      <td>-0.477142</td>\n",
       "      <td>-0.572247</td>\n",
       "      <td>0.615308</td>\n",
       "      <td>-0.205133</td>\n",
       "      <td>-0.289030</td>\n",
       "      <td>0.270175</td>\n",
       "      <td>-0.298621</td>\n",
       "      <td>-0.219002</td>\n",
       "      <td>...</td>\n",
       "      <td>0.252426</td>\n",
       "      <td>-0.271961</td>\n",
       "      <td>0.042966</td>\n",
       "      <td>-0.151440</td>\n",
       "      <td>0.108607</td>\n",
       "      <td>-0.006413</td>\n",
       "      <td>0.133554</td>\n",
       "      <td>-0.174855</td>\n",
       "      <td>0.060875</td>\n",
       "      <td>-0.097366</td>\n",
       "    </tr>\n",
       "    <tr>\n",
       "      <th>3</th>\n",
       "      <td>0.860504</td>\n",
       "      <td>-0.435730</td>\n",
       "      <td>0.948944</td>\n",
       "      <td>0.295153</td>\n",
       "      <td>-1.033655</td>\n",
       "      <td>-0.127442</td>\n",
       "      <td>0.102434</td>\n",
       "      <td>-0.214739</td>\n",
       "      <td>-0.483357</td>\n",
       "      <td>-0.314049</td>\n",
       "      <td>...</td>\n",
       "      <td>-0.002874</td>\n",
       "      <td>0.013652</td>\n",
       "      <td>-0.006546</td>\n",
       "      <td>0.003709</td>\n",
       "      <td>-0.003836</td>\n",
       "      <td>-0.009167</td>\n",
       "      <td>0.007599</td>\n",
       "      <td>-0.003131</td>\n",
       "      <td>0.011061</td>\n",
       "      <td>-0.024221</td>\n",
       "    </tr>\n",
       "    <tr>\n",
       "      <th>4</th>\n",
       "      <td>0.860504</td>\n",
       "      <td>-0.435730</td>\n",
       "      <td>0.948944</td>\n",
       "      <td>0.295153</td>\n",
       "      <td>-1.033655</td>\n",
       "      <td>-0.127442</td>\n",
       "      <td>0.102434</td>\n",
       "      <td>-0.214739</td>\n",
       "      <td>-0.483357</td>\n",
       "      <td>-0.314049</td>\n",
       "      <td>...</td>\n",
       "      <td>-0.002874</td>\n",
       "      <td>0.013652</td>\n",
       "      <td>-0.006546</td>\n",
       "      <td>0.003709</td>\n",
       "      <td>-0.003836</td>\n",
       "      <td>-0.009167</td>\n",
       "      <td>0.007599</td>\n",
       "      <td>-0.003131</td>\n",
       "      <td>0.011061</td>\n",
       "      <td>-0.024221</td>\n",
       "    </tr>\n",
       "  </tbody>\n",
       "</table>\n",
       "<p>5 rows × 36 columns</p>\n",
       "</div>"
      ],
      "text/plain": [
       "        PC1       PC2       PC3       PC4       PC5       PC6       PC7  \\\n",
       "0  1.283764 -0.254543  0.787575  0.913713  0.204895  0.324967 -0.422071   \n",
       "1  1.047288 -0.204756 -0.477142 -0.572247  0.615308 -0.205133 -0.289030   \n",
       "2  1.047288 -0.204756 -0.477142 -0.572247  0.615308 -0.205133 -0.289030   \n",
       "3  0.860504 -0.435730  0.948944  0.295153 -1.033655 -0.127442  0.102434   \n",
       "4  0.860504 -0.435730  0.948944  0.295153 -1.033655 -0.127442  0.102434   \n",
       "\n",
       "        PC8       PC9      PC10  ...      PC27      PC28      PC29      PC30  \\\n",
       "0 -0.279883 -0.267465 -0.612735  ... -0.020545  0.005996 -0.035293  0.036544   \n",
       "1  0.270175 -0.298621 -0.219002  ...  0.252426 -0.271961  0.042966 -0.151440   \n",
       "2  0.270175 -0.298621 -0.219002  ...  0.252426 -0.271961  0.042966 -0.151440   \n",
       "3 -0.214739 -0.483357 -0.314049  ... -0.002874  0.013652 -0.006546  0.003709   \n",
       "4 -0.214739 -0.483357 -0.314049  ... -0.002874  0.013652 -0.006546  0.003709   \n",
       "\n",
       "       PC31      PC32      PC33      PC34      PC35      PC36  \n",
       "0 -0.018050 -0.004045 -0.045150 -0.039559  0.018688  0.080465  \n",
       "1  0.108607 -0.006413  0.133554 -0.174855  0.060875 -0.097366  \n",
       "2  0.108607 -0.006413  0.133554 -0.174855  0.060875 -0.097366  \n",
       "3 -0.003836 -0.009167  0.007599 -0.003131  0.011061 -0.024221  \n",
       "4 -0.003836 -0.009167  0.007599 -0.003131  0.011061 -0.024221  \n",
       "\n",
       "[5 rows x 36 columns]"
      ]
     },
     "execution_count": 26,
     "metadata": {},
     "output_type": "execute_result"
    }
   ],
   "source": [
    "x_pca.head()"
   ]
  },
  {
   "cell_type": "markdown",
   "metadata": {
    "id": "_9gpSrlx2aLL"
   },
   "source": [
    "\n",
    "\n",
    "> **Perform Train-Test-Split on X & y**\n",
    "\n"
   ]
  },
  {
   "cell_type": "code",
   "execution_count": 27,
   "metadata": {
    "id": "M6fGiP7Bqtia"
   },
   "outputs": [],
   "source": [
    "x_train,x_test,y_train,y_test=train_test_split(x_pca,y,random_state=42,train_size=0.75)"
   ]
  },
  {
   "cell_type": "code",
   "execution_count": 28,
   "metadata": {
    "colab": {
     "base_uri": "https://localhost:8080/"
    },
    "id": "mT8uih7t3PI8",
    "outputId": "ae8941f8-e8c5-4cf3-b9b3-4abf54884503"
   },
   "outputs": [
    {
     "name": "stdout",
     "output_type": "stream",
     "text": [
      "(2769, 36)\n",
      "(923, 36)\n",
      "(2769,)\n",
      "(923,)\n"
     ]
    }
   ],
   "source": [
    "print(x_train.shape)\n",
    "print(x_test.shape)\n",
    "print(y_train.shape)\n",
    "print(y_test.shape)"
   ]
  },
  {
   "cell_type": "markdown",
   "metadata": {
    "id": "AUvIpQjY4D1E"
   },
   "source": [
    "### **GridSearchCV**\n"
   ]
  },
  {
   "cell_type": "markdown",
   "metadata": {
    "id": "5itdHNjV3czd"
   },
   "source": [
    "\n",
    "\n",
    "> **Initialize the base classifiers for GridSearchCV**\n",
    "\n",
    "\n",
    "\n"
   ]
  },
  {
   "cell_type": "code",
   "execution_count": 115,
   "metadata": {
    "id": "JV4vxvJQ3oAc"
   },
   "outputs": [],
   "source": [
    "base_randf=RandomForestRegressor()\n",
    "base_adab=AdaBoostRegressor()\n",
    "base_gradb=GradientBoostingRegressor()\n",
    "base_xgb=XGBRegressor()"
   ]
  },
  {
   "cell_type": "markdown",
   "metadata": {
    "id": "9QU7qg4GAZGp"
   },
   "source": [
    "#### **1. RandomForest**"
   ]
  },
  {
   "cell_type": "code",
   "execution_count": 117,
   "metadata": {},
   "outputs": [
    {
     "name": "stdout",
     "output_type": "stream",
     "text": [
      "Fitting 5 folds for each of 36 candidates, totalling 180 fits\n"
     ]
    },
    {
     "data": {
      "text/html": [
       "<style>#sk-container-id-7 {color: black;background-color: white;}#sk-container-id-7 pre{padding: 0;}#sk-container-id-7 div.sk-toggleable {background-color: white;}#sk-container-id-7 label.sk-toggleable__label {cursor: pointer;display: block;width: 100%;margin-bottom: 0;padding: 0.3em;box-sizing: border-box;text-align: center;}#sk-container-id-7 label.sk-toggleable__label-arrow:before {content: \"▸\";float: left;margin-right: 0.25em;color: #696969;}#sk-container-id-7 label.sk-toggleable__label-arrow:hover:before {color: black;}#sk-container-id-7 div.sk-estimator:hover label.sk-toggleable__label-arrow:before {color: black;}#sk-container-id-7 div.sk-toggleable__content {max-height: 0;max-width: 0;overflow: hidden;text-align: left;background-color: #f0f8ff;}#sk-container-id-7 div.sk-toggleable__content pre {margin: 0.2em;color: black;border-radius: 0.25em;background-color: #f0f8ff;}#sk-container-id-7 input.sk-toggleable__control:checked~div.sk-toggleable__content {max-height: 200px;max-width: 100%;overflow: auto;}#sk-container-id-7 input.sk-toggleable__control:checked~label.sk-toggleable__label-arrow:before {content: \"▾\";}#sk-container-id-7 div.sk-estimator input.sk-toggleable__control:checked~label.sk-toggleable__label {background-color: #d4ebff;}#sk-container-id-7 div.sk-label input.sk-toggleable__control:checked~label.sk-toggleable__label {background-color: #d4ebff;}#sk-container-id-7 input.sk-hidden--visually {border: 0;clip: rect(1px 1px 1px 1px);clip: rect(1px, 1px, 1px, 1px);height: 1px;margin: -1px;overflow: hidden;padding: 0;position: absolute;width: 1px;}#sk-container-id-7 div.sk-estimator {font-family: monospace;background-color: #f0f8ff;border: 1px dotted black;border-radius: 0.25em;box-sizing: border-box;margin-bottom: 0.5em;}#sk-container-id-7 div.sk-estimator:hover {background-color: #d4ebff;}#sk-container-id-7 div.sk-parallel-item::after {content: \"\";width: 100%;border-bottom: 1px solid gray;flex-grow: 1;}#sk-container-id-7 div.sk-label:hover label.sk-toggleable__label {background-color: #d4ebff;}#sk-container-id-7 div.sk-serial::before {content: \"\";position: absolute;border-left: 1px solid gray;box-sizing: border-box;top: 0;bottom: 0;left: 50%;z-index: 0;}#sk-container-id-7 div.sk-serial {display: flex;flex-direction: column;align-items: center;background-color: white;padding-right: 0.2em;padding-left: 0.2em;position: relative;}#sk-container-id-7 div.sk-item {position: relative;z-index: 1;}#sk-container-id-7 div.sk-parallel {display: flex;align-items: stretch;justify-content: center;background-color: white;position: relative;}#sk-container-id-7 div.sk-item::before, #sk-container-id-7 div.sk-parallel-item::before {content: \"\";position: absolute;border-left: 1px solid gray;box-sizing: border-box;top: 0;bottom: 0;left: 50%;z-index: -1;}#sk-container-id-7 div.sk-parallel-item {display: flex;flex-direction: column;z-index: 1;position: relative;background-color: white;}#sk-container-id-7 div.sk-parallel-item:first-child::after {align-self: flex-end;width: 50%;}#sk-container-id-7 div.sk-parallel-item:last-child::after {align-self: flex-start;width: 50%;}#sk-container-id-7 div.sk-parallel-item:only-child::after {width: 0;}#sk-container-id-7 div.sk-dashed-wrapped {border: 1px dashed gray;margin: 0 0.4em 0.5em 0.4em;box-sizing: border-box;padding-bottom: 0.4em;background-color: white;}#sk-container-id-7 div.sk-label label {font-family: monospace;font-weight: bold;display: inline-block;line-height: 1.2em;}#sk-container-id-7 div.sk-label-container {text-align: center;}#sk-container-id-7 div.sk-container {/* jupyter's `normalize.less` sets `[hidden] { display: none; }` but bootstrap.min.css set `[hidden] { display: none !important; }` so we also need the `!important` here to be able to override the default hidden behavior on the sphinx rendered scikit-learn.org. See: https://github.com/scikit-learn/scikit-learn/issues/21755 */display: inline-block !important;position: relative;}#sk-container-id-7 div.sk-text-repr-fallback {display: none;}</style><div id=\"sk-container-id-7\" class=\"sk-top-container\"><div class=\"sk-text-repr-fallback\"><pre>GridSearchCV(cv=5, estimator=RandomForestRegressor(), n_jobs=-1,\n",
       "             param_grid={&#x27;criterion&#x27;: [&#x27;squared_error&#x27;, &#x27;absolute_error&#x27;,\n",
       "                                       &#x27;friedman_mse&#x27;, &#x27;poisson&#x27;],\n",
       "                         &#x27;max_features&#x27;: [&#x27;sqrt&#x27;, &#x27;log2&#x27;, None],\n",
       "                         &#x27;n_estimators&#x27;: [400, 650, 950]},\n",
       "             scoring=&#x27;r2&#x27;, verbose=2)</pre><b>In a Jupyter environment, please rerun this cell to show the HTML representation or trust the notebook. <br />On GitHub, the HTML representation is unable to render, please try loading this page with nbviewer.org.</b></div><div class=\"sk-container\" hidden><div class=\"sk-item sk-dashed-wrapped\"><div class=\"sk-label-container\"><div class=\"sk-label sk-toggleable\"><input class=\"sk-toggleable__control sk-hidden--visually\" id=\"sk-estimator-id-19\" type=\"checkbox\" ><label for=\"sk-estimator-id-19\" class=\"sk-toggleable__label sk-toggleable__label-arrow\">GridSearchCV</label><div class=\"sk-toggleable__content\"><pre>GridSearchCV(cv=5, estimator=RandomForestRegressor(), n_jobs=-1,\n",
       "             param_grid={&#x27;criterion&#x27;: [&#x27;squared_error&#x27;, &#x27;absolute_error&#x27;,\n",
       "                                       &#x27;friedman_mse&#x27;, &#x27;poisson&#x27;],\n",
       "                         &#x27;max_features&#x27;: [&#x27;sqrt&#x27;, &#x27;log2&#x27;, None],\n",
       "                         &#x27;n_estimators&#x27;: [400, 650, 950]},\n",
       "             scoring=&#x27;r2&#x27;, verbose=2)</pre></div></div></div><div class=\"sk-parallel\"><div class=\"sk-parallel-item\"><div class=\"sk-item\"><div class=\"sk-label-container\"><div class=\"sk-label sk-toggleable\"><input class=\"sk-toggleable__control sk-hidden--visually\" id=\"sk-estimator-id-20\" type=\"checkbox\" ><label for=\"sk-estimator-id-20\" class=\"sk-toggleable__label sk-toggleable__label-arrow\">estimator: RandomForestRegressor</label><div class=\"sk-toggleable__content\"><pre>RandomForestRegressor()</pre></div></div></div><div class=\"sk-serial\"><div class=\"sk-item\"><div class=\"sk-estimator sk-toggleable\"><input class=\"sk-toggleable__control sk-hidden--visually\" id=\"sk-estimator-id-21\" type=\"checkbox\" ><label for=\"sk-estimator-id-21\" class=\"sk-toggleable__label sk-toggleable__label-arrow\">RandomForestRegressor</label><div class=\"sk-toggleable__content\"><pre>RandomForestRegressor()</pre></div></div></div></div></div></div></div></div></div></div>"
      ],
      "text/plain": [
       "GridSearchCV(cv=5, estimator=RandomForestRegressor(), n_jobs=-1,\n",
       "             param_grid={'criterion': ['squared_error', 'absolute_error',\n",
       "                                       'friedman_mse', 'poisson'],\n",
       "                         'max_features': ['sqrt', 'log2', None],\n",
       "                         'n_estimators': [400, 650, 950]},\n",
       "             scoring='r2', verbose=2)"
      ]
     },
     "execution_count": 117,
     "metadata": {},
     "output_type": "execute_result"
    }
   ],
   "source": [
    "param={'n_estimators'  :[400,650,950],\n",
    "      'criterion'      :['squared_error', 'absolute_error', 'friedman_mse','poisson'],\n",
    "      'max_features'   :['sqrt', 'log2', None]\n",
    "      }\n",
    "gsv_randf=GridSearchCV(estimator=base_randf,\n",
    "                      param_grid=param,\n",
    "                      n_jobs=-1,\n",
    "                      scoring='r2',\n",
    "                      cv=5,\n",
    "                      verbose=2)\n",
    "\n",
    "gsv_randf.fit(x_train,y_train)"
   ]
  },
  {
   "cell_type": "code",
   "execution_count": 118,
   "metadata": {},
   "outputs": [
    {
     "name": "stdout",
     "output_type": "stream",
     "text": [
      "0.44833050537142694\n",
      "{'criterion': 'poisson', 'max_features': 'sqrt', 'n_estimators': 650}\n"
     ]
    }
   ],
   "source": [
    "print(gsv_randf.best_score_)\n",
    "print(gsv_randf.best_params_)"
   ]
  },
  {
   "cell_type": "code",
   "execution_count": 119,
   "metadata": {},
   "outputs": [
    {
     "name": "stdout",
     "output_type": "stream",
     "text": [
      "42.35 %\n"
     ]
    }
   ],
   "source": [
    "randf=RandomForestRegressorrestRegressor(**gsv_randf.best_params_)\n",
    "randf.fit(x_train,y_train)\n",
    "y_pred=randf.predict(x_test)\n",
    "print(round(r2_score(y_test,y_pred,)*100,2),'%')"
   ]
  },
  {
   "cell_type": "markdown",
   "metadata": {
    "id": "9QU7qg4GAZGp"
   },
   "source": [
    "#### **2. AdaBoost**"
   ]
  },
  {
   "cell_type": "code",
   "execution_count": 30,
   "metadata": {
    "colab": {
     "base_uri": "https://localhost:8080/",
     "height": 363
    },
    "id": "SjMwnkUArn5g",
    "outputId": "1a4382e6-db6c-4b9f-f6ec-16e26c074b1b"
   },
   "outputs": [
    {
     "name": "stdout",
     "output_type": "stream",
     "text": [
      "Fitting 5 folds for each of 450 candidates, totalling 2250 fits\n"
     ]
    },
    {
     "data": {
      "text/html": [
       "<style>#sk-container-id-1 {color: black;background-color: white;}#sk-container-id-1 pre{padding: 0;}#sk-container-id-1 div.sk-toggleable {background-color: white;}#sk-container-id-1 label.sk-toggleable__label {cursor: pointer;display: block;width: 100%;margin-bottom: 0;padding: 0.3em;box-sizing: border-box;text-align: center;}#sk-container-id-1 label.sk-toggleable__label-arrow:before {content: \"▸\";float: left;margin-right: 0.25em;color: #696969;}#sk-container-id-1 label.sk-toggleable__label-arrow:hover:before {color: black;}#sk-container-id-1 div.sk-estimator:hover label.sk-toggleable__label-arrow:before {color: black;}#sk-container-id-1 div.sk-toggleable__content {max-height: 0;max-width: 0;overflow: hidden;text-align: left;background-color: #f0f8ff;}#sk-container-id-1 div.sk-toggleable__content pre {margin: 0.2em;color: black;border-radius: 0.25em;background-color: #f0f8ff;}#sk-container-id-1 input.sk-toggleable__control:checked~div.sk-toggleable__content {max-height: 200px;max-width: 100%;overflow: auto;}#sk-container-id-1 input.sk-toggleable__control:checked~label.sk-toggleable__label-arrow:before {content: \"▾\";}#sk-container-id-1 div.sk-estimator input.sk-toggleable__control:checked~label.sk-toggleable__label {background-color: #d4ebff;}#sk-container-id-1 div.sk-label input.sk-toggleable__control:checked~label.sk-toggleable__label {background-color: #d4ebff;}#sk-container-id-1 input.sk-hidden--visually {border: 0;clip: rect(1px 1px 1px 1px);clip: rect(1px, 1px, 1px, 1px);height: 1px;margin: -1px;overflow: hidden;padding: 0;position: absolute;width: 1px;}#sk-container-id-1 div.sk-estimator {font-family: monospace;background-color: #f0f8ff;border: 1px dotted black;border-radius: 0.25em;box-sizing: border-box;margin-bottom: 0.5em;}#sk-container-id-1 div.sk-estimator:hover {background-color: #d4ebff;}#sk-container-id-1 div.sk-parallel-item::after {content: \"\";width: 100%;border-bottom: 1px solid gray;flex-grow: 1;}#sk-container-id-1 div.sk-label:hover label.sk-toggleable__label {background-color: #d4ebff;}#sk-container-id-1 div.sk-serial::before {content: \"\";position: absolute;border-left: 1px solid gray;box-sizing: border-box;top: 0;bottom: 0;left: 50%;z-index: 0;}#sk-container-id-1 div.sk-serial {display: flex;flex-direction: column;align-items: center;background-color: white;padding-right: 0.2em;padding-left: 0.2em;position: relative;}#sk-container-id-1 div.sk-item {position: relative;z-index: 1;}#sk-container-id-1 div.sk-parallel {display: flex;align-items: stretch;justify-content: center;background-color: white;position: relative;}#sk-container-id-1 div.sk-item::before, #sk-container-id-1 div.sk-parallel-item::before {content: \"\";position: absolute;border-left: 1px solid gray;box-sizing: border-box;top: 0;bottom: 0;left: 50%;z-index: -1;}#sk-container-id-1 div.sk-parallel-item {display: flex;flex-direction: column;z-index: 1;position: relative;background-color: white;}#sk-container-id-1 div.sk-parallel-item:first-child::after {align-self: flex-end;width: 50%;}#sk-container-id-1 div.sk-parallel-item:last-child::after {align-self: flex-start;width: 50%;}#sk-container-id-1 div.sk-parallel-item:only-child::after {width: 0;}#sk-container-id-1 div.sk-dashed-wrapped {border: 1px dashed gray;margin: 0 0.4em 0.5em 0.4em;box-sizing: border-box;padding-bottom: 0.4em;background-color: white;}#sk-container-id-1 div.sk-label label {font-family: monospace;font-weight: bold;display: inline-block;line-height: 1.2em;}#sk-container-id-1 div.sk-label-container {text-align: center;}#sk-container-id-1 div.sk-container {/* jupyter's `normalize.less` sets `[hidden] { display: none; }` but bootstrap.min.css set `[hidden] { display: none !important; }` so we also need the `!important` here to be able to override the default hidden behavior on the sphinx rendered scikit-learn.org. See: https://github.com/scikit-learn/scikit-learn/issues/21755 */display: inline-block !important;position: relative;}#sk-container-id-1 div.sk-text-repr-fallback {display: none;}</style><div id=\"sk-container-id-1\" class=\"sk-top-container\"><div class=\"sk-text-repr-fallback\"><pre>GridSearchCV(cv=5, estimator=AdaBoostRegressor(), n_jobs=-1,\n",
       "             param_grid={&#x27;learning_rate&#x27;: [0.001, 0.021387755102040818,\n",
       "                                           0.041775510204081635,\n",
       "                                           0.062163265306122456,\n",
       "                                           0.08255102040816327,\n",
       "                                           0.10293877551020408,\n",
       "                                           0.12332653061224491,\n",
       "                                           0.1437142857142857,\n",
       "                                           0.16410204081632654,\n",
       "                                           0.18448979591836737,\n",
       "                                           0.20487755102040817,\n",
       "                                           0.225265306122449,\n",
       "                                           0.24565306122448982,\n",
       "                                           0.266040816326530...\n",
       "                                           0.3272040816326531,\n",
       "                                           0.3475918367346939,\n",
       "                                           0.36797959183673473,\n",
       "                                           0.3883673469387755,\n",
       "                                           0.40875510204081633,\n",
       "                                           0.42914285714285716,\n",
       "                                           0.449530612244898,\n",
       "                                           0.4699183673469388,\n",
       "                                           0.49030612244897964,\n",
       "                                           0.5106938775510205,\n",
       "                                           0.5310816326530613,\n",
       "                                           0.551469387755102,\n",
       "                                           0.5718571428571428,\n",
       "                                           0.5922448979591837, ...],\n",
       "                         &#x27;loss&#x27;: [&#x27;linear&#x27;, &#x27;square&#x27;, &#x27;exponential&#x27;],\n",
       "                         &#x27;n_estimators&#x27;: [400, 650, 950]},\n",
       "             scoring=&#x27;r2&#x27;, verbose=2)</pre><b>In a Jupyter environment, please rerun this cell to show the HTML representation or trust the notebook. <br />On GitHub, the HTML representation is unable to render, please try loading this page with nbviewer.org.</b></div><div class=\"sk-container\" hidden><div class=\"sk-item sk-dashed-wrapped\"><div class=\"sk-label-container\"><div class=\"sk-label sk-toggleable\"><input class=\"sk-toggleable__control sk-hidden--visually\" id=\"sk-estimator-id-1\" type=\"checkbox\" ><label for=\"sk-estimator-id-1\" class=\"sk-toggleable__label sk-toggleable__label-arrow\">GridSearchCV</label><div class=\"sk-toggleable__content\"><pre>GridSearchCV(cv=5, estimator=AdaBoostRegressor(), n_jobs=-1,\n",
       "             param_grid={&#x27;learning_rate&#x27;: [0.001, 0.021387755102040818,\n",
       "                                           0.041775510204081635,\n",
       "                                           0.062163265306122456,\n",
       "                                           0.08255102040816327,\n",
       "                                           0.10293877551020408,\n",
       "                                           0.12332653061224491,\n",
       "                                           0.1437142857142857,\n",
       "                                           0.16410204081632654,\n",
       "                                           0.18448979591836737,\n",
       "                                           0.20487755102040817,\n",
       "                                           0.225265306122449,\n",
       "                                           0.24565306122448982,\n",
       "                                           0.266040816326530...\n",
       "                                           0.3272040816326531,\n",
       "                                           0.3475918367346939,\n",
       "                                           0.36797959183673473,\n",
       "                                           0.3883673469387755,\n",
       "                                           0.40875510204081633,\n",
       "                                           0.42914285714285716,\n",
       "                                           0.449530612244898,\n",
       "                                           0.4699183673469388,\n",
       "                                           0.49030612244897964,\n",
       "                                           0.5106938775510205,\n",
       "                                           0.5310816326530613,\n",
       "                                           0.551469387755102,\n",
       "                                           0.5718571428571428,\n",
       "                                           0.5922448979591837, ...],\n",
       "                         &#x27;loss&#x27;: [&#x27;linear&#x27;, &#x27;square&#x27;, &#x27;exponential&#x27;],\n",
       "                         &#x27;n_estimators&#x27;: [400, 650, 950]},\n",
       "             scoring=&#x27;r2&#x27;, verbose=2)</pre></div></div></div><div class=\"sk-parallel\"><div class=\"sk-parallel-item\"><div class=\"sk-item\"><div class=\"sk-label-container\"><div class=\"sk-label sk-toggleable\"><input class=\"sk-toggleable__control sk-hidden--visually\" id=\"sk-estimator-id-2\" type=\"checkbox\" ><label for=\"sk-estimator-id-2\" class=\"sk-toggleable__label sk-toggleable__label-arrow\">estimator: AdaBoostRegressor</label><div class=\"sk-toggleable__content\"><pre>AdaBoostRegressor()</pre></div></div></div><div class=\"sk-serial\"><div class=\"sk-item\"><div class=\"sk-estimator sk-toggleable\"><input class=\"sk-toggleable__control sk-hidden--visually\" id=\"sk-estimator-id-3\" type=\"checkbox\" ><label for=\"sk-estimator-id-3\" class=\"sk-toggleable__label sk-toggleable__label-arrow\">AdaBoostRegressor</label><div class=\"sk-toggleable__content\"><pre>AdaBoostRegressor()</pre></div></div></div></div></div></div></div></div></div></div>"
      ],
      "text/plain": [
       "GridSearchCV(cv=5, estimator=AdaBoostRegressor(), n_jobs=-1,\n",
       "             param_grid={'learning_rate': [0.001, 0.021387755102040818,\n",
       "                                           0.041775510204081635,\n",
       "                                           0.062163265306122456,\n",
       "                                           0.08255102040816327,\n",
       "                                           0.10293877551020408,\n",
       "                                           0.12332653061224491,\n",
       "                                           0.1437142857142857,\n",
       "                                           0.16410204081632654,\n",
       "                                           0.18448979591836737,\n",
       "                                           0.20487755102040817,\n",
       "                                           0.225265306122449,\n",
       "                                           0.24565306122448982,\n",
       "                                           0.266040816326530...\n",
       "                                           0.3272040816326531,\n",
       "                                           0.3475918367346939,\n",
       "                                           0.36797959183673473,\n",
       "                                           0.3883673469387755,\n",
       "                                           0.40875510204081633,\n",
       "                                           0.42914285714285716,\n",
       "                                           0.449530612244898,\n",
       "                                           0.4699183673469388,\n",
       "                                           0.49030612244897964,\n",
       "                                           0.5106938775510205,\n",
       "                                           0.5310816326530613,\n",
       "                                           0.551469387755102,\n",
       "                                           0.5718571428571428,\n",
       "                                           0.5922448979591837, ...],\n",
       "                         'loss': ['linear', 'square', 'exponential'],\n",
       "                         'n_estimators': [400, 650, 950]},\n",
       "             scoring='r2', verbose=2)"
      ]
     },
     "execution_count": 30,
     "metadata": {},
     "output_type": "execute_result"
    }
   ],
   "source": [
    "param={\n",
    "    'n_estimators'  :[400,650,950],\n",
    "    'learning_rate' :list(np.linspace(0.001,1,50)),\n",
    "    'loss'          :['linear', 'square', 'exponential']\n",
    "}\n",
    "\n",
    "gsv_adab=GridSearchCV(estimator=base_adab,\n",
    "                 param_grid=param,\n",
    "                 n_jobs=-1,\n",
    "                 scoring='r2',\n",
    "                 cv=5,\n",
    "                 verbose=2)\n",
    "\n",
    "gsv_adab.fit(x_train,y_train)"
   ]
  },
  {
   "cell_type": "code",
   "execution_count": 31,
   "metadata": {
    "id": "mf_mniCcsail"
   },
   "outputs": [
    {
     "name": "stdout",
     "output_type": "stream",
     "text": [
      "0.3930481175770927\n",
      "{'learning_rate': 0.021387755102040818, 'loss': 'exponential', 'n_estimators': 400}\n"
     ]
    }
   ],
   "source": [
    "print(gsv_adab.best_score_)\n",
    "print(gsv_adab.best_params_)"
   ]
  },
  {
   "cell_type": "code",
   "execution_count": 32,
   "metadata": {
    "id": "Sy_xFCyR2G2P"
   },
   "outputs": [
    {
     "name": "stdout",
     "output_type": "stream",
     "text": [
      "35.24 %\n"
     ]
    }
   ],
   "source": [
    "adab=AdaBoostRegressor(**gsv_adab.best_params_)\n",
    "adab.fit(x_train,y_train)\n",
    "y_pred=adab.predict(x_test)\n",
    "print(round(r2_score(y_test,y_pred,)*100,2),'%')"
   ]
  },
  {
   "cell_type": "code",
   "execution_count": 33,
   "metadata": {
    "id": "NOa9EoFx2Tk-"
   },
   "outputs": [
    {
     "data": {
      "text/plain": [
       "48031.5733126703"
      ]
     },
     "execution_count": 33,
     "metadata": {},
     "output_type": "execute_result"
    }
   ],
   "source": [
    "np.sqrt(mean_squared_error(y_true=y_test,y_pred=y_pred))"
   ]
  },
  {
   "cell_type": "markdown",
   "metadata": {
    "id": "Dzh8bUwY3Tdc"
   },
   "source": [
    "#### Checked performance using only correlated features to target via Linear Regression and then Adaboost\n",
    "\n",
    "corr=(df.corr()[['salary_in_usd']]>0.1) | (df.corr()[['salary_in_usd']]<-0.1)\n",
    "\n",
    "df_corr=df.corr()[['salary_in_usd']][corr]\n",
    "\n",
    "df_corr.dropna(inplace=True)\n",
    "\n",
    "plt.figure(figsize=(2,15))\n",
    "sns.heatmap(df_corr,annot=True)\n",
    "plt.show()\n",
    "\n",
    "list(df_corr.index)\n",
    "\n",
    "df_corr.dropna(inplace=True)\n",
    "\n",
    "df_new=df[list(df_corr.index)].copy()\n",
    "\n",
    "x_new=df_new.drop(columns='salary_in_usd')\n",
    "y_new=df_new['salary_in_usd']\n",
    "\n",
    "x_new_train,x_new_test,y_new_train,y_new_test=train_test_split(x_new,y_new,train_size=0.75,random_state=5)\n",
    "\n",
    "from sklearn.linear_model import LinearRegression\n",
    "lr=LinearRegression()\n",
    "lr.fit(x_new_train,y_new_train)\n",
    "y_new_pred=lr.predict(x_new_test)\n",
    "print(r2_score(y_true=y_new_test,y_pred=y_new_pred))\n",
    "print(np.sqrt(mean_squared_error(y_true=y_new_test,y_pred=y_new_pred)))\n",
    "\n",
    "adab=AdaBoostRegressor(learning_rate=0.021387755102040818, \n",
    "                       loss='linear',\n",
    "                       n_estimators=400)\n",
    "adab.fit(x_new_train,y_new_train)\n",
    "y_pred_adab=adab.predict(x_new_test)\n",
    "print(r2_score(y_new_test,y_pred_adab,))"
   ]
  },
  {
   "cell_type": "markdown",
   "metadata": {
    "id": "_kBYzmLFMNxW"
   },
   "source": [
    "#### **3. GradBoost**"
   ]
  },
  {
   "cell_type": "code",
   "execution_count": 34,
   "metadata": {
    "id": "0Iw4gjojMSjv"
   },
   "outputs": [
    {
     "name": "stdout",
     "output_type": "stream",
     "text": [
      "Fitting 5 folds for each of 540 candidates, totalling 2700 fits\n"
     ]
    },
    {
     "data": {
      "text/html": [
       "<style>#sk-container-id-2 {color: black;background-color: white;}#sk-container-id-2 pre{padding: 0;}#sk-container-id-2 div.sk-toggleable {background-color: white;}#sk-container-id-2 label.sk-toggleable__label {cursor: pointer;display: block;width: 100%;margin-bottom: 0;padding: 0.3em;box-sizing: border-box;text-align: center;}#sk-container-id-2 label.sk-toggleable__label-arrow:before {content: \"▸\";float: left;margin-right: 0.25em;color: #696969;}#sk-container-id-2 label.sk-toggleable__label-arrow:hover:before {color: black;}#sk-container-id-2 div.sk-estimator:hover label.sk-toggleable__label-arrow:before {color: black;}#sk-container-id-2 div.sk-toggleable__content {max-height: 0;max-width: 0;overflow: hidden;text-align: left;background-color: #f0f8ff;}#sk-container-id-2 div.sk-toggleable__content pre {margin: 0.2em;color: black;border-radius: 0.25em;background-color: #f0f8ff;}#sk-container-id-2 input.sk-toggleable__control:checked~div.sk-toggleable__content {max-height: 200px;max-width: 100%;overflow: auto;}#sk-container-id-2 input.sk-toggleable__control:checked~label.sk-toggleable__label-arrow:before {content: \"▾\";}#sk-container-id-2 div.sk-estimator input.sk-toggleable__control:checked~label.sk-toggleable__label {background-color: #d4ebff;}#sk-container-id-2 div.sk-label input.sk-toggleable__control:checked~label.sk-toggleable__label {background-color: #d4ebff;}#sk-container-id-2 input.sk-hidden--visually {border: 0;clip: rect(1px 1px 1px 1px);clip: rect(1px, 1px, 1px, 1px);height: 1px;margin: -1px;overflow: hidden;padding: 0;position: absolute;width: 1px;}#sk-container-id-2 div.sk-estimator {font-family: monospace;background-color: #f0f8ff;border: 1px dotted black;border-radius: 0.25em;box-sizing: border-box;margin-bottom: 0.5em;}#sk-container-id-2 div.sk-estimator:hover {background-color: #d4ebff;}#sk-container-id-2 div.sk-parallel-item::after {content: \"\";width: 100%;border-bottom: 1px solid gray;flex-grow: 1;}#sk-container-id-2 div.sk-label:hover label.sk-toggleable__label {background-color: #d4ebff;}#sk-container-id-2 div.sk-serial::before {content: \"\";position: absolute;border-left: 1px solid gray;box-sizing: border-box;top: 0;bottom: 0;left: 50%;z-index: 0;}#sk-container-id-2 div.sk-serial {display: flex;flex-direction: column;align-items: center;background-color: white;padding-right: 0.2em;padding-left: 0.2em;position: relative;}#sk-container-id-2 div.sk-item {position: relative;z-index: 1;}#sk-container-id-2 div.sk-parallel {display: flex;align-items: stretch;justify-content: center;background-color: white;position: relative;}#sk-container-id-2 div.sk-item::before, #sk-container-id-2 div.sk-parallel-item::before {content: \"\";position: absolute;border-left: 1px solid gray;box-sizing: border-box;top: 0;bottom: 0;left: 50%;z-index: -1;}#sk-container-id-2 div.sk-parallel-item {display: flex;flex-direction: column;z-index: 1;position: relative;background-color: white;}#sk-container-id-2 div.sk-parallel-item:first-child::after {align-self: flex-end;width: 50%;}#sk-container-id-2 div.sk-parallel-item:last-child::after {align-self: flex-start;width: 50%;}#sk-container-id-2 div.sk-parallel-item:only-child::after {width: 0;}#sk-container-id-2 div.sk-dashed-wrapped {border: 1px dashed gray;margin: 0 0.4em 0.5em 0.4em;box-sizing: border-box;padding-bottom: 0.4em;background-color: white;}#sk-container-id-2 div.sk-label label {font-family: monospace;font-weight: bold;display: inline-block;line-height: 1.2em;}#sk-container-id-2 div.sk-label-container {text-align: center;}#sk-container-id-2 div.sk-container {/* jupyter's `normalize.less` sets `[hidden] { display: none; }` but bootstrap.min.css set `[hidden] { display: none !important; }` so we also need the `!important` here to be able to override the default hidden behavior on the sphinx rendered scikit-learn.org. See: https://github.com/scikit-learn/scikit-learn/issues/21755 */display: inline-block !important;position: relative;}#sk-container-id-2 div.sk-text-repr-fallback {display: none;}</style><div id=\"sk-container-id-2\" class=\"sk-top-container\"><div class=\"sk-text-repr-fallback\"><pre>GridSearchCV(cv=5, estimator=GradientBoostingRegressor(), n_jobs=-1,\n",
       "             param_grid={&#x27;learning_rate&#x27;: [0.001, 0.25075, 0.5005, 0.75025,\n",
       "                                           1.0],\n",
       "                         &#x27;loss&#x27;: [&#x27;squared_error&#x27;, &#x27;absolute_error&#x27;, &#x27;huber&#x27;,\n",
       "                                  &#x27;quantile&#x27;],\n",
       "                         &#x27;max_depth&#x27;: [4, 5, 6, 7, 8, 9, 10, 11, 12],\n",
       "                         &#x27;n_estimators&#x27;: [400, 650, 950]},\n",
       "             scoring=&#x27;r2&#x27;, verbose=2)</pre><b>In a Jupyter environment, please rerun this cell to show the HTML representation or trust the notebook. <br />On GitHub, the HTML representation is unable to render, please try loading this page with nbviewer.org.</b></div><div class=\"sk-container\" hidden><div class=\"sk-item sk-dashed-wrapped\"><div class=\"sk-label-container\"><div class=\"sk-label sk-toggleable\"><input class=\"sk-toggleable__control sk-hidden--visually\" id=\"sk-estimator-id-4\" type=\"checkbox\" ><label for=\"sk-estimator-id-4\" class=\"sk-toggleable__label sk-toggleable__label-arrow\">GridSearchCV</label><div class=\"sk-toggleable__content\"><pre>GridSearchCV(cv=5, estimator=GradientBoostingRegressor(), n_jobs=-1,\n",
       "             param_grid={&#x27;learning_rate&#x27;: [0.001, 0.25075, 0.5005, 0.75025,\n",
       "                                           1.0],\n",
       "                         &#x27;loss&#x27;: [&#x27;squared_error&#x27;, &#x27;absolute_error&#x27;, &#x27;huber&#x27;,\n",
       "                                  &#x27;quantile&#x27;],\n",
       "                         &#x27;max_depth&#x27;: [4, 5, 6, 7, 8, 9, 10, 11, 12],\n",
       "                         &#x27;n_estimators&#x27;: [400, 650, 950]},\n",
       "             scoring=&#x27;r2&#x27;, verbose=2)</pre></div></div></div><div class=\"sk-parallel\"><div class=\"sk-parallel-item\"><div class=\"sk-item\"><div class=\"sk-label-container\"><div class=\"sk-label sk-toggleable\"><input class=\"sk-toggleable__control sk-hidden--visually\" id=\"sk-estimator-id-5\" type=\"checkbox\" ><label for=\"sk-estimator-id-5\" class=\"sk-toggleable__label sk-toggleable__label-arrow\">estimator: GradientBoostingRegressor</label><div class=\"sk-toggleable__content\"><pre>GradientBoostingRegressor()</pre></div></div></div><div class=\"sk-serial\"><div class=\"sk-item\"><div class=\"sk-estimator sk-toggleable\"><input class=\"sk-toggleable__control sk-hidden--visually\" id=\"sk-estimator-id-6\" type=\"checkbox\" ><label for=\"sk-estimator-id-6\" class=\"sk-toggleable__label sk-toggleable__label-arrow\">GradientBoostingRegressor</label><div class=\"sk-toggleable__content\"><pre>GradientBoostingRegressor()</pre></div></div></div></div></div></div></div></div></div></div>"
      ],
      "text/plain": [
       "GridSearchCV(cv=5, estimator=GradientBoostingRegressor(), n_jobs=-1,\n",
       "             param_grid={'learning_rate': [0.001, 0.25075, 0.5005, 0.75025,\n",
       "                                           1.0],\n",
       "                         'loss': ['squared_error', 'absolute_error', 'huber',\n",
       "                                  'quantile'],\n",
       "                         'max_depth': [4, 5, 6, 7, 8, 9, 10, 11, 12],\n",
       "                         'n_estimators': [400, 650, 950]},\n",
       "             scoring='r2', verbose=2)"
      ]
     },
     "execution_count": 34,
     "metadata": {},
     "output_type": "execute_result"
    }
   ],
   "source": [
    "param={\n",
    "    'n_estimators'  :[400,650,950],\n",
    "    'learning_rate' :list(np.linspace(0.001,1,5)),\n",
    "    'max_depth'     :list(range(4,13)),\n",
    "    'loss'          :['squared_error', 'absolute_error', 'huber', 'quantile']\n",
    "}\n",
    "\n",
    "gsv_gb=GridSearchCV(estimator=base_gradb,\n",
    "                 param_grid=param,\n",
    "                 n_jobs=-1,\n",
    "                 scoring='r2',\n",
    "                 cv=5,\n",
    "                 verbose=2)\n",
    "\n",
    "gsv_gb.fit(x_train,y_train)"
   ]
  },
  {
   "cell_type": "code",
   "execution_count": 40,
   "metadata": {
    "id": "5UXohaYhNaLw"
   },
   "outputs": [
    {
     "name": "stdout",
     "output_type": "stream",
     "text": [
      "0.4371264542015195\n",
      "{'learning_rate': 0.25075, 'loss': 'absolute_error', 'max_depth': 5, 'n_estimators': 400}\n"
     ]
    }
   ],
   "source": [
    "print(gsv_gb.best_score_)\n",
    "print(gsv_gb.best_params_)"
   ]
  },
  {
   "cell_type": "code",
   "execution_count": 81,
   "metadata": {},
   "outputs": [
    {
     "name": "stdout",
     "output_type": "stream",
     "text": [
      "41.34 %\n"
     ]
    }
   ],
   "source": [
    "gradb=GradientBoostingRegressor(**gsv_gb.best_params_)\n",
    "gradb.fit(x_train,y_train)\n",
    "y_pred=gradb.predict(x_test)\n",
    "print(round(r2_score(y_test,y_pred,)*100,2),'%')"
   ]
  },
  {
   "cell_type": "markdown",
   "metadata": {
    "id": "vZtYvjp9r_dx"
   },
   "source": [
    "#### **4. XGBoost**"
   ]
  },
  {
   "cell_type": "code",
   "execution_count": 41,
   "metadata": {
    "id": "4H7Vpc0asZmV"
   },
   "outputs": [
    {
     "name": "stdout",
     "output_type": "stream",
     "text": [
      "Fitting 5 folds for each of 750 candidates, totalling 3750 fits\n"
     ]
    },
    {
     "data": {
      "text/html": [
       "<style>#sk-container-id-3 {color: black;background-color: white;}#sk-container-id-3 pre{padding: 0;}#sk-container-id-3 div.sk-toggleable {background-color: white;}#sk-container-id-3 label.sk-toggleable__label {cursor: pointer;display: block;width: 100%;margin-bottom: 0;padding: 0.3em;box-sizing: border-box;text-align: center;}#sk-container-id-3 label.sk-toggleable__label-arrow:before {content: \"▸\";float: left;margin-right: 0.25em;color: #696969;}#sk-container-id-3 label.sk-toggleable__label-arrow:hover:before {color: black;}#sk-container-id-3 div.sk-estimator:hover label.sk-toggleable__label-arrow:before {color: black;}#sk-container-id-3 div.sk-toggleable__content {max-height: 0;max-width: 0;overflow: hidden;text-align: left;background-color: #f0f8ff;}#sk-container-id-3 div.sk-toggleable__content pre {margin: 0.2em;color: black;border-radius: 0.25em;background-color: #f0f8ff;}#sk-container-id-3 input.sk-toggleable__control:checked~div.sk-toggleable__content {max-height: 200px;max-width: 100%;overflow: auto;}#sk-container-id-3 input.sk-toggleable__control:checked~label.sk-toggleable__label-arrow:before {content: \"▾\";}#sk-container-id-3 div.sk-estimator input.sk-toggleable__control:checked~label.sk-toggleable__label {background-color: #d4ebff;}#sk-container-id-3 div.sk-label input.sk-toggleable__control:checked~label.sk-toggleable__label {background-color: #d4ebff;}#sk-container-id-3 input.sk-hidden--visually {border: 0;clip: rect(1px 1px 1px 1px);clip: rect(1px, 1px, 1px, 1px);height: 1px;margin: -1px;overflow: hidden;padding: 0;position: absolute;width: 1px;}#sk-container-id-3 div.sk-estimator {font-family: monospace;background-color: #f0f8ff;border: 1px dotted black;border-radius: 0.25em;box-sizing: border-box;margin-bottom: 0.5em;}#sk-container-id-3 div.sk-estimator:hover {background-color: #d4ebff;}#sk-container-id-3 div.sk-parallel-item::after {content: \"\";width: 100%;border-bottom: 1px solid gray;flex-grow: 1;}#sk-container-id-3 div.sk-label:hover label.sk-toggleable__label {background-color: #d4ebff;}#sk-container-id-3 div.sk-serial::before {content: \"\";position: absolute;border-left: 1px solid gray;box-sizing: border-box;top: 0;bottom: 0;left: 50%;z-index: 0;}#sk-container-id-3 div.sk-serial {display: flex;flex-direction: column;align-items: center;background-color: white;padding-right: 0.2em;padding-left: 0.2em;position: relative;}#sk-container-id-3 div.sk-item {position: relative;z-index: 1;}#sk-container-id-3 div.sk-parallel {display: flex;align-items: stretch;justify-content: center;background-color: white;position: relative;}#sk-container-id-3 div.sk-item::before, #sk-container-id-3 div.sk-parallel-item::before {content: \"\";position: absolute;border-left: 1px solid gray;box-sizing: border-box;top: 0;bottom: 0;left: 50%;z-index: -1;}#sk-container-id-3 div.sk-parallel-item {display: flex;flex-direction: column;z-index: 1;position: relative;background-color: white;}#sk-container-id-3 div.sk-parallel-item:first-child::after {align-self: flex-end;width: 50%;}#sk-container-id-3 div.sk-parallel-item:last-child::after {align-self: flex-start;width: 50%;}#sk-container-id-3 div.sk-parallel-item:only-child::after {width: 0;}#sk-container-id-3 div.sk-dashed-wrapped {border: 1px dashed gray;margin: 0 0.4em 0.5em 0.4em;box-sizing: border-box;padding-bottom: 0.4em;background-color: white;}#sk-container-id-3 div.sk-label label {font-family: monospace;font-weight: bold;display: inline-block;line-height: 1.2em;}#sk-container-id-3 div.sk-label-container {text-align: center;}#sk-container-id-3 div.sk-container {/* jupyter's `normalize.less` sets `[hidden] { display: none; }` but bootstrap.min.css set `[hidden] { display: none !important; }` so we also need the `!important` here to be able to override the default hidden behavior on the sphinx rendered scikit-learn.org. See: https://github.com/scikit-learn/scikit-learn/issues/21755 */display: inline-block !important;position: relative;}#sk-container-id-3 div.sk-text-repr-fallback {display: none;}</style><div id=\"sk-container-id-3\" class=\"sk-top-container\"><div class=\"sk-text-repr-fallback\"><pre>GridSearchCV(cv=5,\n",
       "             estimator=XGBRegressor(base_score=None, booster=None,\n",
       "                                    callbacks=None, colsample_bylevel=None,\n",
       "                                    colsample_bynode=None,\n",
       "                                    colsample_bytree=None,\n",
       "                                    early_stopping_rounds=None,\n",
       "                                    enable_categorical=False, eval_metric=None,\n",
       "                                    feature_types=None, gamma=None, gpu_id=None,\n",
       "                                    grow_policy=None, importance_type=None,\n",
       "                                    interaction_constraints=None,\n",
       "                                    learning_rate=None, m...\n",
       "                                           0.333265306122449,\n",
       "                                           0.35346938775510206,\n",
       "                                           0.3736734693877551,\n",
       "                                           0.39387755102040817,\n",
       "                                           0.4140816326530612,\n",
       "                                           0.4342857142857143,\n",
       "                                           0.45448979591836736,\n",
       "                                           0.4746938775510204,\n",
       "                                           0.49489795918367346,\n",
       "                                           0.5151020408163265,\n",
       "                                           0.5353061224489796,\n",
       "                                           0.5555102040816327,\n",
       "                                           0.5757142857142857,\n",
       "                                           0.5959183673469388, ...],\n",
       "                         &#x27;max_depth&#x27;: [8, 9, 10],\n",
       "                         &#x27;n_estimators&#x27;: [400, 500, 600, 900, 1000]},\n",
       "             scoring=&#x27;r2&#x27;, verbose=2)</pre><b>In a Jupyter environment, please rerun this cell to show the HTML representation or trust the notebook. <br />On GitHub, the HTML representation is unable to render, please try loading this page with nbviewer.org.</b></div><div class=\"sk-container\" hidden><div class=\"sk-item sk-dashed-wrapped\"><div class=\"sk-label-container\"><div class=\"sk-label sk-toggleable\"><input class=\"sk-toggleable__control sk-hidden--visually\" id=\"sk-estimator-id-7\" type=\"checkbox\" ><label for=\"sk-estimator-id-7\" class=\"sk-toggleable__label sk-toggleable__label-arrow\">GridSearchCV</label><div class=\"sk-toggleable__content\"><pre>GridSearchCV(cv=5,\n",
       "             estimator=XGBRegressor(base_score=None, booster=None,\n",
       "                                    callbacks=None, colsample_bylevel=None,\n",
       "                                    colsample_bynode=None,\n",
       "                                    colsample_bytree=None,\n",
       "                                    early_stopping_rounds=None,\n",
       "                                    enable_categorical=False, eval_metric=None,\n",
       "                                    feature_types=None, gamma=None, gpu_id=None,\n",
       "                                    grow_policy=None, importance_type=None,\n",
       "                                    interaction_constraints=None,\n",
       "                                    learning_rate=None, m...\n",
       "                                           0.333265306122449,\n",
       "                                           0.35346938775510206,\n",
       "                                           0.3736734693877551,\n",
       "                                           0.39387755102040817,\n",
       "                                           0.4140816326530612,\n",
       "                                           0.4342857142857143,\n",
       "                                           0.45448979591836736,\n",
       "                                           0.4746938775510204,\n",
       "                                           0.49489795918367346,\n",
       "                                           0.5151020408163265,\n",
       "                                           0.5353061224489796,\n",
       "                                           0.5555102040816327,\n",
       "                                           0.5757142857142857,\n",
       "                                           0.5959183673469388, ...],\n",
       "                         &#x27;max_depth&#x27;: [8, 9, 10],\n",
       "                         &#x27;n_estimators&#x27;: [400, 500, 600, 900, 1000]},\n",
       "             scoring=&#x27;r2&#x27;, verbose=2)</pre></div></div></div><div class=\"sk-parallel\"><div class=\"sk-parallel-item\"><div class=\"sk-item\"><div class=\"sk-label-container\"><div class=\"sk-label sk-toggleable\"><input class=\"sk-toggleable__control sk-hidden--visually\" id=\"sk-estimator-id-8\" type=\"checkbox\" ><label for=\"sk-estimator-id-8\" class=\"sk-toggleable__label sk-toggleable__label-arrow\">estimator: XGBRegressor</label><div class=\"sk-toggleable__content\"><pre>XGBRegressor(base_score=None, booster=None, callbacks=None,\n",
       "             colsample_bylevel=None, colsample_bynode=None,\n",
       "             colsample_bytree=None, early_stopping_rounds=None,\n",
       "             enable_categorical=False, eval_metric=None, feature_types=None,\n",
       "             gamma=None, gpu_id=None, grow_policy=None, importance_type=None,\n",
       "             interaction_constraints=None, learning_rate=None, max_bin=None,\n",
       "             max_cat_threshold=None, max_cat_to_onehot=None,\n",
       "             max_delta_step=None, max_depth=None, max_leaves=None,\n",
       "             min_child_weight=None, missing=nan, monotone_constraints=None,\n",
       "             n_estimators=100, n_jobs=None, num_parallel_tree=None,\n",
       "             predictor=None, random_state=None, ...)</pre></div></div></div><div class=\"sk-serial\"><div class=\"sk-item\"><div class=\"sk-estimator sk-toggleable\"><input class=\"sk-toggleable__control sk-hidden--visually\" id=\"sk-estimator-id-9\" type=\"checkbox\" ><label for=\"sk-estimator-id-9\" class=\"sk-toggleable__label sk-toggleable__label-arrow\">XGBRegressor</label><div class=\"sk-toggleable__content\"><pre>XGBRegressor(base_score=None, booster=None, callbacks=None,\n",
       "             colsample_bylevel=None, colsample_bynode=None,\n",
       "             colsample_bytree=None, early_stopping_rounds=None,\n",
       "             enable_categorical=False, eval_metric=None, feature_types=None,\n",
       "             gamma=None, gpu_id=None, grow_policy=None, importance_type=None,\n",
       "             interaction_constraints=None, learning_rate=None, max_bin=None,\n",
       "             max_cat_threshold=None, max_cat_to_onehot=None,\n",
       "             max_delta_step=None, max_depth=None, max_leaves=None,\n",
       "             min_child_weight=None, missing=nan, monotone_constraints=None,\n",
       "             n_estimators=100, n_jobs=None, num_parallel_tree=None,\n",
       "             predictor=None, random_state=None, ...)</pre></div></div></div></div></div></div></div></div></div></div>"
      ],
      "text/plain": [
       "GridSearchCV(cv=5,\n",
       "             estimator=XGBRegressor(base_score=None, booster=None,\n",
       "                                    callbacks=None, colsample_bylevel=None,\n",
       "                                    colsample_bynode=None,\n",
       "                                    colsample_bytree=None,\n",
       "                                    early_stopping_rounds=None,\n",
       "                                    enable_categorical=False, eval_metric=None,\n",
       "                                    feature_types=None, gamma=None, gpu_id=None,\n",
       "                                    grow_policy=None, importance_type=None,\n",
       "                                    interaction_constraints=None,\n",
       "                                    learning_rate=None, m...\n",
       "                                           0.333265306122449,\n",
       "                                           0.35346938775510206,\n",
       "                                           0.3736734693877551,\n",
       "                                           0.39387755102040817,\n",
       "                                           0.4140816326530612,\n",
       "                                           0.4342857142857143,\n",
       "                                           0.45448979591836736,\n",
       "                                           0.4746938775510204,\n",
       "                                           0.49489795918367346,\n",
       "                                           0.5151020408163265,\n",
       "                                           0.5353061224489796,\n",
       "                                           0.5555102040816327,\n",
       "                                           0.5757142857142857,\n",
       "                                           0.5959183673469388, ...],\n",
       "                         'max_depth': [8, 9, 10],\n",
       "                         'n_estimators': [400, 500, 600, 900, 1000]},\n",
       "             scoring='r2', verbose=2)"
      ]
     },
     "execution_count": 41,
     "metadata": {},
     "output_type": "execute_result"
    }
   ],
   "source": [
    "param = {\n",
    "    'n_estimators'      : [400,500,600,900,1000],\n",
    "    'max_depth'         : [8,9,10],\n",
    "    'learning_rate'     : list(np.linspace(0.01,1,50)),\n",
    "    #'tree_method'       : ['gpu_hist']\n",
    "}\n",
    "\n",
    "gsv_xgb=GridSearchCV(estimator=base_xgb,\n",
    "                     param_grid=param,\n",
    "                     n_jobs=-1,\n",
    "                     cv=5,\n",
    "                     scoring='r2',\n",
    "                     verbose=2)\n",
    "gsv_xgb.fit(x_train,y_train)"
   ]
  },
  {
   "cell_type": "code",
   "execution_count": 42,
   "metadata": {
    "id": "54VuV948sdmN"
   },
   "outputs": [
    {
     "name": "stdout",
     "output_type": "stream",
     "text": [
      "0.4335705718786077\n",
      "{'learning_rate': 0.01, 'max_depth': 8, 'n_estimators': 400}\n"
     ]
    }
   ],
   "source": [
    "print(gsv_xgb.best_score_)\n",
    "print(gsv_xgb.best_params_)"
   ]
  },
  {
   "cell_type": "code",
   "execution_count": 82,
   "metadata": {},
   "outputs": [
    {
     "name": "stdout",
     "output_type": "stream",
     "text": [
      "41.08 %\n"
     ]
    }
   ],
   "source": [
    "xgb=XGBRegressor(**gsv_xgb.best_params_)\n",
    "xgb.fit(x_train,y_train)\n",
    "y_pred=xgb.predict(x_test)\n",
    "print(round(r2_score(y_test,y_pred,)*100,2),'%')"
   ]
  },
  {
   "cell_type": "markdown",
   "metadata": {
    "id": "LAjrjxfdzPbq"
   },
   "source": [
    "### **RandomizedSearchCV**\n"
   ]
  },
  {
   "cell_type": "markdown",
   "metadata": {
    "id": "x0n_U4cUtJzu"
   },
   "source": [
    "\n",
    "\n",
    "> **Initialize the base classifiers for RandomizedSearchCV**\n",
    "\n",
    "\n",
    "\n"
   ]
  },
  {
   "cell_type": "code",
   "execution_count": 120,
   "metadata": {
    "id": "VynwJIL8tJzv"
   },
   "outputs": [],
   "source": [
    "base_randf=RandomForestRegressor()\n",
    "base_adab=AdaBoostRegressor()\n",
    "base_gradb=GradientBoostingRegressor()\n",
    "base_xgb=XGBRegressor()"
   ]
  },
  {
   "cell_type": "markdown",
   "metadata": {
    "id": "9QU7qg4GAZGp"
   },
   "source": [
    "#### **1. RandomForest**"
   ]
  },
  {
   "cell_type": "code",
   "execution_count": 121,
   "metadata": {},
   "outputs": [
    {
     "name": "stdout",
     "output_type": "stream",
     "text": [
      "Fitting 5 folds for each of 36 candidates, totalling 180 fits\n"
     ]
    },
    {
     "data": {
      "text/html": [
       "<style>#sk-container-id-8 {color: black;background-color: white;}#sk-container-id-8 pre{padding: 0;}#sk-container-id-8 div.sk-toggleable {background-color: white;}#sk-container-id-8 label.sk-toggleable__label {cursor: pointer;display: block;width: 100%;margin-bottom: 0;padding: 0.3em;box-sizing: border-box;text-align: center;}#sk-container-id-8 label.sk-toggleable__label-arrow:before {content: \"▸\";float: left;margin-right: 0.25em;color: #696969;}#sk-container-id-8 label.sk-toggleable__label-arrow:hover:before {color: black;}#sk-container-id-8 div.sk-estimator:hover label.sk-toggleable__label-arrow:before {color: black;}#sk-container-id-8 div.sk-toggleable__content {max-height: 0;max-width: 0;overflow: hidden;text-align: left;background-color: #f0f8ff;}#sk-container-id-8 div.sk-toggleable__content pre {margin: 0.2em;color: black;border-radius: 0.25em;background-color: #f0f8ff;}#sk-container-id-8 input.sk-toggleable__control:checked~div.sk-toggleable__content {max-height: 200px;max-width: 100%;overflow: auto;}#sk-container-id-8 input.sk-toggleable__control:checked~label.sk-toggleable__label-arrow:before {content: \"▾\";}#sk-container-id-8 div.sk-estimator input.sk-toggleable__control:checked~label.sk-toggleable__label {background-color: #d4ebff;}#sk-container-id-8 div.sk-label input.sk-toggleable__control:checked~label.sk-toggleable__label {background-color: #d4ebff;}#sk-container-id-8 input.sk-hidden--visually {border: 0;clip: rect(1px 1px 1px 1px);clip: rect(1px, 1px, 1px, 1px);height: 1px;margin: -1px;overflow: hidden;padding: 0;position: absolute;width: 1px;}#sk-container-id-8 div.sk-estimator {font-family: monospace;background-color: #f0f8ff;border: 1px dotted black;border-radius: 0.25em;box-sizing: border-box;margin-bottom: 0.5em;}#sk-container-id-8 div.sk-estimator:hover {background-color: #d4ebff;}#sk-container-id-8 div.sk-parallel-item::after {content: \"\";width: 100%;border-bottom: 1px solid gray;flex-grow: 1;}#sk-container-id-8 div.sk-label:hover label.sk-toggleable__label {background-color: #d4ebff;}#sk-container-id-8 div.sk-serial::before {content: \"\";position: absolute;border-left: 1px solid gray;box-sizing: border-box;top: 0;bottom: 0;left: 50%;z-index: 0;}#sk-container-id-8 div.sk-serial {display: flex;flex-direction: column;align-items: center;background-color: white;padding-right: 0.2em;padding-left: 0.2em;position: relative;}#sk-container-id-8 div.sk-item {position: relative;z-index: 1;}#sk-container-id-8 div.sk-parallel {display: flex;align-items: stretch;justify-content: center;background-color: white;position: relative;}#sk-container-id-8 div.sk-item::before, #sk-container-id-8 div.sk-parallel-item::before {content: \"\";position: absolute;border-left: 1px solid gray;box-sizing: border-box;top: 0;bottom: 0;left: 50%;z-index: -1;}#sk-container-id-8 div.sk-parallel-item {display: flex;flex-direction: column;z-index: 1;position: relative;background-color: white;}#sk-container-id-8 div.sk-parallel-item:first-child::after {align-self: flex-end;width: 50%;}#sk-container-id-8 div.sk-parallel-item:last-child::after {align-self: flex-start;width: 50%;}#sk-container-id-8 div.sk-parallel-item:only-child::after {width: 0;}#sk-container-id-8 div.sk-dashed-wrapped {border: 1px dashed gray;margin: 0 0.4em 0.5em 0.4em;box-sizing: border-box;padding-bottom: 0.4em;background-color: white;}#sk-container-id-8 div.sk-label label {font-family: monospace;font-weight: bold;display: inline-block;line-height: 1.2em;}#sk-container-id-8 div.sk-label-container {text-align: center;}#sk-container-id-8 div.sk-container {/* jupyter's `normalize.less` sets `[hidden] { display: none; }` but bootstrap.min.css set `[hidden] { display: none !important; }` so we also need the `!important` here to be able to override the default hidden behavior on the sphinx rendered scikit-learn.org. See: https://github.com/scikit-learn/scikit-learn/issues/21755 */display: inline-block !important;position: relative;}#sk-container-id-8 div.sk-text-repr-fallback {display: none;}</style><div id=\"sk-container-id-8\" class=\"sk-top-container\"><div class=\"sk-text-repr-fallback\"><pre>RandomizedSearchCV(cv=5, estimator=RandomForestRegressor(), n_iter=100,\n",
       "                   n_jobs=-1,\n",
       "                   param_distributions={&#x27;criterion&#x27;: [&#x27;squared_error&#x27;,\n",
       "                                                      &#x27;absolute_error&#x27;,\n",
       "                                                      &#x27;friedman_mse&#x27;,\n",
       "                                                      &#x27;poisson&#x27;],\n",
       "                                        &#x27;max_features&#x27;: [&#x27;sqrt&#x27;, &#x27;log2&#x27;, None],\n",
       "                                        &#x27;n_estimators&#x27;: [400, 650, 950]},\n",
       "                   random_state=3, scoring=&#x27;r2&#x27;, verbose=2)</pre><b>In a Jupyter environment, please rerun this cell to show the HTML representation or trust the notebook. <br />On GitHub, the HTML representation is unable to render, please try loading this page with nbviewer.org.</b></div><div class=\"sk-container\" hidden><div class=\"sk-item sk-dashed-wrapped\"><div class=\"sk-label-container\"><div class=\"sk-label sk-toggleable\"><input class=\"sk-toggleable__control sk-hidden--visually\" id=\"sk-estimator-id-22\" type=\"checkbox\" ><label for=\"sk-estimator-id-22\" class=\"sk-toggleable__label sk-toggleable__label-arrow\">RandomizedSearchCV</label><div class=\"sk-toggleable__content\"><pre>RandomizedSearchCV(cv=5, estimator=RandomForestRegressor(), n_iter=100,\n",
       "                   n_jobs=-1,\n",
       "                   param_distributions={&#x27;criterion&#x27;: [&#x27;squared_error&#x27;,\n",
       "                                                      &#x27;absolute_error&#x27;,\n",
       "                                                      &#x27;friedman_mse&#x27;,\n",
       "                                                      &#x27;poisson&#x27;],\n",
       "                                        &#x27;max_features&#x27;: [&#x27;sqrt&#x27;, &#x27;log2&#x27;, None],\n",
       "                                        &#x27;n_estimators&#x27;: [400, 650, 950]},\n",
       "                   random_state=3, scoring=&#x27;r2&#x27;, verbose=2)</pre></div></div></div><div class=\"sk-parallel\"><div class=\"sk-parallel-item\"><div class=\"sk-item\"><div class=\"sk-label-container\"><div class=\"sk-label sk-toggleable\"><input class=\"sk-toggleable__control sk-hidden--visually\" id=\"sk-estimator-id-23\" type=\"checkbox\" ><label for=\"sk-estimator-id-23\" class=\"sk-toggleable__label sk-toggleable__label-arrow\">estimator: RandomForestRegressor</label><div class=\"sk-toggleable__content\"><pre>RandomForestRegressor()</pre></div></div></div><div class=\"sk-serial\"><div class=\"sk-item\"><div class=\"sk-estimator sk-toggleable\"><input class=\"sk-toggleable__control sk-hidden--visually\" id=\"sk-estimator-id-24\" type=\"checkbox\" ><label for=\"sk-estimator-id-24\" class=\"sk-toggleable__label sk-toggleable__label-arrow\">RandomForestRegressor</label><div class=\"sk-toggleable__content\"><pre>RandomForestRegressor()</pre></div></div></div></div></div></div></div></div></div></div>"
      ],
      "text/plain": [
       "RandomizedSearchCV(cv=5, estimator=RandomForestRegressor(), n_iter=100,\n",
       "                   n_jobs=-1,\n",
       "                   param_distributions={'criterion': ['squared_error',\n",
       "                                                      'absolute_error',\n",
       "                                                      'friedman_mse',\n",
       "                                                      'poisson'],\n",
       "                                        'max_features': ['sqrt', 'log2', None],\n",
       "                                        'n_estimators': [400, 650, 950]},\n",
       "                   random_state=3, scoring='r2', verbose=2)"
      ]
     },
     "execution_count": 121,
     "metadata": {},
     "output_type": "execute_result"
    }
   ],
   "source": [
    "param={'n_estimators'  :[400,650,950],\n",
    "      'criterion'      :['squared_error', 'absolute_error', 'friedman_mse','poisson'],\n",
    "      'max_features'   :['sqrt', 'log2', None]\n",
    "      }\n",
    "gsv_randf=RandomizedSearchCV(\n",
    "                        estimator=base_randf,\n",
    "                        param_distributions=param,\n",
    "                        n_iter=100,\n",
    "                        n_jobs=-1,\n",
    "                        scoring='r2',\n",
    "                        cv=5,\n",
    "                        verbose=2,\n",
    "                        random_state=3)\n",
    "\n",
    "gsv_randf.fit(x_train,y_train)"
   ]
  },
  {
   "cell_type": "code",
   "execution_count": 122,
   "metadata": {},
   "outputs": [
    {
     "name": "stdout",
     "output_type": "stream",
     "text": [
      "0.44819408590990434\n",
      "{'n_estimators': 950, 'max_features': 'sqrt', 'criterion': 'poisson'}\n"
     ]
    }
   ],
   "source": [
    "print(gsv_randf.best_score_)\n",
    "print(gsv_randf.best_params_)"
   ]
  },
  {
   "cell_type": "code",
   "execution_count": 123,
   "metadata": {},
   "outputs": [
    {
     "name": "stdout",
     "output_type": "stream",
     "text": [
      "42.18 %\n"
     ]
    }
   ],
   "source": [
    "randf=RandomForestRegressor(**gsv_randf.best_params_)\n",
    "randf.fit(x_train,y_train)\n",
    "y_pred=randf.predict(x_test)\n",
    "print(round(r2_score(y_test,y_pred,)*100,2),'%')"
   ]
  },
  {
   "cell_type": "markdown",
   "metadata": {
    "id": "vqLO1YBIT6x2"
   },
   "source": [
    "#### **2. AdaBoost**"
   ]
  },
  {
   "cell_type": "code",
   "execution_count": 44,
   "metadata": {
    "id": "ZrCzpvnPT6x3"
   },
   "outputs": [
    {
     "name": "stdout",
     "output_type": "stream",
     "text": [
      "Fitting 5 folds for each of 100 candidates, totalling 500 fits\n"
     ]
    },
    {
     "data": {
      "text/html": [
       "<style>#sk-container-id-4 {color: black;background-color: white;}#sk-container-id-4 pre{padding: 0;}#sk-container-id-4 div.sk-toggleable {background-color: white;}#sk-container-id-4 label.sk-toggleable__label {cursor: pointer;display: block;width: 100%;margin-bottom: 0;padding: 0.3em;box-sizing: border-box;text-align: center;}#sk-container-id-4 label.sk-toggleable__label-arrow:before {content: \"▸\";float: left;margin-right: 0.25em;color: #696969;}#sk-container-id-4 label.sk-toggleable__label-arrow:hover:before {color: black;}#sk-container-id-4 div.sk-estimator:hover label.sk-toggleable__label-arrow:before {color: black;}#sk-container-id-4 div.sk-toggleable__content {max-height: 0;max-width: 0;overflow: hidden;text-align: left;background-color: #f0f8ff;}#sk-container-id-4 div.sk-toggleable__content pre {margin: 0.2em;color: black;border-radius: 0.25em;background-color: #f0f8ff;}#sk-container-id-4 input.sk-toggleable__control:checked~div.sk-toggleable__content {max-height: 200px;max-width: 100%;overflow: auto;}#sk-container-id-4 input.sk-toggleable__control:checked~label.sk-toggleable__label-arrow:before {content: \"▾\";}#sk-container-id-4 div.sk-estimator input.sk-toggleable__control:checked~label.sk-toggleable__label {background-color: #d4ebff;}#sk-container-id-4 div.sk-label input.sk-toggleable__control:checked~label.sk-toggleable__label {background-color: #d4ebff;}#sk-container-id-4 input.sk-hidden--visually {border: 0;clip: rect(1px 1px 1px 1px);clip: rect(1px, 1px, 1px, 1px);height: 1px;margin: -1px;overflow: hidden;padding: 0;position: absolute;width: 1px;}#sk-container-id-4 div.sk-estimator {font-family: monospace;background-color: #f0f8ff;border: 1px dotted black;border-radius: 0.25em;box-sizing: border-box;margin-bottom: 0.5em;}#sk-container-id-4 div.sk-estimator:hover {background-color: #d4ebff;}#sk-container-id-4 div.sk-parallel-item::after {content: \"\";width: 100%;border-bottom: 1px solid gray;flex-grow: 1;}#sk-container-id-4 div.sk-label:hover label.sk-toggleable__label {background-color: #d4ebff;}#sk-container-id-4 div.sk-serial::before {content: \"\";position: absolute;border-left: 1px solid gray;box-sizing: border-box;top: 0;bottom: 0;left: 50%;z-index: 0;}#sk-container-id-4 div.sk-serial {display: flex;flex-direction: column;align-items: center;background-color: white;padding-right: 0.2em;padding-left: 0.2em;position: relative;}#sk-container-id-4 div.sk-item {position: relative;z-index: 1;}#sk-container-id-4 div.sk-parallel {display: flex;align-items: stretch;justify-content: center;background-color: white;position: relative;}#sk-container-id-4 div.sk-item::before, #sk-container-id-4 div.sk-parallel-item::before {content: \"\";position: absolute;border-left: 1px solid gray;box-sizing: border-box;top: 0;bottom: 0;left: 50%;z-index: -1;}#sk-container-id-4 div.sk-parallel-item {display: flex;flex-direction: column;z-index: 1;position: relative;background-color: white;}#sk-container-id-4 div.sk-parallel-item:first-child::after {align-self: flex-end;width: 50%;}#sk-container-id-4 div.sk-parallel-item:last-child::after {align-self: flex-start;width: 50%;}#sk-container-id-4 div.sk-parallel-item:only-child::after {width: 0;}#sk-container-id-4 div.sk-dashed-wrapped {border: 1px dashed gray;margin: 0 0.4em 0.5em 0.4em;box-sizing: border-box;padding-bottom: 0.4em;background-color: white;}#sk-container-id-4 div.sk-label label {font-family: monospace;font-weight: bold;display: inline-block;line-height: 1.2em;}#sk-container-id-4 div.sk-label-container {text-align: center;}#sk-container-id-4 div.sk-container {/* jupyter's `normalize.less` sets `[hidden] { display: none; }` but bootstrap.min.css set `[hidden] { display: none !important; }` so we also need the `!important` here to be able to override the default hidden behavior on the sphinx rendered scikit-learn.org. See: https://github.com/scikit-learn/scikit-learn/issues/21755 */display: inline-block !important;position: relative;}#sk-container-id-4 div.sk-text-repr-fallback {display: none;}</style><div id=\"sk-container-id-4\" class=\"sk-top-container\"><div class=\"sk-text-repr-fallback\"><pre>RandomizedSearchCV(cv=5, estimator=AdaBoostRegressor(), n_iter=100, n_jobs=-1,\n",
       "                   param_distributions={&#x27;learning_rate&#x27;: [0.001,\n",
       "                                                          0.011090909090909092,\n",
       "                                                          0.021181818181818184,\n",
       "                                                          0.03127272727272727,\n",
       "                                                          0.041363636363636366,\n",
       "                                                          0.05145454545454546,\n",
       "                                                          0.06154545454545455,\n",
       "                                                          0.07163636363636364,\n",
       "                                                          0.08172727272727273,\n",
       "                                                          0.09181818181818183,\n",
       "                                                          0.10190909090909092,\n",
       "                                                          0.112,\n",
       "                                                          0.1220909090909091,\n",
       "                                                          0.1...\n",
       "                                                          0.18263636363636365,\n",
       "                                                          0.19272727272727275,\n",
       "                                                          0.20281818181818184,\n",
       "                                                          0.2129090909090909,\n",
       "                                                          0.223,\n",
       "                                                          0.2330909090909091,\n",
       "                                                          0.2431818181818182,\n",
       "                                                          0.25327272727272726,\n",
       "                                                          0.26336363636363636,\n",
       "                                                          0.27345454545454545,\n",
       "                                                          0.28354545454545454,\n",
       "                                                          0.29363636363636364, ...],\n",
       "                                        &#x27;loss&#x27;: [&#x27;linear&#x27;, &#x27;square&#x27;,\n",
       "                                                 &#x27;exponential&#x27;],\n",
       "                                        &#x27;n_estimators&#x27;: [400, 650, 950, 1200,\n",
       "                                                         1500, 2000]},\n",
       "                   random_state=3, scoring=&#x27;r2&#x27;, verbose=2)</pre><b>In a Jupyter environment, please rerun this cell to show the HTML representation or trust the notebook. <br />On GitHub, the HTML representation is unable to render, please try loading this page with nbviewer.org.</b></div><div class=\"sk-container\" hidden><div class=\"sk-item sk-dashed-wrapped\"><div class=\"sk-label-container\"><div class=\"sk-label sk-toggleable\"><input class=\"sk-toggleable__control sk-hidden--visually\" id=\"sk-estimator-id-10\" type=\"checkbox\" ><label for=\"sk-estimator-id-10\" class=\"sk-toggleable__label sk-toggleable__label-arrow\">RandomizedSearchCV</label><div class=\"sk-toggleable__content\"><pre>RandomizedSearchCV(cv=5, estimator=AdaBoostRegressor(), n_iter=100, n_jobs=-1,\n",
       "                   param_distributions={&#x27;learning_rate&#x27;: [0.001,\n",
       "                                                          0.011090909090909092,\n",
       "                                                          0.021181818181818184,\n",
       "                                                          0.03127272727272727,\n",
       "                                                          0.041363636363636366,\n",
       "                                                          0.05145454545454546,\n",
       "                                                          0.06154545454545455,\n",
       "                                                          0.07163636363636364,\n",
       "                                                          0.08172727272727273,\n",
       "                                                          0.09181818181818183,\n",
       "                                                          0.10190909090909092,\n",
       "                                                          0.112,\n",
       "                                                          0.1220909090909091,\n",
       "                                                          0.1...\n",
       "                                                          0.18263636363636365,\n",
       "                                                          0.19272727272727275,\n",
       "                                                          0.20281818181818184,\n",
       "                                                          0.2129090909090909,\n",
       "                                                          0.223,\n",
       "                                                          0.2330909090909091,\n",
       "                                                          0.2431818181818182,\n",
       "                                                          0.25327272727272726,\n",
       "                                                          0.26336363636363636,\n",
       "                                                          0.27345454545454545,\n",
       "                                                          0.28354545454545454,\n",
       "                                                          0.29363636363636364, ...],\n",
       "                                        &#x27;loss&#x27;: [&#x27;linear&#x27;, &#x27;square&#x27;,\n",
       "                                                 &#x27;exponential&#x27;],\n",
       "                                        &#x27;n_estimators&#x27;: [400, 650, 950, 1200,\n",
       "                                                         1500, 2000]},\n",
       "                   random_state=3, scoring=&#x27;r2&#x27;, verbose=2)</pre></div></div></div><div class=\"sk-parallel\"><div class=\"sk-parallel-item\"><div class=\"sk-item\"><div class=\"sk-label-container\"><div class=\"sk-label sk-toggleable\"><input class=\"sk-toggleable__control sk-hidden--visually\" id=\"sk-estimator-id-11\" type=\"checkbox\" ><label for=\"sk-estimator-id-11\" class=\"sk-toggleable__label sk-toggleable__label-arrow\">estimator: AdaBoostRegressor</label><div class=\"sk-toggleable__content\"><pre>AdaBoostRegressor()</pre></div></div></div><div class=\"sk-serial\"><div class=\"sk-item\"><div class=\"sk-estimator sk-toggleable\"><input class=\"sk-toggleable__control sk-hidden--visually\" id=\"sk-estimator-id-12\" type=\"checkbox\" ><label for=\"sk-estimator-id-12\" class=\"sk-toggleable__label sk-toggleable__label-arrow\">AdaBoostRegressor</label><div class=\"sk-toggleable__content\"><pre>AdaBoostRegressor()</pre></div></div></div></div></div></div></div></div></div></div>"
      ],
      "text/plain": [
       "RandomizedSearchCV(cv=5, estimator=AdaBoostRegressor(), n_iter=100, n_jobs=-1,\n",
       "                   param_distributions={'learning_rate': [0.001,\n",
       "                                                          0.011090909090909092,\n",
       "                                                          0.021181818181818184,\n",
       "                                                          0.03127272727272727,\n",
       "                                                          0.041363636363636366,\n",
       "                                                          0.05145454545454546,\n",
       "                                                          0.06154545454545455,\n",
       "                                                          0.07163636363636364,\n",
       "                                                          0.08172727272727273,\n",
       "                                                          0.09181818181818183,\n",
       "                                                          0.10190909090909092,\n",
       "                                                          0.112,\n",
       "                                                          0.1220909090909091,\n",
       "                                                          0.1...\n",
       "                                                          0.18263636363636365,\n",
       "                                                          0.19272727272727275,\n",
       "                                                          0.20281818181818184,\n",
       "                                                          0.2129090909090909,\n",
       "                                                          0.223,\n",
       "                                                          0.2330909090909091,\n",
       "                                                          0.2431818181818182,\n",
       "                                                          0.25327272727272726,\n",
       "                                                          0.26336363636363636,\n",
       "                                                          0.27345454545454545,\n",
       "                                                          0.28354545454545454,\n",
       "                                                          0.29363636363636364, ...],\n",
       "                                        'loss': ['linear', 'square',\n",
       "                                                 'exponential'],\n",
       "                                        'n_estimators': [400, 650, 950, 1200,\n",
       "                                                         1500, 2000]},\n",
       "                   random_state=3, scoring='r2', verbose=2)"
      ]
     },
     "execution_count": 44,
     "metadata": {},
     "output_type": "execute_result"
    }
   ],
   "source": [
    "param={\n",
    "    'n_estimators'  :[400,650,950,1200,1500,2000],\n",
    "    'learning_rate' :list(np.linspace(0.001,1,100)),\n",
    "    'loss'          :['linear', 'square', 'exponential']\n",
    "}\n",
    "\n",
    "randSCV_adab=RandomizedSearchCV(\n",
    "    estimator=base_adab,\n",
    "    param_distributions=param,\n",
    "    n_iter=100,\n",
    "    n_jobs=-1,\n",
    "    scoring='r2',\n",
    "    cv=5,\n",
    "    verbose=2,\n",
    "    random_state=3)\n",
    "\n",
    "randSCV_adab.fit(x_train,y_train)"
   ]
  },
  {
   "cell_type": "code",
   "execution_count": 45,
   "metadata": {
    "id": "uvGlDxoVT6x3"
   },
   "outputs": [
    {
     "name": "stdout",
     "output_type": "stream",
     "text": [
      "0.39146557065585247\n",
      "{'n_estimators': 650, 'loss': 'exponential', 'learning_rate': 0.011090909090909092}\n"
     ]
    }
   ],
   "source": [
    "print(randSCV_adab.best_score_)\n",
    "print(randSCV_adab.best_params_)"
   ]
  },
  {
   "cell_type": "code",
   "execution_count": 83,
   "metadata": {},
   "outputs": [
    {
     "name": "stdout",
     "output_type": "stream",
     "text": [
      "35.42 %\n"
     ]
    }
   ],
   "source": [
    "adab=AdaBoostRegressor(**randSCV_adab.best_params_)\n",
    "adab.fit(x_train,y_train)\n",
    "y_pred=adab.predict(x_test)\n",
    "print(round(r2_score(y_test,y_pred,)*100,2),'%')"
   ]
  },
  {
   "cell_type": "markdown",
   "metadata": {
    "id": "To7ipLzvT6x3"
   },
   "source": [
    "#### **3. GradientBoost**"
   ]
  },
  {
   "cell_type": "code",
   "execution_count": 46,
   "metadata": {
    "id": "SQ7ouj6AT6x4"
   },
   "outputs": [
    {
     "name": "stdout",
     "output_type": "stream",
     "text": [
      "Fitting 5 folds for each of 100 candidates, totalling 500 fits\n"
     ]
    },
    {
     "data": {
      "text/html": [
       "<style>#sk-container-id-5 {color: black;background-color: white;}#sk-container-id-5 pre{padding: 0;}#sk-container-id-5 div.sk-toggleable {background-color: white;}#sk-container-id-5 label.sk-toggleable__label {cursor: pointer;display: block;width: 100%;margin-bottom: 0;padding: 0.3em;box-sizing: border-box;text-align: center;}#sk-container-id-5 label.sk-toggleable__label-arrow:before {content: \"▸\";float: left;margin-right: 0.25em;color: #696969;}#sk-container-id-5 label.sk-toggleable__label-arrow:hover:before {color: black;}#sk-container-id-5 div.sk-estimator:hover label.sk-toggleable__label-arrow:before {color: black;}#sk-container-id-5 div.sk-toggleable__content {max-height: 0;max-width: 0;overflow: hidden;text-align: left;background-color: #f0f8ff;}#sk-container-id-5 div.sk-toggleable__content pre {margin: 0.2em;color: black;border-radius: 0.25em;background-color: #f0f8ff;}#sk-container-id-5 input.sk-toggleable__control:checked~div.sk-toggleable__content {max-height: 200px;max-width: 100%;overflow: auto;}#sk-container-id-5 input.sk-toggleable__control:checked~label.sk-toggleable__label-arrow:before {content: \"▾\";}#sk-container-id-5 div.sk-estimator input.sk-toggleable__control:checked~label.sk-toggleable__label {background-color: #d4ebff;}#sk-container-id-5 div.sk-label input.sk-toggleable__control:checked~label.sk-toggleable__label {background-color: #d4ebff;}#sk-container-id-5 input.sk-hidden--visually {border: 0;clip: rect(1px 1px 1px 1px);clip: rect(1px, 1px, 1px, 1px);height: 1px;margin: -1px;overflow: hidden;padding: 0;position: absolute;width: 1px;}#sk-container-id-5 div.sk-estimator {font-family: monospace;background-color: #f0f8ff;border: 1px dotted black;border-radius: 0.25em;box-sizing: border-box;margin-bottom: 0.5em;}#sk-container-id-5 div.sk-estimator:hover {background-color: #d4ebff;}#sk-container-id-5 div.sk-parallel-item::after {content: \"\";width: 100%;border-bottom: 1px solid gray;flex-grow: 1;}#sk-container-id-5 div.sk-label:hover label.sk-toggleable__label {background-color: #d4ebff;}#sk-container-id-5 div.sk-serial::before {content: \"\";position: absolute;border-left: 1px solid gray;box-sizing: border-box;top: 0;bottom: 0;left: 50%;z-index: 0;}#sk-container-id-5 div.sk-serial {display: flex;flex-direction: column;align-items: center;background-color: white;padding-right: 0.2em;padding-left: 0.2em;position: relative;}#sk-container-id-5 div.sk-item {position: relative;z-index: 1;}#sk-container-id-5 div.sk-parallel {display: flex;align-items: stretch;justify-content: center;background-color: white;position: relative;}#sk-container-id-5 div.sk-item::before, #sk-container-id-5 div.sk-parallel-item::before {content: \"\";position: absolute;border-left: 1px solid gray;box-sizing: border-box;top: 0;bottom: 0;left: 50%;z-index: -1;}#sk-container-id-5 div.sk-parallel-item {display: flex;flex-direction: column;z-index: 1;position: relative;background-color: white;}#sk-container-id-5 div.sk-parallel-item:first-child::after {align-self: flex-end;width: 50%;}#sk-container-id-5 div.sk-parallel-item:last-child::after {align-self: flex-start;width: 50%;}#sk-container-id-5 div.sk-parallel-item:only-child::after {width: 0;}#sk-container-id-5 div.sk-dashed-wrapped {border: 1px dashed gray;margin: 0 0.4em 0.5em 0.4em;box-sizing: border-box;padding-bottom: 0.4em;background-color: white;}#sk-container-id-5 div.sk-label label {font-family: monospace;font-weight: bold;display: inline-block;line-height: 1.2em;}#sk-container-id-5 div.sk-label-container {text-align: center;}#sk-container-id-5 div.sk-container {/* jupyter's `normalize.less` sets `[hidden] { display: none; }` but bootstrap.min.css set `[hidden] { display: none !important; }` so we also need the `!important` here to be able to override the default hidden behavior on the sphinx rendered scikit-learn.org. See: https://github.com/scikit-learn/scikit-learn/issues/21755 */display: inline-block !important;position: relative;}#sk-container-id-5 div.sk-text-repr-fallback {display: none;}</style><div id=\"sk-container-id-5\" class=\"sk-top-container\"><div class=\"sk-text-repr-fallback\"><pre>RandomizedSearchCV(cv=5, estimator=GradientBoostingRegressor(), n_iter=100,\n",
       "                   n_jobs=-1,\n",
       "                   param_distributions={&#x27;learning_rate&#x27;: [0.001,\n",
       "                                                          0.011090909090909092,\n",
       "                                                          0.021181818181818184,\n",
       "                                                          0.03127272727272727,\n",
       "                                                          0.041363636363636366,\n",
       "                                                          0.05145454545454546,\n",
       "                                                          0.06154545454545455,\n",
       "                                                          0.07163636363636364,\n",
       "                                                          0.08172727272727273,\n",
       "                                                          0.09181818181818183,\n",
       "                                                          0.10190909090909092,\n",
       "                                                          0.112,\n",
       "                                                          0.122090909090...\n",
       "                                                          0.20281818181818184,\n",
       "                                                          0.2129090909090909,\n",
       "                                                          0.223,\n",
       "                                                          0.2330909090909091,\n",
       "                                                          0.2431818181818182,\n",
       "                                                          0.25327272727272726,\n",
       "                                                          0.26336363636363636,\n",
       "                                                          0.27345454545454545,\n",
       "                                                          0.28354545454545454,\n",
       "                                                          0.29363636363636364, ...],\n",
       "                                        &#x27;loss&#x27;: [&#x27;squared_error&#x27;,\n",
       "                                                 &#x27;absolute_error&#x27;, &#x27;huber&#x27;,\n",
       "                                                 &#x27;quantile&#x27;],\n",
       "                                        &#x27;max_depth&#x27;: [4, 5, 6, 7, 8, 9, 10, 11,\n",
       "                                                      12],\n",
       "                                        &#x27;n_estimators&#x27;: [400, 650, 950, 1200,\n",
       "                                                         1500, 2000]},\n",
       "                   random_state=3, scoring=&#x27;r2&#x27;, verbose=2)</pre><b>In a Jupyter environment, please rerun this cell to show the HTML representation or trust the notebook. <br />On GitHub, the HTML representation is unable to render, please try loading this page with nbviewer.org.</b></div><div class=\"sk-container\" hidden><div class=\"sk-item sk-dashed-wrapped\"><div class=\"sk-label-container\"><div class=\"sk-label sk-toggleable\"><input class=\"sk-toggleable__control sk-hidden--visually\" id=\"sk-estimator-id-13\" type=\"checkbox\" ><label for=\"sk-estimator-id-13\" class=\"sk-toggleable__label sk-toggleable__label-arrow\">RandomizedSearchCV</label><div class=\"sk-toggleable__content\"><pre>RandomizedSearchCV(cv=5, estimator=GradientBoostingRegressor(), n_iter=100,\n",
       "                   n_jobs=-1,\n",
       "                   param_distributions={&#x27;learning_rate&#x27;: [0.001,\n",
       "                                                          0.011090909090909092,\n",
       "                                                          0.021181818181818184,\n",
       "                                                          0.03127272727272727,\n",
       "                                                          0.041363636363636366,\n",
       "                                                          0.05145454545454546,\n",
       "                                                          0.06154545454545455,\n",
       "                                                          0.07163636363636364,\n",
       "                                                          0.08172727272727273,\n",
       "                                                          0.09181818181818183,\n",
       "                                                          0.10190909090909092,\n",
       "                                                          0.112,\n",
       "                                                          0.122090909090...\n",
       "                                                          0.20281818181818184,\n",
       "                                                          0.2129090909090909,\n",
       "                                                          0.223,\n",
       "                                                          0.2330909090909091,\n",
       "                                                          0.2431818181818182,\n",
       "                                                          0.25327272727272726,\n",
       "                                                          0.26336363636363636,\n",
       "                                                          0.27345454545454545,\n",
       "                                                          0.28354545454545454,\n",
       "                                                          0.29363636363636364, ...],\n",
       "                                        &#x27;loss&#x27;: [&#x27;squared_error&#x27;,\n",
       "                                                 &#x27;absolute_error&#x27;, &#x27;huber&#x27;,\n",
       "                                                 &#x27;quantile&#x27;],\n",
       "                                        &#x27;max_depth&#x27;: [4, 5, 6, 7, 8, 9, 10, 11,\n",
       "                                                      12],\n",
       "                                        &#x27;n_estimators&#x27;: [400, 650, 950, 1200,\n",
       "                                                         1500, 2000]},\n",
       "                   random_state=3, scoring=&#x27;r2&#x27;, verbose=2)</pre></div></div></div><div class=\"sk-parallel\"><div class=\"sk-parallel-item\"><div class=\"sk-item\"><div class=\"sk-label-container\"><div class=\"sk-label sk-toggleable\"><input class=\"sk-toggleable__control sk-hidden--visually\" id=\"sk-estimator-id-14\" type=\"checkbox\" ><label for=\"sk-estimator-id-14\" class=\"sk-toggleable__label sk-toggleable__label-arrow\">estimator: GradientBoostingRegressor</label><div class=\"sk-toggleable__content\"><pre>GradientBoostingRegressor()</pre></div></div></div><div class=\"sk-serial\"><div class=\"sk-item\"><div class=\"sk-estimator sk-toggleable\"><input class=\"sk-toggleable__control sk-hidden--visually\" id=\"sk-estimator-id-15\" type=\"checkbox\" ><label for=\"sk-estimator-id-15\" class=\"sk-toggleable__label sk-toggleable__label-arrow\">GradientBoostingRegressor</label><div class=\"sk-toggleable__content\"><pre>GradientBoostingRegressor()</pre></div></div></div></div></div></div></div></div></div></div>"
      ],
      "text/plain": [
       "RandomizedSearchCV(cv=5, estimator=GradientBoostingRegressor(), n_iter=100,\n",
       "                   n_jobs=-1,\n",
       "                   param_distributions={'learning_rate': [0.001,\n",
       "                                                          0.011090909090909092,\n",
       "                                                          0.021181818181818184,\n",
       "                                                          0.03127272727272727,\n",
       "                                                          0.041363636363636366,\n",
       "                                                          0.05145454545454546,\n",
       "                                                          0.06154545454545455,\n",
       "                                                          0.07163636363636364,\n",
       "                                                          0.08172727272727273,\n",
       "                                                          0.09181818181818183,\n",
       "                                                          0.10190909090909092,\n",
       "                                                          0.112,\n",
       "                                                          0.122090909090...\n",
       "                                                          0.20281818181818184,\n",
       "                                                          0.2129090909090909,\n",
       "                                                          0.223,\n",
       "                                                          0.2330909090909091,\n",
       "                                                          0.2431818181818182,\n",
       "                                                          0.25327272727272726,\n",
       "                                                          0.26336363636363636,\n",
       "                                                          0.27345454545454545,\n",
       "                                                          0.28354545454545454,\n",
       "                                                          0.29363636363636364, ...],\n",
       "                                        'loss': ['squared_error',\n",
       "                                                 'absolute_error', 'huber',\n",
       "                                                 'quantile'],\n",
       "                                        'max_depth': [4, 5, 6, 7, 8, 9, 10, 11,\n",
       "                                                      12],\n",
       "                                        'n_estimators': [400, 650, 950, 1200,\n",
       "                                                         1500, 2000]},\n",
       "                   random_state=3, scoring='r2', verbose=2)"
      ]
     },
     "execution_count": 46,
     "metadata": {},
     "output_type": "execute_result"
    }
   ],
   "source": [
    "param={\n",
    "    'n_estimators'  :[400,650,950,1200,1500,2000],\n",
    "    'learning_rate' :list(np.linspace(0.001,1,100)),\n",
    "    'max_depth'     :list(range(4,13)),\n",
    "    'loss'          :['squared_error', 'absolute_error', 'huber', 'quantile']\n",
    "}\n",
    "\n",
    "randSCV_gb=RandomizedSearchCV(\n",
    "    estimator=base_gradb,\n",
    "    param_distributions =param,\n",
    "    n_iter=100,\n",
    "    n_jobs=-1,\n",
    "    scoring='r2',\n",
    "    cv=5,\n",
    "    verbose=2,\n",
    "    random_state=3)\n",
    "\n",
    "randSCV_gb.fit(x_train,y_train)"
   ]
  },
  {
   "cell_type": "code",
   "execution_count": 47,
   "metadata": {
    "id": "IAktBNSTT6x4"
   },
   "outputs": [
    {
     "name": "stdout",
     "output_type": "stream",
     "text": [
      "0.43579453998208584\n",
      "{'n_estimators': 400, 'max_depth': 7, 'loss': 'absolute_error', 'learning_rate': 0.10190909090909092}\n"
     ]
    }
   ],
   "source": [
    "print(randSCV_gb.best_score_)\n",
    "print(randSCV_gb.best_params_)"
   ]
  },
  {
   "cell_type": "code",
   "execution_count": 85,
   "metadata": {
    "id": "zAlAO1egT6x4"
   },
   "outputs": [
    {
     "name": "stdout",
     "output_type": "stream",
     "text": [
      "40.77 %\n"
     ]
    }
   ],
   "source": [
    "gradb=GradientBoostingRegressor(**randSCV_gb.best_params_)\n",
    "gradb.fit(x_train,y_train)\n",
    "y_pred=gradb.predict(x_test)\n",
    "print(round(r2_score(y_test,y_pred,)*100,2),'%')"
   ]
  },
  {
   "cell_type": "markdown",
   "metadata": {
    "id": "BgN4EMvJT6x5"
   },
   "source": [
    "#### **4. XGBoost**"
   ]
  },
  {
   "cell_type": "code",
   "execution_count": 52,
   "metadata": {
    "id": "C_QYSti_T6x6"
   },
   "outputs": [
    {
     "name": "stdout",
     "output_type": "stream",
     "text": [
      "Fitting 5 folds for each of 100 candidates, totalling 500 fits\n"
     ]
    },
    {
     "data": {
      "text/html": [
       "<style>#sk-container-id-6 {color: black;background-color: white;}#sk-container-id-6 pre{padding: 0;}#sk-container-id-6 div.sk-toggleable {background-color: white;}#sk-container-id-6 label.sk-toggleable__label {cursor: pointer;display: block;width: 100%;margin-bottom: 0;padding: 0.3em;box-sizing: border-box;text-align: center;}#sk-container-id-6 label.sk-toggleable__label-arrow:before {content: \"▸\";float: left;margin-right: 0.25em;color: #696969;}#sk-container-id-6 label.sk-toggleable__label-arrow:hover:before {color: black;}#sk-container-id-6 div.sk-estimator:hover label.sk-toggleable__label-arrow:before {color: black;}#sk-container-id-6 div.sk-toggleable__content {max-height: 0;max-width: 0;overflow: hidden;text-align: left;background-color: #f0f8ff;}#sk-container-id-6 div.sk-toggleable__content pre {margin: 0.2em;color: black;border-radius: 0.25em;background-color: #f0f8ff;}#sk-container-id-6 input.sk-toggleable__control:checked~div.sk-toggleable__content {max-height: 200px;max-width: 100%;overflow: auto;}#sk-container-id-6 input.sk-toggleable__control:checked~label.sk-toggleable__label-arrow:before {content: \"▾\";}#sk-container-id-6 div.sk-estimator input.sk-toggleable__control:checked~label.sk-toggleable__label {background-color: #d4ebff;}#sk-container-id-6 div.sk-label input.sk-toggleable__control:checked~label.sk-toggleable__label {background-color: #d4ebff;}#sk-container-id-6 input.sk-hidden--visually {border: 0;clip: rect(1px 1px 1px 1px);clip: rect(1px, 1px, 1px, 1px);height: 1px;margin: -1px;overflow: hidden;padding: 0;position: absolute;width: 1px;}#sk-container-id-6 div.sk-estimator {font-family: monospace;background-color: #f0f8ff;border: 1px dotted black;border-radius: 0.25em;box-sizing: border-box;margin-bottom: 0.5em;}#sk-container-id-6 div.sk-estimator:hover {background-color: #d4ebff;}#sk-container-id-6 div.sk-parallel-item::after {content: \"\";width: 100%;border-bottom: 1px solid gray;flex-grow: 1;}#sk-container-id-6 div.sk-label:hover label.sk-toggleable__label {background-color: #d4ebff;}#sk-container-id-6 div.sk-serial::before {content: \"\";position: absolute;border-left: 1px solid gray;box-sizing: border-box;top: 0;bottom: 0;left: 50%;z-index: 0;}#sk-container-id-6 div.sk-serial {display: flex;flex-direction: column;align-items: center;background-color: white;padding-right: 0.2em;padding-left: 0.2em;position: relative;}#sk-container-id-6 div.sk-item {position: relative;z-index: 1;}#sk-container-id-6 div.sk-parallel {display: flex;align-items: stretch;justify-content: center;background-color: white;position: relative;}#sk-container-id-6 div.sk-item::before, #sk-container-id-6 div.sk-parallel-item::before {content: \"\";position: absolute;border-left: 1px solid gray;box-sizing: border-box;top: 0;bottom: 0;left: 50%;z-index: -1;}#sk-container-id-6 div.sk-parallel-item {display: flex;flex-direction: column;z-index: 1;position: relative;background-color: white;}#sk-container-id-6 div.sk-parallel-item:first-child::after {align-self: flex-end;width: 50%;}#sk-container-id-6 div.sk-parallel-item:last-child::after {align-self: flex-start;width: 50%;}#sk-container-id-6 div.sk-parallel-item:only-child::after {width: 0;}#sk-container-id-6 div.sk-dashed-wrapped {border: 1px dashed gray;margin: 0 0.4em 0.5em 0.4em;box-sizing: border-box;padding-bottom: 0.4em;background-color: white;}#sk-container-id-6 div.sk-label label {font-family: monospace;font-weight: bold;display: inline-block;line-height: 1.2em;}#sk-container-id-6 div.sk-label-container {text-align: center;}#sk-container-id-6 div.sk-container {/* jupyter's `normalize.less` sets `[hidden] { display: none; }` but bootstrap.min.css set `[hidden] { display: none !important; }` so we also need the `!important` here to be able to override the default hidden behavior on the sphinx rendered scikit-learn.org. See: https://github.com/scikit-learn/scikit-learn/issues/21755 */display: inline-block !important;position: relative;}#sk-container-id-6 div.sk-text-repr-fallback {display: none;}</style><div id=\"sk-container-id-6\" class=\"sk-top-container\"><div class=\"sk-text-repr-fallback\"><pre>RandomizedSearchCV(cv=5,\n",
       "                   estimator=XGBRegressor(base_score=None, booster=None,\n",
       "                                          callbacks=None,\n",
       "                                          colsample_bylevel=None,\n",
       "                                          colsample_bynode=None,\n",
       "                                          colsample_bytree=None,\n",
       "                                          early_stopping_rounds=None,\n",
       "                                          enable_categorical=False,\n",
       "                                          eval_metric=None, feature_types=None,\n",
       "                                          gamma=None, gpu_id=None,\n",
       "                                          grow_policy=None,\n",
       "                                          importance_type=None,\n",
       "                                          interaction_constraints=None,\n",
       "                                          learning_rate=...\n",
       "                                                          0.35346938775510206,\n",
       "                                                          0.3736734693877551,\n",
       "                                                          0.39387755102040817,\n",
       "                                                          0.4140816326530612,\n",
       "                                                          0.4342857142857143,\n",
       "                                                          0.45448979591836736,\n",
       "                                                          0.4746938775510204,\n",
       "                                                          0.49489795918367346,\n",
       "                                                          0.5151020408163265,\n",
       "                                                          0.5353061224489796,\n",
       "                                                          0.5555102040816327,\n",
       "                                                          0.5757142857142857,\n",
       "                                                          0.5959183673469388, ...],\n",
       "                                        &#x27;max_depth&#x27;: [8, 9, 10],\n",
       "                                        &#x27;n_estimators&#x27;: [400, 500, 600, 900,\n",
       "                                                         1000]},\n",
       "                   random_state=3, scoring=&#x27;r2&#x27;, verbose=2)</pre><b>In a Jupyter environment, please rerun this cell to show the HTML representation or trust the notebook. <br />On GitHub, the HTML representation is unable to render, please try loading this page with nbviewer.org.</b></div><div class=\"sk-container\" hidden><div class=\"sk-item sk-dashed-wrapped\"><div class=\"sk-label-container\"><div class=\"sk-label sk-toggleable\"><input class=\"sk-toggleable__control sk-hidden--visually\" id=\"sk-estimator-id-16\" type=\"checkbox\" ><label for=\"sk-estimator-id-16\" class=\"sk-toggleable__label sk-toggleable__label-arrow\">RandomizedSearchCV</label><div class=\"sk-toggleable__content\"><pre>RandomizedSearchCV(cv=5,\n",
       "                   estimator=XGBRegressor(base_score=None, booster=None,\n",
       "                                          callbacks=None,\n",
       "                                          colsample_bylevel=None,\n",
       "                                          colsample_bynode=None,\n",
       "                                          colsample_bytree=None,\n",
       "                                          early_stopping_rounds=None,\n",
       "                                          enable_categorical=False,\n",
       "                                          eval_metric=None, feature_types=None,\n",
       "                                          gamma=None, gpu_id=None,\n",
       "                                          grow_policy=None,\n",
       "                                          importance_type=None,\n",
       "                                          interaction_constraints=None,\n",
       "                                          learning_rate=...\n",
       "                                                          0.35346938775510206,\n",
       "                                                          0.3736734693877551,\n",
       "                                                          0.39387755102040817,\n",
       "                                                          0.4140816326530612,\n",
       "                                                          0.4342857142857143,\n",
       "                                                          0.45448979591836736,\n",
       "                                                          0.4746938775510204,\n",
       "                                                          0.49489795918367346,\n",
       "                                                          0.5151020408163265,\n",
       "                                                          0.5353061224489796,\n",
       "                                                          0.5555102040816327,\n",
       "                                                          0.5757142857142857,\n",
       "                                                          0.5959183673469388, ...],\n",
       "                                        &#x27;max_depth&#x27;: [8, 9, 10],\n",
       "                                        &#x27;n_estimators&#x27;: [400, 500, 600, 900,\n",
       "                                                         1000]},\n",
       "                   random_state=3, scoring=&#x27;r2&#x27;, verbose=2)</pre></div></div></div><div class=\"sk-parallel\"><div class=\"sk-parallel-item\"><div class=\"sk-item\"><div class=\"sk-label-container\"><div class=\"sk-label sk-toggleable\"><input class=\"sk-toggleable__control sk-hidden--visually\" id=\"sk-estimator-id-17\" type=\"checkbox\" ><label for=\"sk-estimator-id-17\" class=\"sk-toggleable__label sk-toggleable__label-arrow\">estimator: XGBRegressor</label><div class=\"sk-toggleable__content\"><pre>XGBRegressor(base_score=None, booster=None, callbacks=None,\n",
       "             colsample_bylevel=None, colsample_bynode=None,\n",
       "             colsample_bytree=None, early_stopping_rounds=None,\n",
       "             enable_categorical=False, eval_metric=None, feature_types=None,\n",
       "             gamma=None, gpu_id=None, grow_policy=None, importance_type=None,\n",
       "             interaction_constraints=None, learning_rate=None, max_bin=None,\n",
       "             max_cat_threshold=None, max_cat_to_onehot=None,\n",
       "             max_delta_step=None, max_depth=None, max_leaves=None,\n",
       "             min_child_weight=None, missing=nan, monotone_constraints=None,\n",
       "             n_estimators=100, n_jobs=None, num_parallel_tree=None,\n",
       "             predictor=None, random_state=None, ...)</pre></div></div></div><div class=\"sk-serial\"><div class=\"sk-item\"><div class=\"sk-estimator sk-toggleable\"><input class=\"sk-toggleable__control sk-hidden--visually\" id=\"sk-estimator-id-18\" type=\"checkbox\" ><label for=\"sk-estimator-id-18\" class=\"sk-toggleable__label sk-toggleable__label-arrow\">XGBRegressor</label><div class=\"sk-toggleable__content\"><pre>XGBRegressor(base_score=None, booster=None, callbacks=None,\n",
       "             colsample_bylevel=None, colsample_bynode=None,\n",
       "             colsample_bytree=None, early_stopping_rounds=None,\n",
       "             enable_categorical=False, eval_metric=None, feature_types=None,\n",
       "             gamma=None, gpu_id=None, grow_policy=None, importance_type=None,\n",
       "             interaction_constraints=None, learning_rate=None, max_bin=None,\n",
       "             max_cat_threshold=None, max_cat_to_onehot=None,\n",
       "             max_delta_step=None, max_depth=None, max_leaves=None,\n",
       "             min_child_weight=None, missing=nan, monotone_constraints=None,\n",
       "             n_estimators=100, n_jobs=None, num_parallel_tree=None,\n",
       "             predictor=None, random_state=None, ...)</pre></div></div></div></div></div></div></div></div></div></div>"
      ],
      "text/plain": [
       "RandomizedSearchCV(cv=5,\n",
       "                   estimator=XGBRegressor(base_score=None, booster=None,\n",
       "                                          callbacks=None,\n",
       "                                          colsample_bylevel=None,\n",
       "                                          colsample_bynode=None,\n",
       "                                          colsample_bytree=None,\n",
       "                                          early_stopping_rounds=None,\n",
       "                                          enable_categorical=False,\n",
       "                                          eval_metric=None, feature_types=None,\n",
       "                                          gamma=None, gpu_id=None,\n",
       "                                          grow_policy=None,\n",
       "                                          importance_type=None,\n",
       "                                          interaction_constraints=None,\n",
       "                                          learning_rate=...\n",
       "                                                          0.35346938775510206,\n",
       "                                                          0.3736734693877551,\n",
       "                                                          0.39387755102040817,\n",
       "                                                          0.4140816326530612,\n",
       "                                                          0.4342857142857143,\n",
       "                                                          0.45448979591836736,\n",
       "                                                          0.4746938775510204,\n",
       "                                                          0.49489795918367346,\n",
       "                                                          0.5151020408163265,\n",
       "                                                          0.5353061224489796,\n",
       "                                                          0.5555102040816327,\n",
       "                                                          0.5757142857142857,\n",
       "                                                          0.5959183673469388, ...],\n",
       "                                        'max_depth': [8, 9, 10],\n",
       "                                        'n_estimators': [400, 500, 600, 900,\n",
       "                                                         1000]},\n",
       "                   random_state=3, scoring='r2', verbose=2)"
      ]
     },
     "execution_count": 52,
     "metadata": {},
     "output_type": "execute_result"
    }
   ],
   "source": [
    "param = {\n",
    "    'n_estimators'      : [400,500,600,900,1000],\n",
    "    'max_depth'         : [8,9,10],\n",
    "    'learning_rate'     : list(np.linspace(0.01,1,50)),\n",
    "    #'tree_method'       : ['gpu_hist']\n",
    "}\n",
    "\n",
    "randSCV_xgb=RandomizedSearchCV(estimator=base_xgb,\n",
    "    param_distributions =param,\n",
    "    n_iter=100,\n",
    "    n_jobs=-1,\n",
    "    scoring='r2',\n",
    "    cv=5,\n",
    "    verbose=2,\n",
    "    random_state=3)\n",
    "\n",
    "randSCV_xgb.fit(x_train,y_train)"
   ]
  },
  {
   "cell_type": "code",
   "execution_count": 53,
   "metadata": {
    "id": "ulpEPn2QT6x6"
   },
   "outputs": [
    {
     "name": "stdout",
     "output_type": "stream",
     "text": [
      "0.4247866901768531\n",
      "{'n_estimators': 500, 'max_depth': 8, 'learning_rate': 0.030204081632653063}\n"
     ]
    }
   ],
   "source": [
    "print(randSCV_xgb.best_score_)\n",
    "print(randSCV_xgb.best_params_)"
   ]
  },
  {
   "cell_type": "code",
   "execution_count": 86,
   "metadata": {},
   "outputs": [
    {
     "name": "stdout",
     "output_type": "stream",
     "text": [
      "41.04 %\n"
     ]
    }
   ],
   "source": [
    "xgb=XGBRegressor(**randSCV_xgb.best_params_)\n",
    "xgb.fit(x_train,y_train)\n",
    "y_pred=xgb.predict(x_test)\n",
    "print(round(r2_score(y_test,y_pred,)*100,2),'%')"
   ]
  },
  {
   "cell_type": "markdown",
   "metadata": {
    "id": "CoKqz9_9OXnS"
   },
   "source": [
    "### **Optuna**\n"
   ]
  },
  {
   "cell_type": "markdown",
   "metadata": {
    "id": "-2UUdmJUo-88"
   },
   "source": [
    "#### **1. RandomForest**"
   ]
  },
  {
   "cell_type": "code",
   "execution_count": 124,
   "metadata": {},
   "outputs": [],
   "source": [
    "def objective(trial):\n",
    "  param={\n",
    "      'n_estimators'  :trial.suggest_int('n_estimators',100,2000),\n",
    "      'criterion'     :trial.suggest_categorical('criterion',['squared_error', 'absolute_error', 'friedman_mse','poisson']),\n",
    "      'max_features'  :trial.suggest_categorical('max_features',['sqrt', 'log2', None])\n",
    "  }\n",
    "\n",
    "\n",
    "  opt_randf=RandomForestRegressor(**param)\n",
    "  opt_randf.fit(x_train,y_train)\n",
    "  y_pred=opt_randf.predict(x_test)\n",
    "  r2=r2_score(y_test,y_pred)\n",
    "  r2_scores.append(r2)\n",
    "  print('max_r2_score',max(r2_scores))\n",
    "  return(r2)"
   ]
  },
  {
   "cell_type": "code",
   "execution_count": 125,
   "metadata": {
    "collapsed": true
   },
   "outputs": [
    {
     "name": "stderr",
     "output_type": "stream",
     "text": [
      "\u001b[32m[I 2023-06-02 10:38:32,407]\u001b[0m A new study created in memory with name: no-name-ca0325a2-ecef-4cc2-ba69-aed855493294\u001b[0m\n",
      "\u001b[32m[I 2023-06-02 10:38:47,802]\u001b[0m Trial 0 finished with value: 0.4230121099062004 and parameters: {'n_estimators': 670, 'criterion': 'poisson', 'max_features': 'log2'}. Best is trial 0 with value: 0.4230121099062004.\u001b[0m\n"
     ]
    },
    {
     "name": "stdout",
     "output_type": "stream",
     "text": [
      "max_r2_score 0.4230121099062004\n"
     ]
    },
    {
     "name": "stderr",
     "output_type": "stream",
     "text": [
      "\u001b[32m[I 2023-06-02 10:38:53,203]\u001b[0m Trial 3 finished with value: 0.4226529346949749 and parameters: {'n_estimators': 927, 'criterion': 'poisson', 'max_features': 'log2'}. Best is trial 3 with value: 0.4226529346949749.\u001b[0m\n"
     ]
    },
    {
     "name": "stdout",
     "output_type": "stream",
     "text": [
      "max_r2_score 0.4230121099062004\n"
     ]
    },
    {
     "name": "stderr",
     "output_type": "stream",
     "text": [
      "\u001b[32m[I 2023-06-02 10:38:54,168]\u001b[0m Trial 4 finished with value: 0.4239444928866928 and parameters: {'n_estimators': 952, 'criterion': 'poisson', 'max_features': 'log2'}. Best is trial 3 with value: 0.4226529346949749.\u001b[0m\n"
     ]
    },
    {
     "name": "stdout",
     "output_type": "stream",
     "text": [
      "max_r2_score 0.4239444928866928\n"
     ]
    },
    {
     "name": "stderr",
     "output_type": "stream",
     "text": [
      "\u001b[32m[I 2023-06-02 10:38:55,346]\u001b[0m Trial 2 finished with value: 0.4246637372844605 and parameters: {'n_estimators': 995, 'criterion': 'squared_error', 'max_features': 'sqrt'}. Best is trial 3 with value: 0.4226529346949749.\u001b[0m\n"
     ]
    },
    {
     "name": "stdout",
     "output_type": "stream",
     "text": [
      "max_r2_score 0.4246637372844605\n"
     ]
    },
    {
     "name": "stderr",
     "output_type": "stream",
     "text": [
      "\u001b[32m[I 2023-06-02 10:38:57,919]\u001b[0m Trial 6 finished with value: 0.42535016059374275 and parameters: {'n_estimators': 1112, 'criterion': 'friedman_mse', 'max_features': 'sqrt'}. Best is trial 3 with value: 0.4226529346949749.\u001b[0m\n"
     ]
    },
    {
     "name": "stdout",
     "output_type": "stream",
     "text": [
      "max_r2_score 0.42535016059374275\n"
     ]
    },
    {
     "name": "stderr",
     "output_type": "stream",
     "text": [
      "\u001b[32m[I 2023-06-02 10:39:25,311]\u001b[0m Trial 10 finished with value: 0.4240320096039082 and parameters: {'n_estimators': 1669, 'criterion': 'poisson', 'max_features': 'log2'}. Best is trial 3 with value: 0.4226529346949749.\u001b[0m\n"
     ]
    },
    {
     "name": "stdout",
     "output_type": "stream",
     "text": [
      "max_r2_score 0.42535016059374275\n"
     ]
    },
    {
     "name": "stderr",
     "output_type": "stream",
     "text": [
      "\u001b[32m[I 2023-06-02 10:39:31,528]\u001b[0m Trial 9 finished with value: 0.4225264414555845 and parameters: {'n_estimators': 521, 'criterion': 'squared_error', 'max_features': None}. Best is trial 9 with value: 0.4225264414555845.\u001b[0m\n"
     ]
    },
    {
     "name": "stdout",
     "output_type": "stream",
     "text": [
      "max_r2_score 0.42535016059374275\n"
     ]
    },
    {
     "name": "stderr",
     "output_type": "stream",
     "text": [
      "\u001b[32m[I 2023-06-02 10:39:38,452]\u001b[0m Trial 11 finished with value: 0.4227181325970142 and parameters: {'n_estimators': 571, 'criterion': 'friedman_mse', 'max_features': None}. Best is trial 9 with value: 0.4225264414555845.\u001b[0m\n"
     ]
    },
    {
     "name": "stdout",
     "output_type": "stream",
     "text": [
      "max_r2_score 0.42535016059374275\n"
     ]
    },
    {
     "name": "stderr",
     "output_type": "stream",
     "text": [
      "\u001b[32m[I 2023-06-02 10:39:48,356]\u001b[0m Trial 14 finished with value: 0.42592686819145775 and parameters: {'n_estimators': 995, 'criterion': 'friedman_mse', 'max_features': 'sqrt'}. Best is trial 9 with value: 0.4225264414555845.\u001b[0m\n"
     ]
    },
    {
     "name": "stdout",
     "output_type": "stream",
     "text": [
      "max_r2_score 0.42592686819145775\n"
     ]
    },
    {
     "name": "stderr",
     "output_type": "stream",
     "text": [
      "\u001b[32m[I 2023-06-02 10:40:07,016]\u001b[0m Trial 15 finished with value: 0.423312591214837 and parameters: {'n_estimators': 1407, 'criterion': 'poisson', 'max_features': 'log2'}. Best is trial 9 with value: 0.4225264414555845.\u001b[0m\n"
     ]
    },
    {
     "name": "stdout",
     "output_type": "stream",
     "text": [
      "max_r2_score 0.42592686819145775\n"
     ]
    },
    {
     "name": "stderr",
     "output_type": "stream",
     "text": [
      "\u001b[32m[I 2023-06-02 10:40:11,018]\u001b[0m Trial 1 finished with value: 0.4212704667679925 and parameters: {'n_estimators': 1041, 'criterion': 'poisson', 'max_features': None}. Best is trial 1 with value: 0.4212704667679925.\u001b[0m\n"
     ]
    },
    {
     "name": "stdout",
     "output_type": "stream",
     "text": [
      "max_r2_score 0.42592686819145775\n"
     ]
    },
    {
     "name": "stderr",
     "output_type": "stream",
     "text": [
      "\u001b[32m[I 2023-06-02 10:40:13,879]\u001b[0m Trial 12 finished with value: 0.41456115353043455 and parameters: {'n_estimators': 201, 'criterion': 'absolute_error', 'max_features': 'log2'}. Best is trial 12 with value: 0.41456115353043455.\u001b[0m\n"
     ]
    },
    {
     "name": "stdout",
     "output_type": "stream",
     "text": [
      "max_r2_score 0.42592686819145775\n"
     ]
    },
    {
     "name": "stderr",
     "output_type": "stream",
     "text": [
      "\u001b[32m[I 2023-06-02 10:40:15,903]\u001b[0m Trial 17 finished with value: 0.4244338904998721 and parameters: {'n_estimators': 123, 'criterion': 'squared_error', 'max_features': None}. Best is trial 12 with value: 0.41456115353043455.\u001b[0m\n"
     ]
    },
    {
     "name": "stdout",
     "output_type": "stream",
     "text": [
      "max_r2_score 0.42592686819145775\n"
     ]
    },
    {
     "name": "stderr",
     "output_type": "stream",
     "text": [
      "\u001b[32m[I 2023-06-02 10:40:20,803]\u001b[0m Trial 16 finished with value: 0.4240454198534175 and parameters: {'n_estimators': 1772, 'criterion': 'squared_error', 'max_features': 'sqrt'}. Best is trial 12 with value: 0.41456115353043455.\u001b[0m\n",
      "\u001b[32m[I 2023-06-02 10:40:20,951]\u001b[0m Trial 18 finished with value: 0.42139730599727854 and parameters: {'n_estimators': 127, 'criterion': 'squared_error', 'max_features': None}. Best is trial 12 with value: 0.41456115353043455.\u001b[0m\n"
     ]
    },
    {
     "name": "stdout",
     "output_type": "stream",
     "text": [
      "max_r2_score 0.42592686819145775\n",
      "max_r2_score 0.42592686819145775\n"
     ]
    },
    {
     "name": "stderr",
     "output_type": "stream",
     "text": [
      "\u001b[32m[I 2023-06-02 10:40:31,198]\u001b[0m Trial 13 finished with value: 0.4235596645741073 and parameters: {'n_estimators': 918, 'criterion': 'squared_error', 'max_features': None}. Best is trial 12 with value: 0.41456115353043455.\u001b[0m\n"
     ]
    },
    {
     "name": "stdout",
     "output_type": "stream",
     "text": [
      "max_r2_score 0.42592686819145775\n"
     ]
    },
    {
     "name": "stderr",
     "output_type": "stream",
     "text": [
      "\u001b[32m[I 2023-06-02 10:41:00,948]\u001b[0m Trial 8 finished with value: 0.4229515323367862 and parameters: {'n_estimators': 1857, 'criterion': 'friedman_mse', 'max_features': None}. Best is trial 12 with value: 0.41456115353043455.\u001b[0m\n"
     ]
    },
    {
     "name": "stdout",
     "output_type": "stream",
     "text": [
      "max_r2_score 0.42592686819145775\n"
     ]
    },
    {
     "name": "stderr",
     "output_type": "stream",
     "text": [
      "\u001b[32m[I 2023-06-02 10:42:23,608]\u001b[0m Trial 5 finished with value: 0.41774525190503886 and parameters: {'n_estimators': 611, 'criterion': 'absolute_error', 'max_features': 'log2'}. Best is trial 12 with value: 0.41456115353043455.\u001b[0m\n"
     ]
    },
    {
     "name": "stdout",
     "output_type": "stream",
     "text": [
      "max_r2_score 0.42592686819145775\n"
     ]
    },
    {
     "name": "stderr",
     "output_type": "stream",
     "text": [
      "\u001b[32m[I 2023-06-02 10:44:03,790]\u001b[0m Trial 25 finished with value: 0.4197543177775124 and parameters: {'n_estimators': 278, 'criterion': 'absolute_error', 'max_features': 'log2'}. Best is trial 12 with value: 0.41456115353043455.\u001b[0m\n"
     ]
    },
    {
     "name": "stdout",
     "output_type": "stream",
     "text": [
      "max_r2_score 0.42592686819145775\n"
     ]
    },
    {
     "name": "stderr",
     "output_type": "stream",
     "text": [
      "\u001b[32m[I 2023-06-02 10:44:33,499]\u001b[0m Trial 19 finished with value: 0.418386937350542 and parameters: {'n_estimators': 134, 'criterion': 'absolute_error', 'max_features': None}. Best is trial 12 with value: 0.41456115353043455.\u001b[0m\n"
     ]
    },
    {
     "name": "stdout",
     "output_type": "stream",
     "text": [
      "max_r2_score 0.42592686819145775\n"
     ]
    },
    {
     "name": "stderr",
     "output_type": "stream",
     "text": [
      "\u001b[32m[I 2023-06-02 10:44:38,031]\u001b[0m Trial 21 finished with value: 0.41567486691712874 and parameters: {'n_estimators': 144, 'criterion': 'absolute_error', 'max_features': None}. Best is trial 12 with value: 0.41456115353043455.\u001b[0m\n"
     ]
    },
    {
     "name": "stdout",
     "output_type": "stream",
     "text": [
      "max_r2_score 0.42592686819145775\n"
     ]
    },
    {
     "name": "stderr",
     "output_type": "stream",
     "text": [
      "\u001b[32m[I 2023-06-02 10:46:22,717]\u001b[0m Trial 26 finished with value: 0.41659215602915156 and parameters: {'n_estimators': 389, 'criterion': 'absolute_error', 'max_features': 'log2'}. Best is trial 12 with value: 0.41456115353043455.\u001b[0m\n"
     ]
    },
    {
     "name": "stdout",
     "output_type": "stream",
     "text": [
      "max_r2_score 0.42592686819145775\n"
     ]
    },
    {
     "name": "stderr",
     "output_type": "stream",
     "text": [
      "\u001b[32m[I 2023-06-02 10:46:42,804]\u001b[0m Trial 28 finished with value: 0.41698981870664986 and parameters: {'n_estimators': 390, 'criterion': 'absolute_error', 'max_features': 'log2'}. Best is trial 12 with value: 0.41456115353043455.\u001b[0m\n"
     ]
    },
    {
     "name": "stdout",
     "output_type": "stream",
     "text": [
      "max_r2_score 0.42592686819145775\n"
     ]
    },
    {
     "name": "stderr",
     "output_type": "stream",
     "text": [
      "\u001b[32m[I 2023-06-02 10:46:50,086]\u001b[0m Trial 27 finished with value: 0.4154672462787842 and parameters: {'n_estimators': 380, 'criterion': 'absolute_error', 'max_features': 'log2'}. Best is trial 12 with value: 0.41456115353043455.\u001b[0m\n"
     ]
    },
    {
     "name": "stdout",
     "output_type": "stream",
     "text": [
      "max_r2_score 0.42592686819145775\n"
     ]
    },
    {
     "name": "stderr",
     "output_type": "stream",
     "text": [
      "\u001b[32m[I 2023-06-02 10:47:47,153]\u001b[0m Trial 7 finished with value: 0.41726195969865865 and parameters: {'n_estimators': 1433, 'criterion': 'absolute_error', 'max_features': 'sqrt'}. Best is trial 12 with value: 0.41456115353043455.\u001b[0m\n"
     ]
    },
    {
     "name": "stdout",
     "output_type": "stream",
     "text": [
      "max_r2_score 0.42592686819145775\n"
     ]
    },
    {
     "name": "stderr",
     "output_type": "stream",
     "text": [
      "\u001b[32m[I 2023-06-02 10:48:01,165]\u001b[0m Trial 23 finished with value: 0.41687596727655396 and parameters: {'n_estimators': 1405, 'criterion': 'absolute_error', 'max_features': 'log2'}. Best is trial 12 with value: 0.41456115353043455.\u001b[0m\n"
     ]
    },
    {
     "name": "stdout",
     "output_type": "stream",
     "text": [
      "max_r2_score 0.42592686819145775\n"
     ]
    },
    {
     "name": "stderr",
     "output_type": "stream",
     "text": [
      "\u001b[32m[I 2023-06-02 10:48:22,909]\u001b[0m Trial 24 finished with value: 0.41724456028607626 and parameters: {'n_estimators': 1380, 'criterion': 'absolute_error', 'max_features': 'log2'}. Best is trial 12 with value: 0.41456115353043455.\u001b[0m\n"
     ]
    },
    {
     "name": "stdout",
     "output_type": "stream",
     "text": [
      "max_r2_score 0.42592686819145775\n"
     ]
    },
    {
     "name": "stderr",
     "output_type": "stream",
     "text": [
      "\u001b[32m[I 2023-06-02 10:48:26,166]\u001b[0m Trial 29 finished with value: 0.41661930620933374 and parameters: {'n_estimators': 346, 'criterion': 'absolute_error', 'max_features': 'log2'}. Best is trial 12 with value: 0.41456115353043455.\u001b[0m\n"
     ]
    },
    {
     "name": "stdout",
     "output_type": "stream",
     "text": [
      "max_r2_score 0.42592686819145775\n"
     ]
    },
    {
     "name": "stderr",
     "output_type": "stream",
     "text": [
      "\u001b[32m[I 2023-06-02 10:48:38,681]\u001b[0m Trial 30 finished with value: 0.4182318165851565 and parameters: {'n_estimators': 360, 'criterion': 'absolute_error', 'max_features': 'log2'}. Best is trial 12 with value: 0.41456115353043455.\u001b[0m\n"
     ]
    },
    {
     "name": "stdout",
     "output_type": "stream",
     "text": [
      "max_r2_score 0.42592686819145775\n"
     ]
    },
    {
     "name": "stderr",
     "output_type": "stream",
     "text": [
      "\u001b[32m[I 2023-06-02 10:48:45,139]\u001b[0m Trial 31 finished with value: 0.4149983765460883 and parameters: {'n_estimators': 319, 'criterion': 'absolute_error', 'max_features': 'log2'}. Best is trial 12 with value: 0.41456115353043455.\u001b[0m\n"
     ]
    },
    {
     "name": "stdout",
     "output_type": "stream",
     "text": [
      "max_r2_score 0.42592686819145775\n"
     ]
    },
    {
     "name": "stderr",
     "output_type": "stream",
     "text": [
      "\u001b[32m[I 2023-06-02 10:49:33,665]\u001b[0m Trial 33 finished with value: 0.41634229855983484 and parameters: {'n_estimators': 286, 'criterion': 'absolute_error', 'max_features': 'log2'}. Best is trial 12 with value: 0.41456115353043455.\u001b[0m\n"
     ]
    },
    {
     "name": "stdout",
     "output_type": "stream",
     "text": [
      "max_r2_score 0.42592686819145775\n"
     ]
    },
    {
     "name": "stderr",
     "output_type": "stream",
     "text": [
      "\u001b[32m[I 2023-06-02 10:49:52,757]\u001b[0m Trial 34 finished with value: 0.4154351925446965 and parameters: {'n_estimators': 283, 'criterion': 'absolute_error', 'max_features': 'log2'}. Best is trial 12 with value: 0.41456115353043455.\u001b[0m\n"
     ]
    },
    {
     "name": "stdout",
     "output_type": "stream",
     "text": [
      "max_r2_score 0.42592686819145775\n"
     ]
    },
    {
     "name": "stderr",
     "output_type": "stream",
     "text": [
      "\u001b[32m[I 2023-06-02 10:51:49,068]\u001b[0m Trial 32 finished with value: 0.41732207657702436 and parameters: {'n_estimators': 755, 'criterion': 'absolute_error', 'max_features': 'log2'}. Best is trial 12 with value: 0.41456115353043455.\u001b[0m\n"
     ]
    },
    {
     "name": "stdout",
     "output_type": "stream",
     "text": [
      "max_r2_score 0.42592686819145775\n"
     ]
    },
    {
     "name": "stderr",
     "output_type": "stream",
     "text": [
      "\u001b[32m[I 2023-06-02 10:51:51,902]\u001b[0m Trial 37 finished with value: 0.41410805952619045 and parameters: {'n_estimators': 523, 'criterion': 'absolute_error', 'max_features': 'log2'}. Best is trial 37 with value: 0.41410805952619045.\u001b[0m\n"
     ]
    },
    {
     "name": "stdout",
     "output_type": "stream",
     "text": [
      "max_r2_score 0.42592686819145775\n"
     ]
    },
    {
     "name": "stderr",
     "output_type": "stream",
     "text": [
      "\u001b[32m[I 2023-06-02 10:52:41,591]\u001b[0m Trial 35 finished with value: 0.4170489210256292 and parameters: {'n_estimators': 711, 'criterion': 'absolute_error', 'max_features': 'log2'}. Best is trial 37 with value: 0.41410805952619045.\u001b[0m\n"
     ]
    },
    {
     "name": "stdout",
     "output_type": "stream",
     "text": [
      "max_r2_score 0.42592686819145775\n"
     ]
    },
    {
     "name": "stderr",
     "output_type": "stream",
     "text": [
      "\u001b[32m[I 2023-06-02 10:53:28,965]\u001b[0m Trial 39 finished with value: 0.41590196219880504 and parameters: {'n_estimators': 678, 'criterion': 'absolute_error', 'max_features': 'log2'}. Best is trial 37 with value: 0.41410805952619045.\u001b[0m\n"
     ]
    },
    {
     "name": "stdout",
     "output_type": "stream",
     "text": [
      "max_r2_score 0.42592686819145775\n"
     ]
    },
    {
     "name": "stderr",
     "output_type": "stream",
     "text": [
      "\u001b[32m[I 2023-06-02 10:53:38,650]\u001b[0m Trial 38 finished with value: 0.4167571739659912 and parameters: {'n_estimators': 764, 'criterion': 'absolute_error', 'max_features': 'log2'}. Best is trial 37 with value: 0.41410805952619045.\u001b[0m\n"
     ]
    },
    {
     "name": "stdout",
     "output_type": "stream",
     "text": [
      "max_r2_score 0.42592686819145775\n"
     ]
    },
    {
     "name": "stderr",
     "output_type": "stream",
     "text": [
      "\u001b[32m[I 2023-06-02 10:54:16,500]\u001b[0m Trial 40 finished with value: 0.41786060721096774 and parameters: {'n_estimators': 465, 'criterion': 'absolute_error', 'max_features': 'log2'}. Best is trial 37 with value: 0.41410805952619045.\u001b[0m\n"
     ]
    },
    {
     "name": "stdout",
     "output_type": "stream",
     "text": [
      "max_r2_score 0.42592686819145775\n"
     ]
    },
    {
     "name": "stderr",
     "output_type": "stream",
     "text": [
      "\u001b[32m[I 2023-06-02 10:54:20,497]\u001b[0m Trial 45 finished with value: 0.42271406284195356 and parameters: {'n_estimators': 237, 'criterion': 'poisson', 'max_features': 'log2'}. Best is trial 37 with value: 0.41410805952619045.\u001b[0m\n"
     ]
    },
    {
     "name": "stdout",
     "output_type": "stream",
     "text": [
      "max_r2_score 0.42592686819145775\n"
     ]
    },
    {
     "name": "stderr",
     "output_type": "stream",
     "text": [
      "\u001b[32m[I 2023-06-02 10:55:45,196]\u001b[0m Trial 42 finished with value: 0.41746309857971475 and parameters: {'n_estimators': 508, 'criterion': 'absolute_error', 'max_features': 'log2'}. Best is trial 37 with value: 0.41410805952619045.\u001b[0m\n"
     ]
    },
    {
     "name": "stdout",
     "output_type": "stream",
     "text": [
      "max_r2_score 0.42592686819145775\n"
     ]
    },
    {
     "name": "stderr",
     "output_type": "stream",
     "text": [
      "\u001b[32m[I 2023-06-02 10:56:00,446]\u001b[0m Trial 47 finished with value: 0.425387977113844 and parameters: {'n_estimators': 867, 'criterion': 'friedman_mse', 'max_features': 'sqrt'}. Best is trial 37 with value: 0.41410805952619045.\u001b[0m\n"
     ]
    },
    {
     "name": "stdout",
     "output_type": "stream",
     "text": [
      "max_r2_score 0.42592686819145775\n"
     ]
    },
    {
     "name": "stderr",
     "output_type": "stream",
     "text": [
      "\u001b[32m[I 2023-06-02 10:56:11,184]\u001b[0m Trial 43 finished with value: 0.4169487558893621 and parameters: {'n_estimators': 507, 'criterion': 'absolute_error', 'max_features': 'log2'}. Best is trial 37 with value: 0.41410805952619045.\u001b[0m\n"
     ]
    },
    {
     "name": "stdout",
     "output_type": "stream",
     "text": [
      "max_r2_score 0.42592686819145775\n"
     ]
    },
    {
     "name": "stderr",
     "output_type": "stream",
     "text": [
      "\u001b[32m[I 2023-06-02 10:56:11,446]\u001b[0m Trial 44 finished with value: 0.4153767218712924 and parameters: {'n_estimators': 473, 'criterion': 'absolute_error', 'max_features': 'log2'}. Best is trial 37 with value: 0.41410805952619045.\u001b[0m\n"
     ]
    },
    {
     "name": "stdout",
     "output_type": "stream",
     "text": [
      "max_r2_score 0.42592686819145775\n"
     ]
    },
    {
     "name": "stderr",
     "output_type": "stream",
     "text": [
      "\u001b[32m[I 2023-06-02 10:56:16,461]\u001b[0m Trial 41 finished with value: 0.41737336947060044 and parameters: {'n_estimators': 734, 'criterion': 'absolute_error', 'max_features': 'log2'}. Best is trial 37 with value: 0.41410805952619045.\u001b[0m\n"
     ]
    },
    {
     "name": "stdout",
     "output_type": "stream",
     "text": [
      "max_r2_score 0.42592686819145775\n"
     ]
    },
    {
     "name": "stderr",
     "output_type": "stream",
     "text": [
      "\u001b[32m[I 2023-06-02 10:57:21,644]\u001b[0m Trial 48 finished with value: 0.4151472805677404 and parameters: {'n_estimators': 226, 'criterion': 'absolute_error', 'max_features': 'log2'}. Best is trial 37 with value: 0.41410805952619045.\u001b[0m\n"
     ]
    },
    {
     "name": "stdout",
     "output_type": "stream",
     "text": [
      "max_r2_score 0.42592686819145775\n"
     ]
    },
    {
     "name": "stderr",
     "output_type": "stream",
     "text": [
      "\u001b[32m[I 2023-06-02 10:57:33,052]\u001b[0m Trial 49 finished with value: 0.41783572669425073 and parameters: {'n_estimators': 255, 'criterion': 'absolute_error', 'max_features': 'log2'}. Best is trial 37 with value: 0.41410805952619045.\u001b[0m\n"
     ]
    },
    {
     "name": "stdout",
     "output_type": "stream",
     "text": [
      "max_r2_score 0.42592686819145775\n"
     ]
    },
    {
     "name": "stderr",
     "output_type": "stream",
     "text": [
      "\u001b[32m[I 2023-06-02 10:57:43,174]\u001b[0m Trial 53 finished with value: 0.42219895308392463 and parameters: {'n_estimators': 582, 'criterion': 'poisson', 'max_features': 'log2'}. Best is trial 37 with value: 0.41410805952619045.\u001b[0m\n"
     ]
    },
    {
     "name": "stdout",
     "output_type": "stream",
     "text": [
      "max_r2_score 0.42592686819145775\n"
     ]
    },
    {
     "name": "stderr",
     "output_type": "stream",
     "text": [
      "\u001b[32m[I 2023-06-02 10:57:45,151]\u001b[0m Trial 51 finished with value: 0.4143631131196912 and parameters: {'n_estimators': 244, 'criterion': 'absolute_error', 'max_features': 'log2'}. Best is trial 37 with value: 0.41410805952619045.\u001b[0m\n"
     ]
    },
    {
     "name": "stdout",
     "output_type": "stream",
     "text": [
      "max_r2_score 0.42592686819145775\n"
     ]
    },
    {
     "name": "stderr",
     "output_type": "stream",
     "text": [
      "\u001b[32m[I 2023-06-02 10:57:48,479]\u001b[0m Trial 55 finished with value: 0.42695789314658794 and parameters: {'n_estimators': 197, 'criterion': 'friedman_mse', 'max_features': 'sqrt'}. Best is trial 37 with value: 0.41410805952619045.\u001b[0m\n"
     ]
    },
    {
     "name": "stdout",
     "output_type": "stream",
     "text": [
      "max_r2_score 0.42695789314658794\n"
     ]
    },
    {
     "name": "stderr",
     "output_type": "stream",
     "text": [
      "\u001b[32m[I 2023-06-02 10:58:37,022]\u001b[0m Trial 52 finished with value: 0.4148586489128854 and parameters: {'n_estimators': 213, 'criterion': 'absolute_error', 'max_features': 'log2'}. Best is trial 37 with value: 0.41410805952619045.\u001b[0m\n"
     ]
    },
    {
     "name": "stdout",
     "output_type": "stream",
     "text": [
      "max_r2_score 0.42695789314658794\n"
     ]
    },
    {
     "name": "stderr",
     "output_type": "stream",
     "text": [
      "\u001b[32m[I 2023-06-02 10:58:53,697]\u001b[0m Trial 46 finished with value: 0.4161667924464022 and parameters: {'n_estimators': 847, 'criterion': 'absolute_error', 'max_features': 'log2'}. Best is trial 37 with value: 0.41410805952619045.\u001b[0m\n"
     ]
    },
    {
     "name": "stdout",
     "output_type": "stream",
     "text": [
      "max_r2_score 0.42695789314658794\n"
     ]
    },
    {
     "name": "stderr",
     "output_type": "stream",
     "text": [
      "\u001b[32m[I 2023-06-02 10:58:57,678]\u001b[0m Trial 56 finished with value: 0.41400464653528257 and parameters: {'n_estimators': 190, 'criterion': 'absolute_error', 'max_features': 'log2'}. Best is trial 56 with value: 0.41400464653528257.\u001b[0m\n"
     ]
    },
    {
     "name": "stdout",
     "output_type": "stream",
     "text": [
      "max_r2_score 0.42695789314658794\n"
     ]
    },
    {
     "name": "stderr",
     "output_type": "stream",
     "text": [
      "\u001b[32m[I 2023-06-02 10:59:03,432]\u001b[0m Trial 57 finished with value: 0.4229414656409969 and parameters: {'n_estimators': 1225, 'criterion': 'poisson', 'max_features': 'sqrt'}. Best is trial 56 with value: 0.41400464653528257.\u001b[0m\n"
     ]
    },
    {
     "name": "stdout",
     "output_type": "stream",
     "text": [
      "max_r2_score 0.42695789314658794\n"
     ]
    },
    {
     "name": "stderr",
     "output_type": "stream",
     "text": [
      "\u001b[32m[I 2023-06-02 10:59:35,173]\u001b[0m Trial 59 finished with value: 0.4155011649460294 and parameters: {'n_estimators': 103, 'criterion': 'absolute_error', 'max_features': 'log2'}. Best is trial 56 with value: 0.41400464653528257.\u001b[0m\n"
     ]
    },
    {
     "name": "stdout",
     "output_type": "stream",
     "text": [
      "max_r2_score 0.42695789314658794\n"
     ]
    },
    {
     "name": "stderr",
     "output_type": "stream",
     "text": [
      "\u001b[32m[I 2023-06-02 11:00:03,855]\u001b[0m Trial 60 finished with value: 0.4189420921372701 and parameters: {'n_estimators': 173, 'criterion': 'absolute_error', 'max_features': 'log2'}. Best is trial 56 with value: 0.41400464653528257.\u001b[0m\n"
     ]
    },
    {
     "name": "stdout",
     "output_type": "stream",
     "text": [
      "max_r2_score 0.42695789314658794\n"
     ]
    },
    {
     "name": "stderr",
     "output_type": "stream",
     "text": [
      "\u001b[32m[I 2023-06-02 11:00:34,564]\u001b[0m Trial 62 finished with value: 0.42507601166974796 and parameters: {'n_estimators': 1993, 'criterion': 'squared_error', 'max_features': 'log2'}. Best is trial 56 with value: 0.41400464653528257.\u001b[0m\n"
     ]
    },
    {
     "name": "stdout",
     "output_type": "stream",
     "text": [
      "max_r2_score 0.42695789314658794\n"
     ]
    },
    {
     "name": "stderr",
     "output_type": "stream",
     "text": [
      "\u001b[32m[I 2023-06-02 11:00:44,856]\u001b[0m Trial 61 finished with value: 0.4141751218317752 and parameters: {'n_estimators': 195, 'criterion': 'absolute_error', 'max_features': 'log2'}. Best is trial 56 with value: 0.41400464653528257.\u001b[0m\n"
     ]
    },
    {
     "name": "stdout",
     "output_type": "stream",
     "text": [
      "max_r2_score 0.42695789314658794\n"
     ]
    },
    {
     "name": "stderr",
     "output_type": "stream",
     "text": [
      "\u001b[32m[I 2023-06-02 11:00:51,301]\u001b[0m Trial 64 finished with value: 0.423486123180459 and parameters: {'n_estimators': 414, 'criterion': 'friedman_mse', 'max_features': 'log2'}. Best is trial 56 with value: 0.41400464653528257.\u001b[0m\n"
     ]
    },
    {
     "name": "stdout",
     "output_type": "stream",
     "text": [
      "max_r2_score 0.42695789314658794\n"
     ]
    },
    {
     "name": "stderr",
     "output_type": "stream",
     "text": [
      "\u001b[32m[I 2023-06-02 11:02:19,841]\u001b[0m Trial 50 finished with value: 0.4158556672373548 and parameters: {'n_estimators': 1139, 'criterion': 'absolute_error', 'max_features': 'log2'}. Best is trial 56 with value: 0.41400464653528257.\u001b[0m\n"
     ]
    },
    {
     "name": "stdout",
     "output_type": "stream",
     "text": [
      "max_r2_score 0.42695789314658794\n"
     ]
    },
    {
     "name": "stderr",
     "output_type": "stream",
     "text": [
      "\u001b[32m[I 2023-06-02 11:02:32,775]\u001b[0m Trial 66 finished with value: 0.4247781937567835 and parameters: {'n_estimators': 190, 'criterion': 'squared_error', 'max_features': None}. Best is trial 56 with value: 0.41400464653528257.\u001b[0m\n"
     ]
    },
    {
     "name": "stdout",
     "output_type": "stream",
     "text": [
      "max_r2_score 0.42695789314658794\n"
     ]
    },
    {
     "name": "stderr",
     "output_type": "stream",
     "text": [
      "\u001b[32m[I 2023-06-02 11:02:33,885]\u001b[0m Trial 63 finished with value: 0.4178639940493176 and parameters: {'n_estimators': 326, 'criterion': 'absolute_error', 'max_features': 'log2'}. Best is trial 56 with value: 0.41400464653528257.\u001b[0m\n"
     ]
    },
    {
     "name": "stdout",
     "output_type": "stream",
     "text": [
      "max_r2_score 0.42695789314658794\n"
     ]
    },
    {
     "name": "stderr",
     "output_type": "stream",
     "text": [
      "\u001b[32m[I 2023-06-02 11:04:22,476]\u001b[0m Trial 68 finished with value: 0.4165107479719462 and parameters: {'n_estimators': 299, 'criterion': 'absolute_error', 'max_features': 'log2'}. Best is trial 56 with value: 0.41400464653528257.\u001b[0m\n"
     ]
    },
    {
     "name": "stdout",
     "output_type": "stream",
     "text": [
      "max_r2_score 0.42695789314658794\n"
     ]
    },
    {
     "name": "stderr",
     "output_type": "stream",
     "text": [
      "\u001b[32m[I 2023-06-02 11:04:53,698]\u001b[0m Trial 58 finished with value: 0.41713200500450054 and parameters: {'n_estimators': 1102, 'criterion': 'absolute_error', 'max_features': 'log2'}. Best is trial 56 with value: 0.41400464653528257.\u001b[0m\n"
     ]
    },
    {
     "name": "stdout",
     "output_type": "stream",
     "text": [
      "max_r2_score 0.42695789314658794\n"
     ]
    },
    {
     "name": "stderr",
     "output_type": "stream",
     "text": [
      "\u001b[32m[I 2023-06-02 11:04:57,877]\u001b[0m Trial 54 finished with value: 0.41732231639210604 and parameters: {'n_estimators': 1148, 'criterion': 'absolute_error', 'max_features': 'sqrt'}. Best is trial 56 with value: 0.41400464653528257.\u001b[0m\n"
     ]
    },
    {
     "name": "stdout",
     "output_type": "stream",
     "text": [
      "max_r2_score 0.42695789314658794\n"
     ]
    },
    {
     "name": "stderr",
     "output_type": "stream",
     "text": [
      "\u001b[32m[I 2023-06-02 11:04:58,315]\u001b[0m Trial 69 finished with value: 0.4117658991429072 and parameters: {'n_estimators': 100, 'criterion': 'absolute_error', 'max_features': 'log2'}. Best is trial 69 with value: 0.4117658991429072.\u001b[0m\n"
     ]
    },
    {
     "name": "stdout",
     "output_type": "stream",
     "text": [
      "max_r2_score 0.42695789314658794\n"
     ]
    },
    {
     "name": "stderr",
     "output_type": "stream",
     "text": [
      "\u001b[32m[I 2023-06-02 11:05:26,400]\u001b[0m Trial 70 finished with value: 0.4097822621741083 and parameters: {'n_estimators': 101, 'criterion': 'absolute_error', 'max_features': 'log2'}. Best is trial 70 with value: 0.4097822621741083.\u001b[0m\n"
     ]
    },
    {
     "name": "stdout",
     "output_type": "stream",
     "text": [
      "max_r2_score 0.42695789314658794\n"
     ]
    },
    {
     "name": "stderr",
     "output_type": "stream",
     "text": [
      "\u001b[32m[I 2023-06-02 11:05:34,121]\u001b[0m Trial 72 finished with value: 0.41636580044691185 and parameters: {'n_estimators': 101, 'criterion': 'absolute_error', 'max_features': 'log2'}. Best is trial 70 with value: 0.4097822621741083.\u001b[0m\n"
     ]
    },
    {
     "name": "stdout",
     "output_type": "stream",
     "text": [
      "max_r2_score 0.42695789314658794\n"
     ]
    },
    {
     "name": "stderr",
     "output_type": "stream",
     "text": [
      "\u001b[32m[I 2023-06-02 11:05:41,984]\u001b[0m Trial 67 finished with value: 0.41799011663709595 and parameters: {'n_estimators': 594, 'criterion': 'absolute_error', 'max_features': 'log2'}. Best is trial 70 with value: 0.4097822621741083.\u001b[0m\n"
     ]
    },
    {
     "name": "stdout",
     "output_type": "stream",
     "text": [
      "max_r2_score 0.42695789314658794\n"
     ]
    },
    {
     "name": "stderr",
     "output_type": "stream",
     "text": [
      "\u001b[32m[I 2023-06-02 11:05:56,045]\u001b[0m Trial 71 finished with value: 0.4181113670402349 and parameters: {'n_estimators': 184, 'criterion': 'absolute_error', 'max_features': 'log2'}. Best is trial 70 with value: 0.4097822621741083.\u001b[0m\n"
     ]
    },
    {
     "name": "stdout",
     "output_type": "stream",
     "text": [
      "max_r2_score 0.42695789314658794\n"
     ]
    },
    {
     "name": "stderr",
     "output_type": "stream",
     "text": [
      "\u001b[32m[I 2023-06-02 11:05:59,686]\u001b[0m Trial 73 finished with value: 0.41735795319359514 and parameters: {'n_estimators': 105, 'criterion': 'absolute_error', 'max_features': 'log2'}. Best is trial 70 with value: 0.4097822621741083.\u001b[0m\n"
     ]
    },
    {
     "name": "stdout",
     "output_type": "stream",
     "text": [
      "max_r2_score 0.42695789314658794\n"
     ]
    },
    {
     "name": "stderr",
     "output_type": "stream",
     "text": [
      "\u001b[32m[I 2023-06-02 11:06:30,814]\u001b[0m Trial 76 finished with value: 0.4210642289836559 and parameters: {'n_estimators': 408, 'criterion': 'poisson', 'max_features': None}. Best is trial 70 with value: 0.4097822621741083.\u001b[0m\n"
     ]
    },
    {
     "name": "stdout",
     "output_type": "stream",
     "text": [
      "max_r2_score 0.42695789314658794\n"
     ]
    },
    {
     "name": "stderr",
     "output_type": "stream",
     "text": [
      "\u001b[32m[I 2023-06-02 11:06:35,252]\u001b[0m Trial 77 finished with value: 0.4222109276730287 and parameters: {'n_estimators': 426, 'criterion': 'poisson', 'max_features': None}. Best is trial 70 with value: 0.4097822621741083.\u001b[0m\n"
     ]
    },
    {
     "name": "stdout",
     "output_type": "stream",
     "text": [
      "max_r2_score 0.42695789314658794\n"
     ]
    },
    {
     "name": "stderr",
     "output_type": "stream",
     "text": [
      "\u001b[32m[I 2023-06-02 11:07:05,922]\u001b[0m Trial 65 finished with value: 0.41544751504272726 and parameters: {'n_estimators': 195, 'criterion': 'absolute_error', 'max_features': None}. Best is trial 70 with value: 0.4097822621741083.\u001b[0m\n"
     ]
    },
    {
     "name": "stdout",
     "output_type": "stream",
     "text": [
      "max_r2_score 0.42695789314658794\n"
     ]
    },
    {
     "name": "stderr",
     "output_type": "stream",
     "text": [
      "\u001b[32m[I 2023-06-02 11:07:43,448]\u001b[0m Trial 79 finished with value: 0.41793151033559983 and parameters: {'n_estimators': 215, 'criterion': 'absolute_error', 'max_features': 'log2'}. Best is trial 70 with value: 0.4097822621741083.\u001b[0m\n"
     ]
    },
    {
     "name": "stdout",
     "output_type": "stream",
     "text": [
      "max_r2_score 0.42695789314658794\n"
     ]
    },
    {
     "name": "stderr",
     "output_type": "stream",
     "text": [
      "\u001b[32m[I 2023-06-02 11:07:46,056]\u001b[0m Trial 78 finished with value: 0.4157738054120018 and parameters: {'n_estimators': 236, 'criterion': 'absolute_error', 'max_features': 'log2'}. Best is trial 70 with value: 0.4097822621741083.\u001b[0m\n"
     ]
    },
    {
     "name": "stdout",
     "output_type": "stream",
     "text": [
      "max_r2_score 0.42695789314658794\n"
     ]
    },
    {
     "name": "stderr",
     "output_type": "stream",
     "text": [
      "\u001b[32m[I 2023-06-02 11:08:32,137]\u001b[0m Trial 81 finished with value: 0.41722322178944315 and parameters: {'n_estimators': 151, 'criterion': 'absolute_error', 'max_features': 'log2'}. Best is trial 70 with value: 0.4097822621741083.\u001b[0m\n"
     ]
    },
    {
     "name": "stdout",
     "output_type": "stream",
     "text": [
      "max_r2_score 0.42695789314658794\n"
     ]
    },
    {
     "name": "stderr",
     "output_type": "stream",
     "text": [
      "\u001b[32m[I 2023-06-02 11:08:33,209]\u001b[0m Trial 82 finished with value: 0.4130377467144606 and parameters: {'n_estimators': 151, 'criterion': 'absolute_error', 'max_features': 'log2'}. Best is trial 70 with value: 0.4097822621741083.\u001b[0m\n"
     ]
    },
    {
     "name": "stdout",
     "output_type": "stream",
     "text": [
      "max_r2_score 0.42695789314658794\n"
     ]
    },
    {
     "name": "stderr",
     "output_type": "stream",
     "text": [
      "\u001b[32m[I 2023-06-02 11:08:35,402]\u001b[0m Trial 80 finished with value: 0.4164541189959653 and parameters: {'n_estimators': 243, 'criterion': 'absolute_error', 'max_features': 'log2'}. Best is trial 70 with value: 0.4097822621741083.\u001b[0m\n"
     ]
    },
    {
     "name": "stdout",
     "output_type": "stream",
     "text": [
      "max_r2_score 0.42695789314658794\n"
     ]
    },
    {
     "name": "stderr",
     "output_type": "stream",
     "text": [
      "\u001b[32m[I 2023-06-02 11:08:38,565]\u001b[0m Trial 84 finished with value: 0.4247641534922181 and parameters: {'n_estimators': 344, 'criterion': 'squared_error', 'max_features': 'log2'}. Best is trial 70 with value: 0.4097822621741083.\u001b[0m\n"
     ]
    },
    {
     "name": "stdout",
     "output_type": "stream",
     "text": [
      "max_r2_score 0.42695789314658794\n"
     ]
    },
    {
     "name": "stderr",
     "output_type": "stream",
     "text": [
      "\u001b[32m[I 2023-06-02 11:08:41,076]\u001b[0m Trial 85 finished with value: 0.4248506414308232 and parameters: {'n_estimators': 338, 'criterion': 'squared_error', 'max_features': 'log2'}. Best is trial 70 with value: 0.4097822621741083.\u001b[0m\n"
     ]
    },
    {
     "name": "stdout",
     "output_type": "stream",
     "text": [
      "max_r2_score 0.42695789314658794\n"
     ]
    },
    {
     "name": "stderr",
     "output_type": "stream",
     "text": [
      "\u001b[32m[I 2023-06-02 11:09:26,347]\u001b[0m Trial 86 finished with value: 0.4179600183906952 and parameters: {'n_estimators': 153, 'criterion': 'absolute_error', 'max_features': 'log2'}. Best is trial 70 with value: 0.4097822621741083.\u001b[0m\n"
     ]
    },
    {
     "name": "stdout",
     "output_type": "stream",
     "text": [
      "max_r2_score 0.42695789314658794\n"
     ]
    },
    {
     "name": "stderr",
     "output_type": "stream",
     "text": [
      "\u001b[32m[I 2023-06-02 11:09:36,927]\u001b[0m Trial 87 finished with value: 0.4134495549821119 and parameters: {'n_estimators': 151, 'criterion': 'absolute_error', 'max_features': 'log2'}. Best is trial 70 with value: 0.4097822621741083.\u001b[0m\n"
     ]
    },
    {
     "name": "stdout",
     "output_type": "stream",
     "text": [
      "max_r2_score 0.42695789314658794\n"
     ]
    },
    {
     "name": "stderr",
     "output_type": "stream",
     "text": [
      "\u001b[32m[I 2023-06-02 11:10:21,306]\u001b[0m Trial 83 finished with value: 0.414803121879211 and parameters: {'n_estimators': 340, 'criterion': 'absolute_error', 'max_features': 'log2'}. Best is trial 70 with value: 0.4097822621741083.\u001b[0m\n"
     ]
    },
    {
     "name": "stdout",
     "output_type": "stream",
     "text": [
      "max_r2_score 0.42695789314658794\n"
     ]
    },
    {
     "name": "stderr",
     "output_type": "stream",
     "text": [
      "\u001b[32m[I 2023-06-02 11:10:33,454]\u001b[0m Trial 75 finished with value: 0.4119928205754908 and parameters: {'n_estimators': 165, 'criterion': 'absolute_error', 'max_features': None}. Best is trial 70 with value: 0.4097822621741083.\u001b[0m\n"
     ]
    },
    {
     "name": "stdout",
     "output_type": "stream",
     "text": [
      "max_r2_score 0.42695789314658794\n"
     ]
    },
    {
     "name": "stderr",
     "output_type": "stream",
     "text": [
      "\u001b[32m[I 2023-06-02 11:10:34,219]\u001b[0m Trial 74 finished with value: 0.41538428370965164 and parameters: {'n_estimators': 156, 'criterion': 'absolute_error', 'max_features': None}. Best is trial 70 with value: 0.4097822621741083.\u001b[0m\n"
     ]
    },
    {
     "name": "stdout",
     "output_type": "stream",
     "text": [
      "max_r2_score 0.42695789314658794\n"
     ]
    },
    {
     "name": "stderr",
     "output_type": "stream",
     "text": [
      "\u001b[32m[I 2023-06-02 11:10:57,311]\u001b[0m Trial 88 finished with value: 0.4174668877544834 and parameters: {'n_estimators': 285, 'criterion': 'absolute_error', 'max_features': 'log2'}. Best is trial 70 with value: 0.4097822621741083.\u001b[0m\n"
     ]
    },
    {
     "name": "stdout",
     "output_type": "stream",
     "text": [
      "max_r2_score 0.42695789314658794\n"
     ]
    },
    {
     "name": "stderr",
     "output_type": "stream",
     "text": [
      "\u001b[32m[I 2023-06-02 11:11:14,550]\u001b[0m Trial 89 finished with value: 0.41847482505879163 and parameters: {'n_estimators': 264, 'criterion': 'absolute_error', 'max_features': 'log2'}. Best is trial 70 with value: 0.4097822621741083.\u001b[0m\n"
     ]
    },
    {
     "name": "stdout",
     "output_type": "stream",
     "text": [
      "max_r2_score 0.42695789314658794\n"
     ]
    },
    {
     "name": "stderr",
     "output_type": "stream",
     "text": [
      "\u001b[32m[I 2023-06-02 11:11:25,279]\u001b[0m Trial 94 finished with value: 0.42305320801371205 and parameters: {'n_estimators': 143, 'criterion': 'friedman_mse', 'max_features': None}. Best is trial 70 with value: 0.4097822621741083.\u001b[0m\n"
     ]
    },
    {
     "name": "stdout",
     "output_type": "stream",
     "text": [
      "max_r2_score 0.42695789314658794\n"
     ]
    },
    {
     "name": "stderr",
     "output_type": "stream",
     "text": [
      "\u001b[32m[I 2023-06-02 11:11:52,966]\u001b[0m Trial 90 finished with value: 0.416760828413818 and parameters: {'n_estimators': 281, 'criterion': 'absolute_error', 'max_features': 'log2'}. Best is trial 70 with value: 0.4097822621741083.\u001b[0m\n"
     ]
    },
    {
     "name": "stdout",
     "output_type": "stream",
     "text": [
      "max_r2_score 0.42695789314658794\n"
     ]
    },
    {
     "name": "stderr",
     "output_type": "stream",
     "text": [
      "\u001b[32m[I 2023-06-02 11:11:57,167]\u001b[0m Trial 36 finished with value: 0.4157883313050299 and parameters: {'n_estimators': 775, 'criterion': 'absolute_error', 'max_features': None}. Best is trial 70 with value: 0.4097822621741083.\u001b[0m\n"
     ]
    },
    {
     "name": "stdout",
     "output_type": "stream",
     "text": [
      "max_r2_score 0.42695789314658794\n"
     ]
    },
    {
     "name": "stderr",
     "output_type": "stream",
     "text": [
      "\u001b[32m[I 2023-06-02 11:12:37,365]\u001b[0m Trial 93 finished with value: 0.4234145278030985 and parameters: {'n_estimators': 1536, 'criterion': 'friedman_mse', 'max_features': None}. Best is trial 70 with value: 0.4097822621741083.\u001b[0m\n"
     ]
    },
    {
     "name": "stdout",
     "output_type": "stream",
     "text": [
      "max_r2_score 0.42695789314658794\n"
     ]
    },
    {
     "name": "stderr",
     "output_type": "stream",
     "text": [
      "\u001b[32m[I 2023-06-02 11:13:09,590]\u001b[0m Trial 98 finished with value: 0.41349486798462987 and parameters: {'n_estimators': 100, 'criterion': 'absolute_error', 'max_features': 'log2'}. Best is trial 70 with value: 0.4097822621741083.\u001b[0m\n"
     ]
    },
    {
     "name": "stdout",
     "output_type": "stream",
     "text": [
      "max_r2_score 0.42695789314658794\n"
     ]
    },
    {
     "name": "stderr",
     "output_type": "stream",
     "text": [
      "\u001b[32m[I 2023-06-02 11:13:43,452]\u001b[0m Trial 99 finished with value: 0.41432502983846076 and parameters: {'n_estimators': 110, 'criterion': 'absolute_error', 'max_features': 'log2'}. Best is trial 70 with value: 0.4097822621741083.\u001b[0m\n"
     ]
    },
    {
     "name": "stdout",
     "output_type": "stream",
     "text": [
      "max_r2_score 0.42695789314658794\n"
     ]
    },
    {
     "name": "stderr",
     "output_type": "stream",
     "text": [
      "\u001b[32m[I 2023-06-02 11:14:39,424]\u001b[0m Trial 95 finished with value: 0.41447099094109663 and parameters: {'n_estimators': 105, 'criterion': 'absolute_error', 'max_features': None}. Best is trial 70 with value: 0.4097822621741083.\u001b[0m\n"
     ]
    },
    {
     "name": "stdout",
     "output_type": "stream",
     "text": [
      "max_r2_score 0.42695789314658794\n"
     ]
    },
    {
     "name": "stderr",
     "output_type": "stream",
     "text": [
      "\u001b[32m[I 2023-06-02 11:15:39,243]\u001b[0m Trial 97 finished with value: 0.416571958291145 and parameters: {'n_estimators': 647, 'criterion': 'absolute_error', 'max_features': 'sqrt'}. Best is trial 70 with value: 0.4097822621741083.\u001b[0m\n"
     ]
    },
    {
     "name": "stdout",
     "output_type": "stream",
     "text": [
      "max_r2_score 0.42695789314658794\n"
     ]
    },
    {
     "name": "stderr",
     "output_type": "stream",
     "text": [
      "\u001b[32m[I 2023-06-02 11:15:41,460]\u001b[0m Trial 96 finished with value: 0.4130792187819252 and parameters: {'n_estimators': 138, 'criterion': 'absolute_error', 'max_features': None}. Best is trial 70 with value: 0.4097822621741083.\u001b[0m\n"
     ]
    },
    {
     "name": "stdout",
     "output_type": "stream",
     "text": [
      "max_r2_score 0.42695789314658794\n"
     ]
    },
    {
     "name": "stderr",
     "output_type": "stream",
     "text": [
      "\u001b[32m[I 2023-06-02 11:17:21,431]\u001b[0m Trial 91 finished with value: 0.41556005990567724 and parameters: {'n_estimators': 277, 'criterion': 'absolute_error', 'max_features': None}. Best is trial 70 with value: 0.4097822621741083.\u001b[0m\n"
     ]
    },
    {
     "name": "stdout",
     "output_type": "stream",
     "text": [
      "max_r2_score 0.42695789314658794\n"
     ]
    },
    {
     "name": "stderr",
     "output_type": "stream",
     "text": [
      "\u001b[32m[I 2023-06-02 11:17:30,062]\u001b[0m Trial 92 finished with value: 0.4152980845757559 and parameters: {'n_estimators': 274, 'criterion': 'absolute_error', 'max_features': None}. Best is trial 70 with value: 0.4097822621741083.\u001b[0m\n"
     ]
    },
    {
     "name": "stdout",
     "output_type": "stream",
     "text": [
      "max_r2_score 0.42695789314658794\n"
     ]
    },
    {
     "name": "stderr",
     "output_type": "stream",
     "text": [
      "\u001b[32m[I 2023-06-02 11:19:50,780]\u001b[0m Trial 22 finished with value: 0.4153618552543552 and parameters: {'n_estimators': 1392, 'criterion': 'absolute_error', 'max_features': None}. Best is trial 70 with value: 0.4097822621741083.\u001b[0m\n"
     ]
    },
    {
     "name": "stdout",
     "output_type": "stream",
     "text": [
      "max_r2_score 0.42695789314658794\n"
     ]
    },
    {
     "name": "stderr",
     "output_type": "stream",
     "text": [
      "\u001b[32m[I 2023-06-02 11:28:25,907]\u001b[0m Trial 20 finished with value: 0.41646266502283547 and parameters: {'n_estimators': 1943, 'criterion': 'absolute_error', 'max_features': None}. Best is trial 70 with value: 0.4097822621741083.\u001b[0m\n"
     ]
    },
    {
     "name": "stdout",
     "output_type": "stream",
     "text": [
      "max_r2_score 0.42695789314658794\n"
     ]
    }
   ],
   "source": [
    "r2_scores=[]\n",
    "find_params=optuna.create_study()\n",
    "find_params.optimize(objective,n_trials=100,n_jobs=-1)"
   ]
  },
  {
   "cell_type": "code",
   "execution_count": 224,
   "metadata": {},
   "outputs": [
    {
     "data": {
      "text/plain": [
       "{'n_estimators': 197, 'criterion': 'friedman_mse', 'max_features': 'sqrt'}"
      ]
     },
     "execution_count": 224,
     "metadata": {},
     "output_type": "execute_result"
    }
   ],
   "source": [
    "param_df=find_params.trials_dataframe()[['value','params_criterion','params_max_features','params_n_estimators']]\n",
    "param_df=param_df[param_df['value']==max(param_df['value'])]\n",
    "best_param={'n_estimators': param_df['params_n_estimators'].values[0], \n",
    "            'criterion'   : param_df['params_criterion'].values[0], \n",
    "            'max_features': param_df['params_max_features'].values[0]}\n",
    "best_param"
   ]
  },
  {
   "cell_type": "code",
   "execution_count": 223,
   "metadata": {},
   "outputs": [
    {
     "name": "stdout",
     "output_type": "stream",
     "text": [
      "42.43 %\n"
     ]
    }
   ],
   "source": [
    "randf=RandomForestRegressor(**best_param)\n",
    "randf.fit(x_train,y_train)\n",
    "y_pred=randf.predict(x_test)\n",
    "print(round(r2_score(y_test,y_pred,)*100,2),'%')"
   ]
  },
  {
   "cell_type": "markdown",
   "metadata": {
    "id": "-2UUdmJUo-88"
   },
   "source": [
    "#### **2. AdaBoost**"
   ]
  },
  {
   "cell_type": "code",
   "execution_count": 54,
   "metadata": {
    "id": "ajA9CzKlxvOe"
   },
   "outputs": [],
   "source": [
    "def objective(trial):\n",
    "  param={\n",
    "      'n_estimators'  :trial.suggest_int('n_estimators',100,2000),\n",
    "      'learning_rate' :trial.suggest_float('learning_rate',0.001,1.0),\n",
    "      'loss'          :trial.suggest_categorical('loss',['linear', 'square', 'exponential'])\n",
    "  }\n",
    "\n",
    "  opt_adab=AdaBoostRegressor(**param)\n",
    "  opt_adab.fit(x_train,y_train)\n",
    "  y_pred=opt_adab.predict(x_test)\n",
    "  r2=r2_score(y_test,y_pred)\n",
    "  r2_scores.append(r2)\n",
    "  print('max_r2_score',max(r2_scores))\n",
    "  return(r2)"
   ]
  },
  {
   "cell_type": "code",
   "execution_count": 55,
   "metadata": {
    "collapsed": true,
    "id": "U4302qZ731CH"
   },
   "outputs": [
    {
     "name": "stderr",
     "output_type": "stream",
     "text": [
      "\u001b[32m[I 2023-06-02 02:57:18,265]\u001b[0m A new study created in memory with name: no-name-42ee2a77-51f2-4727-9bcd-bf1852e614df\u001b[0m\n",
      "\u001b[32m[I 2023-06-02 02:57:19,970]\u001b[0m Trial 7 finished with value: 0.3602413228928456 and parameters: {'n_estimators': 388, 'learning_rate': 0.4523723929391026, 'loss': 'linear'}. Best is trial 7 with value: 0.3602413228928456.\u001b[0m\n"
     ]
    },
    {
     "name": "stdout",
     "output_type": "stream",
     "text": [
      "max_r2_score 0.3602413228928456\n"
     ]
    },
    {
     "name": "stderr",
     "output_type": "stream",
     "text": [
      "\u001b[32m[I 2023-06-02 02:57:20,606]\u001b[0m Trial 3 finished with value: 0.3486557885545726 and parameters: {'n_estimators': 1421, 'learning_rate': 0.4661829942230603, 'loss': 'linear'}. Best is trial 3 with value: 0.3486557885545726.\u001b[0m\n"
     ]
    },
    {
     "name": "stdout",
     "output_type": "stream",
     "text": [
      "max_r2_score 0.3602413228928456\n"
     ]
    },
    {
     "name": "stderr",
     "output_type": "stream",
     "text": [
      "\u001b[32m[I 2023-06-02 02:57:28,076]\u001b[0m Trial 4 finished with value: 0.2085804117309198 and parameters: {'n_estimators': 350, 'learning_rate': 0.41253186440210154, 'loss': 'exponential'}. Best is trial 4 with value: 0.2085804117309198.\u001b[0m\n"
     ]
    },
    {
     "name": "stdout",
     "output_type": "stream",
     "text": [
      "max_r2_score 0.3602413228928456\n"
     ]
    },
    {
     "name": "stderr",
     "output_type": "stream",
     "text": [
      "\u001b[32m[I 2023-06-02 02:57:30,104]\u001b[0m Trial 9 finished with value: 0.01123791048559808 and parameters: {'n_estimators': 487, 'learning_rate': 0.8381288626792973, 'loss': 'exponential'}. Best is trial 9 with value: 0.01123791048559808.\u001b[0m\n"
     ]
    },
    {
     "name": "stdout",
     "output_type": "stream",
     "text": [
      "max_r2_score 0.3602413228928456\n"
     ]
    },
    {
     "name": "stderr",
     "output_type": "stream",
     "text": [
      "\u001b[32m[I 2023-06-02 02:57:31,826]\u001b[0m Trial 11 finished with value: 0.3580353356452064 and parameters: {'n_estimators': 1862, 'learning_rate': 0.3836550610652853, 'loss': 'linear'}. Best is trial 9 with value: 0.01123791048559808.\u001b[0m\n"
     ]
    },
    {
     "name": "stdout",
     "output_type": "stream",
     "text": [
      "max_r2_score 0.3602413228928456\n"
     ]
    },
    {
     "name": "stderr",
     "output_type": "stream",
     "text": [
      "\u001b[32m[I 2023-06-02 02:57:36,418]\u001b[0m Trial 10 finished with value: 0.0316757203559942 and parameters: {'n_estimators': 1016, 'learning_rate': 0.8296200200437589, 'loss': 'exponential'}. Best is trial 9 with value: 0.01123791048559808.\u001b[0m\n"
     ]
    },
    {
     "name": "stdout",
     "output_type": "stream",
     "text": [
      "max_r2_score 0.3602413228928456\n"
     ]
    },
    {
     "name": "stderr",
     "output_type": "stream",
     "text": [
      "\u001b[32m[I 2023-06-02 02:57:37,488]\u001b[0m Trial 0 finished with value: 0.21557159412377602 and parameters: {'n_estimators': 805, 'learning_rate': 0.8034471512369933, 'loss': 'square'}. Best is trial 9 with value: 0.01123791048559808.\u001b[0m\n"
     ]
    },
    {
     "name": "stdout",
     "output_type": "stream",
     "text": [
      "max_r2_score 0.3602413228928456\n"
     ]
    },
    {
     "name": "stderr",
     "output_type": "stream",
     "text": [
      "\u001b[32m[I 2023-06-02 02:57:39,776]\u001b[0m Trial 6 finished with value: 0.22130123973741767 and parameters: {'n_estimators': 898, 'learning_rate': 0.7408389933333682, 'loss': 'square'}. Best is trial 9 with value: 0.01123791048559808.\u001b[0m\n"
     ]
    },
    {
     "name": "stdout",
     "output_type": "stream",
     "text": [
      "max_r2_score 0.3602413228928456\n"
     ]
    },
    {
     "name": "stderr",
     "output_type": "stream",
     "text": [
      "\u001b[32m[I 2023-06-02 02:57:42,369]\u001b[0m Trial 14 finished with value: 0.35263797614494474 and parameters: {'n_estimators': 467, 'learning_rate': 0.08497618746156285, 'loss': 'linear'}. Best is trial 9 with value: 0.01123791048559808.\u001b[0m\n"
     ]
    },
    {
     "name": "stdout",
     "output_type": "stream",
     "text": [
      "max_r2_score 0.3602413228928456\n"
     ]
    },
    {
     "name": "stderr",
     "output_type": "stream",
     "text": [
      "\u001b[32m[I 2023-06-02 02:57:43,713]\u001b[0m Trial 16 finished with value: 0.35523376247360094 and parameters: {'n_estimators': 1873, 'learning_rate': 0.455454645648752, 'loss': 'linear'}. Best is trial 9 with value: 0.01123791048559808.\u001b[0m\n",
      "\u001b[32m[I 2023-06-02 02:57:43,776]\u001b[0m Trial 15 finished with value: 0.3592811680567183 and parameters: {'n_estimators': 506, 'learning_rate': 0.17647441127218183, 'loss': 'linear'}. Best is trial 9 with value: 0.01123791048559808.\u001b[0m\n"
     ]
    },
    {
     "name": "stdout",
     "output_type": "stream",
     "text": [
      "max_r2_score 0.3602413228928456\n",
      "max_r2_score 0.3602413228928456\n"
     ]
    },
    {
     "name": "stderr",
     "output_type": "stream",
     "text": [
      "\u001b[32m[I 2023-06-02 02:57:46,957]\u001b[0m Trial 17 finished with value: 0.254201390841437 and parameters: {'n_estimators': 112, 'learning_rate': 0.9724255611448241, 'loss': 'exponential'}. Best is trial 9 with value: 0.01123791048559808.\u001b[0m\n"
     ]
    },
    {
     "name": "stdout",
     "output_type": "stream",
     "text": [
      "max_r2_score 0.3602413228928456\n"
     ]
    },
    {
     "name": "stderr",
     "output_type": "stream",
     "text": [
      "\u001b[32m[I 2023-06-02 02:57:49,709]\u001b[0m Trial 2 finished with value: 0.22153648154020222 and parameters: {'n_estimators': 1304, 'learning_rate': 0.2952178193571613, 'loss': 'square'}. Best is trial 9 with value: 0.01123791048559808.\u001b[0m\n"
     ]
    },
    {
     "name": "stdout",
     "output_type": "stream",
     "text": [
      "max_r2_score 0.3602413228928456\n"
     ]
    },
    {
     "name": "stderr",
     "output_type": "stream",
     "text": [
      "\u001b[32m[I 2023-06-02 02:57:50,625]\u001b[0m Trial 18 finished with value: 0.030713323140568405 and parameters: {'n_estimators': 1366, 'learning_rate': 0.9887876934624306, 'loss': 'exponential'}. Best is trial 9 with value: 0.01123791048559808.\u001b[0m\n",
      "\u001b[32m[I 2023-06-02 02:57:50,684]\u001b[0m Trial 12 finished with value: 0.017283977229062275 and parameters: {'n_estimators': 756, 'learning_rate': 0.3832157771775553, 'loss': 'exponential'}. Best is trial 9 with value: 0.01123791048559808.\u001b[0m\n"
     ]
    },
    {
     "name": "stdout",
     "output_type": "stream",
     "text": [
      "max_r2_score 0.3602413228928456\n",
      "max_r2_score 0.3602413228928456\n"
     ]
    },
    {
     "name": "stderr",
     "output_type": "stream",
     "text": [
      "\u001b[32m[I 2023-06-02 02:57:53,788]\u001b[0m Trial 8 finished with value: 0.21779790059978577 and parameters: {'n_estimators': 1441, 'learning_rate': 0.46484318280830217, 'loss': 'square'}. Best is trial 9 with value: 0.01123791048559808.\u001b[0m\n"
     ]
    },
    {
     "name": "stdout",
     "output_type": "stream",
     "text": [
      "max_r2_score 0.3602413228928456\n"
     ]
    },
    {
     "name": "stderr",
     "output_type": "stream",
     "text": [
      "\u001b[32m[I 2023-06-02 02:57:56,099]\u001b[0m Trial 21 finished with value: 0.1020114695728348 and parameters: {'n_estimators': 1396, 'learning_rate': 0.9892260881925332, 'loss': 'exponential'}. Best is trial 9 with value: 0.01123791048559808.\u001b[0m\n"
     ]
    },
    {
     "name": "stdout",
     "output_type": "stream",
     "text": [
      "max_r2_score 0.3602413228928456\n"
     ]
    },
    {
     "name": "stderr",
     "output_type": "stream",
     "text": [
      "\u001b[32m[I 2023-06-02 02:57:57,138]\u001b[0m Trial 19 finished with value: 0.012449784911743311 and parameters: {'n_estimators': 1189, 'learning_rate': 0.7114131908019443, 'loss': 'exponential'}. Best is trial 9 with value: 0.01123791048559808.\u001b[0m\n"
     ]
    },
    {
     "name": "stdout",
     "output_type": "stream",
     "text": [
      "max_r2_score 0.3602413228928456\n"
     ]
    },
    {
     "name": "stderr",
     "output_type": "stream",
     "text": [
      "\u001b[32m[I 2023-06-02 02:57:58,445]\u001b[0m Trial 20 finished with value: 0.08206350577369914 and parameters: {'n_estimators': 1178, 'learning_rate': 0.6563020494156206, 'loss': 'exponential'}. Best is trial 9 with value: 0.01123791048559808.\u001b[0m\n"
     ]
    },
    {
     "name": "stdout",
     "output_type": "stream",
     "text": [
      "max_r2_score 0.3602413228928456\n"
     ]
    },
    {
     "name": "stderr",
     "output_type": "stream",
     "text": [
      "\u001b[32m[I 2023-06-02 02:58:00,922]\u001b[0m Trial 22 finished with value: 0.04952671739392844 and parameters: {'n_estimators': 715, 'learning_rate': 0.6112792333174483, 'loss': 'exponential'}. Best is trial 9 with value: 0.01123791048559808.\u001b[0m\n"
     ]
    },
    {
     "name": "stdout",
     "output_type": "stream",
     "text": [
      "max_r2_score 0.3602413228928456\n"
     ]
    },
    {
     "name": "stderr",
     "output_type": "stream",
     "text": [
      "\u001b[32m[I 2023-06-02 02:58:01,343]\u001b[0m Trial 1 finished with value: 0.22146281805597223 and parameters: {'n_estimators': 1809, 'learning_rate': 0.30907370241602944, 'loss': 'square'}. Best is trial 9 with value: 0.01123791048559808.\u001b[0m\n"
     ]
    },
    {
     "name": "stdout",
     "output_type": "stream",
     "text": [
      "max_r2_score 0.3602413228928456\n"
     ]
    },
    {
     "name": "stderr",
     "output_type": "stream",
     "text": [
      "\u001b[32m[I 2023-06-02 02:58:03,325]\u001b[0m Trial 23 finished with value: 0.07464083941182442 and parameters: {'n_estimators': 703, 'learning_rate': 0.6035876600672168, 'loss': 'exponential'}. Best is trial 9 with value: 0.01123791048559808.\u001b[0m\n"
     ]
    },
    {
     "name": "stdout",
     "output_type": "stream",
     "text": [
      "max_r2_score 0.3602413228928456\n"
     ]
    },
    {
     "name": "stderr",
     "output_type": "stream",
     "text": [
      "\u001b[32m[I 2023-06-02 02:58:07,449]\u001b[0m Trial 24 finished with value: 0.03102266882841964 and parameters: {'n_estimators': 733, 'learning_rate': 0.6089434140843659, 'loss': 'exponential'}. Best is trial 9 with value: 0.01123791048559808.\u001b[0m\n"
     ]
    },
    {
     "name": "stdout",
     "output_type": "stream",
     "text": [
      "max_r2_score 0.3602413228928456\n"
     ]
    },
    {
     "name": "stderr",
     "output_type": "stream",
     "text": [
      "\u001b[32m[I 2023-06-02 02:58:09,703]\u001b[0m Trial 25 finished with value: 0.0005083415459631313 and parameters: {'n_estimators': 1155, 'learning_rate': 0.6250179962213809, 'loss': 'exponential'}. Best is trial 25 with value: 0.0005083415459631313.\u001b[0m\n",
      "\u001b[32m[I 2023-06-02 02:58:09,814]\u001b[0m Trial 5 finished with value: 0.3251052861580369 and parameters: {'n_estimators': 1691, 'learning_rate': 0.014770005961996461, 'loss': 'square'}. Best is trial 25 with value: 0.0005083415459631313.\u001b[0m\n"
     ]
    },
    {
     "name": "stdout",
     "output_type": "stream",
     "text": [
      "max_r2_score 0.3602413228928456\n",
      "max_r2_score 0.3602413228928456\n"
     ]
    },
    {
     "name": "stderr",
     "output_type": "stream",
     "text": [
      "\u001b[32m[I 2023-06-02 02:58:10,040]\u001b[0m Trial 26 finished with value: 0.0199392387265509 and parameters: {'n_estimators': 1658, 'learning_rate': 0.5990236133764792, 'loss': 'exponential'}. Best is trial 25 with value: 0.0005083415459631313.\u001b[0m\n"
     ]
    },
    {
     "name": "stdout",
     "output_type": "stream",
     "text": [
      "max_r2_score 0.3602413228928456\n"
     ]
    },
    {
     "name": "stderr",
     "output_type": "stream",
     "text": [
      "\u001b[32m[I 2023-06-02 02:58:10,985]\u001b[0m Trial 28 finished with value: 0.08875649520667162 and parameters: {'n_estimators': 662, 'learning_rate': 0.5938203924977836, 'loss': 'exponential'}. Best is trial 25 with value: 0.0005083415459631313.\u001b[0m\n"
     ]
    },
    {
     "name": "stdout",
     "output_type": "stream",
     "text": [
      "max_r2_score 0.3602413228928456\n"
     ]
    },
    {
     "name": "stderr",
     "output_type": "stream",
     "text": [
      "\u001b[32m[I 2023-06-02 02:58:13,821]\u001b[0m Trial 27 finished with value: 0.0060098637552957745 and parameters: {'n_estimators': 1623, 'learning_rate': 0.5790309655925745, 'loss': 'exponential'}. Best is trial 25 with value: 0.0005083415459631313.\u001b[0m\n"
     ]
    },
    {
     "name": "stdout",
     "output_type": "stream",
     "text": [
      "max_r2_score 0.3602413228928456\n"
     ]
    },
    {
     "name": "stderr",
     "output_type": "stream",
     "text": [
      "\u001b[32m[I 2023-06-02 02:58:15,518]\u001b[0m Trial 29 finished with value: 0.023454281967537516 and parameters: {'n_estimators': 1058, 'learning_rate': 0.546214888893298, 'loss': 'exponential'}. Best is trial 25 with value: 0.0005083415459631313.\u001b[0m\n",
      "\u001b[32m[I 2023-06-02 02:58:15,630]\u001b[0m Trial 13 finished with value: 0.28749775843992875 and parameters: {'n_estimators': 1361, 'learning_rate': 0.05940573224331656, 'loss': 'exponential'}. Best is trial 25 with value: 0.0005083415459631313.\u001b[0m\n"
     ]
    },
    {
     "name": "stdout",
     "output_type": "stream",
     "text": [
      "max_r2_score 0.3602413228928456\n",
      "max_r2_score 0.3602413228928456\n"
     ]
    },
    {
     "name": "stderr",
     "output_type": "stream",
     "text": [
      "\u001b[32m[I 2023-06-02 02:58:18,294]\u001b[0m Trial 31 finished with value: 0.0586630125797164 and parameters: {'n_estimators': 1618, 'learning_rate': 0.73278233601032, 'loss': 'exponential'}. Best is trial 25 with value: 0.0005083415459631313.\u001b[0m\n"
     ]
    },
    {
     "name": "stdout",
     "output_type": "stream",
     "text": [
      "max_r2_score 0.3602413228928456\n"
     ]
    },
    {
     "name": "stderr",
     "output_type": "stream",
     "text": [
      "\u001b[32m[I 2023-06-02 02:58:19,837]\u001b[0m Trial 34 finished with value: 0.014373167703229939 and parameters: {'n_estimators': 1094, 'learning_rate': 0.8561896998866415, 'loss': 'exponential'}. Best is trial 25 with value: 0.0005083415459631313.\u001b[0m\n"
     ]
    },
    {
     "name": "stdout",
     "output_type": "stream",
     "text": [
      "max_r2_score 0.3602413228928456\n"
     ]
    },
    {
     "name": "stderr",
     "output_type": "stream",
     "text": [
      "\u001b[32m[I 2023-06-02 02:58:20,167]\u001b[0m Trial 32 finished with value: 0.09167227807706124 and parameters: {'n_estimators': 1574, 'learning_rate': 0.5364759178637377, 'loss': 'exponential'}. Best is trial 25 with value: 0.0005083415459631313.\u001b[0m\n"
     ]
    },
    {
     "name": "stdout",
     "output_type": "stream",
     "text": [
      "max_r2_score 0.3602413228928456\n"
     ]
    },
    {
     "name": "stderr",
     "output_type": "stream",
     "text": [
      "\u001b[32m[I 2023-06-02 02:58:20,414]\u001b[0m Trial 33 finished with value: 0.01888804380816922 and parameters: {'n_estimators': 1156, 'learning_rate': 0.7287184473222579, 'loss': 'exponential'}. Best is trial 25 with value: 0.0005083415459631313.\u001b[0m\n"
     ]
    },
    {
     "name": "stdout",
     "output_type": "stream",
     "text": [
      "max_r2_score 0.3602413228928456\n"
     ]
    },
    {
     "name": "stderr",
     "output_type": "stream",
     "text": [
      "\u001b[32m[I 2023-06-02 02:58:22,556]\u001b[0m Trial 30 finished with value: -0.0032203520398654817 and parameters: {'n_estimators': 1042, 'learning_rate': 0.5387671052017521, 'loss': 'exponential'}. Best is trial 30 with value: -0.0032203520398654817.\u001b[0m\n"
     ]
    },
    {
     "name": "stdout",
     "output_type": "stream",
     "text": [
      "max_r2_score 0.3602413228928456\n"
     ]
    },
    {
     "name": "stderr",
     "output_type": "stream",
     "text": [
      "\u001b[32m[I 2023-06-02 02:58:23,162]\u001b[0m Trial 36 finished with value: 0.06287325147276257 and parameters: {'n_estimators': 1604, 'learning_rate': 0.8539561910289959, 'loss': 'exponential'}. Best is trial 30 with value: -0.0032203520398654817.\u001b[0m\n"
     ]
    },
    {
     "name": "stdout",
     "output_type": "stream",
     "text": [
      "max_r2_score 0.3602413228928456\n"
     ]
    },
    {
     "name": "stderr",
     "output_type": "stream",
     "text": [
      "\u001b[32m[I 2023-06-02 02:58:23,962]\u001b[0m Trial 37 finished with value: 0.019801977661088377 and parameters: {'n_estimators': 1578, 'learning_rate': 0.8425915823949417, 'loss': 'exponential'}. Best is trial 30 with value: -0.0032203520398654817.\u001b[0m\n"
     ]
    },
    {
     "name": "stdout",
     "output_type": "stream",
     "text": [
      "max_r2_score 0.3602413228928456\n"
     ]
    },
    {
     "name": "stderr",
     "output_type": "stream",
     "text": [
      "\u001b[32m[I 2023-06-02 02:58:27,968]\u001b[0m Trial 35 finished with value: 0.02006149435757676 and parameters: {'n_estimators': 1629, 'learning_rate': 0.5280869078116676, 'loss': 'exponential'}. Best is trial 30 with value: -0.0032203520398654817.\u001b[0m\n"
     ]
    },
    {
     "name": "stdout",
     "output_type": "stream",
     "text": [
      "max_r2_score 0.3602413228928456\n"
     ]
    },
    {
     "name": "stderr",
     "output_type": "stream",
     "text": [
      "\u001b[32m[I 2023-06-02 02:58:30,340]\u001b[0m Trial 38 finished with value: 0.0016276332323875708 and parameters: {'n_estimators': 1117, 'learning_rate': 0.6921948934134794, 'loss': 'exponential'}. Best is trial 30 with value: -0.0032203520398654817.\u001b[0m\n"
     ]
    },
    {
     "name": "stdout",
     "output_type": "stream",
     "text": [
      "max_r2_score 0.3602413228928456\n"
     ]
    },
    {
     "name": "stderr",
     "output_type": "stream",
     "text": [
      "\u001b[32m[I 2023-06-02 02:58:30,997]\u001b[0m Trial 39 finished with value: 0.011285508632086882 and parameters: {'n_estimators': 934, 'learning_rate': 0.6850218398051034, 'loss': 'exponential'}. Best is trial 30 with value: -0.0032203520398654817.\u001b[0m\n"
     ]
    },
    {
     "name": "stdout",
     "output_type": "stream",
     "text": [
      "max_r2_score 0.3602413228928456\n"
     ]
    },
    {
     "name": "stderr",
     "output_type": "stream",
     "text": [
      "\u001b[32m[I 2023-06-02 02:58:32,098]\u001b[0m Trial 40 finished with value: -0.0069542950973418005 and parameters: {'n_estimators': 1225, 'learning_rate': 0.7271774879365235, 'loss': 'exponential'}. Best is trial 40 with value: -0.0069542950973418005.\u001b[0m\n"
     ]
    },
    {
     "name": "stdout",
     "output_type": "stream",
     "text": [
      "max_r2_score 0.3602413228928456\n"
     ]
    },
    {
     "name": "stderr",
     "output_type": "stream",
     "text": [
      "\u001b[32m[I 2023-06-02 02:58:33,277]\u001b[0m Trial 41 finished with value: -0.011150767792959204 and parameters: {'n_estimators': 926, 'learning_rate': 0.6696647071287971, 'loss': 'exponential'}. Best is trial 41 with value: -0.011150767792959204.\u001b[0m\n"
     ]
    },
    {
     "name": "stdout",
     "output_type": "stream",
     "text": [
      "max_r2_score 0.3602413228928456\n"
     ]
    },
    {
     "name": "stderr",
     "output_type": "stream",
     "text": [
      "\u001b[32m[I 2023-06-02 02:58:44,690]\u001b[0m Trial 44 finished with value: 0.21003289295510885 and parameters: {'n_estimators': 867, 'learning_rate': 0.5213436693045251, 'loss': 'square'}. Best is trial 41 with value: -0.011150767792959204.\u001b[0m\n"
     ]
    },
    {
     "name": "stdout",
     "output_type": "stream",
     "text": [
      "max_r2_score 0.3602413228928456\n"
     ]
    },
    {
     "name": "stderr",
     "output_type": "stream",
     "text": [
      "\u001b[32m[I 2023-06-02 02:58:45,419]\u001b[0m Trial 43 finished with value: 0.22533484141320748 and parameters: {'n_estimators': 928, 'learning_rate': 0.5340000833025548, 'loss': 'square'}. Best is trial 41 with value: -0.011150767792959204.\u001b[0m\n"
     ]
    },
    {
     "name": "stdout",
     "output_type": "stream",
     "text": [
      "max_r2_score 0.3602413228928456\n"
     ]
    },
    {
     "name": "stderr",
     "output_type": "stream",
     "text": [
      "\u001b[32m[I 2023-06-02 02:58:48,399]\u001b[0m Trial 45 finished with value: 0.21924097263400466 and parameters: {'n_estimators': 858, 'learning_rate': 0.7784635202048474, 'loss': 'square'}. Best is trial 41 with value: -0.011150767792959204.\u001b[0m\n"
     ]
    },
    {
     "name": "stdout",
     "output_type": "stream",
     "text": [
      "max_r2_score 0.3602413228928456\n"
     ]
    },
    {
     "name": "stderr",
     "output_type": "stream",
     "text": [
      "\u001b[32m[I 2023-06-02 02:58:51,874]\u001b[0m Trial 46 finished with value: 0.21993419702949324 and parameters: {'n_estimators': 904, 'learning_rate': 0.6656945825723523, 'loss': 'square'}. Best is trial 41 with value: -0.011150767792959204.\u001b[0m\n"
     ]
    },
    {
     "name": "stdout",
     "output_type": "stream",
     "text": [
      "max_r2_score 0.3602413228928456\n"
     ]
    },
    {
     "name": "stderr",
     "output_type": "stream",
     "text": [
      "\u001b[32m[I 2023-06-02 02:58:54,694]\u001b[0m Trial 49 finished with value: 0.2118805849672456 and parameters: {'n_estimators': 891, 'learning_rate': 0.6508221187099021, 'loss': 'square'}. Best is trial 41 with value: -0.011150767792959204.\u001b[0m\n"
     ]
    },
    {
     "name": "stdout",
     "output_type": "stream",
     "text": [
      "max_r2_score 0.3602413228928456\n"
     ]
    },
    {
     "name": "stderr",
     "output_type": "stream",
     "text": [
      "\u001b[32m[I 2023-06-02 02:58:57,126]\u001b[0m Trial 52 finished with value: 0.09785252502794328 and parameters: {'n_estimators': 1256, 'learning_rate': 0.6465491455460657, 'loss': 'exponential'}. Best is trial 41 with value: -0.011150767792959204.\u001b[0m\n"
     ]
    },
    {
     "name": "stdout",
     "output_type": "stream",
     "text": [
      "max_r2_score 0.3602413228928456\n"
     ]
    },
    {
     "name": "stderr",
     "output_type": "stream",
     "text": [
      "\u001b[32m[I 2023-06-02 02:58:58,158]\u001b[0m Trial 55 finished with value: 0.35577612271443526 and parameters: {'n_estimators': 1284, 'learning_rate': 0.7729656480280502, 'loss': 'linear'}. Best is trial 41 with value: -0.011150767792959204.\u001b[0m\n"
     ]
    },
    {
     "name": "stdout",
     "output_type": "stream",
     "text": [
      "max_r2_score 0.3602413228928456\n"
     ]
    },
    {
     "name": "stderr",
     "output_type": "stream",
     "text": [
      "\u001b[32m[I 2023-06-02 02:58:58,870]\u001b[0m Trial 53 finished with value: 0.11787540484731596 and parameters: {'n_estimators': 1249, 'learning_rate': 0.7691750371006336, 'loss': 'exponential'}. Best is trial 41 with value: -0.011150767792959204.\u001b[0m\n"
     ]
    },
    {
     "name": "stdout",
     "output_type": "stream",
     "text": [
      "max_r2_score 0.3602413228928456\n"
     ]
    },
    {
     "name": "stderr",
     "output_type": "stream",
     "text": [
      "\u001b[32m[I 2023-06-02 02:59:01,108]\u001b[0m Trial 47 finished with value: 0.21467127556194154 and parameters: {'n_estimators': 1263, 'learning_rate': 0.6617380743402714, 'loss': 'square'}. Best is trial 41 with value: -0.011150767792959204.\u001b[0m\n"
     ]
    },
    {
     "name": "stdout",
     "output_type": "stream",
     "text": [
      "max_r2_score 0.3602413228928456\n"
     ]
    },
    {
     "name": "stderr",
     "output_type": "stream",
     "text": [
      "\u001b[32m[I 2023-06-02 02:59:05,659]\u001b[0m Trial 54 finished with value: 0.015022696772038935 and parameters: {'n_estimators': 1266, 'learning_rate': 0.6931156143412712, 'loss': 'exponential'}. Best is trial 41 with value: -0.011150767792959204.\u001b[0m\n"
     ]
    },
    {
     "name": "stdout",
     "output_type": "stream",
     "text": [
      "max_r2_score 0.3602413228928456\n"
     ]
    },
    {
     "name": "stderr",
     "output_type": "stream",
     "text": [
      "\u001b[32m[I 2023-06-02 02:59:09,835]\u001b[0m Trial 42 finished with value: 0.21072929595610734 and parameters: {'n_estimators': 1989, 'learning_rate': 0.5151549568533418, 'loss': 'square'}. Best is trial 41 with value: -0.011150767792959204.\u001b[0m\n",
      "\u001b[32m[I 2023-06-02 02:59:09,854]\u001b[0m Trial 57 finished with value: 0.014575890286215754 and parameters: {'n_estimators': 1473, 'learning_rate': 0.6966336755666341, 'loss': 'exponential'}. Best is trial 41 with value: -0.011150767792959204.\u001b[0m\n"
     ]
    },
    {
     "name": "stdout",
     "output_type": "stream",
     "text": [
      "max_r2_score 0.3602413228928456\n",
      "max_r2_score 0.3602413228928456\n"
     ]
    },
    {
     "name": "stderr",
     "output_type": "stream",
     "text": [
      "\u001b[32m[I 2023-06-02 02:59:11,396]\u001b[0m Trial 56 finished with value: 0.036299973408997266 and parameters: {'n_estimators': 1477, 'learning_rate': 0.49747038581693676, 'loss': 'exponential'}. Best is trial 41 with value: -0.011150767792959204.\u001b[0m\n"
     ]
    },
    {
     "name": "stdout",
     "output_type": "stream",
     "text": [
      "max_r2_score 0.3602413228928456\n"
     ]
    },
    {
     "name": "stderr",
     "output_type": "stream",
     "text": [
      "\u001b[32m[I 2023-06-02 02:59:13,533]\u001b[0m Trial 50 finished with value: 0.21802904061168815 and parameters: {'n_estimators': 1223, 'learning_rate': 0.6627347914044736, 'loss': 'square'}. Best is trial 41 with value: -0.011150767792959204.\u001b[0m\n"
     ]
    },
    {
     "name": "stdout",
     "output_type": "stream",
     "text": [
      "max_r2_score 0.3602413228928456\n"
     ]
    },
    {
     "name": "stderr",
     "output_type": "stream",
     "text": [
      "\u001b[32m[I 2023-06-02 02:59:14,348]\u001b[0m Trial 58 finished with value: 0.012815483265400274 and parameters: {'n_estimators': 1967, 'learning_rate': 0.5645145897619461, 'loss': 'exponential'}. Best is trial 41 with value: -0.011150767792959204.\u001b[0m\n"
     ]
    },
    {
     "name": "stdout",
     "output_type": "stream",
     "text": [
      "max_r2_score 0.3602413228928456\n"
     ]
    },
    {
     "name": "stderr",
     "output_type": "stream",
     "text": [
      "\u001b[32m[I 2023-06-02 02:59:15,290]\u001b[0m Trial 51 finished with value: 0.2113863029924783 and parameters: {'n_estimators': 1265, 'learning_rate': 0.6539347208049895, 'loss': 'square'}. Best is trial 41 with value: -0.011150767792959204.\u001b[0m\n"
     ]
    },
    {
     "name": "stdout",
     "output_type": "stream",
     "text": [
      "max_r2_score 0.3602413228928456\n"
     ]
    },
    {
     "name": "stderr",
     "output_type": "stream",
     "text": [
      "\u001b[32m[I 2023-06-02 02:59:15,872]\u001b[0m Trial 64 finished with value: 0.34932269934385374 and parameters: {'n_estimators': 1002, 'learning_rate': 0.5731583862334417, 'loss': 'linear'}. Best is trial 41 with value: -0.011150767792959204.\u001b[0m\n"
     ]
    },
    {
     "name": "stdout",
     "output_type": "stream",
     "text": [
      "max_r2_score 0.3602413228928456\n"
     ]
    },
    {
     "name": "stderr",
     "output_type": "stream",
     "text": [
      "\u001b[32m[I 2023-06-02 02:59:17,114]\u001b[0m Trial 65 finished with value: 0.3644685427557969 and parameters: {'n_estimators': 1007, 'learning_rate': 0.4793659072456, 'loss': 'linear'}. Best is trial 41 with value: -0.011150767792959204.\u001b[0m\n"
     ]
    },
    {
     "name": "stdout",
     "output_type": "stream",
     "text": [
      "max_r2_score 0.3644685427557969\n"
     ]
    },
    {
     "name": "stderr",
     "output_type": "stream",
     "text": [
      "\u001b[32m[I 2023-06-02 02:59:18,807]\u001b[0m Trial 48 finished with value: 0.21425684022841518 and parameters: {'n_estimators': 1985, 'learning_rate': 0.6575650960213889, 'loss': 'square'}. Best is trial 41 with value: -0.011150767792959204.\u001b[0m\n"
     ]
    },
    {
     "name": "stdout",
     "output_type": "stream",
     "text": [
      "max_r2_score 0.3644685427557969\n"
     ]
    },
    {
     "name": "stderr",
     "output_type": "stream",
     "text": [
      "\u001b[32m[I 2023-06-02 02:59:20,779]\u001b[0m Trial 61 finished with value: 0.04496557194494033 and parameters: {'n_estimators': 1029, 'learning_rate': 0.5755501846530161, 'loss': 'exponential'}. Best is trial 41 with value: -0.011150767792959204.\u001b[0m\n"
     ]
    },
    {
     "name": "stdout",
     "output_type": "stream",
     "text": [
      "max_r2_score 0.3644685427557969\n"
     ]
    },
    {
     "name": "stderr",
     "output_type": "stream",
     "text": [
      "\u001b[32m[I 2023-06-02 02:59:21,594]\u001b[0m Trial 59 finished with value: -0.00626813103437196 and parameters: {'n_estimators': 1017, 'learning_rate': 0.47601053016750794, 'loss': 'exponential'}. Best is trial 41 with value: -0.011150767792959204.\u001b[0m\n"
     ]
    },
    {
     "name": "stdout",
     "output_type": "stream",
     "text": [
      "max_r2_score 0.3644685427557969\n"
     ]
    },
    {
     "name": "stderr",
     "output_type": "stream",
     "text": [
      "\u001b[32m[I 2023-06-02 02:59:22,692]\u001b[0m Trial 62 finished with value: 0.033413825750479575 and parameters: {'n_estimators': 1062, 'learning_rate': 0.5693662940279883, 'loss': 'exponential'}. Best is trial 41 with value: -0.011150767792959204.\u001b[0m\n"
     ]
    },
    {
     "name": "stdout",
     "output_type": "stream",
     "text": [
      "max_r2_score 0.3644685427557969\n"
     ]
    },
    {
     "name": "stderr",
     "output_type": "stream",
     "text": [
      "\u001b[32m[I 2023-06-02 02:59:23,629]\u001b[0m Trial 60 finished with value: 0.036775748830803034 and parameters: {'n_estimators': 1486, 'learning_rate': 0.48285255273178973, 'loss': 'exponential'}. Best is trial 41 with value: -0.011150767792959204.\u001b[0m\n",
      "\u001b[32m[I 2023-06-02 02:59:23,747]\u001b[0m Trial 63 finished with value: 0.07386108438132843 and parameters: {'n_estimators': 990, 'learning_rate': 0.5701671769844272, 'loss': 'exponential'}. Best is trial 41 with value: -0.011150767792959204.\u001b[0m\n"
     ]
    },
    {
     "name": "stdout",
     "output_type": "stream",
     "text": [
      "max_r2_score 0.3644685427557969\n",
      "max_r2_score 0.3644685427557969\n"
     ]
    },
    {
     "name": "stderr",
     "output_type": "stream",
     "text": [
      "\u001b[32m[I 2023-06-02 02:59:25,194]\u001b[0m Trial 68 finished with value: 0.1990987577256631 and parameters: {'n_estimators': 232, 'learning_rate': 0.6269953820219211, 'loss': 'exponential'}. Best is trial 41 with value: -0.011150767792959204.\u001b[0m\n"
     ]
    },
    {
     "name": "stdout",
     "output_type": "stream",
     "text": [
      "max_r2_score 0.3644685427557969\n"
     ]
    },
    {
     "name": "stderr",
     "output_type": "stream",
     "text": [
      "\u001b[32m[I 2023-06-02 02:59:29,443]\u001b[0m Trial 69 finished with value: 0.09960954427050328 and parameters: {'n_estimators': 327, 'learning_rate': 0.6238966689299302, 'loss': 'exponential'}. Best is trial 41 with value: -0.011150767792959204.\u001b[0m\n"
     ]
    },
    {
     "name": "stdout",
     "output_type": "stream",
     "text": [
      "max_r2_score 0.3644685427557969\n"
     ]
    },
    {
     "name": "stderr",
     "output_type": "stream",
     "text": [
      "\u001b[32m[I 2023-06-02 02:59:30,244]\u001b[0m Trial 66 finished with value: 0.021164719903954632 and parameters: {'n_estimators': 1755, 'learning_rate': 0.47871811871629544, 'loss': 'exponential'}. Best is trial 41 with value: -0.011150767792959204.\u001b[0m\n"
     ]
    },
    {
     "name": "stdout",
     "output_type": "stream",
     "text": [
      "max_r2_score 0.3644685427557969\n"
     ]
    },
    {
     "name": "stderr",
     "output_type": "stream",
     "text": [
      "\u001b[32m[I 2023-06-02 02:59:32,177]\u001b[0m Trial 71 finished with value: 0.06937845440310875 and parameters: {'n_estimators': 1742, 'learning_rate': 0.6233999552545316, 'loss': 'exponential'}. Best is trial 41 with value: -0.011150767792959204.\u001b[0m\n",
      "\u001b[32m[I 2023-06-02 02:59:32,179]\u001b[0m Trial 72 finished with value: 0.11829002416271295 and parameters: {'n_estimators': 1150, 'learning_rate': 0.6215932535151774, 'loss': 'exponential'}. Best is trial 41 with value: -0.011150767792959204.\u001b[0m\n"
     ]
    },
    {
     "name": "stdout",
     "output_type": "stream",
     "text": [
      "max_r2_score 0.3644685427557969\n",
      "max_r2_score 0.3644685427557969\n"
     ]
    },
    {
     "name": "stderr",
     "output_type": "stream",
     "text": [
      "\u001b[32m[I 2023-06-02 02:59:33,663]\u001b[0m Trial 70 finished with value: 0.11000741828932559 and parameters: {'n_estimators': 1125, 'learning_rate': 0.4384944001389672, 'loss': 'exponential'}. Best is trial 41 with value: -0.011150767792959204.\u001b[0m\n",
      "\u001b[32m[I 2023-06-02 02:59:33,686]\u001b[0m Trial 67 finished with value: 0.01571620167133192 and parameters: {'n_estimators': 1153, 'learning_rate': 0.42357328268878797, 'loss': 'exponential'}. Best is trial 41 with value: -0.011150767792959204.\u001b[0m\n"
     ]
    },
    {
     "name": "stdout",
     "output_type": "stream",
     "text": [
      "max_r2_score 0.3644685427557969\n",
      "max_r2_score 0.3644685427557969\n"
     ]
    },
    {
     "name": "stderr",
     "output_type": "stream",
     "text": [
      "\u001b[32m[I 2023-06-02 02:59:35,544]\u001b[0m Trial 73 finished with value: 0.11336733262077858 and parameters: {'n_estimators': 1118, 'learning_rate': 0.4292637889596218, 'loss': 'exponential'}. Best is trial 41 with value: -0.011150767792959204.\u001b[0m\n"
     ]
    },
    {
     "name": "stdout",
     "output_type": "stream",
     "text": [
      "max_r2_score 0.3644685427557969\n"
     ]
    },
    {
     "name": "stderr",
     "output_type": "stream",
     "text": [
      "\u001b[32m[I 2023-06-02 02:59:38,768]\u001b[0m Trial 74 finished with value: 0.0696823134185357 and parameters: {'n_estimators': 1747, 'learning_rate': 0.4372769883500475, 'loss': 'exponential'}. Best is trial 41 with value: -0.011150767792959204.\u001b[0m\n"
     ]
    },
    {
     "name": "stdout",
     "output_type": "stream",
     "text": [
      "max_r2_score 0.3644685427557969\n"
     ]
    },
    {
     "name": "stderr",
     "output_type": "stream",
     "text": [
      "\u001b[32m[I 2023-06-02 02:59:40,448]\u001b[0m Trial 75 finished with value: -0.009851470137258511 and parameters: {'n_estimators': 1108, 'learning_rate': 0.7310760114284197, 'loss': 'exponential'}. Best is trial 41 with value: -0.011150767792959204.\u001b[0m\n"
     ]
    },
    {
     "name": "stdout",
     "output_type": "stream",
     "text": [
      "max_r2_score 0.3644685427557969\n"
     ]
    },
    {
     "name": "stderr",
     "output_type": "stream",
     "text": [
      "\u001b[32m[I 2023-06-02 02:59:41,013]\u001b[0m Trial 77 finished with value: 0.05570177391863651 and parameters: {'n_estimators': 538, 'learning_rate': 0.7192612083460186, 'loss': 'exponential'}. Best is trial 41 with value: -0.011150767792959204.\u001b[0m\n"
     ]
    },
    {
     "name": "stdout",
     "output_type": "stream",
     "text": [
      "max_r2_score 0.3644685427557969\n"
     ]
    },
    {
     "name": "stderr",
     "output_type": "stream",
     "text": [
      "\u001b[32m[I 2023-06-02 02:59:41,718]\u001b[0m Trial 79 finished with value: 0.07921618257408791 and parameters: {'n_estimators': 807, 'learning_rate': 0.7158180081970424, 'loss': 'exponential'}. Best is trial 41 with value: -0.011150767792959204.\u001b[0m\n"
     ]
    },
    {
     "name": "stdout",
     "output_type": "stream",
     "text": [
      "max_r2_score 0.3644685427557969\n"
     ]
    },
    {
     "name": "stderr",
     "output_type": "stream",
     "text": [
      "\u001b[32m[I 2023-06-02 02:59:42,909]\u001b[0m Trial 80 finished with value: 0.03864577988985329 and parameters: {'n_estimators': 560, 'learning_rate': 0.7390795758311296, 'loss': 'exponential'}. Best is trial 41 with value: -0.011150767792959204.\u001b[0m\n"
     ]
    },
    {
     "name": "stdout",
     "output_type": "stream",
     "text": [
      "max_r2_score 0.3644685427557969\n"
     ]
    },
    {
     "name": "stderr",
     "output_type": "stream",
     "text": [
      "\u001b[32m[I 2023-06-02 02:59:43,232]\u001b[0m Trial 78 finished with value: 0.004718619733290241 and parameters: {'n_estimators': 807, 'learning_rate': 0.7269997155556108, 'loss': 'exponential'}. Best is trial 41 with value: -0.011150767792959204.\u001b[0m\n"
     ]
    },
    {
     "name": "stdout",
     "output_type": "stream",
     "text": [
      "max_r2_score 0.3644685427557969\n"
     ]
    },
    {
     "name": "stderr",
     "output_type": "stream",
     "text": [
      "\u001b[32m[I 2023-06-02 02:59:45,156]\u001b[0m Trial 81 finished with value: 0.03584562166214078 and parameters: {'n_estimators': 612, 'learning_rate': 0.7103095387503088, 'loss': 'exponential'}. Best is trial 41 with value: -0.011150767792959204.\u001b[0m\n"
     ]
    },
    {
     "name": "stdout",
     "output_type": "stream",
     "text": [
      "max_r2_score 0.3644685427557969\n"
     ]
    },
    {
     "name": "stderr",
     "output_type": "stream",
     "text": [
      "\u001b[32m[I 2023-06-02 02:59:46,918]\u001b[0m Trial 82 finished with value: 0.07483595549646127 and parameters: {'n_estimators': 457, 'learning_rate': 0.7152918112559521, 'loss': 'exponential'}. Best is trial 41 with value: -0.011150767792959204.\u001b[0m\n"
     ]
    },
    {
     "name": "stdout",
     "output_type": "stream",
     "text": [
      "max_r2_score 0.3644685427557969\n"
     ]
    },
    {
     "name": "stderr",
     "output_type": "stream",
     "text": [
      "\u001b[32m[I 2023-06-02 02:59:47,743]\u001b[0m Trial 76 finished with value: 0.006032780227598233 and parameters: {'n_estimators': 1127, 'learning_rate': 0.42649158955360233, 'loss': 'exponential'}. Best is trial 41 with value: -0.011150767792959204.\u001b[0m\n"
     ]
    },
    {
     "name": "stdout",
     "output_type": "stream",
     "text": [
      "max_r2_score 0.3644685427557969\n"
     ]
    },
    {
     "name": "stderr",
     "output_type": "stream",
     "text": [
      "\u001b[32m[I 2023-06-02 02:59:49,694]\u001b[0m Trial 84 finished with value: 0.05293926827259443 and parameters: {'n_estimators': 1363, 'learning_rate': 0.7027206646412563, 'loss': 'exponential'}. Best is trial 41 with value: -0.011150767792959204.\u001b[0m\n"
     ]
    },
    {
     "name": "stdout",
     "output_type": "stream",
     "text": [
      "max_r2_score 0.3644685427557969\n"
     ]
    },
    {
     "name": "stderr",
     "output_type": "stream",
     "text": [
      "\u001b[32m[I 2023-06-02 02:59:50,857]\u001b[0m Trial 83 finished with value: 0.00490885645012229 and parameters: {'n_estimators': 783, 'learning_rate': 0.7206984013064934, 'loss': 'exponential'}. Best is trial 41 with value: -0.011150767792959204.\u001b[0m\n"
     ]
    },
    {
     "name": "stdout",
     "output_type": "stream",
     "text": [
      "max_r2_score 0.3644685427557969\n"
     ]
    },
    {
     "name": "stderr",
     "output_type": "stream",
     "text": [
      "\u001b[32m[I 2023-06-02 02:59:52,698]\u001b[0m Trial 85 finished with value: -0.012796529794925515 and parameters: {'n_estimators': 967, 'learning_rate': 0.7436859558564188, 'loss': 'exponential'}. Best is trial 85 with value: -0.012796529794925515.\u001b[0m\n"
     ]
    },
    {
     "name": "stdout",
     "output_type": "stream",
     "text": [
      "max_r2_score 0.3644685427557969\n"
     ]
    },
    {
     "name": "stderr",
     "output_type": "stream",
     "text": [
      "\u001b[32m[I 2023-06-02 02:59:53,414]\u001b[0m Trial 87 finished with value: 0.0046835441830473945 and parameters: {'n_estimators': 1345, 'learning_rate': 0.7572493265491593, 'loss': 'exponential'}. Best is trial 85 with value: -0.012796529794925515.\u001b[0m\n"
     ]
    },
    {
     "name": "stdout",
     "output_type": "stream",
     "text": [
      "max_r2_score 0.3644685427557969\n"
     ]
    },
    {
     "name": "stderr",
     "output_type": "stream",
     "text": [
      "\u001b[32m[I 2023-06-02 02:59:54,996]\u001b[0m Trial 86 finished with value: -0.0005167086512296581 and parameters: {'n_estimators': 1353, 'learning_rate': 0.6866940984528351, 'loss': 'exponential'}. Best is trial 85 with value: -0.012796529794925515.\u001b[0m\n"
     ]
    },
    {
     "name": "stdout",
     "output_type": "stream",
     "text": [
      "max_r2_score 0.3644685427557969\n"
     ]
    },
    {
     "name": "stderr",
     "output_type": "stream",
     "text": [
      "\u001b[32m[I 2023-06-02 02:59:55,325]\u001b[0m Trial 90 finished with value: 0.09850591089961402 and parameters: {'n_estimators': 1352, 'learning_rate': 0.7480243054038563, 'loss': 'exponential'}. Best is trial 85 with value: -0.012796529794925515.\u001b[0m\n"
     ]
    },
    {
     "name": "stdout",
     "output_type": "stream",
     "text": [
      "max_r2_score 0.3644685427557969\n"
     ]
    },
    {
     "name": "stderr",
     "output_type": "stream",
     "text": [
      "\u001b[32m[I 2023-06-02 02:59:55,719]\u001b[0m Trial 89 finished with value: 0.07587298212710425 and parameters: {'n_estimators': 799, 'learning_rate': 0.6863244543800641, 'loss': 'exponential'}. Best is trial 85 with value: -0.012796529794925515.\u001b[0m\n",
      "\u001b[32m[I 2023-06-02 02:59:55,738]\u001b[0m Trial 88 finished with value: 0.018117724207618147 and parameters: {'n_estimators': 1331, 'learning_rate': 0.6858448742007344, 'loss': 'exponential'}. Best is trial 85 with value: -0.012796529794925515.\u001b[0m\n"
     ]
    },
    {
     "name": "stdout",
     "output_type": "stream",
     "text": [
      "max_r2_score 0.3644685427557969\n",
      "max_r2_score 0.3644685427557969\n"
     ]
    },
    {
     "name": "stderr",
     "output_type": "stream",
     "text": [
      "\u001b[32m[I 2023-06-02 02:59:56,108]\u001b[0m Trial 95 finished with value: 0.337969914765367 and parameters: {'n_estimators': 1190, 'learning_rate': 0.8024119317981321, 'loss': 'linear'}. Best is trial 85 with value: -0.012796529794925515.\u001b[0m\n"
     ]
    },
    {
     "name": "stdout",
     "output_type": "stream",
     "text": [
      "max_r2_score 0.3644685427557969\n"
     ]
    },
    {
     "name": "stderr",
     "output_type": "stream",
     "text": [
      "\u001b[32m[I 2023-06-02 02:59:56,487]\u001b[0m Trial 96 finished with value: 0.35691157157467623 and parameters: {'n_estimators': 1206, 'learning_rate': 0.7898281149639286, 'loss': 'linear'}. Best is trial 85 with value: -0.012796529794925515.\u001b[0m\n"
     ]
    },
    {
     "name": "stdout",
     "output_type": "stream",
     "text": [
      "max_r2_score 0.3644685427557969\n"
     ]
    },
    {
     "name": "stderr",
     "output_type": "stream",
     "text": [
      "\u001b[32m[I 2023-06-02 02:59:59,793]\u001b[0m Trial 91 finished with value: 0.015211920977244553 and parameters: {'n_estimators': 781, 'learning_rate': 0.6817690024976046, 'loss': 'exponential'}. Best is trial 85 with value: -0.012796529794925515.\u001b[0m\n",
      "\u001b[32m[I 2023-06-02 02:59:59,859]\u001b[0m Trial 93 finished with value: 0.06161983571768215 and parameters: {'n_estimators': 974, 'learning_rate': 0.7996774017144492, 'loss': 'exponential'}. Best is trial 85 with value: -0.012796529794925515.\u001b[0m\n",
      "\u001b[32m[I 2023-06-02 02:59:59,866]\u001b[0m Trial 94 finished with value: 0.07819131125243528 and parameters: {'n_estimators': 959, 'learning_rate': 0.8019442627310142, 'loss': 'exponential'}. Best is trial 85 with value: -0.012796529794925515.\u001b[0m\n"
     ]
    },
    {
     "name": "stdout",
     "output_type": "stream",
     "text": [
      "max_r2_score 0.3644685427557969\n",
      "max_r2_score 0.3644685427557969\n",
      "max_r2_score 0.3644685427557969\n"
     ]
    },
    {
     "name": "stderr",
     "output_type": "stream",
     "text": [
      "\u001b[32m[I 2023-06-02 03:00:00,531]\u001b[0m Trial 92 finished with value: 0.008264749988363573 and parameters: {'n_estimators': 769, 'learning_rate': 0.751290484361026, 'loss': 'exponential'}. Best is trial 85 with value: -0.012796529794925515.\u001b[0m\n"
     ]
    },
    {
     "name": "stdout",
     "output_type": "stream",
     "text": [
      "max_r2_score 0.3644685427557969\n"
     ]
    },
    {
     "name": "stderr",
     "output_type": "stream",
     "text": [
      "\u001b[32m[I 2023-06-02 03:00:00,765]\u001b[0m Trial 99 finished with value: 0.12323489181452285 and parameters: {'n_estimators': 960, 'learning_rate': 0.7654228518271443, 'loss': 'exponential'}. Best is trial 85 with value: -0.012796529794925515.\u001b[0m\n"
     ]
    },
    {
     "name": "stdout",
     "output_type": "stream",
     "text": [
      "max_r2_score 0.3644685427557969\n"
     ]
    },
    {
     "name": "stderr",
     "output_type": "stream",
     "text": [
      "\u001b[32m[I 2023-06-02 03:00:01,345]\u001b[0m Trial 98 finished with value: 0.00908769695414191 and parameters: {'n_estimators': 1209, 'learning_rate': 0.8226200630217781, 'loss': 'exponential'}. Best is trial 85 with value: -0.012796529794925515.\u001b[0m\n"
     ]
    },
    {
     "name": "stdout",
     "output_type": "stream",
     "text": [
      "max_r2_score 0.3644685427557969\n"
     ]
    },
    {
     "name": "stderr",
     "output_type": "stream",
     "text": [
      "\u001b[32m[I 2023-06-02 03:00:01,853]\u001b[0m Trial 97 finished with value: -0.025612165374385043 and parameters: {'n_estimators': 1202, 'learning_rate': 0.7950569171092883, 'loss': 'exponential'}. Best is trial 97 with value: -0.025612165374385043.\u001b[0m\n"
     ]
    },
    {
     "name": "stdout",
     "output_type": "stream",
     "text": [
      "max_r2_score 0.3644685427557969\n"
     ]
    }
   ],
   "source": [
    "r2_scores=[]\n",
    "find_params=optuna.create_study()\n",
    "find_params.optimize(objective,n_trials=100,n_jobs=-1)"
   ]
  },
  {
   "cell_type": "code",
   "execution_count": 225,
   "metadata": {
    "id": "p0ZN39A556G9"
   },
   "outputs": [],
   "source": [
    "best_param={'n_estimators': 1380, 'learning_rate': 0.8055560837998734, 'algorithm': 'SAMME.R'}"
   ]
  },
  {
   "cell_type": "code",
   "execution_count": 88,
   "metadata": {
    "id": "r630RPv95-xz"
   },
   "outputs": [
    {
     "name": "stdout",
     "output_type": "stream",
     "text": [
      "35.55 %\n"
     ]
    }
   ],
   "source": [
    "adab=AdaBoostRegressor(**best_param)\n",
    "adab.fit(x_train,y_train)\n",
    "y_pred=adab.predict(x_test)\n",
    "print(round(r2_score(y_test,y_pred,)*100,2),'%')"
   ]
  },
  {
   "cell_type": "markdown",
   "metadata": {
    "id": "4U19yd-kETag"
   },
   "source": [
    "#### **3. GradientBoost**"
   ]
  },
  {
   "cell_type": "code",
   "execution_count": 58,
   "metadata": {
    "id": "poGkrUge7ig9"
   },
   "outputs": [],
   "source": [
    "def objective(trial):\n",
    "  param={\n",
    "    'n_estimators'              :trial.suggest_int('n_estimators',100,3000),\n",
    "    'learning_rate'             :trial.suggest_float('learning_rate',0.001,1.0),\n",
    "    'max_depth'                 :trial.suggest_int('max_depth',3,15),\n",
    "    'max_features'              :trial.suggest_categorical('max_features',['auto','log2']),\n",
    "    'min_samples_split'         :trial.suggest_int('min_samples_split',2,100),\n",
    "    'min_weight_fraction_leaf'  :trial.suggest_float('min_weight_fraction_leaf',0.0,0.5),\n",
    "    'loss'                      :trial.suggest_categorical('loss',['squared_error', 'absolute_error', 'huber', 'quantile'])\n",
    "}\n",
    "\n",
    "  opt_gradb=GradientBoostingRegressor(**param)\n",
    "  opt_gradb.fit(x_train,y_train)\n",
    "  y_pred=opt_gradb.predict(x_test)\n",
    "  r2=r2_score(y_test,y_pred)\n",
    "  r2_scores.append(r2)\n",
    "  print('max_r2_score',max(r2_scores))\n",
    "  return(r2)"
   ]
  },
  {
   "cell_type": "code",
   "execution_count": 59,
   "metadata": {
    "collapsed": true,
    "id": "OHxsnjK1ExD6"
   },
   "outputs": [
    {
     "name": "stderr",
     "output_type": "stream",
     "text": [
      "\u001b[32m[I 2023-06-02 03:00:01,934]\u001b[0m A new study created in memory with name: no-name-98b0e9df-13f5-4def-9d7d-0af4ae97605b\u001b[0m\n",
      "\u001b[32m[I 2023-06-02 03:00:04,950]\u001b[0m Trial 0 finished with value: -0.9838009990886118 and parameters: {'n_estimators': 169, 'learning_rate': 0.14070741659595612, 'max_depth': 9, 'max_features': 'log2', 'min_samples_split': 90, 'min_weight_fraction_leaf': 0.41618271213215147, 'loss': 'quantile'}. Best is trial 0 with value: -0.9838009990886118.\u001b[0m\n"
     ]
    },
    {
     "name": "stdout",
     "output_type": "stream",
     "text": [
      "max_r2_score -0.9838009990886118\n"
     ]
    },
    {
     "name": "stderr",
     "output_type": "stream",
     "text": [
      "\u001b[32m[I 2023-06-02 03:00:06,665]\u001b[0m Trial 3 finished with value: 0.29589714437167003 and parameters: {'n_estimators': 202, 'learning_rate': 0.2679013350450649, 'max_depth': 11, 'max_features': 'log2', 'min_samples_split': 96, 'min_weight_fraction_leaf': 0.45952918001309717, 'loss': 'huber'}. Best is trial 0 with value: -0.9838009990886118.\u001b[0m\n"
     ]
    },
    {
     "name": "stdout",
     "output_type": "stream",
     "text": [
      "max_r2_score 0.29589714437167003\n"
     ]
    },
    {
     "name": "stderr",
     "output_type": "stream",
     "text": [
      "\u001b[32m[I 2023-06-02 03:00:10,289]\u001b[0m Trial 4 finished with value: 0.3888624885382116 and parameters: {'n_estimators': 1228, 'learning_rate': 0.2828097061354503, 'max_depth': 12, 'max_features': 'log2', 'min_samples_split': 100, 'min_weight_fraction_leaf': 0.34792981801025524, 'loss': 'squared_error'}. Best is trial 0 with value: -0.9838009990886118.\u001b[0m\n"
     ]
    },
    {
     "name": "stdout",
     "output_type": "stream",
     "text": [
      "max_r2_score 0.3888624885382116\n"
     ]
    },
    {
     "name": "stderr",
     "output_type": "stream",
     "text": [
      "\u001b[32m[I 2023-06-02 03:00:12,716]\u001b[0m Trial 6 finished with value: 0.3694028571241941 and parameters: {'n_estimators': 468, 'learning_rate': 0.2881749145623554, 'max_depth': 10, 'max_features': 'log2', 'min_samples_split': 85, 'min_weight_fraction_leaf': 0.3802760490995216, 'loss': 'huber'}. Best is trial 0 with value: -0.9838009990886118.\u001b[0m\n"
     ]
    },
    {
     "name": "stdout",
     "output_type": "stream",
     "text": [
      "max_r2_score 0.3888624885382116\n"
     ]
    },
    {
     "name": "stderr",
     "output_type": "stream",
     "text": [
      "\u001b[32m[I 2023-06-02 03:00:16,694]\u001b[0m Trial 5 finished with value: 0.41768780079309387 and parameters: {'n_estimators': 278, 'learning_rate': 0.6365589202835101, 'max_depth': 13, 'max_features': 'auto', 'min_samples_split': 25, 'min_weight_fraction_leaf': 0.13360461514582694, 'loss': 'huber'}. Best is trial 0 with value: -0.9838009990886118.\u001b[0m\n"
     ]
    },
    {
     "name": "stdout",
     "output_type": "stream",
     "text": [
      "max_r2_score 0.41768780079309387\n"
     ]
    },
    {
     "name": "stderr",
     "output_type": "stream",
     "text": [
      "\u001b[32m[I 2023-06-02 03:00:29,649]\u001b[0m Trial 10 finished with value: 0.38880496859076763 and parameters: {'n_estimators': 2826, 'learning_rate': 0.931143993448078, 'max_depth': 3, 'max_features': 'log2', 'min_samples_split': 30, 'min_weight_fraction_leaf': 0.34191635126765985, 'loss': 'squared_error'}. Best is trial 0 with value: -0.9838009990886118.\u001b[0m\n"
     ]
    },
    {
     "name": "stdout",
     "output_type": "stream",
     "text": [
      "max_r2_score 0.41768780079309387\n"
     ]
    },
    {
     "name": "stderr",
     "output_type": "stream",
     "text": [
      "\u001b[32m[I 2023-06-02 03:00:30,176]\u001b[0m Trial 8 finished with value: -0.8505707282060548 and parameters: {'n_estimators': 1426, 'learning_rate': 0.049353875619540015, 'max_depth': 3, 'max_features': 'log2', 'min_samples_split': 24, 'min_weight_fraction_leaf': 0.431891077372656, 'loss': 'quantile'}. Best is trial 0 with value: -0.9838009990886118.\u001b[0m\n"
     ]
    },
    {
     "name": "stdout",
     "output_type": "stream",
     "text": [
      "max_r2_score 0.41768780079309387\n"
     ]
    },
    {
     "name": "stderr",
     "output_type": "stream",
     "text": [
      "\u001b[32m[I 2023-06-02 03:00:34,348]\u001b[0m Trial 13 finished with value: 0.4043699393577319 and parameters: {'n_estimators': 174, 'learning_rate': 0.45958664448594283, 'max_depth': 10, 'max_features': 'log2', 'min_samples_split': 3, 'min_weight_fraction_leaf': 0.2325536125975426, 'loss': 'huber'}. Best is trial 0 with value: -0.9838009990886118.\u001b[0m\n"
     ]
    },
    {
     "name": "stdout",
     "output_type": "stream",
     "text": [
      "max_r2_score 0.41768780079309387\n"
     ]
    },
    {
     "name": "stderr",
     "output_type": "stream",
     "text": [
      "\u001b[32m[I 2023-06-02 03:00:39,734]\u001b[0m Trial 9 finished with value: 0.3734864546395307 and parameters: {'n_estimators': 1142, 'learning_rate': 0.08509233140179728, 'max_depth': 12, 'max_features': 'auto', 'min_samples_split': 80, 'min_weight_fraction_leaf': 0.34984300056712336, 'loss': 'huber'}. Best is trial 0 with value: -0.9838009990886118.\u001b[0m\n"
     ]
    },
    {
     "name": "stdout",
     "output_type": "stream",
     "text": [
      "max_r2_score 0.41768780079309387\n"
     ]
    },
    {
     "name": "stderr",
     "output_type": "stream",
     "text": [
      "\u001b[32m[I 2023-06-02 03:00:47,788]\u001b[0m Trial 7 finished with value: 0.39772562101922637 and parameters: {'n_estimators': 2326, 'learning_rate': 0.4772283474401311, 'max_depth': 10, 'max_features': 'auto', 'min_samples_split': 86, 'min_weight_fraction_leaf': 0.23434748943549188, 'loss': 'squared_error'}. Best is trial 0 with value: -0.9838009990886118.\u001b[0m\n"
     ]
    },
    {
     "name": "stdout",
     "output_type": "stream",
     "text": [
      "max_r2_score 0.41768780079309387\n"
     ]
    },
    {
     "name": "stderr",
     "output_type": "stream",
     "text": [
      "\u001b[32m[I 2023-06-02 03:00:48,102]\u001b[0m Trial 1 finished with value: 0.3782135610645033 and parameters: {'n_estimators': 1580, 'learning_rate': 0.7843646766147357, 'max_depth': 15, 'max_features': 'auto', 'min_samples_split': 23, 'min_weight_fraction_leaf': 0.383568617769913, 'loss': 'huber'}. Best is trial 0 with value: -0.9838009990886118.\u001b[0m\n"
     ]
    },
    {
     "name": "stdout",
     "output_type": "stream",
     "text": [
      "max_r2_score 0.41768780079309387\n"
     ]
    },
    {
     "name": "stderr",
     "output_type": "stream",
     "text": [
      "\u001b[32m[I 2023-06-02 03:00:48,959]\u001b[0m Trial 2 finished with value: 0.4085933422434459 and parameters: {'n_estimators': 1775, 'learning_rate': 0.8678427020325331, 'max_depth': 7, 'max_features': 'log2', 'min_samples_split': 4, 'min_weight_fraction_leaf': 0.24470743446488097, 'loss': 'huber'}. Best is trial 0 with value: -0.9838009990886118.\u001b[0m\n"
     ]
    },
    {
     "name": "stdout",
     "output_type": "stream",
     "text": [
      "max_r2_score 0.41768780079309387\n"
     ]
    },
    {
     "name": "stderr",
     "output_type": "stream",
     "text": [
      "\u001b[32m[I 2023-06-02 03:00:53,931]\u001b[0m Trial 14 finished with value: 0.40360750976148285 and parameters: {'n_estimators': 1119, 'learning_rate': 0.6718510224134726, 'max_depth': 7, 'max_features': 'auto', 'min_samples_split': 41, 'min_weight_fraction_leaf': 0.2242469717137352, 'loss': 'squared_error'}. Best is trial 0 with value: -0.9838009990886118.\u001b[0m\n"
     ]
    },
    {
     "name": "stdout",
     "output_type": "stream",
     "text": [
      "max_r2_score 0.41768780079309387\n"
     ]
    },
    {
     "name": "stderr",
     "output_type": "stream",
     "text": [
      "\u001b[32m[I 2023-06-02 03:01:01,503]\u001b[0m Trial 12 finished with value: -0.709581899700489 and parameters: {'n_estimators': 2698, 'learning_rate': 0.7343070890701845, 'max_depth': 4, 'max_features': 'log2', 'min_samples_split': 65, 'min_weight_fraction_leaf': 0.4254579913767597, 'loss': 'quantile'}. Best is trial 0 with value: -0.9838009990886118.\u001b[0m\n"
     ]
    },
    {
     "name": "stdout",
     "output_type": "stream",
     "text": [
      "max_r2_score 0.41768780079309387\n"
     ]
    },
    {
     "name": "stderr",
     "output_type": "stream",
     "text": [
      "\u001b[32m[I 2023-06-02 03:01:02,643]\u001b[0m Trial 19 finished with value: -1.1128500739806326 and parameters: {'n_estimators': 802, 'learning_rate': 0.015921709269485287, 'max_depth': 6, 'max_features': 'log2', 'min_samples_split': 62, 'min_weight_fraction_leaf': 0.4831007779763337, 'loss': 'quantile'}. Best is trial 19 with value: -1.1128500739806326.\u001b[0m\n"
     ]
    },
    {
     "name": "stdout",
     "output_type": "stream",
     "text": [
      "max_r2_score 0.41768780079309387\n"
     ]
    },
    {
     "name": "stderr",
     "output_type": "stream",
     "text": [
      "\u001b[32m[I 2023-06-02 03:01:05,213]\u001b[0m Trial 20 finished with value: -1.1727769563178891 and parameters: {'n_estimators': 644, 'learning_rate': 0.013855558479673777, 'max_depth': 3, 'max_features': 'log2', 'min_samples_split': 63, 'min_weight_fraction_leaf': 0.4796770179855236, 'loss': 'quantile'}. Best is trial 20 with value: -1.1727769563178891.\u001b[0m\n"
     ]
    },
    {
     "name": "stdout",
     "output_type": "stream",
     "text": [
      "max_r2_score 0.41768780079309387\n"
     ]
    },
    {
     "name": "stderr",
     "output_type": "stream",
     "text": [
      "\u001b[32m[I 2023-06-02 03:01:08,404]\u001b[0m Trial 11 finished with value: 0.39066436579099684 and parameters: {'n_estimators': 1482, 'learning_rate': 0.12653392132728333, 'max_depth': 15, 'max_features': 'auto', 'min_samples_split': 71, 'min_weight_fraction_leaf': 0.18415539119789814, 'loss': 'absolute_error'}. Best is trial 20 with value: -1.1727769563178891.\u001b[0m\n"
     ]
    },
    {
     "name": "stdout",
     "output_type": "stream",
     "text": [
      "max_r2_score 0.41768780079309387\n"
     ]
    },
    {
     "name": "stderr",
     "output_type": "stream",
     "text": [
      "\u001b[32m[I 2023-06-02 03:01:13,309]\u001b[0m Trial 22 finished with value: 0.06133035612208049 and parameters: {'n_estimators': 663, 'learning_rate': 0.014760085959373892, 'max_depth': 7, 'max_features': 'log2', 'min_samples_split': 62, 'min_weight_fraction_leaf': 0.49825801838929074, 'loss': 'absolute_error'}. Best is trial 20 with value: -1.1727769563178891.\u001b[0m\n"
     ]
    },
    {
     "name": "stdout",
     "output_type": "stream",
     "text": [
      "max_r2_score 0.41768780079309387\n"
     ]
    },
    {
     "name": "stderr",
     "output_type": "stream",
     "text": [
      "\u001b[32m[I 2023-06-02 03:01:15,761]\u001b[0m Trial 21 finished with value: -1.0238625999028788 and parameters: {'n_estimators': 713, 'learning_rate': 0.02883032191799656, 'max_depth': 6, 'max_features': 'log2', 'min_samples_split': 61, 'min_weight_fraction_leaf': 0.48527354250655597, 'loss': 'quantile'}. Best is trial 20 with value: -1.1727769563178891.\u001b[0m\n"
     ]
    },
    {
     "name": "stdout",
     "output_type": "stream",
     "text": [
      "max_r2_score 0.41768780079309387\n"
     ]
    },
    {
     "name": "stderr",
     "output_type": "stream",
     "text": [
      "\u001b[32m[I 2023-06-02 03:01:18,348]\u001b[0m Trial 23 finished with value: 0.18491230765048805 and parameters: {'n_estimators': 784, 'learning_rate': 0.022945999681781737, 'max_depth': 5, 'max_features': 'log2', 'min_samples_split': 62, 'min_weight_fraction_leaf': 0.4894370412063007, 'loss': 'absolute_error'}. Best is trial 20 with value: -1.1727769563178891.\u001b[0m\n"
     ]
    },
    {
     "name": "stdout",
     "output_type": "stream",
     "text": [
      "max_r2_score 0.41768780079309387\n"
     ]
    },
    {
     "name": "stderr",
     "output_type": "stream",
     "text": [
      "\u001b[32m[I 2023-06-02 03:01:21,060]\u001b[0m Trial 18 finished with value: -0.9154233463805124 and parameters: {'n_estimators': 1786, 'learning_rate': 0.033109165593203586, 'max_depth': 6, 'max_features': 'log2', 'min_samples_split': 59, 'min_weight_fraction_leaf': 0.48332804993121975, 'loss': 'quantile'}. Best is trial 20 with value: -1.1727769563178891.\u001b[0m\n"
     ]
    },
    {
     "name": "stdout",
     "output_type": "stream",
     "text": [
      "max_r2_score 0.41768780079309387\n"
     ]
    },
    {
     "name": "stderr",
     "output_type": "stream",
     "text": [
      "\u001b[32m[I 2023-06-02 03:01:22,928]\u001b[0m Trial 24 finished with value: -1.006425000177678 and parameters: {'n_estimators': 739, 'learning_rate': 0.04968064120174637, 'max_depth': 5, 'max_features': 'log2', 'min_samples_split': 56, 'min_weight_fraction_leaf': 0.4923548555369368, 'loss': 'quantile'}. Best is trial 20 with value: -1.1727769563178891.\u001b[0m\n"
     ]
    },
    {
     "name": "stdout",
     "output_type": "stream",
     "text": [
      "max_r2_score 0.41768780079309387\n"
     ]
    },
    {
     "name": "stderr",
     "output_type": "stream",
     "text": [
      "\u001b[32m[I 2023-06-02 03:01:26,716]\u001b[0m Trial 25 finished with value: -1.3462961396109434 and parameters: {'n_estimators': 745, 'learning_rate': 0.012838160312205214, 'max_depth': 5, 'max_features': 'log2', 'min_samples_split': 51, 'min_weight_fraction_leaf': 0.49458398940375053, 'loss': 'quantile'}. Best is trial 25 with value: -1.3462961396109434.\u001b[0m\n"
     ]
    },
    {
     "name": "stdout",
     "output_type": "stream",
     "text": [
      "max_r2_score 0.41768780079309387\n"
     ]
    },
    {
     "name": "stderr",
     "output_type": "stream",
     "text": [
      "\u001b[32m[I 2023-06-02 03:01:32,123]\u001b[0m Trial 17 finished with value: 0.255118396968928 and parameters: {'n_estimators': 1986, 'learning_rate': 0.04282411457844498, 'max_depth': 7, 'max_features': 'auto', 'min_samples_split': 61, 'min_weight_fraction_leaf': 0.4857561610930871, 'loss': 'absolute_error'}. Best is trial 25 with value: -1.3462961396109434.\u001b[0m\n"
     ]
    },
    {
     "name": "stdout",
     "output_type": "stream",
     "text": [
      "max_r2_score 0.41768780079309387\n"
     ]
    },
    {
     "name": "stderr",
     "output_type": "stream",
     "text": [
      "\u001b[32m[I 2023-06-02 03:01:33,850]\u001b[0m Trial 26 finished with value: -0.6130713875306273 and parameters: {'n_estimators': 815, 'learning_rate': 0.1765035432661946, 'max_depth': 5, 'max_features': 'log2', 'min_samples_split': 47, 'min_weight_fraction_leaf': 0.3022627486966698, 'loss': 'quantile'}. Best is trial 25 with value: -1.3462961396109434.\u001b[0m\n"
     ]
    },
    {
     "name": "stdout",
     "output_type": "stream",
     "text": [
      "max_r2_score 0.41768780079309387\n"
     ]
    },
    {
     "name": "stderr",
     "output_type": "stream",
     "text": [
      "\u001b[32m[I 2023-06-02 03:01:36,693]\u001b[0m Trial 28 finished with value: -0.8138689235957393 and parameters: {'n_estimators': 830, 'learning_rate': 0.16527365115213596, 'max_depth': 5, 'max_features': 'log2', 'min_samples_split': 48, 'min_weight_fraction_leaf': 0.4422938242533887, 'loss': 'quantile'}. Best is trial 25 with value: -1.3462961396109434.\u001b[0m\n"
     ]
    },
    {
     "name": "stdout",
     "output_type": "stream",
     "text": [
      "max_r2_score 0.41768780079309387\n"
     ]
    },
    {
     "name": "stderr",
     "output_type": "stream",
     "text": [
      "\u001b[32m[I 2023-06-02 03:01:39,574]\u001b[0m Trial 27 finished with value: -0.6255959711299353 and parameters: {'n_estimators': 949, 'learning_rate': 0.18838021302166413, 'max_depth': 4, 'max_features': 'log2', 'min_samples_split': 48, 'min_weight_fraction_leaf': 0.3007961039922249, 'loss': 'quantile'}. Best is trial 25 with value: -1.3462961396109434.\u001b[0m\n"
     ]
    },
    {
     "name": "stdout",
     "output_type": "stream",
     "text": [
      "max_r2_score 0.41768780079309387\n"
     ]
    },
    {
     "name": "stderr",
     "output_type": "stream",
     "text": [
      "\u001b[32m[I 2023-06-02 03:01:46,045]\u001b[0m Trial 15 finished with value: -0.5786614748242103 and parameters: {'n_estimators': 2179, 'learning_rate': 0.12235586030756852, 'max_depth': 8, 'max_features': 'auto', 'min_samples_split': 88, 'min_weight_fraction_leaf': 0.2679794887913771, 'loss': 'quantile'}. Best is trial 25 with value: -1.3462961396109434.\u001b[0m\n"
     ]
    },
    {
     "name": "stdout",
     "output_type": "stream",
     "text": [
      "max_r2_score 0.41768780079309387\n"
     ]
    },
    {
     "name": "stderr",
     "output_type": "stream",
     "text": [
      "\u001b[32m[I 2023-06-02 03:01:52,675]\u001b[0m Trial 32 finished with value: -0.8231957821486153 and parameters: {'n_estimators': 974, 'learning_rate': 0.17792450643420119, 'max_depth': 4, 'max_features': 'log2', 'min_samples_split': 76, 'min_weight_fraction_leaf': 0.4425599675930333, 'loss': 'quantile'}. Best is trial 25 with value: -1.3462961396109434.\u001b[0m\n"
     ]
    },
    {
     "name": "stdout",
     "output_type": "stream",
     "text": [
      "max_r2_score 0.41768780079309387\n"
     ]
    },
    {
     "name": "stderr",
     "output_type": "stream",
     "text": [
      "\u001b[32m[I 2023-06-02 03:01:53,926]\u001b[0m Trial 31 finished with value: -0.6059569503839712 and parameters: {'n_estimators': 959, 'learning_rate': 0.18770823902296846, 'max_depth': 4, 'max_features': 'log2', 'min_samples_split': 46, 'min_weight_fraction_leaf': 0.30698164284525403, 'loss': 'quantile'}. Best is trial 25 with value: -1.3462961396109434.\u001b[0m\n"
     ]
    },
    {
     "name": "stdout",
     "output_type": "stream",
     "text": [
      "max_r2_score 0.41768780079309387\n"
     ]
    },
    {
     "name": "stderr",
     "output_type": "stream",
     "text": [
      "\u001b[32m[I 2023-06-02 03:01:55,182]\u001b[0m Trial 35 finished with value: -0.8072900219238404 and parameters: {'n_estimators': 469, 'learning_rate': 0.3774522895465284, 'max_depth': 3, 'max_features': 'log2', 'min_samples_split': 73, 'min_weight_fraction_leaf': 0.45192644089538236, 'loss': 'quantile'}. Best is trial 25 with value: -1.3462961396109434.\u001b[0m\n"
     ]
    },
    {
     "name": "stdout",
     "output_type": "stream",
     "text": [
      "max_r2_score 0.41768780079309387\n"
     ]
    },
    {
     "name": "stderr",
     "output_type": "stream",
     "text": [
      "\u001b[32m[I 2023-06-02 03:01:56,175]\u001b[0m Trial 33 finished with value: -0.7509628282736529 and parameters: {'n_estimators': 990, 'learning_rate': 0.21139756770076584, 'max_depth': 3, 'max_features': 'log2', 'min_samples_split': 73, 'min_weight_fraction_leaf': 0.41333811482145555, 'loss': 'quantile'}. Best is trial 25 with value: -1.3462961396109434.\u001b[0m\n"
     ]
    },
    {
     "name": "stdout",
     "output_type": "stream",
     "text": [
      "max_r2_score 0.41768780079309387\n"
     ]
    },
    {
     "name": "stderr",
     "output_type": "stream",
     "text": [
      "\u001b[32m[I 2023-06-02 03:02:01,740]\u001b[0m Trial 36 finished with value: -0.7010049132017484 and parameters: {'n_estimators': 448, 'learning_rate': 0.38030948817649085, 'max_depth': 3, 'max_features': 'log2', 'min_samples_split': 38, 'min_weight_fraction_leaf': 0.40207685150720623, 'loss': 'quantile'}. Best is trial 25 with value: -1.3462961396109434.\u001b[0m\n"
     ]
    },
    {
     "name": "stdout",
     "output_type": "stream",
     "text": [
      "max_r2_score 0.41768780079309387\n"
     ]
    },
    {
     "name": "stderr",
     "output_type": "stream",
     "text": [
      "\u001b[32m[I 2023-06-02 03:02:02,171]\u001b[0m Trial 30 finished with value: -0.4079126549983827 and parameters: {'n_estimators': 947, 'learning_rate': 0.1427319982852524, 'max_depth': 4, 'max_features': 'log2', 'min_samples_split': 45, 'min_weight_fraction_leaf': 0.003102784410143944, 'loss': 'quantile'}. Best is trial 25 with value: -1.3462961396109434.\u001b[0m\n"
     ]
    },
    {
     "name": "stdout",
     "output_type": "stream",
     "text": [
      "max_r2_score 0.41768780079309387\n"
     ]
    },
    {
     "name": "stderr",
     "output_type": "stream",
     "text": [
      "\u001b[32m[I 2023-06-02 03:02:03,771]\u001b[0m Trial 34 finished with value: -0.4223904859123955 and parameters: {'n_estimators': 463, 'learning_rate': 0.36432520384323636, 'max_depth': 8, 'max_features': 'log2', 'min_samples_split': 38, 'min_weight_fraction_leaf': 0.040367972108784844, 'loss': 'quantile'}. Best is trial 25 with value: -1.3462961396109434.\u001b[0m\n"
     ]
    },
    {
     "name": "stdout",
     "output_type": "stream",
     "text": [
      "max_r2_score 0.41768780079309387\n"
     ]
    },
    {
     "name": "stderr",
     "output_type": "stream",
     "text": [
      "\u001b[32m[I 2023-06-02 03:02:04,384]\u001b[0m Trial 37 finished with value: -1.4325352646305913 and parameters: {'n_estimators': 513, 'learning_rate': 0.0010148529533159315, 'max_depth': 3, 'max_features': 'log2', 'min_samples_split': 37, 'min_weight_fraction_leaf': 0.40057015553430786, 'loss': 'quantile'}. Best is trial 37 with value: -1.4325352646305913.\u001b[0m\n"
     ]
    },
    {
     "name": "stdout",
     "output_type": "stream",
     "text": [
      "max_r2_score 0.41768780079309387\n"
     ]
    },
    {
     "name": "stderr",
     "output_type": "stream",
     "text": [
      "\u001b[32m[I 2023-06-02 03:02:05,307]\u001b[0m Trial 38 finished with value: -1.2817812586610242 and parameters: {'n_estimators': 490, 'learning_rate': 0.008898240790534672, 'max_depth': 6, 'max_features': 'log2', 'min_samples_split': 68, 'min_weight_fraction_leaf': 0.4118002652518289, 'loss': 'quantile'}. Best is trial 37 with value: -1.4325352646305913.\u001b[0m\n"
     ]
    },
    {
     "name": "stdout",
     "output_type": "stream",
     "text": [
      "max_r2_score 0.41768780079309387\n"
     ]
    },
    {
     "name": "stderr",
     "output_type": "stream",
     "text": [
      "\u001b[32m[I 2023-06-02 03:02:06,645]\u001b[0m Trial 43 finished with value: -1.1057093458093297 and parameters: {'n_estimators': 106, 'learning_rate': 0.10205518073212502, 'max_depth': 6, 'max_features': 'log2', 'min_samples_split': 15, 'min_weight_fraction_leaf': 0.46021139698654745, 'loss': 'quantile'}. Best is trial 37 with value: -1.4325352646305913.\u001b[0m\n"
     ]
    },
    {
     "name": "stdout",
     "output_type": "stream",
     "text": [
      "max_r2_score 0.41768780079309387\n"
     ]
    },
    {
     "name": "stderr",
     "output_type": "stream",
     "text": [
      "\u001b[32m[I 2023-06-02 03:02:07,016]\u001b[0m Trial 39 finished with value: -0.8924918932798027 and parameters: {'n_estimators': 517, 'learning_rate': 0.10037269056851678, 'max_depth': 6, 'max_features': 'log2', 'min_samples_split': 37, 'min_weight_fraction_leaf': 0.3995588027057524, 'loss': 'quantile'}. Best is trial 37 with value: -1.4325352646305913.\u001b[0m\n"
     ]
    },
    {
     "name": "stdout",
     "output_type": "stream",
     "text": [
      "max_r2_score 0.41768780079309387\n"
     ]
    },
    {
     "name": "stderr",
     "output_type": "stream",
     "text": [
      "\u001b[32m[I 2023-06-02 03:02:09,367]\u001b[0m Trial 46 finished with value: 0.3252789266772085 and parameters: {'n_estimators': 284, 'learning_rate': 0.08475438971277244, 'max_depth': 8, 'max_features': 'log2', 'min_samples_split': 54, 'min_weight_fraction_leaf': 0.3825183667819479, 'loss': 'squared_error'}. Best is trial 37 with value: -1.4325352646305913.\u001b[0m\n"
     ]
    },
    {
     "name": "stdout",
     "output_type": "stream",
     "text": [
      "max_r2_score 0.41768780079309387\n"
     ]
    },
    {
     "name": "stderr",
     "output_type": "stream",
     "text": [
      "\u001b[32m[I 2023-06-02 03:02:09,588]\u001b[0m Trial 45 finished with value: 0.3213893273371027 and parameters: {'n_estimators': 350, 'learning_rate': 0.07328079203706, 'max_depth': 8, 'max_features': 'log2', 'min_samples_split': 54, 'min_weight_fraction_leaf': 0.3946256229876405, 'loss': 'squared_error'}. Best is trial 37 with value: -1.4325352646305913.\u001b[0m\n"
     ]
    },
    {
     "name": "stdout",
     "output_type": "stream",
     "text": [
      "max_r2_score 0.41768780079309387\n"
     ]
    },
    {
     "name": "stderr",
     "output_type": "stream",
     "text": [
      "\u001b[32m[I 2023-06-02 03:02:11,771]\u001b[0m Trial 44 finished with value: -0.8970528367332669 and parameters: {'n_estimators': 309, 'learning_rate': 0.07898930945122676, 'max_depth': 6, 'max_features': 'log2', 'min_samples_split': 32, 'min_weight_fraction_leaf': 0.39253429120006045, 'loss': 'quantile'}. Best is trial 37 with value: -1.4325352646305913.\u001b[0m\n"
     ]
    },
    {
     "name": "stdout",
     "output_type": "stream",
     "text": [
      "max_r2_score 0.41768780079309387\n"
     ]
    },
    {
     "name": "stderr",
     "output_type": "stream",
     "text": [
      "\u001b[32m[I 2023-06-02 03:02:13,925]\u001b[0m Trial 41 finished with value: -0.9156965516297286 and parameters: {'n_estimators': 571, 'learning_rate': 0.09583618536197405, 'max_depth': 6, 'max_features': 'log2', 'min_samples_split': 54, 'min_weight_fraction_leaf': 0.4611643740108304, 'loss': 'quantile'}. Best is trial 37 with value: -1.4325352646305913.\u001b[0m\n",
      "\u001b[32m[I 2023-06-02 03:02:14,101]\u001b[0m Trial 40 finished with value: -1.423472896275725 and parameters: {'n_estimators': 596, 'learning_rate': 0.0026201896805819955, 'max_depth': 6, 'max_features': 'log2', 'min_samples_split': 56, 'min_weight_fraction_leaf': 0.459987931155602, 'loss': 'quantile'}. Best is trial 37 with value: -1.4325352646305913.\u001b[0m\n"
     ]
    },
    {
     "name": "stdout",
     "output_type": "stream",
     "text": [
      "max_r2_score 0.41768780079309387\n",
      "max_r2_score 0.41768780079309387\n"
     ]
    },
    {
     "name": "stderr",
     "output_type": "stream",
     "text": [
      "\u001b[32m[I 2023-06-02 03:02:16,739]\u001b[0m Trial 29 finished with value: -0.436490419214441 and parameters: {'n_estimators': 955, 'learning_rate': 0.1710711105978484, 'max_depth': 8, 'max_features': 'log2', 'min_samples_split': 45, 'min_weight_fraction_leaf': 0.028555831090286032, 'loss': 'quantile'}. Best is trial 37 with value: -1.4325352646305913.\u001b[0m\n"
     ]
    },
    {
     "name": "stdout",
     "output_type": "stream",
     "text": [
      "max_r2_score 0.41768780079309387\n"
     ]
    },
    {
     "name": "stderr",
     "output_type": "stream",
     "text": [
      "\u001b[32m[I 2023-06-02 03:02:21,126]\u001b[0m Trial 48 finished with value: -1.3906604606445718 and parameters: {'n_estimators': 611, 'learning_rate': 0.003719534271193093, 'max_depth': 5, 'max_features': 'log2', 'min_samples_split': 67, 'min_weight_fraction_leaf': 0.45819595021496057, 'loss': 'quantile'}. Best is trial 37 with value: -1.4325352646305913.\u001b[0m\n"
     ]
    },
    {
     "name": "stdout",
     "output_type": "stream",
     "text": [
      "max_r2_score 0.41768780079309387\n"
     ]
    },
    {
     "name": "stderr",
     "output_type": "stream",
     "text": [
      "\u001b[32m[I 2023-06-02 03:02:23,212]\u001b[0m Trial 49 finished with value: -1.4172507574314377 and parameters: {'n_estimators': 604, 'learning_rate': 0.0026478292583668166, 'max_depth': 5, 'max_features': 'log2', 'min_samples_split': 81, 'min_weight_fraction_leaf': 0.44899685971465214, 'loss': 'quantile'}. Best is trial 37 with value: -1.4325352646305913.\u001b[0m\n"
     ]
    },
    {
     "name": "stdout",
     "output_type": "stream",
     "text": [
      "max_r2_score 0.41768780079309387\n"
     ]
    },
    {
     "name": "stderr",
     "output_type": "stream",
     "text": [
      "\u001b[32m[I 2023-06-02 03:02:25,533]\u001b[0m Trial 50 finished with value: -1.4251690711578986 and parameters: {'n_estimators': 617, 'learning_rate': 0.002789963280560503, 'max_depth': 5, 'max_features': 'log2', 'min_samples_split': 67, 'min_weight_fraction_leaf': 0.4682752594553608, 'loss': 'quantile'}. Best is trial 37 with value: -1.4325352646305913.\u001b[0m\n"
     ]
    },
    {
     "name": "stdout",
     "output_type": "stream",
     "text": [
      "max_r2_score 0.41768780079309387\n"
     ]
    },
    {
     "name": "stderr",
     "output_type": "stream",
     "text": [
      "\u001b[32m[I 2023-06-02 03:02:29,095]\u001b[0m Trial 51 finished with value: 0.35136112735217395 and parameters: {'n_estimators': 625, 'learning_rate': 0.24063415241543534, 'max_depth': 5, 'max_features': 'log2', 'min_samples_split': 68, 'min_weight_fraction_leaf': 0.4337566857743936, 'loss': 'huber'}. Best is trial 37 with value: -1.4325352646305913.\u001b[0m\n"
     ]
    },
    {
     "name": "stdout",
     "output_type": "stream",
     "text": [
      "max_r2_score 0.41768780079309387\n"
     ]
    },
    {
     "name": "stderr",
     "output_type": "stream",
     "text": [
      "\u001b[32m[I 2023-06-02 03:02:29,402]\u001b[0m Trial 42 finished with value: -0.8942667092743539 and parameters: {'n_estimators': 1326, 'learning_rate': 0.10660919452517978, 'max_depth': 6, 'max_features': 'log2', 'min_samples_split': 53, 'min_weight_fraction_leaf': 0.46640623556849675, 'loss': 'quantile'}. Best is trial 37 with value: -1.4325352646305913.\u001b[0m\n"
     ]
    },
    {
     "name": "stdout",
     "output_type": "stream",
     "text": [
      "max_r2_score 0.41768780079309387\n"
     ]
    },
    {
     "name": "stderr",
     "output_type": "stream",
     "text": [
      "\u001b[32m[I 2023-06-02 03:02:34,072]\u001b[0m Trial 47 finished with value: -0.8213673014370233 and parameters: {'n_estimators': 1330, 'learning_rate': 0.2291202476256059, 'max_depth': 5, 'max_features': 'log2', 'min_samples_split': 14, 'min_weight_fraction_leaf': 0.46110229182162227, 'loss': 'quantile'}. Best is trial 37 with value: -1.4325352646305913.\u001b[0m\n"
     ]
    },
    {
     "name": "stdout",
     "output_type": "stream",
     "text": [
      "max_r2_score 0.41768780079309387\n"
     ]
    },
    {
     "name": "stderr",
     "output_type": "stream",
     "text": [
      "\u001b[32m[I 2023-06-02 03:02:45,147]\u001b[0m Trial 58 finished with value: 0.07532131750469162 and parameters: {'n_estimators': 376, 'learning_rate': 0.0025876260640494116, 'max_depth': 4, 'max_features': 'auto', 'min_samples_split': 96, 'min_weight_fraction_leaf': 0.4258151437515323, 'loss': 'huber'}. Best is trial 37 with value: -1.4325352646305913.\u001b[0m\n"
     ]
    },
    {
     "name": "stdout",
     "output_type": "stream",
     "text": [
      "max_r2_score 0.41768780079309387\n"
     ]
    },
    {
     "name": "stderr",
     "output_type": "stream",
     "text": [
      "\u001b[32m[I 2023-06-02 03:02:45,434]\u001b[0m Trial 52 finished with value: 0.2700018677423863 and parameters: {'n_estimators': 1258, 'learning_rate': 0.01341793055318878, 'max_depth': 5, 'max_features': 'log2', 'min_samples_split': 67, 'min_weight_fraction_leaf': 0.4210334404654547, 'loss': 'huber'}. Best is trial 37 with value: -1.4325352646305913.\u001b[0m\n"
     ]
    },
    {
     "name": "stdout",
     "output_type": "stream",
     "text": [
      "max_r2_score 0.41768780079309387\n"
     ]
    },
    {
     "name": "stderr",
     "output_type": "stream",
     "text": [
      "\u001b[32m[I 2023-06-02 03:02:50,505]\u001b[0m Trial 60 finished with value: 0.2234985833965183 and parameters: {'n_estimators': 228, 'learning_rate': 0.06469589090303907, 'max_depth': 4, 'max_features': 'auto', 'min_samples_split': 82, 'min_weight_fraction_leaf': 0.4417820728872689, 'loss': 'absolute_error'}. Best is trial 37 with value: -1.4325352646305913.\u001b[0m\n"
     ]
    },
    {
     "name": "stdout",
     "output_type": "stream",
     "text": [
      "max_r2_score 0.41768780079309387\n"
     ]
    },
    {
     "name": "stderr",
     "output_type": "stream",
     "text": [
      "\u001b[32m[I 2023-06-02 03:02:58,347]\u001b[0m Trial 53 finished with value: 0.3582838256325884 and parameters: {'n_estimators': 1270, 'learning_rate': 0.23903335706682383, 'max_depth': 5, 'max_features': 'auto', 'min_samples_split': 68, 'min_weight_fraction_leaf': 0.43197502728805626, 'loss': 'huber'}. Best is trial 37 with value: -1.4325352646305913.\u001b[0m\n"
     ]
    },
    {
     "name": "stdout",
     "output_type": "stream",
     "text": [
      "max_r2_score 0.41768780079309387\n"
     ]
    },
    {
     "name": "stderr",
     "output_type": "stream",
     "text": [
      "\u001b[32m[I 2023-06-02 03:03:01,866]\u001b[0m Trial 54 finished with value: 0.3583874935535367 and parameters: {'n_estimators': 1312, 'learning_rate': 0.22784118056967526, 'max_depth': 5, 'max_features': 'auto', 'min_samples_split': 83, 'min_weight_fraction_leaf': 0.4227881408908768, 'loss': 'huber'}. Best is trial 37 with value: -1.4325352646305913.\u001b[0m\n"
     ]
    },
    {
     "name": "stdout",
     "output_type": "stream",
     "text": [
      "max_r2_score 0.41768780079309387\n"
     ]
    },
    {
     "name": "stderr",
     "output_type": "stream",
     "text": [
      "\u001b[32m[I 2023-06-02 03:03:03,719]\u001b[0m Trial 55 finished with value: 0.35054785691533363 and parameters: {'n_estimators': 1304, 'learning_rate': 0.2349872436637713, 'max_depth': 4, 'max_features': 'auto', 'min_samples_split': 93, 'min_weight_fraction_leaf': 0.43586824585853134, 'loss': 'huber'}. Best is trial 37 with value: -1.4325352646305913.\u001b[0m\n"
     ]
    },
    {
     "name": "stdout",
     "output_type": "stream",
     "text": [
      "max_r2_score 0.41768780079309387\n"
     ]
    },
    {
     "name": "stderr",
     "output_type": "stream",
     "text": [
      "\u001b[32m[I 2023-06-02 03:03:04,998]\u001b[0m Trial 57 finished with value: 0.35322482481711137 and parameters: {'n_estimators': 1221, 'learning_rate': 0.13837649371834668, 'max_depth': 9, 'max_features': 'auto', 'min_samples_split': 82, 'min_weight_fraction_leaf': 0.4267136773773564, 'loss': 'huber'}. Best is trial 37 with value: -1.4325352646305913.\u001b[0m\n"
     ]
    },
    {
     "name": "stdout",
     "output_type": "stream",
     "text": [
      "max_r2_score 0.41768780079309387\n"
     ]
    },
    {
     "name": "stderr",
     "output_type": "stream",
     "text": [
      "\u001b[32m[I 2023-06-02 03:03:06,940]\u001b[0m Trial 56 finished with value: 0.38011298630319257 and parameters: {'n_estimators': 1286, 'learning_rate': 0.13459061182952725, 'max_depth': 4, 'max_features': 'auto', 'min_samples_split': 95, 'min_weight_fraction_leaf': 0.3675910719778663, 'loss': 'huber'}. Best is trial 37 with value: -1.4325352646305913.\u001b[0m\n"
     ]
    },
    {
     "name": "stdout",
     "output_type": "stream",
     "text": [
      "max_r2_score 0.41768780079309387\n"
     ]
    },
    {
     "name": "stderr",
     "output_type": "stream",
     "text": [
      "\u001b[32m[I 2023-06-02 03:03:10,192]\u001b[0m Trial 59 finished with value: 0.296020161470292 and parameters: {'n_estimators': 1142, 'learning_rate': 0.059215660622138504, 'max_depth': 9, 'max_features': 'auto', 'min_samples_split': 81, 'min_weight_fraction_leaf': 0.4409251972625124, 'loss': 'absolute_error'}. Best is trial 37 with value: -1.4325352646305913.\u001b[0m\n"
     ]
    },
    {
     "name": "stdout",
     "output_type": "stream",
     "text": [
      "max_r2_score 0.41768780079309387\n"
     ]
    },
    {
     "name": "stderr",
     "output_type": "stream",
     "text": [
      "\u001b[32m[I 2023-06-02 03:03:18,784]\u001b[0m Trial 61 finished with value: -0.8884705272312297 and parameters: {'n_estimators': 1613, 'learning_rate': 0.06659369819279855, 'max_depth': 7, 'max_features': 'log2', 'min_samples_split': 77, 'min_weight_fraction_leaf': 0.4691144930247793, 'loss': 'quantile'}. Best is trial 37 with value: -1.4325352646305913.\u001b[0m\n"
     ]
    },
    {
     "name": "stdout",
     "output_type": "stream",
     "text": [
      "max_r2_score 0.41768780079309387\n"
     ]
    },
    {
     "name": "stderr",
     "output_type": "stream",
     "text": [
      "\u001b[32m[I 2023-06-02 03:03:22,013]\u001b[0m Trial 63 finished with value: -0.6876621457572472 and parameters: {'n_estimators': 1135, 'learning_rate': 0.05570415777841885, 'max_depth': 7, 'max_features': 'log2', 'min_samples_split': 58, 'min_weight_fraction_leaf': 0.36688815353685655, 'loss': 'quantile'}. Best is trial 37 with value: -1.4325352646305913.\u001b[0m\n"
     ]
    },
    {
     "name": "stdout",
     "output_type": "stream",
     "text": [
      "max_r2_score 0.41768780079309387\n"
     ]
    },
    {
     "name": "stderr",
     "output_type": "stream",
     "text": [
      "\u001b[32m[I 2023-06-02 03:03:26,197]\u001b[0m Trial 66 finished with value: -0.930635144635318 and parameters: {'n_estimators': 1096, 'learning_rate': 0.05020636320136796, 'max_depth': 15, 'max_features': 'log2', 'min_samples_split': 76, 'min_weight_fraction_leaf': 0.4730874894019259, 'loss': 'quantile'}. Best is trial 37 with value: -1.4325352646305913.\u001b[0m\n"
     ]
    },
    {
     "name": "stdout",
     "output_type": "stream",
     "text": [
      "max_r2_score 0.41768780079309387\n"
     ]
    },
    {
     "name": "stderr",
     "output_type": "stream",
     "text": [
      "\u001b[32m[I 2023-06-02 03:03:26,812]\u001b[0m Trial 62 finished with value: -0.6629148958089124 and parameters: {'n_estimators': 1611, 'learning_rate': 0.0593452650660557, 'max_depth': 9, 'max_features': 'log2', 'min_samples_split': 77, 'min_weight_fraction_leaf': 0.3649740882563676, 'loss': 'quantile'}. Best is trial 37 with value: -1.4325352646305913.\u001b[0m\n"
     ]
    },
    {
     "name": "stdout",
     "output_type": "stream",
     "text": [
      "max_r2_score 0.41768780079309387\n"
     ]
    },
    {
     "name": "stderr",
     "output_type": "stream",
     "text": [
      "\u001b[32m[I 2023-06-02 03:03:30,427]\u001b[0m Trial 68 finished with value: -1.4053994392853535 and parameters: {'n_estimators': 661, 'learning_rate': 0.0034756030297299822, 'max_depth': 7, 'max_features': 'log2', 'min_samples_split': 57, 'min_weight_fraction_leaf': 0.4734877012121729, 'loss': 'quantile'}. Best is trial 37 with value: -1.4325352646305913.\u001b[0m\n"
     ]
    },
    {
     "name": "stdout",
     "output_type": "stream",
     "text": [
      "max_r2_score 0.41768780079309387\n"
     ]
    },
    {
     "name": "stderr",
     "output_type": "stream",
     "text": [
      "\u001b[32m[I 2023-06-02 03:03:33,169]\u001b[0m Trial 64 finished with value: -0.895610781570451 and parameters: {'n_estimators': 1675, 'learning_rate': 0.05513653738027859, 'max_depth': 9, 'max_features': 'log2', 'min_samples_split': 57, 'min_weight_fraction_leaf': 0.4697735888740221, 'loss': 'quantile'}. Best is trial 37 with value: -1.4325352646305913.\u001b[0m\n"
     ]
    },
    {
     "name": "stdout",
     "output_type": "stream",
     "text": [
      "max_r2_score 0.41768780079309387\n"
     ]
    },
    {
     "name": "stderr",
     "output_type": "stream",
     "text": [
      "\u001b[32m[I 2023-06-02 03:03:33,396]\u001b[0m Trial 69 finished with value: -1.2018028983273163 and parameters: {'n_estimators': 637, 'learning_rate': 0.013451149905846432, 'max_depth': 15, 'max_features': 'log2', 'min_samples_split': 70, 'min_weight_fraction_leaf': 0.4717400956100825, 'loss': 'quantile'}. Best is trial 37 with value: -1.4325352646305913.\u001b[0m\n"
     ]
    },
    {
     "name": "stdout",
     "output_type": "stream",
     "text": [
      "max_r2_score 0.41768780079309387\n"
     ]
    },
    {
     "name": "stderr",
     "output_type": "stream",
     "text": [
      "\u001b[32m[I 2023-06-02 03:03:34,060]\u001b[0m Trial 65 finished with value: -0.9044208377701268 and parameters: {'n_estimators': 1646, 'learning_rate': 0.06061734759765975, 'max_depth': 7, 'max_features': 'log2', 'min_samples_split': 78, 'min_weight_fraction_leaf': 0.47188043904946503, 'loss': 'quantile'}. Best is trial 37 with value: -1.4325352646305913.\u001b[0m\n"
     ]
    },
    {
     "name": "stdout",
     "output_type": "stream",
     "text": [
      "max_r2_score 0.41768780079309387\n"
     ]
    },
    {
     "name": "stderr",
     "output_type": "stream",
     "text": [
      "\u001b[32m[I 2023-06-02 03:03:36,768]\u001b[0m Trial 71 finished with value: -1.3405327849685151 and parameters: {'n_estimators': 546, 'learning_rate': 0.02197322622583653, 'max_depth': 12, 'max_features': 'log2', 'min_samples_split': 65, 'min_weight_fraction_leaf': 0.49610046015680503, 'loss': 'quantile'}. Best is trial 37 with value: -1.4325352646305913.\u001b[0m\n"
     ]
    },
    {
     "name": "stdout",
     "output_type": "stream",
     "text": [
      "max_r2_score 0.41768780079309387\n"
     ]
    },
    {
     "name": "stderr",
     "output_type": "stream",
     "text": [
      "\u001b[32m[I 2023-06-02 03:03:37,287]\u001b[0m Trial 70 finished with value: -1.3820334101302145 and parameters: {'n_estimators': 615, 'learning_rate': 0.011029231577943202, 'max_depth': 14, 'max_features': 'log2', 'min_samples_split': 71, 'min_weight_fraction_leaf': 0.49670757158965106, 'loss': 'quantile'}. Best is trial 37 with value: -1.4325352646305913.\u001b[0m\n"
     ]
    },
    {
     "name": "stdout",
     "output_type": "stream",
     "text": [
      "max_r2_score 0.41768780079309387\n"
     ]
    },
    {
     "name": "stderr",
     "output_type": "stream",
     "text": [
      "\u001b[32m[I 2023-06-02 03:03:38,430]\u001b[0m Trial 75 finished with value: -0.0023419404753710626 and parameters: {'n_estimators': 863, 'learning_rate': 0.12844469151196952, 'max_depth': 13, 'max_features': 'log2', 'min_samples_split': 50, 'min_weight_fraction_leaf': 0.4999862939839873, 'loss': 'squared_error'}. Best is trial 37 with value: -1.4325352646305913.\u001b[0m\n"
     ]
    },
    {
     "name": "stdout",
     "output_type": "stream",
     "text": [
      "max_r2_score 0.41768780079309387\n"
     ]
    },
    {
     "name": "stderr",
     "output_type": "stream",
     "text": [
      "\u001b[32m[I 2023-06-02 03:03:39,935]\u001b[0m Trial 74 finished with value: 0.03257539546571642 and parameters: {'n_estimators': 851, 'learning_rate': 0.002439300560849271, 'max_depth': 14, 'max_features': 'log2', 'min_samples_split': 51, 'min_weight_fraction_leaf': 0.49502169937800766, 'loss': 'squared_error'}. Best is trial 37 with value: -1.4325352646305913.\u001b[0m\n"
     ]
    },
    {
     "name": "stdout",
     "output_type": "stream",
     "text": [
      "max_r2_score 0.41768780079309387\n"
     ]
    },
    {
     "name": "stderr",
     "output_type": "stream",
     "text": [
      "\u001b[32m[I 2023-06-02 03:03:40,833]\u001b[0m Trial 16 finished with value: 0.3925672281194055 and parameters: {'n_estimators': 2583, 'learning_rate': 0.16986098821958778, 'max_depth': 12, 'max_features': 'auto', 'min_samples_split': 29, 'min_weight_fraction_leaf': 0.057650627278277744, 'loss': 'absolute_error'}. Best is trial 37 with value: -1.4325352646305913.\u001b[0m\n"
     ]
    },
    {
     "name": "stdout",
     "output_type": "stream",
     "text": [
      "max_r2_score 0.41768780079309387\n"
     ]
    },
    {
     "name": "stderr",
     "output_type": "stream",
     "text": [
      "\u001b[32m[I 2023-06-02 03:03:41,880]\u001b[0m Trial 72 finished with value: -1.455306978145713 and parameters: {'n_estimators': 616, 'learning_rate': 0.0029818338914468206, 'max_depth': 14, 'max_features': 'log2', 'min_samples_split': 51, 'min_weight_fraction_leaf': 0.4986586737318604, 'loss': 'quantile'}. Best is trial 72 with value: -1.455306978145713.\u001b[0m\n"
     ]
    },
    {
     "name": "stdout",
     "output_type": "stream",
     "text": [
      "max_r2_score 0.41768780079309387\n"
     ]
    },
    {
     "name": "stderr",
     "output_type": "stream",
     "text": [
      "\u001b[32m[I 2023-06-02 03:03:43,219]\u001b[0m Trial 77 finished with value: 0.02645498717875383 and parameters: {'n_estimators': 862, 'learning_rate': 0.11888402240983352, 'max_depth': 14, 'max_features': 'log2', 'min_samples_split': 89, 'min_weight_fraction_leaf': 0.4991860293051963, 'loss': 'squared_error'}. Best is trial 72 with value: -1.455306978145713.\u001b[0m\n"
     ]
    },
    {
     "name": "stdout",
     "output_type": "stream",
     "text": [
      "max_r2_score 0.41768780079309387\n"
     ]
    },
    {
     "name": "stderr",
     "output_type": "stream",
     "text": [
      "\u001b[32m[I 2023-06-02 03:03:43,620]\u001b[0m Trial 76 finished with value: 0.05961902963719723 and parameters: {'n_estimators': 876, 'learning_rate': 0.0017189782378927575, 'max_depth': 5, 'max_features': 'log2', 'min_samples_split': 100, 'min_weight_fraction_leaf': 0.45406690989612725, 'loss': 'squared_error'}. Best is trial 72 with value: -1.455306978145713.\u001b[0m\n"
     ]
    },
    {
     "name": "stdout",
     "output_type": "stream",
     "text": [
      "max_r2_score 0.41768780079309387\n"
     ]
    },
    {
     "name": "stderr",
     "output_type": "stream",
     "text": [
      "\u001b[32m[I 2023-06-02 03:03:46,157]\u001b[0m Trial 73 finished with value: -1.3464163210531361 and parameters: {'n_estimators': 657, 'learning_rate': 0.006542052789987366, 'max_depth': 7, 'max_features': 'log2', 'min_samples_split': 50, 'min_weight_fraction_leaf': 0.4875525189978065, 'loss': 'quantile'}. Best is trial 72 with value: -1.455306978145713.\u001b[0m\n"
     ]
    },
    {
     "name": "stdout",
     "output_type": "stream",
     "text": [
      "max_r2_score 0.41768780079309387\n"
     ]
    },
    {
     "name": "stderr",
     "output_type": "stream",
     "text": [
      "\u001b[32m[I 2023-06-02 03:03:48,112]\u001b[0m Trial 80 finished with value: -1.0689298280910111 and parameters: {'n_estimators': 402, 'learning_rate': 0.03127847321531357, 'max_depth': 10, 'max_features': 'log2', 'min_samples_split': 72, 'min_weight_fraction_leaf': 0.4533864119501897, 'loss': 'quantile'}. Best is trial 72 with value: -1.455306978145713.\u001b[0m\n"
     ]
    },
    {
     "name": "stdout",
     "output_type": "stream",
     "text": [
      "max_r2_score 0.41768780079309387\n"
     ]
    },
    {
     "name": "stderr",
     "output_type": "stream",
     "text": [
      "\u001b[32m[I 2023-06-02 03:03:51,634]\u001b[0m Trial 78 finished with value: -1.332438030407507 and parameters: {'n_estimators': 734, 'learning_rate': 0.005916024673387705, 'max_depth': 13, 'max_features': 'log2', 'min_samples_split': 42, 'min_weight_fraction_leaf': 0.484350358500424, 'loss': 'quantile'}. Best is trial 72 with value: -1.455306978145713.\u001b[0m\n"
     ]
    },
    {
     "name": "stdout",
     "output_type": "stream",
     "text": [
      "max_r2_score 0.41768780079309387\n"
     ]
    },
    {
     "name": "stderr",
     "output_type": "stream",
     "text": [
      "\u001b[32m[I 2023-06-02 03:03:52,513]\u001b[0m Trial 79 finished with value: -1.002093602225481 and parameters: {'n_estimators': 701, 'learning_rate': 0.03381988587738007, 'max_depth': 11, 'max_features': 'log2', 'min_samples_split': 87, 'min_weight_fraction_leaf': 0.4538098944522032, 'loss': 'quantile'}. Best is trial 72 with value: -1.455306978145713.\u001b[0m\n"
     ]
    },
    {
     "name": "stdout",
     "output_type": "stream",
     "text": [
      "max_r2_score 0.41768780079309387\n"
     ]
    },
    {
     "name": "stderr",
     "output_type": "stream",
     "text": [
      "\u001b[32m[I 2023-06-02 03:03:52,973]\u001b[0m Trial 84 finished with value: -1.055105143658491 and parameters: {'n_estimators': 391, 'learning_rate': 0.0366907277941, 'max_depth': 11, 'max_features': 'log2', 'min_samples_split': 41, 'min_weight_fraction_leaf': 0.45139509950244494, 'loss': 'quantile'}. Best is trial 72 with value: -1.455306978145713.\u001b[0m\n"
     ]
    },
    {
     "name": "stdout",
     "output_type": "stream",
     "text": [
      "max_r2_score 0.41768780079309387\n"
     ]
    },
    {
     "name": "stderr",
     "output_type": "stream",
     "text": [
      "\u001b[32m[I 2023-06-02 03:03:54,295]\u001b[0m Trial 81 finished with value: -1.014717641598133 and parameters: {'n_estimators': 703, 'learning_rate': 0.035114083416837354, 'max_depth': 14, 'max_features': 'log2', 'min_samples_split': 87, 'min_weight_fraction_leaf': 0.4526383835270744, 'loss': 'quantile'}. Best is trial 72 with value: -1.455306978145713.\u001b[0m\n"
     ]
    },
    {
     "name": "stdout",
     "output_type": "stream",
     "text": [
      "max_r2_score 0.41768780079309387\n"
     ]
    },
    {
     "name": "stderr",
     "output_type": "stream",
     "text": [
      "\u001b[32m[I 2023-06-02 03:03:55,175]\u001b[0m Trial 67 finished with value: -0.896023415436529 and parameters: {'n_estimators': 2492, 'learning_rate': 0.05171168562637042, 'max_depth': 14, 'max_features': 'log2', 'min_samples_split': 77, 'min_weight_fraction_leaf': 0.47207722303138805, 'loss': 'quantile'}. Best is trial 72 with value: -1.455306978145713.\u001b[0m\n"
     ]
    },
    {
     "name": "stdout",
     "output_type": "stream",
     "text": [
      "max_r2_score 0.41768780079309387\n"
     ]
    },
    {
     "name": "stderr",
     "output_type": "stream",
     "text": [
      "\u001b[32m[I 2023-06-02 03:03:55,656]\u001b[0m Trial 83 finished with value: -0.9976143998851725 and parameters: {'n_estimators': 687, 'learning_rate': 0.03246552182252385, 'max_depth': 14, 'max_features': 'log2', 'min_samples_split': 41, 'min_weight_fraction_leaf': 0.4497312471788545, 'loss': 'quantile'}. Best is trial 72 with value: -1.455306978145713.\u001b[0m\n"
     ]
    },
    {
     "name": "stdout",
     "output_type": "stream",
     "text": [
      "max_r2_score 0.41768780079309387\n",
      "max_r2_score 0.41768780079309387\n"
     ]
    },
    {
     "name": "stderr",
     "output_type": "stream",
     "text": [
      "\u001b[32m[I 2023-06-02 03:03:55,843]\u001b[0m Trial 82 finished with value: -1.0122933279398199 and parameters: {'n_estimators': 715, 'learning_rate': 0.03199438682802032, 'max_depth': 11, 'max_features': 'log2', 'min_samples_split': 42, 'min_weight_fraction_leaf': 0.45048999909215903, 'loss': 'quantile'}. Best is trial 72 with value: -1.455306978145713.\u001b[0m\n",
      "\u001b[32m[I 2023-06-02 03:04:00,939]\u001b[0m Trial 85 finished with value: -0.9776502383077461 and parameters: {'n_estimators': 739, 'learning_rate': 0.042302735399745786, 'max_depth': 14, 'max_features': 'log2', 'min_samples_split': 63, 'min_weight_fraction_leaf': 0.4784069957157053, 'loss': 'quantile'}. Best is trial 72 with value: -1.455306978145713.\u001b[0m\n"
     ]
    },
    {
     "name": "stdout",
     "output_type": "stream",
     "text": [
      "max_r2_score 0.41768780079309387\n"
     ]
    },
    {
     "name": "stderr",
     "output_type": "stream",
     "text": [
      "\u001b[32m[I 2023-06-02 03:04:01,370]\u001b[0m Trial 86 finished with value: -0.9149966831692053 and parameters: {'n_estimators': 553, 'learning_rate': 0.09370511244002865, 'max_depth': 14, 'max_features': 'log2', 'min_samples_split': 59, 'min_weight_fraction_leaf': 0.45007375395424026, 'loss': 'quantile'}. Best is trial 72 with value: -1.455306978145713.\u001b[0m\n"
     ]
    },
    {
     "name": "stdout",
     "output_type": "stream",
     "text": [
      "max_r2_score 0.41768780079309387\n"
     ]
    },
    {
     "name": "stderr",
     "output_type": "stream",
     "text": [
      "\u001b[32m[I 2023-06-02 03:04:02,750]\u001b[0m Trial 87 finished with value: -0.9314915851592083 and parameters: {'n_estimators': 577, 'learning_rate': 0.08704814634243513, 'max_depth': 14, 'max_features': 'log2', 'min_samples_split': 64, 'min_weight_fraction_leaf': 0.4788875905156722, 'loss': 'quantile'}. Best is trial 72 with value: -1.455306978145713.\u001b[0m\n"
     ]
    },
    {
     "name": "stdout",
     "output_type": "stream",
     "text": [
      "max_r2_score 0.41768780079309387\n"
     ]
    },
    {
     "name": "stderr",
     "output_type": "stream",
     "text": [
      "\u001b[32m[I 2023-06-02 03:04:03,380]\u001b[0m Trial 88 finished with value: -0.9264739329604947 and parameters: {'n_estimators': 594, 'learning_rate': 0.10350037221954685, 'max_depth': 14, 'max_features': 'log2', 'min_samples_split': 64, 'min_weight_fraction_leaf': 0.48286732859504533, 'loss': 'quantile'}. Best is trial 72 with value: -1.455306978145713.\u001b[0m\n"
     ]
    },
    {
     "name": "stdout",
     "output_type": "stream",
     "text": [
      "max_r2_score 0.41768780079309387\n"
     ]
    },
    {
     "name": "stderr",
     "output_type": "stream",
     "text": [
      "\u001b[32m[I 2023-06-02 03:04:04,495]\u001b[0m Trial 89 finished with value: -0.9356644556982134 and parameters: {'n_estimators': 584, 'learning_rate': 0.09019879326431202, 'max_depth': 7, 'max_features': 'log2', 'min_samples_split': 60, 'min_weight_fraction_leaf': 0.48248234452928035, 'loss': 'quantile'}. Best is trial 72 with value: -1.455306978145713.\u001b[0m\n"
     ]
    },
    {
     "name": "stdout",
     "output_type": "stream",
     "text": [
      "max_r2_score 0.41768780079309387\n"
     ]
    },
    {
     "name": "stderr",
     "output_type": "stream",
     "text": [
      "\u001b[32m[I 2023-06-02 03:04:05,095]\u001b[0m Trial 90 finished with value: -0.9301571674141598 and parameters: {'n_estimators': 567, 'learning_rate': 0.08990781617882743, 'max_depth': 7, 'max_features': 'log2', 'min_samples_split': 64, 'min_weight_fraction_leaf': 0.48306678612335874, 'loss': 'quantile'}. Best is trial 72 with value: -1.455306978145713.\u001b[0m\n"
     ]
    },
    {
     "name": "stdout",
     "output_type": "stream",
     "text": [
      "max_r2_score 0.41768780079309387\n"
     ]
    },
    {
     "name": "stderr",
     "output_type": "stream",
     "text": [
      "\u001b[32m[I 2023-06-02 03:04:05,618]\u001b[0m Trial 92 finished with value: -0.9389869925938221 and parameters: {'n_estimators': 558, 'learning_rate': 0.08167526503390889, 'max_depth': 6, 'max_features': 'log2', 'min_samples_split': 59, 'min_weight_fraction_leaf': 0.4858475129094177, 'loss': 'quantile'}. Best is trial 72 with value: -1.455306978145713.\u001b[0m\n"
     ]
    },
    {
     "name": "stdout",
     "output_type": "stream",
     "text": [
      "max_r2_score 0.41768780079309387\n"
     ]
    },
    {
     "name": "stderr",
     "output_type": "stream",
     "text": [
      "\u001b[32m[I 2023-06-02 03:04:06,289]\u001b[0m Trial 91 finished with value: -0.9173623494533885 and parameters: {'n_estimators': 595, 'learning_rate': 0.09758578058897066, 'max_depth': 7, 'max_features': 'log2', 'min_samples_split': 64, 'min_weight_fraction_leaf': 0.4827708255150126, 'loss': 'quantile'}. Best is trial 72 with value: -1.455306978145713.\u001b[0m\n"
     ]
    },
    {
     "name": "stdout",
     "output_type": "stream",
     "text": [
      "max_r2_score 0.41768780079309387\n"
     ]
    },
    {
     "name": "stderr",
     "output_type": "stream",
     "text": [
      "\u001b[32m[I 2023-06-02 03:04:06,638]\u001b[0m Trial 95 finished with value: -1.0246056806931794 and parameters: {'n_estimators': 208, 'learning_rate': 0.12139473146565338, 'max_depth': 6, 'max_features': 'log2', 'min_samples_split': 60, 'min_weight_fraction_leaf': 0.4848563515897431, 'loss': 'quantile'}. Best is trial 72 with value: -1.455306978145713.\u001b[0m\n"
     ]
    },
    {
     "name": "stdout",
     "output_type": "stream",
     "text": [
      "max_r2_score 0.41768780079309387\n"
     ]
    },
    {
     "name": "stderr",
     "output_type": "stream",
     "text": [
      "\u001b[32m[I 2023-06-02 03:04:07,135]\u001b[0m Trial 96 finished with value: -1.052645946397766 and parameters: {'n_estimators': 218, 'learning_rate': 0.08256110943943541, 'max_depth': 6, 'max_features': 'log2', 'min_samples_split': 60, 'min_weight_fraction_leaf': 0.4824165555390142, 'loss': 'quantile'}. Best is trial 72 with value: -1.455306978145713.\u001b[0m\n"
     ]
    },
    {
     "name": "stdout",
     "output_type": "stream",
     "text": [
      "max_r2_score 0.41768780079309387\n"
     ]
    },
    {
     "name": "stderr",
     "output_type": "stream",
     "text": [
      "\u001b[32m[I 2023-06-02 03:04:07,874]\u001b[0m Trial 97 finished with value: -0.9537272171577575 and parameters: {'n_estimators': 227, 'learning_rate': 0.14758156342896042, 'max_depth': 6, 'max_features': 'log2', 'min_samples_split': 32, 'min_weight_fraction_leaf': 0.41166637934510186, 'loss': 'quantile'}. Best is trial 72 with value: -1.455306978145713.\u001b[0m\n"
     ]
    },
    {
     "name": "stdout",
     "output_type": "stream",
     "text": [
      "max_r2_score 0.41768780079309387\n"
     ]
    },
    {
     "name": "stderr",
     "output_type": "stream",
     "text": [
      "\u001b[32m[I 2023-06-02 03:04:09,139]\u001b[0m Trial 93 finished with value: -0.9397656947051449 and parameters: {'n_estimators': 583, 'learning_rate': 0.09392343421010892, 'max_depth': 6, 'max_features': 'log2', 'min_samples_split': 60, 'min_weight_fraction_leaf': 0.4814655996891288, 'loss': 'quantile'}. Best is trial 72 with value: -1.455306978145713.\u001b[0m\n",
      "\u001b[32m[I 2023-06-02 03:04:09,318]\u001b[0m Trial 94 finished with value: -0.9371427215854975 and parameters: {'n_estimators': 583, 'learning_rate': 0.08866134599330507, 'max_depth': 6, 'max_features': 'log2', 'min_samples_split': 32, 'min_weight_fraction_leaf': 0.4820097155273009, 'loss': 'quantile'}. Best is trial 72 with value: -1.455306978145713.\u001b[0m\n"
     ]
    },
    {
     "name": "stdout",
     "output_type": "stream",
     "text": [
      "max_r2_score 0.41768780079309387\n",
      "max_r2_score 0.41768780079309387\n"
     ]
    },
    {
     "name": "stderr",
     "output_type": "stream",
     "text": [
      "\u001b[32m[I 2023-06-02 03:04:09,560]\u001b[0m Trial 98 finished with value: -1.435545472067845 and parameters: {'n_estimators': 454, 'learning_rate': 0.002134390105240625, 'max_depth': 6, 'max_features': 'log2', 'min_samples_split': 55, 'min_weight_fraction_leaf': 0.4130818819114724, 'loss': 'quantile'}. Best is trial 72 with value: -1.455306978145713.\u001b[0m\n",
      "\u001b[32m[I 2023-06-02 03:04:09,652]\u001b[0m Trial 99 finished with value: -1.1400460290879906 and parameters: {'n_estimators': 460, 'learning_rate': 0.022730712054265235, 'max_depth': 5, 'max_features': 'log2', 'min_samples_split': 52, 'min_weight_fraction_leaf': 0.46539355710302177, 'loss': 'quantile'}. Best is trial 72 with value: -1.455306978145713.\u001b[0m\n"
     ]
    },
    {
     "name": "stdout",
     "output_type": "stream",
     "text": [
      "max_r2_score 0.41768780079309387\n",
      "max_r2_score 0.41768780079309387\n"
     ]
    }
   ],
   "source": [
    "r2_scores=[]\n",
    "find_params=optuna.create_study()\n",
    "find_params.optimize(objective,n_trials=100,n_jobs=-1)"
   ]
  },
  {
   "cell_type": "code",
   "execution_count": 89,
   "metadata": {
    "id": "nhvq42d3H3nm"
   },
   "outputs": [],
   "source": [
    "best_param={'n_estimators': 278, \n",
    "            'learning_rate': 0.6365589202835101, \n",
    "            'max_depth': 13, \n",
    "            'max_features': 'auto', \n",
    "            'min_samples_split': 25, \n",
    "            'min_weight_fraction_leaf': 0.13360461514582694, \n",
    "            'loss': 'huber'}"
   ]
  },
  {
   "cell_type": "code",
   "execution_count": 90,
   "metadata": {
    "id": "vKkHPn5uIM_v"
   },
   "outputs": [
    {
     "name": "stdout",
     "output_type": "stream",
     "text": [
      "41.77 %\n"
     ]
    }
   ],
   "source": [
    "gradb=GradientBoostingRegressor(**best_param)\n",
    "gradb.fit(x_train,y_train)\n",
    "y_pred=gradb.predict(x_test)\n",
    "print(round(r2_score(y_test,y_pred,)*100,2),'%')"
   ]
  },
  {
   "cell_type": "markdown",
   "metadata": {
    "id": "Q6S0qCrxKd_s"
   },
   "source": [
    "#### **4. XGBoost**"
   ]
  },
  {
   "cell_type": "code",
   "execution_count": 62,
   "metadata": {
    "id": "c2V4qbO-IXmn"
   },
   "outputs": [],
   "source": [
    "def objective(trial):\n",
    "  param={\n",
    "    #\"tree_method\"               :\"gpu_hist\",\n",
    "    'n_estimators'              :trial.suggest_int('n_estimators',100,3000),\n",
    "    'learning_rate'             :trial.suggest_float('learning_rate',0.001,1.0),\n",
    "    'max_depth'                 :trial.suggest_int('max_depth',1,15),\n",
    "    'colsample_bytree'          :trial.suggest_categorical('colsample_bytree' , [.1,.2,.3,.4,.5,.6,.7,.8,.9,1]),\n",
    "    'subsample'                 :trial.suggest_categorical('subsample' , [.1,.2,.3,.4,.5,.6,.7,.8,.9,1]),\n",
    "    'min_child_weight'          :trial.suggest_int('min_child_weight' ,1,200)\n",
    "}\n",
    "\n",
    "\n",
    "  opt_xgb=XGBRegressor(**param)\n",
    "  opt_xgb.fit(x_train,y_train)\n",
    "  y_pred=opt_xgb.predict(x_test)\n",
    "  r2=r2_score(y_test,y_pred)\n",
    "  r2_scores.append(r2)\n",
    "  print('max_r2_score',max(r2_scores))\n",
    "  return(r2)"
   ]
  },
  {
   "cell_type": "code",
   "execution_count": 63,
   "metadata": {
    "collapsed": true,
    "id": "bd0vXyTVMqgx"
   },
   "outputs": [
    {
     "name": "stderr",
     "output_type": "stream",
     "text": [
      "\u001b[32m[I 2023-06-02 03:04:09,716]\u001b[0m A new study created in memory with name: no-name-e0087560-e371-46a2-98ce-31f40b260920\u001b[0m\n",
      "\u001b[32m[I 2023-06-02 03:04:12,782]\u001b[0m Trial 7 finished with value: 0.4169630441780251 and parameters: {'n_estimators': 140, 'learning_rate': 0.3386252297927989, 'max_depth': 8, 'colsample_bytree': 0.9, 'subsample': 1, 'min_child_weight': 33}. Best is trial 7 with value: 0.4169630441780251.\u001b[0m\n"
     ]
    },
    {
     "name": "stdout",
     "output_type": "stream",
     "text": [
      "max_r2_score 0.4169630441780251\n"
     ]
    },
    {
     "name": "stderr",
     "output_type": "stream",
     "text": [
      "\u001b[32m[I 2023-06-02 03:04:14,767]\u001b[0m Trial 1 finished with value: 0.36459741401736256 and parameters: {'n_estimators': 276, 'learning_rate': 0.41449751982917715, 'max_depth': 7, 'colsample_bytree': 0.2, 'subsample': 0.5, 'min_child_weight': 53}. Best is trial 1 with value: 0.36459741401736256.\u001b[0m\n"
     ]
    },
    {
     "name": "stdout",
     "output_type": "stream",
     "text": [
      "max_r2_score 0.4169630441780251\n"
     ]
    },
    {
     "name": "stderr",
     "output_type": "stream",
     "text": [
      "\u001b[32m[I 2023-06-02 03:04:21,896]\u001b[0m Trial 3 finished with value: 0.39728756632863804 and parameters: {'n_estimators': 653, 'learning_rate': 0.2526098110741563, 'max_depth': 14, 'colsample_bytree': 0.6, 'subsample': 0.7, 'min_child_weight': 115}. Best is trial 1 with value: 0.36459741401736256.\u001b[0m\n"
     ]
    },
    {
     "name": "stdout",
     "output_type": "stream",
     "text": [
      "max_r2_score 0.4169630441780251\n"
     ]
    },
    {
     "name": "stderr",
     "output_type": "stream",
     "text": [
      "\u001b[32m[I 2023-06-02 03:04:25,212]\u001b[0m Trial 2 finished with value: 0.3565352217560035 and parameters: {'n_estimators': 516, 'learning_rate': 0.9671943209496782, 'max_depth': 15, 'colsample_bytree': 1, 'subsample': 0.9, 'min_child_weight': 52}. Best is trial 2 with value: 0.3565352217560035.\u001b[0m\n"
     ]
    },
    {
     "name": "stdout",
     "output_type": "stream",
     "text": [
      "max_r2_score 0.4169630441780251\n"
     ]
    },
    {
     "name": "stderr",
     "output_type": "stream",
     "text": [
      "\u001b[32m[I 2023-06-02 03:04:27,737]\u001b[0m Trial 5 finished with value: 0.4077993823939706 and parameters: {'n_estimators': 2734, 'learning_rate': 0.0030715821952102787, 'max_depth': 2, 'colsample_bytree': 0.8, 'subsample': 1, 'min_child_weight': 135}. Best is trial 2 with value: 0.3565352217560035.\u001b[0m\n"
     ]
    },
    {
     "name": "stdout",
     "output_type": "stream",
     "text": [
      "max_r2_score 0.4169630441780251\n"
     ]
    },
    {
     "name": "stderr",
     "output_type": "stream",
     "text": [
      "\u001b[32m[I 2023-06-02 03:04:34,132]\u001b[0m Trial 4 finished with value: 0.39172095331943424 and parameters: {'n_estimators': 2828, 'learning_rate': 0.5125680277214754, 'max_depth': 3, 'colsample_bytree': 0.6, 'subsample': 1, 'min_child_weight': 62}. Best is trial 2 with value: 0.3565352217560035.\u001b[0m\n"
     ]
    },
    {
     "name": "stdout",
     "output_type": "stream",
     "text": [
      "max_r2_score 0.4169630441780251\n"
     ]
    },
    {
     "name": "stderr",
     "output_type": "stream",
     "text": [
      "\u001b[32m[I 2023-06-02 03:04:35,536]\u001b[0m Trial 6 finished with value: 0.4057737349337155 and parameters: {'n_estimators': 1836, 'learning_rate': 0.12165043936931991, 'max_depth': 7, 'colsample_bytree': 0.4, 'subsample': 0.4, 'min_child_weight': 96}. Best is trial 2 with value: 0.3565352217560035.\u001b[0m\n"
     ]
    },
    {
     "name": "stdout",
     "output_type": "stream",
     "text": [
      "max_r2_score 0.4169630441780251\n"
     ]
    },
    {
     "name": "stderr",
     "output_type": "stream",
     "text": [
      "\u001b[32m[I 2023-06-02 03:04:39,241]\u001b[0m Trial 0 finished with value: 0.3874393997908041 and parameters: {'n_estimators': 2995, 'learning_rate': 0.18728066243131675, 'max_depth': 11, 'colsample_bytree': 0.8, 'subsample': 0.4, 'min_child_weight': 182}. Best is trial 2 with value: 0.3565352217560035.\u001b[0m\n"
     ]
    },
    {
     "name": "stdout",
     "output_type": "stream",
     "text": [
      "max_r2_score 0.4169630441780251\n"
     ]
    },
    {
     "name": "stderr",
     "output_type": "stream",
     "text": [
      "\u001b[32m[I 2023-06-02 03:04:39,768]\u001b[0m Trial 11 finished with value: 0.29068918003174693 and parameters: {'n_estimators': 1638, 'learning_rate': 0.9376234237247779, 'max_depth': 12, 'colsample_bytree': 0.1, 'subsample': 0.4, 'min_child_weight': 186}. Best is trial 11 with value: 0.29068918003174693.\u001b[0m\n"
     ]
    },
    {
     "name": "stdout",
     "output_type": "stream",
     "text": [
      "max_r2_score 0.4169630441780251\n"
     ]
    },
    {
     "name": "stderr",
     "output_type": "stream",
     "text": [
      "\u001b[32m[I 2023-06-02 03:04:47,524]\u001b[0m Trial 8 finished with value: 0.3118490833824481 and parameters: {'n_estimators': 2749, 'learning_rate': 0.5808647392599121, 'max_depth': 6, 'colsample_bytree': 0.9, 'subsample': 0.6, 'min_child_weight': 176}. Best is trial 11 with value: 0.29068918003174693.\u001b[0m\n"
     ]
    },
    {
     "name": "stdout",
     "output_type": "stream",
     "text": [
      "max_r2_score 0.4169630441780251\n"
     ]
    },
    {
     "name": "stderr",
     "output_type": "stream",
     "text": [
      "\u001b[32m[I 2023-06-02 03:04:51,073]\u001b[0m Trial 16 finished with value: 0.38570148583780217 and parameters: {'n_estimators': 949, 'learning_rate': 0.7512760069932388, 'max_depth': 5, 'colsample_bytree': 1, 'subsample': 1, 'min_child_weight': 84}. Best is trial 11 with value: 0.29068918003174693.\u001b[0m\n"
     ]
    },
    {
     "name": "stdout",
     "output_type": "stream",
     "text": [
      "max_r2_score 0.4169630441780251\n"
     ]
    },
    {
     "name": "stderr",
     "output_type": "stream",
     "text": [
      "\u001b[32m[I 2023-06-02 03:04:52,778]\u001b[0m Trial 12 finished with value: 0.397271695353306 and parameters: {'n_estimators': 1532, 'learning_rate': 0.39958619930631895, 'max_depth': 8, 'colsample_bytree': 0.8, 'subsample': 1, 'min_child_weight': 125}. Best is trial 11 with value: 0.29068918003174693.\u001b[0m\n"
     ]
    },
    {
     "name": "stdout",
     "output_type": "stream",
     "text": [
      "max_r2_score 0.4169630441780251\n"
     ]
    },
    {
     "name": "stderr",
     "output_type": "stream",
     "text": [
      "\u001b[32m[I 2023-06-02 03:04:55,729]\u001b[0m Trial 14 finished with value: 0.26738513007498077 and parameters: {'n_estimators': 2727, 'learning_rate': 0.7388218748393688, 'max_depth': 3, 'colsample_bytree': 0.1, 'subsample': 0.6, 'min_child_weight': 194}. Best is trial 14 with value: 0.26738513007498077.\u001b[0m\n"
     ]
    },
    {
     "name": "stdout",
     "output_type": "stream",
     "text": [
      "max_r2_score 0.4169630441780251\n"
     ]
    },
    {
     "name": "stderr",
     "output_type": "stream",
     "text": [
      "\u001b[32m[I 2023-06-02 03:05:01,731]\u001b[0m Trial 20 finished with value: -9.52085438821193e-06 and parameters: {'n_estimators': 2154, 'learning_rate': 0.9737635399703323, 'max_depth': 11, 'colsample_bytree': 0.1, 'subsample': 0.1, 'min_child_weight': 195}. Best is trial 20 with value: -9.52085438821193e-06.\u001b[0m\n",
      "\u001b[32m[I 2023-06-02 03:05:01,898]\u001b[0m Trial 9 finished with value: 0.40846366741800333 and parameters: {'n_estimators': 2632, 'learning_rate': 0.35859407710602387, 'max_depth': 6, 'colsample_bytree': 0.4, 'subsample': 1, 'min_child_weight': 4}. Best is trial 20 with value: -9.52085438821193e-06.\u001b[0m\n"
     ]
    },
    {
     "name": "stdout",
     "output_type": "stream",
     "text": [
      "max_r2_score 0.4169630441780251\n",
      "max_r2_score 0.4169630441780251\n"
     ]
    },
    {
     "name": "stderr",
     "output_type": "stream",
     "text": [
      "\u001b[32m[I 2023-06-02 03:05:03,367]\u001b[0m Trial 17 finished with value: 0.25563620044050983 and parameters: {'n_estimators': 1559, 'learning_rate': 0.9973223807897913, 'max_depth': 11, 'colsample_bytree': 0.1, 'subsample': 0.8, 'min_child_weight': 200}. Best is trial 20 with value: -9.52085438821193e-06.\u001b[0m\n"
     ]
    },
    {
     "name": "stdout",
     "output_type": "stream",
     "text": [
      "max_r2_score 0.4169630441780251\n"
     ]
    },
    {
     "name": "stderr",
     "output_type": "stream",
     "text": [
      "\u001b[32m[I 2023-06-02 03:05:08,251]\u001b[0m Trial 18 finished with value: 0.3379178862636216 and parameters: {'n_estimators': 2071, 'learning_rate': 0.5913244013785081, 'max_depth': 11, 'colsample_bytree': 0.1, 'subsample': 0.6, 'min_child_weight': 200}. Best is trial 20 with value: -9.52085438821193e-06.\u001b[0m\n"
     ]
    },
    {
     "name": "stdout",
     "output_type": "stream",
     "text": [
      "max_r2_score 0.4169630441780251\n"
     ]
    },
    {
     "name": "stderr",
     "output_type": "stream",
     "text": [
      "\u001b[32m[I 2023-06-02 03:05:08,488]\u001b[0m Trial 21 finished with value: 0.20732604530633525 and parameters: {'n_estimators': 2205, 'learning_rate': 0.771186799886108, 'max_depth': 10, 'colsample_bytree': 0.1, 'subsample': 0.1, 'min_child_weight': 154}. Best is trial 20 with value: -9.52085438821193e-06.\u001b[0m\n"
     ]
    },
    {
     "name": "stdout",
     "output_type": "stream",
     "text": [
      "max_r2_score 0.4169630441780251\n"
     ]
    },
    {
     "name": "stderr",
     "output_type": "stream",
     "text": [
      "\u001b[32m[I 2023-06-02 03:05:08,935]\u001b[0m Trial 22 finished with value: 0.20047613953433352 and parameters: {'n_estimators': 2219, 'learning_rate': 0.8047896257423455, 'max_depth': 10, 'colsample_bytree': 0.1, 'subsample': 0.1, 'min_child_weight': 154}. Best is trial 20 with value: -9.52085438821193e-06.\u001b[0m\n"
     ]
    },
    {
     "name": "stdout",
     "output_type": "stream",
     "text": [
      "max_r2_score 0.4169630441780251\n"
     ]
    },
    {
     "name": "stderr",
     "output_type": "stream",
     "text": [
      "\u001b[32m[I 2023-06-02 03:05:09,520]\u001b[0m Trial 10 finished with value: 0.3504462508361872 and parameters: {'n_estimators': 2953, 'learning_rate': 0.6639544148875924, 'max_depth': 14, 'colsample_bytree': 0.5, 'subsample': 0.9, 'min_child_weight': 122}. Best is trial 20 with value: -9.52085438821193e-06.\u001b[0m\n"
     ]
    },
    {
     "name": "stdout",
     "output_type": "stream",
     "text": [
      "max_r2_score 0.4169630441780251\n"
     ]
    },
    {
     "name": "stderr",
     "output_type": "stream",
     "text": [
      "\u001b[32m[I 2023-06-02 03:05:11,133]\u001b[0m Trial 19 finished with value: 0.29976236073257023 and parameters: {'n_estimators': 2116, 'learning_rate': 0.7153314781956128, 'max_depth': 11, 'colsample_bytree': 0.1, 'subsample': 0.6, 'min_child_weight': 192}. Best is trial 20 with value: -9.52085438821193e-06.\u001b[0m\n"
     ]
    },
    {
     "name": "stdout",
     "output_type": "stream",
     "text": [
      "max_r2_score 0.4169630441780251\n"
     ]
    },
    {
     "name": "stderr",
     "output_type": "stream",
     "text": [
      "\u001b[32m[I 2023-06-02 03:05:16,546]\u001b[0m Trial 25 finished with value: 0.2561809927777088 and parameters: {'n_estimators': 2245, 'learning_rate': 0.8324735916880063, 'max_depth': 9, 'colsample_bytree': 0.7, 'subsample': 0.1, 'min_child_weight': 153}. Best is trial 20 with value: -9.52085438821193e-06.\u001b[0m\n"
     ]
    },
    {
     "name": "stdout",
     "output_type": "stream",
     "text": [
      "max_r2_score 0.4169630441780251\n"
     ]
    },
    {
     "name": "stderr",
     "output_type": "stream",
     "text": [
      "\u001b[32m[I 2023-06-02 03:05:17,215]\u001b[0m Trial 26 finished with value: 0.15216701874376204 and parameters: {'n_estimators': 2298, 'learning_rate': 0.8679244306722507, 'max_depth': 13, 'colsample_bytree': 0.5, 'subsample': 0.1, 'min_child_weight': 159}. Best is trial 20 with value: -9.52085438821193e-06.\u001b[0m\n"
     ]
    },
    {
     "name": "stdout",
     "output_type": "stream",
     "text": [
      "max_r2_score 0.4169630441780251\n"
     ]
    },
    {
     "name": "stderr",
     "output_type": "stream",
     "text": [
      "\u001b[32m[I 2023-06-02 03:05:17,910]\u001b[0m Trial 27 finished with value: 0.2626104811991248 and parameters: {'n_estimators': 2330, 'learning_rate': 0.8694357313375576, 'max_depth': 9, 'colsample_bytree': 0.7, 'subsample': 0.1, 'min_child_weight': 155}. Best is trial 20 with value: -9.52085438821193e-06.\u001b[0m\n"
     ]
    },
    {
     "name": "stdout",
     "output_type": "stream",
     "text": [
      "max_r2_score 0.4169630441780251\n"
     ]
    },
    {
     "name": "stderr",
     "output_type": "stream",
     "text": [
      "\u001b[32m[I 2023-06-02 03:05:19,338]\u001b[0m Trial 28 finished with value: 0.26318161427187803 and parameters: {'n_estimators': 2271, 'learning_rate': 0.8647760811047341, 'max_depth': 9, 'colsample_bytree': 0.7, 'subsample': 0.1, 'min_child_weight': 155}. Best is trial 20 with value: -9.52085438821193e-06.\u001b[0m\n"
     ]
    },
    {
     "name": "stdout",
     "output_type": "stream",
     "text": [
      "max_r2_score 0.4169630441780251\n"
     ]
    },
    {
     "name": "stderr",
     "output_type": "stream",
     "text": [
      "\u001b[32m[I 2023-06-02 03:05:24,975]\u001b[0m Trial 29 finished with value: 0.1655667840112821 and parameters: {'n_estimators': 2459, 'learning_rate': 0.8626740470466459, 'max_depth': 9, 'colsample_bytree': 0.3, 'subsample': 0.1, 'min_child_weight': 158}. Best is trial 20 with value: -9.52085438821193e-06.\u001b[0m\n"
     ]
    },
    {
     "name": "stdout",
     "output_type": "stream",
     "text": [
      "max_r2_score 0.4169630441780251\n"
     ]
    },
    {
     "name": "stderr",
     "output_type": "stream",
     "text": [
      "\u001b[32m[I 2023-06-02 03:05:25,626]\u001b[0m Trial 30 finished with value: 0.01260553378593765 and parameters: {'n_estimators': 2432, 'learning_rate': 0.8677241855474864, 'max_depth': 13, 'colsample_bytree': 0.3, 'subsample': 0.1, 'min_child_weight': 161}. Best is trial 20 with value: -9.52085438821193e-06.\u001b[0m\n"
     ]
    },
    {
     "name": "stdout",
     "output_type": "stream",
     "text": [
      "max_r2_score 0.4169630441780251\n"
     ]
    },
    {
     "name": "stderr",
     "output_type": "stream",
     "text": [
      "\u001b[32m[I 2023-06-02 03:05:28,617]\u001b[0m Trial 32 finished with value: 0.21371200478419905 and parameters: {'n_estimators': 1291, 'learning_rate': 0.9061625930717226, 'max_depth': 13, 'colsample_bytree': 0.5, 'subsample': 0.3, 'min_child_weight': 167}. Best is trial 20 with value: -9.52085438821193e-06.\u001b[0m\n"
     ]
    },
    {
     "name": "stdout",
     "output_type": "stream",
     "text": [
      "max_r2_score 0.4169630441780251\n"
     ]
    },
    {
     "name": "stderr",
     "output_type": "stream",
     "text": [
      "\u001b[32m[I 2023-06-02 03:05:29,470]\u001b[0m Trial 23 finished with value: 0.2717768057016524 and parameters: {'n_estimators': 2096, 'learning_rate': 0.9975154256050291, 'max_depth': 11, 'colsample_bytree': 0.1, 'subsample': 0.8, 'min_child_weight': 150}. Best is trial 20 with value: -9.52085438821193e-06.\u001b[0m\n"
     ]
    },
    {
     "name": "stdout",
     "output_type": "stream",
     "text": [
      "max_r2_score 0.4169630441780251\n"
     ]
    },
    {
     "name": "stderr",
     "output_type": "stream",
     "text": [
      "\u001b[32m[I 2023-06-02 03:05:31,654]\u001b[0m Trial 31 finished with value: 0.2381151024826893 and parameters: {'n_estimators': 2487, 'learning_rate': 0.8797636821901837, 'max_depth': 13, 'colsample_bytree': 0.3, 'subsample': 0.2, 'min_child_weight': 170}. Best is trial 20 with value: -9.52085438821193e-06.\u001b[0m\n"
     ]
    },
    {
     "name": "stdout",
     "output_type": "stream",
     "text": [
      "max_r2_score 0.4169630441780251\n"
     ]
    },
    {
     "name": "stderr",
     "output_type": "stream",
     "text": [
      "\u001b[32m[I 2023-06-02 03:05:38,438]\u001b[0m Trial 34 finished with value: 0.17411453114965303 and parameters: {'n_estimators': 1829, 'learning_rate': 0.9208586961287235, 'max_depth': 13, 'colsample_bytree': 0.5, 'subsample': 0.3, 'min_child_weight': 172}. Best is trial 20 with value: -9.52085438821193e-06.\u001b[0m\n",
      "\u001b[32m[I 2023-06-02 03:05:38,580]\u001b[0m Trial 24 finished with value: 0.18662499484291295 and parameters: {'n_estimators': 2255, 'learning_rate': 0.9846686184284872, 'max_depth': 10, 'colsample_bytree': 0.7, 'subsample': 0.8, 'min_child_weight': 153}. Best is trial 20 with value: -9.52085438821193e-06.\u001b[0m\n"
     ]
    },
    {
     "name": "stdout",
     "output_type": "stream",
     "text": [
      "max_r2_score 0.4169630441780251\n",
      "max_r2_score 0.4169630441780251\n"
     ]
    },
    {
     "name": "stderr",
     "output_type": "stream",
     "text": [
      "\u001b[32m[I 2023-06-02 03:05:38,924]\u001b[0m Trial 33 finished with value: 0.14562349640142336 and parameters: {'n_estimators': 2527, 'learning_rate': 0.9313313590973502, 'max_depth': 13, 'colsample_bytree': 0.3, 'subsample': 0.2, 'min_child_weight': 171}. Best is trial 20 with value: -9.52085438821193e-06.\u001b[0m\n"
     ]
    },
    {
     "name": "stdout",
     "output_type": "stream",
     "text": [
      "max_r2_score 0.4169630441780251\n"
     ]
    },
    {
     "name": "stderr",
     "output_type": "stream",
     "text": [
      "\u001b[32m[I 2023-06-02 03:05:39,713]\u001b[0m Trial 36 finished with value: 0.2028984789979047 and parameters: {'n_estimators': 1863, 'learning_rate': 0.9178100448962236, 'max_depth': 13, 'colsample_bytree': 0.3, 'subsample': 0.2, 'min_child_weight': 175}. Best is trial 20 with value: -9.52085438821193e-06.\u001b[0m\n",
      "\u001b[32m[I 2023-06-02 03:05:39,765]\u001b[0m Trial 35 finished with value: 0.1845859703164937 and parameters: {'n_estimators': 1958, 'learning_rate': 0.9333357332279212, 'max_depth': 13, 'colsample_bytree': 0.3, 'subsample': 0.2, 'min_child_weight': 169}. Best is trial 20 with value: -9.52085438821193e-06.\u001b[0m\n"
     ]
    },
    {
     "name": "stdout",
     "output_type": "stream",
     "text": [
      "max_r2_score 0.4169630441780251\n",
      "max_r2_score 0.4169630441780251\n"
     ]
    },
    {
     "name": "stderr",
     "output_type": "stream",
     "text": [
      "\u001b[32m[I 2023-06-02 03:05:40,320]\u001b[0m Trial 37 finished with value: 0.20572978208325976 and parameters: {'n_estimators': 1945, 'learning_rate': 0.9167563190204289, 'max_depth': 15, 'colsample_bytree': 0.5, 'subsample': 0.1, 'min_child_weight': 136}. Best is trial 20 with value: -9.52085438821193e-06.\u001b[0m\n"
     ]
    },
    {
     "name": "stdout",
     "output_type": "stream",
     "text": [
      "max_r2_score 0.4169630441780251\n"
     ]
    },
    {
     "name": "stderr",
     "output_type": "stream",
     "text": [
      "\u001b[32m[I 2023-06-02 03:05:47,867]\u001b[0m Trial 39 finished with value: 0.3257473551599146 and parameters: {'n_estimators': 2527, 'learning_rate': 0.8164214121016785, 'max_depth': 15, 'colsample_bytree': 0.3, 'subsample': 0.1, 'min_child_weight': 139}. Best is trial 20 with value: -9.52085438821193e-06.\u001b[0m\n",
      "\u001b[32m[I 2023-06-02 03:05:47,978]\u001b[0m Trial 38 finished with value: 0.27340802987546153 and parameters: {'n_estimators': 2484, 'learning_rate': 0.8339923239222876, 'max_depth': 15, 'colsample_bytree': 0.3, 'subsample': 0.1, 'min_child_weight': 138}. Best is trial 20 with value: -9.52085438821193e-06.\u001b[0m\n"
     ]
    },
    {
     "name": "stdout",
     "output_type": "stream",
     "text": [
      "max_r2_score 0.4169630441780251\n",
      "max_r2_score 0.4169630441780251\n"
     ]
    },
    {
     "name": "stderr",
     "output_type": "stream",
     "text": [
      "\u001b[32m[I 2023-06-02 03:05:50,484]\u001b[0m Trial 40 finished with value: 0.2898050935535229 and parameters: {'n_estimators': 2516, 'learning_rate': 0.8133202059863144, 'max_depth': 15, 'colsample_bytree': 0.3, 'subsample': 0.2, 'min_child_weight': 181}. Best is trial 20 with value: -9.52085438821193e-06.\u001b[0m\n"
     ]
    },
    {
     "name": "stdout",
     "output_type": "stream",
     "text": [
      "max_r2_score 0.4169630441780251\n"
     ]
    },
    {
     "name": "stderr",
     "output_type": "stream",
     "text": [
      "\u001b[32m[I 2023-06-02 03:05:57,850]\u001b[0m Trial 13 finished with value: -0.09969366913747368 and parameters: {'n_estimators': 2969, 'learning_rate': 0.18188749805358834, 'max_depth': 12, 'colsample_bytree': 0.9, 'subsample': 0.2, 'min_child_weight': 5}. Best is trial 13 with value: -0.09969366913747368.\u001b[0m\n"
     ]
    },
    {
     "name": "stdout",
     "output_type": "stream",
     "text": [
      "max_r2_score 0.4169630441780251\n"
     ]
    },
    {
     "name": "stderr",
     "output_type": "stream",
     "text": [
      "\u001b[32m[I 2023-06-02 03:06:00,901]\u001b[0m Trial 15 finished with value: 0.38940062972207024 and parameters: {'n_estimators': 1792, 'learning_rate': 0.16449209785301316, 'max_depth': 15, 'colsample_bytree': 0.9, 'subsample': 0.7, 'min_child_weight': 6}. Best is trial 13 with value: -0.09969366913747368.\u001b[0m\n"
     ]
    },
    {
     "name": "stdout",
     "output_type": "stream",
     "text": [
      "max_r2_score 0.4169630441780251\n"
     ]
    },
    {
     "name": "stderr",
     "output_type": "stream",
     "text": [
      "\u001b[32m[I 2023-06-02 03:06:02,720]\u001b[0m Trial 41 finished with value: 0.10024713215574388 and parameters: {'n_estimators': 2461, 'learning_rate': 0.9393825030059798, 'max_depth': 15, 'colsample_bytree': 0.2, 'subsample': 0.5, 'min_child_weight': 137}. Best is trial 13 with value: -0.09969366913747368.\u001b[0m\n"
     ]
    },
    {
     "name": "stdout",
     "output_type": "stream",
     "text": [
      "max_r2_score 0.4169630441780251\n"
     ]
    },
    {
     "name": "stderr",
     "output_type": "stream",
     "text": [
      "\u001b[32m[I 2023-06-02 03:06:03,320]\u001b[0m Trial 42 finished with value: 0.16847259423528116 and parameters: {'n_estimators': 2526, 'learning_rate': 0.8162633739208465, 'max_depth': 15, 'colsample_bytree': 0.2, 'subsample': 0.5, 'min_child_weight': 135}. Best is trial 13 with value: -0.09969366913747368.\u001b[0m\n"
     ]
    },
    {
     "name": "stdout",
     "output_type": "stream",
     "text": [
      "max_r2_score 0.4169630441780251\n"
     ]
    },
    {
     "name": "stderr",
     "output_type": "stream",
     "text": [
      "\u001b[32m[I 2023-06-02 03:06:03,970]\u001b[0m Trial 43 finished with value: 0.12259638382639448 and parameters: {'n_estimators': 2573, 'learning_rate': 0.8170822095278671, 'max_depth': 15, 'colsample_bytree': 0.2, 'subsample': 0.5, 'min_child_weight': 138}. Best is trial 13 with value: -0.09969366913747368.\u001b[0m\n",
      "\u001b[32m[I 2023-06-02 03:06:04,083]\u001b[0m Trial 46 finished with value: -0.059490663606837746 and parameters: {'n_estimators': 1293, 'learning_rate': 0.9494146395231432, 'max_depth': 12, 'colsample_bytree': 0.2, 'subsample': 0.5, 'min_child_weight': 107}. Best is trial 13 with value: -0.09969366913747368.\u001b[0m\n"
     ]
    },
    {
     "name": "stdout",
     "output_type": "stream",
     "text": [
      "max_r2_score 0.4169630441780251\n",
      "max_r2_score 0.4169630441780251\n"
     ]
    },
    {
     "name": "stderr",
     "output_type": "stream",
     "text": [
      "\u001b[32m[I 2023-06-02 03:06:16,278]\u001b[0m Trial 45 finished with value: -0.3386454248341588 and parameters: {'n_estimators': 2869, 'learning_rate': 0.9625705938843722, 'max_depth': 14, 'colsample_bytree': 0.2, 'subsample': 0.5, 'min_child_weight': 109}. Best is trial 45 with value: -0.3386454248341588.\u001b[0m\n"
     ]
    },
    {
     "name": "stdout",
     "output_type": "stream",
     "text": [
      "max_r2_score 0.4169630441780251\n"
     ]
    },
    {
     "name": "stderr",
     "output_type": "stream",
     "text": [
      "\u001b[32m[I 2023-06-02 03:06:17,372]\u001b[0m Trial 44 finished with value: -0.08635383403765595 and parameters: {'n_estimators': 2893, 'learning_rate': 0.806540120266537, 'max_depth': 12, 'colsample_bytree': 0.6, 'subsample': 0.5, 'min_child_weight': 109}. Best is trial 45 with value: -0.3386454248341588.\u001b[0m\n"
     ]
    },
    {
     "name": "stdout",
     "output_type": "stream",
     "text": [
      "max_r2_score 0.4169630441780251\n"
     ]
    },
    {
     "name": "stderr",
     "output_type": "stream",
     "text": [
      "\u001b[32m[I 2023-06-02 03:06:18,888]\u001b[0m Trial 48 finished with value: -0.6216271308662793 and parameters: {'n_estimators': 3000, 'learning_rate': 0.9592652979288739, 'max_depth': 12, 'colsample_bytree': 0.2, 'subsample': 0.2, 'min_child_weight': 102}. Best is trial 48 with value: -0.6216271308662793.\u001b[0m\n"
     ]
    },
    {
     "name": "stdout",
     "output_type": "stream",
     "text": [
      "max_r2_score 0.4169630441780251\n"
     ]
    },
    {
     "name": "stderr",
     "output_type": "stream",
     "text": [
      "\u001b[32m[I 2023-06-02 03:06:33,045]\u001b[0m Trial 51 finished with value: 0.32147537585093533 and parameters: {'n_estimators': 2897, 'learning_rate': 0.2780251966296484, 'max_depth': 14, 'colsample_bytree': 0.2, 'subsample': 0.5, 'min_child_weight': 106}. Best is trial 48 with value: -0.6216271308662793.\u001b[0m\n"
     ]
    },
    {
     "name": "stdout",
     "output_type": "stream",
     "text": [
      "max_r2_score 0.4169630441780251\n"
     ]
    },
    {
     "name": "stderr",
     "output_type": "stream",
     "text": [
      "\u001b[32m[I 2023-06-02 03:06:34,386]\u001b[0m Trial 50 finished with value: -0.5141255848964759 and parameters: {'n_estimators': 2905, 'learning_rate': 0.9562364365782181, 'max_depth': 12, 'colsample_bytree': 0.2, 'subsample': 0.5, 'min_child_weight': 97}. Best is trial 48 with value: -0.6216271308662793.\u001b[0m\n",
      "\u001b[32m[I 2023-06-02 03:06:34,469]\u001b[0m Trial 52 finished with value: -0.669783161786007 and parameters: {'n_estimators': 2973, 'learning_rate': 0.9747668481117899, 'max_depth': 12, 'colsample_bytree': 0.2, 'subsample': 0.5, 'min_child_weight': 103}. Best is trial 52 with value: -0.669783161786007.\u001b[0m\n"
     ]
    },
    {
     "name": "stdout",
     "output_type": "stream",
     "text": [
      "max_r2_score 0.4169630441780251\n",
      "max_r2_score 0.4169630441780251\n"
     ]
    },
    {
     "name": "stderr",
     "output_type": "stream",
     "text": [
      "\u001b[32m[I 2023-06-02 03:06:35,196]\u001b[0m Trial 49 finished with value: -0.626244665785691 and parameters: {'n_estimators': 2957, 'learning_rate': 0.9686079081535629, 'max_depth': 14, 'colsample_bytree': 0.2, 'subsample': 0.5, 'min_child_weight': 96}. Best is trial 52 with value: -0.669783161786007.\u001b[0m\n"
     ]
    },
    {
     "name": "stdout",
     "output_type": "stream",
     "text": [
      "max_r2_score 0.4169630441780251\n"
     ]
    },
    {
     "name": "stderr",
     "output_type": "stream",
     "text": [
      "\u001b[32m[I 2023-06-02 03:06:40,024]\u001b[0m Trial 47 finished with value: 0.28810849402207617 and parameters: {'n_estimators': 2990, 'learning_rate': 0.4649480093212463, 'max_depth': 12, 'colsample_bytree': 0.2, 'subsample': 0.7, 'min_child_weight': 72}. Best is trial 52 with value: -0.669783161786007.\u001b[0m\n"
     ]
    },
    {
     "name": "stdout",
     "output_type": "stream",
     "text": [
      "max_r2_score 0.4169630441780251\n"
     ]
    },
    {
     "name": "stderr",
     "output_type": "stream",
     "text": [
      "\u001b[32m[I 2023-06-02 03:06:53,810]\u001b[0m Trial 53 finished with value: -0.6661838914053764 and parameters: {'n_estimators': 2988, 'learning_rate': 0.9571900665021782, 'max_depth': 12, 'colsample_bytree': 0.6, 'subsample': 0.5, 'min_child_weight': 105}. Best is trial 52 with value: -0.669783161786007.\u001b[0m\n"
     ]
    },
    {
     "name": "stdout",
     "output_type": "stream",
     "text": [
      "max_r2_score 0.4169630441780251\n"
     ]
    },
    {
     "name": "stderr",
     "output_type": "stream",
     "text": [
      "\u001b[32m[I 2023-06-02 03:06:54,406]\u001b[0m Trial 54 finished with value: -0.585661034418197 and parameters: {'n_estimators': 2923, 'learning_rate': 0.9657758811937297, 'max_depth': 12, 'colsample_bytree': 0.6, 'subsample': 0.5, 'min_child_weight': 103}. Best is trial 52 with value: -0.669783161786007.\u001b[0m\n"
     ]
    },
    {
     "name": "stdout",
     "output_type": "stream",
     "text": [
      "max_r2_score 0.4169630441780251\n"
     ]
    },
    {
     "name": "stderr",
     "output_type": "stream",
     "text": [
      "\u001b[32m[I 2023-06-02 03:06:57,930]\u001b[0m Trial 55 finished with value: 0.3784354423283298 and parameters: {'n_estimators': 2926, 'learning_rate': 0.25027926318082167, 'max_depth': 12, 'colsample_bytree': 0.6, 'subsample': 0.5, 'min_child_weight': 96}. Best is trial 52 with value: -0.669783161786007.\u001b[0m\n"
     ]
    },
    {
     "name": "stdout",
     "output_type": "stream",
     "text": [
      "max_r2_score 0.4169630441780251\n"
     ]
    },
    {
     "name": "stderr",
     "output_type": "stream",
     "text": [
      "\u001b[32m[I 2023-06-02 03:07:19,441]\u001b[0m Trial 59 finished with value: -0.9719112059900432 and parameters: {'n_estimators': 2991, 'learning_rate': 0.9986251057130442, 'max_depth': 14, 'colsample_bytree': 0.2, 'subsample': 0.5, 'min_child_weight': 88}. Best is trial 59 with value: -0.9719112059900432.\u001b[0m\n",
      "\u001b[32m[I 2023-06-02 03:07:19,600]\u001b[0m Trial 56 finished with value: 0.40217634869911145 and parameters: {'n_estimators': 2980, 'learning_rate': 0.0645597904331445, 'max_depth': 12, 'colsample_bytree': 0.6, 'subsample': 0.5, 'min_child_weight': 83}. Best is trial 59 with value: -0.9719112059900432.\u001b[0m\n"
     ]
    },
    {
     "name": "stdout",
     "output_type": "stream",
     "text": [
      "max_r2_score 0.4169630441780251\n",
      "max_r2_score 0.4169630441780251\n"
     ]
    },
    {
     "name": "stderr",
     "output_type": "stream",
     "text": [
      "\u001b[32m[I 2023-06-02 03:07:20,182]\u001b[0m Trial 57 finished with value: 0.22676827175265135 and parameters: {'n_estimators': 2993, 'learning_rate': 0.5147388074200562, 'max_depth': 12, 'colsample_bytree': 0.6, 'subsample': 0.5, 'min_child_weight': 86}. Best is trial 59 with value: -0.9719112059900432.\u001b[0m\n"
     ]
    },
    {
     "name": "stdout",
     "output_type": "stream",
     "text": [
      "max_r2_score 0.4169630441780251\n"
     ]
    },
    {
     "name": "stderr",
     "output_type": "stream",
     "text": [
      "\u001b[32m[I 2023-06-02 03:07:20,772]\u001b[0m Trial 58 finished with value: -1.179332541003273 and parameters: {'n_estimators': 2991, 'learning_rate': 0.9663696472232226, 'max_depth': 12, 'colsample_bytree': 0.6, 'subsample': 0.5, 'min_child_weight': 84}. Best is trial 58 with value: -1.179332541003273.\u001b[0m\n"
     ]
    },
    {
     "name": "stdout",
     "output_type": "stream",
     "text": [
      "max_r2_score 0.4169630441780251\n"
     ]
    },
    {
     "name": "stderr",
     "output_type": "stream",
     "text": [
      "\u001b[32m[I 2023-06-02 03:07:30,945]\u001b[0m Trial 66 finished with value: 0.3698244748828873 and parameters: {'n_estimators': 2721, 'learning_rate': 0.9812808610911244, 'max_depth': 1, 'colsample_bytree': 0.4, 'subsample': 0.9, 'min_child_weight': 120}. Best is trial 58 with value: -1.179332541003273.\u001b[0m\n"
     ]
    },
    {
     "name": "stdout",
     "output_type": "stream",
     "text": [
      "max_r2_score 0.4169630441780251\n"
     ]
    },
    {
     "name": "stderr",
     "output_type": "stream",
     "text": [
      "\u001b[32m[I 2023-06-02 03:07:32,769]\u001b[0m Trial 60 finished with value: 0.2201961834295456 and parameters: {'n_estimators': 2763, 'learning_rate': 0.9668523716866495, 'max_depth': 14, 'colsample_bytree': 0.9, 'subsample': 0.9, 'min_child_weight': 94}. Best is trial 58 with value: -1.179332541003273.\u001b[0m\n"
     ]
    },
    {
     "name": "stdout",
     "output_type": "stream",
     "text": [
      "max_r2_score 0.4169630441780251\n"
     ]
    },
    {
     "name": "stderr",
     "output_type": "stream",
     "text": [
      "\u001b[32m[I 2023-06-02 03:07:34,389]\u001b[0m Trial 61 finished with value: -0.5949018403535173 and parameters: {'n_estimators': 2762, 'learning_rate': 0.9716264420237302, 'max_depth': 14, 'colsample_bytree': 0.6, 'subsample': 0.5, 'min_child_weight': 95}. Best is trial 58 with value: -1.179332541003273.\u001b[0m\n"
     ]
    },
    {
     "name": "stdout",
     "output_type": "stream",
     "text": [
      "max_r2_score 0.4169630441780251\n"
     ]
    },
    {
     "name": "stderr",
     "output_type": "stream",
     "text": [
      "\u001b[32m[I 2023-06-02 03:07:46,183]\u001b[0m Trial 62 finished with value: 0.23402246968176932 and parameters: {'n_estimators': 2722, 'learning_rate': 0.9992268569272716, 'max_depth': 12, 'colsample_bytree': 0.6, 'subsample': 0.9, 'min_child_weight': 91}. Best is trial 58 with value: -1.179332541003273.\u001b[0m\n"
     ]
    },
    {
     "name": "stdout",
     "output_type": "stream",
     "text": [
      "max_r2_score 0.4169630441780251\n"
     ]
    },
    {
     "name": "stderr",
     "output_type": "stream",
     "text": [
      "\u001b[32m[I 2023-06-02 03:07:51,110]\u001b[0m Trial 63 finished with value: 0.11177721486289893 and parameters: {'n_estimators': 2735, 'learning_rate': 0.9982521413345051, 'max_depth': 14, 'colsample_bytree': 0.6, 'subsample': 0.9, 'min_child_weight': 86}. Best is trial 58 with value: -1.179332541003273.\u001b[0m\n"
     ]
    },
    {
     "name": "stdout",
     "output_type": "stream",
     "text": [
      "max_r2_score 0.4169630441780251\n"
     ]
    },
    {
     "name": "stderr",
     "output_type": "stream",
     "text": [
      "\u001b[32m[I 2023-06-02 03:07:57,143]\u001b[0m Trial 64 finished with value: -0.7345720462620815 and parameters: {'n_estimators': 2735, 'learning_rate': 0.9971681567608043, 'max_depth': 14, 'colsample_bytree': 0.6, 'subsample': 0.4, 'min_child_weight': 85}. Best is trial 58 with value: -1.179332541003273.\u001b[0m\n"
     ]
    },
    {
     "name": "stdout",
     "output_type": "stream",
     "text": [
      "max_r2_score 0.4169630441780251\n"
     ]
    },
    {
     "name": "stderr",
     "output_type": "stream",
     "text": [
      "\u001b[32m[I 2023-06-02 03:08:11,161]\u001b[0m Trial 65 finished with value: 0.21177006380971353 and parameters: {'n_estimators': 2727, 'learning_rate': 0.9784322504035652, 'max_depth': 14, 'colsample_bytree': 0.4, 'subsample': 0.9, 'min_child_weight': 88}. Best is trial 58 with value: -1.179332541003273.\u001b[0m\n"
     ]
    },
    {
     "name": "stdout",
     "output_type": "stream",
     "text": [
      "max_r2_score 0.4169630441780251\n"
     ]
    },
    {
     "name": "stderr",
     "output_type": "stream",
     "text": [
      "\u001b[32m[I 2023-06-02 03:08:18,164]\u001b[0m Trial 68 finished with value: -1.7054212754432791 and parameters: {'n_estimators': 2788, 'learning_rate': 0.9956831695260104, 'max_depth': 14, 'colsample_bytree': 0.6, 'subsample': 0.4, 'min_child_weight': 56}. Best is trial 68 with value: -1.7054212754432791.\u001b[0m\n"
     ]
    },
    {
     "name": "stdout",
     "output_type": "stream",
     "text": [
      "max_r2_score 0.4169630441780251\n"
     ]
    },
    {
     "name": "stderr",
     "output_type": "stream",
     "text": [
      "\u001b[32m[I 2023-06-02 03:08:19,145]\u001b[0m Trial 74 finished with value: 0.06619458305822068 and parameters: {'n_estimators': 495, 'learning_rate': 0.9031415841228314, 'max_depth': 11, 'colsample_bytree': 1, 'subsample': 0.4, 'min_child_weight': 75}. Best is trial 68 with value: -1.7054212754432791.\u001b[0m\n"
     ]
    },
    {
     "name": "stdout",
     "output_type": "stream",
     "text": [
      "max_r2_score 0.4169630441780251\n"
     ]
    },
    {
     "name": "stderr",
     "output_type": "stream",
     "text": [
      "\u001b[32m[I 2023-06-02 03:08:20,082]\u001b[0m Trial 69 finished with value: -2.233084319404497 and parameters: {'n_estimators': 2662, 'learning_rate': 0.9850228380355442, 'max_depth': 10, 'colsample_bytree': 0.6, 'subsample': 0.5, 'min_child_weight': 60}. Best is trial 69 with value: -2.233084319404497.\u001b[0m\n"
     ]
    },
    {
     "name": "stdout",
     "output_type": "stream",
     "text": [
      "max_r2_score 0.4169630441780251\n"
     ]
    },
    {
     "name": "stderr",
     "output_type": "stream",
     "text": [
      "\u001b[32m[I 2023-06-02 03:08:21,452]\u001b[0m Trial 70 finished with value: -2.870178193215885 and parameters: {'n_estimators': 2666, 'learning_rate': 0.9948794576279284, 'max_depth': 14, 'colsample_bytree': 0.8, 'subsample': 0.4, 'min_child_weight': 54}. Best is trial 70 with value: -2.870178193215885.\u001b[0m\n"
     ]
    },
    {
     "name": "stdout",
     "output_type": "stream",
     "text": [
      "max_r2_score 0.4169630441780251\n"
     ]
    },
    {
     "name": "stderr",
     "output_type": "stream",
     "text": [
      "\u001b[32m[I 2023-06-02 03:08:27,519]\u001b[0m Trial 67 finished with value: 0.04031280072440735 and parameters: {'n_estimators': 2703, 'learning_rate': 0.9922986641116035, 'max_depth': 14, 'colsample_bytree': 0.4, 'subsample': 0.9, 'min_child_weight': 49}. Best is trial 70 with value: -2.870178193215885.\u001b[0m\n",
      "\u001b[32m[I 2023-06-02 03:08:27,657]\u001b[0m Trial 71 finished with value: -1.2665556556596194 and parameters: {'n_estimators': 2644, 'learning_rate': 0.8915593921294771, 'max_depth': 14, 'colsample_bytree': 0.8, 'subsample': 0.4, 'min_child_weight': 73}. Best is trial 70 with value: -2.870178193215885.\u001b[0m\n"
     ]
    },
    {
     "name": "stdout",
     "output_type": "stream",
     "text": [
      "max_r2_score 0.4169630441780251\n",
      "max_r2_score 0.4169630441780251\n"
     ]
    },
    {
     "name": "stderr",
     "output_type": "stream",
     "text": [
      "\u001b[32m[I 2023-06-02 03:08:33,809]\u001b[0m Trial 72 finished with value: -0.6750074833405888 and parameters: {'n_estimators': 2630, 'learning_rate': 0.8966935921393339, 'max_depth': 14, 'colsample_bytree': 0.8, 'subsample': 0.4, 'min_child_weight': 72}. Best is trial 70 with value: -2.870178193215885.\u001b[0m\n"
     ]
    },
    {
     "name": "stdout",
     "output_type": "stream",
     "text": [
      "max_r2_score 0.4169630441780251\n"
     ]
    },
    {
     "name": "stderr",
     "output_type": "stream",
     "text": [
      "\u001b[32m[I 2023-06-02 03:08:48,033]\u001b[0m Trial 73 finished with value: -1.5945306143077782 and parameters: {'n_estimators': 2651, 'learning_rate': 0.8920400517379783, 'max_depth': 11, 'colsample_bytree': 0.8, 'subsample': 0.4, 'min_child_weight': 55}. Best is trial 70 with value: -2.870178193215885.\u001b[0m\n"
     ]
    },
    {
     "name": "stdout",
     "output_type": "stream",
     "text": [
      "max_r2_score 0.4169630441780251\n"
     ]
    },
    {
     "name": "stderr",
     "output_type": "stream",
     "text": [
      "\u001b[32m[I 2023-06-02 03:08:51,003]\u001b[0m Trial 76 finished with value: -1.7213227687361932 and parameters: {'n_estimators': 2613, 'learning_rate': 0.9000886731065085, 'max_depth': 4, 'colsample_bytree': 0.8, 'subsample': 0.4, 'min_child_weight': 51}. Best is trial 70 with value: -2.870178193215885.\u001b[0m\n"
     ]
    },
    {
     "name": "stdout",
     "output_type": "stream",
     "text": [
      "max_r2_score 0.4169630441780251\n"
     ]
    },
    {
     "name": "stderr",
     "output_type": "stream",
     "text": [
      "\u001b[32m[I 2023-06-02 03:09:11,052]\u001b[0m Trial 75 finished with value: -1.8657099493561646 and parameters: {'n_estimators': 2632, 'learning_rate': 0.8928446813697654, 'max_depth': 11, 'colsample_bytree': 1, 'subsample': 0.4, 'min_child_weight': 55}. Best is trial 70 with value: -2.870178193215885.\u001b[0m\n"
     ]
    },
    {
     "name": "stdout",
     "output_type": "stream",
     "text": [
      "max_r2_score 0.4169630441780251\n"
     ]
    },
    {
     "name": "stderr",
     "output_type": "stream",
     "text": [
      "\u001b[32m[I 2023-06-02 03:09:16,811]\u001b[0m Trial 77 finished with value: -1.8234317326324203 and parameters: {'n_estimators': 2648, 'learning_rate': 0.8871586647672183, 'max_depth': 10, 'colsample_bytree': 0.8, 'subsample': 0.4, 'min_child_weight': 45}. Best is trial 70 with value: -2.870178193215885.\u001b[0m\n"
     ]
    },
    {
     "name": "stdout",
     "output_type": "stream",
     "text": [
      "max_r2_score 0.4169630441780251\n"
     ]
    },
    {
     "name": "stderr",
     "output_type": "stream",
     "text": [
      "\u001b[32m[I 2023-06-02 03:09:17,144]\u001b[0m Trial 80 finished with value: -1.6507448227756063 and parameters: {'n_estimators': 2650, 'learning_rate': 0.8945390428020714, 'max_depth': 8, 'colsample_bytree': 0.8, 'subsample': 0.4, 'min_child_weight': 59}. Best is trial 70 with value: -2.870178193215885.\u001b[0m\n"
     ]
    },
    {
     "name": "stdout",
     "output_type": "stream",
     "text": [
      "max_r2_score 0.4169630441780251\n"
     ]
    },
    {
     "name": "stderr",
     "output_type": "stream",
     "text": [
      "\u001b[32m[I 2023-06-02 03:09:18,272]\u001b[0m Trial 78 finished with value: -1.4758052271697975 and parameters: {'n_estimators': 2643, 'learning_rate': 0.900695830450228, 'max_depth': 10, 'colsample_bytree': 0.8, 'subsample': 0.4, 'min_child_weight': 47}. Best is trial 70 with value: -2.870178193215885.\u001b[0m\n"
     ]
    },
    {
     "name": "stdout",
     "output_type": "stream",
     "text": [
      "max_r2_score 0.4169630441780251\n"
     ]
    },
    {
     "name": "stderr",
     "output_type": "stream",
     "text": [
      "\u001b[32m[I 2023-06-02 03:09:21,048]\u001b[0m Trial 81 finished with value: -1.1962788053956204 and parameters: {'n_estimators': 2387, 'learning_rate': 0.8906446929989688, 'max_depth': 13, 'colsample_bytree': 0.8, 'subsample': 0.4, 'min_child_weight': 57}. Best is trial 70 with value: -2.870178193215885.\u001b[0m\n"
     ]
    },
    {
     "name": "stdout",
     "output_type": "stream",
     "text": [
      "max_r2_score 0.4169630441780251\n"
     ]
    },
    {
     "name": "stderr",
     "output_type": "stream",
     "text": [
      "\u001b[32m[I 2023-06-02 03:09:26,416]\u001b[0m Trial 79 finished with value: -3.0363068508806066 and parameters: {'n_estimators': 2647, 'learning_rate': 0.8927551785373428, 'max_depth': 10, 'colsample_bytree': 0.8, 'subsample': 0.4, 'min_child_weight': 42}. Best is trial 79 with value: -3.0363068508806066.\u001b[0m\n"
     ]
    },
    {
     "name": "stdout",
     "output_type": "stream",
     "text": [
      "max_r2_score 0.4169630441780251\n"
     ]
    },
    {
     "name": "stderr",
     "output_type": "stream",
     "text": [
      "\u001b[32m[I 2023-06-02 03:09:27,707]\u001b[0m Trial 83 finished with value: -2.3281877373480935 and parameters: {'n_estimators': 2390, 'learning_rate': 0.8918404721020625, 'max_depth': 5, 'colsample_bytree': 0.8, 'subsample': 0.4, 'min_child_weight': 42}. Best is trial 79 with value: -3.0363068508806066.\u001b[0m\n"
     ]
    },
    {
     "name": "stdout",
     "output_type": "stream",
     "text": [
      "max_r2_score 0.4169630441780251\n"
     ]
    },
    {
     "name": "stderr",
     "output_type": "stream",
     "text": [
      "\u001b[32m[I 2023-06-02 03:09:47,743]\u001b[0m Trial 85 finished with value: -1.7208320646199775 and parameters: {'n_estimators': 2390, 'learning_rate': 0.8881621748310508, 'max_depth': 4, 'colsample_bytree': 0.8, 'subsample': 0.4, 'min_child_weight': 40}. Best is trial 79 with value: -3.0363068508806066.\u001b[0m\n"
     ]
    },
    {
     "name": "stdout",
     "output_type": "stream",
     "text": [
      "max_r2_score 0.4169630441780251\n"
     ]
    },
    {
     "name": "stderr",
     "output_type": "stream",
     "text": [
      "\u001b[32m[I 2023-06-02 03:09:49,731]\u001b[0m Trial 87 finished with value: -1.684457508260464 and parameters: {'n_estimators': 2396, 'learning_rate': 0.8582362504862775, 'max_depth': 4, 'colsample_bytree': 0.8, 'subsample': 0.4, 'min_child_weight': 38}. Best is trial 79 with value: -3.0363068508806066.\u001b[0m\n"
     ]
    },
    {
     "name": "stdout",
     "output_type": "stream",
     "text": [
      "max_r2_score 0.4169630441780251\n"
     ]
    },
    {
     "name": "stderr",
     "output_type": "stream",
     "text": [
      "\u001b[32m[I 2023-06-02 03:09:51,250]\u001b[0m Trial 82 finished with value: -2.3497538694650415 and parameters: {'n_estimators': 2819, 'learning_rate': 0.942482171364531, 'max_depth': 10, 'colsample_bytree': 0.8, 'subsample': 0.4, 'min_child_weight': 46}. Best is trial 79 with value: -3.0363068508806066.\u001b[0m\n"
     ]
    },
    {
     "name": "stdout",
     "output_type": "stream",
     "text": [
      "max_r2_score 0.4169630441780251\n"
     ]
    },
    {
     "name": "stderr",
     "output_type": "stream",
     "text": [
      "\u001b[32m[I 2023-06-02 03:09:53,789]\u001b[0m Trial 84 finished with value: -2.429221245480793 and parameters: {'n_estimators': 2376, 'learning_rate': 0.8981654770692976, 'max_depth': 6, 'colsample_bytree': 0.8, 'subsample': 0.4, 'min_child_weight': 46}. Best is trial 79 with value: -3.0363068508806066.\u001b[0m\n"
     ]
    },
    {
     "name": "stdout",
     "output_type": "stream",
     "text": [
      "max_r2_score 0.4169630441780251\n"
     ]
    },
    {
     "name": "stderr",
     "output_type": "stream",
     "text": [
      "\u001b[32m[I 2023-06-02 03:10:06,244]\u001b[0m Trial 90 finished with value: -3.4825533800470527 and parameters: {'n_estimators': 2355, 'learning_rate': 0.9246741734579587, 'max_depth': 5, 'colsample_bytree': 0.8, 'subsample': 0.4, 'min_child_weight': 35}. Best is trial 90 with value: -3.4825533800470527.\u001b[0m\n"
     ]
    },
    {
     "name": "stdout",
     "output_type": "stream",
     "text": [
      "max_r2_score 0.4169630441780251\n"
     ]
    },
    {
     "name": "stderr",
     "output_type": "stream",
     "text": [
      "\u001b[32m[I 2023-06-02 03:10:06,736]\u001b[0m Trial 88 finished with value: -3.862406390060312 and parameters: {'n_estimators': 2825, 'learning_rate': 0.9323924430176517, 'max_depth': 5, 'colsample_bytree': 0.8, 'subsample': 0.4, 'min_child_weight': 42}. Best is trial 88 with value: -3.862406390060312.\u001b[0m\n"
     ]
    },
    {
     "name": "stdout",
     "output_type": "stream",
     "text": [
      "max_r2_score 0.4169630441780251\n"
     ]
    },
    {
     "name": "stderr",
     "output_type": "stream",
     "text": [
      "\u001b[32m[I 2023-06-02 03:10:12,211]\u001b[0m Trial 89 finished with value: -2.1723250979379243 and parameters: {'n_estimators': 2809, 'learning_rate': 0.8518511605328725, 'max_depth': 5, 'colsample_bytree': 0.8, 'subsample': 0.4, 'min_child_weight': 39}. Best is trial 88 with value: -3.862406390060312.\u001b[0m\n"
     ]
    },
    {
     "name": "stdout",
     "output_type": "stream",
     "text": [
      "max_r2_score 0.4169630441780251\n"
     ]
    },
    {
     "name": "stderr",
     "output_type": "stream",
     "text": [
      "\u001b[32m[I 2023-06-02 03:10:15,932]\u001b[0m Trial 86 finished with value: -2.7123359857073233 and parameters: {'n_estimators': 2809, 'learning_rate': 0.8533470738109855, 'max_depth': 7, 'colsample_bytree': 0.8, 'subsample': 0.4, 'min_child_weight': 43}. Best is trial 88 with value: -3.862406390060312.\u001b[0m\n"
     ]
    },
    {
     "name": "stdout",
     "output_type": "stream",
     "text": [
      "max_r2_score 0.4169630441780251\n"
     ]
    },
    {
     "name": "stderr",
     "output_type": "stream",
     "text": [
      "\u001b[32m[I 2023-06-02 03:10:21,339]\u001b[0m Trial 91 finished with value: -1.2497805545953118 and parameters: {'n_estimators': 2362, 'learning_rate': 0.8431093930858529, 'max_depth': 4, 'colsample_bytree': 0.8, 'subsample': 0.4, 'min_child_weight': 34}. Best is trial 88 with value: -3.862406390060312.\u001b[0m\n"
     ]
    },
    {
     "name": "stdout",
     "output_type": "stream",
     "text": [
      "max_r2_score 0.4169630441780251\n"
     ]
    },
    {
     "name": "stderr",
     "output_type": "stream",
     "text": [
      "\u001b[32m[I 2023-06-02 03:10:26,262]\u001b[0m Trial 93 finished with value: -3.324535507220266 and parameters: {'n_estimators': 2322, 'learning_rate': 0.9262720347167201, 'max_depth': 4, 'colsample_bytree': 0.8, 'subsample': 0.4, 'min_child_weight': 20}. Best is trial 88 with value: -3.862406390060312.\u001b[0m\n"
     ]
    },
    {
     "name": "stdout",
     "output_type": "stream",
     "text": [
      "max_r2_score 0.4169630441780251\n"
     ]
    },
    {
     "name": "stderr",
     "output_type": "stream",
     "text": [
      "\u001b[32m[I 2023-06-02 03:10:40,579]\u001b[0m Trial 92 finished with value: -7.115583472818999 and parameters: {'n_estimators': 2814, 'learning_rate': 0.9267716613418234, 'max_depth': 5, 'colsample_bytree': 1, 'subsample': 0.4, 'min_child_weight': 21}. Best is trial 92 with value: -7.115583472818999.\u001b[0m\n"
     ]
    },
    {
     "name": "stdout",
     "output_type": "stream",
     "text": [
      "max_r2_score 0.4169630441780251\n"
     ]
    },
    {
     "name": "stderr",
     "output_type": "stream",
     "text": [
      "\u001b[32m[I 2023-06-02 03:10:49,549]\u001b[0m Trial 94 finished with value: -5.701030224368533 and parameters: {'n_estimators': 2819, 'learning_rate': 0.925389770782712, 'max_depth': 6, 'colsample_bytree': 1, 'subsample': 0.4, 'min_child_weight': 26}. Best is trial 92 with value: -7.115583472818999.\u001b[0m\n"
     ]
    },
    {
     "name": "stdout",
     "output_type": "stream",
     "text": [
      "max_r2_score 0.4169630441780251\n"
     ]
    },
    {
     "name": "stderr",
     "output_type": "stream",
     "text": [
      "\u001b[32m[I 2023-06-02 03:10:58,445]\u001b[0m Trial 96 finished with value: -7.609182417535175 and parameters: {'n_estimators': 2844, 'learning_rate': 0.9331378107877655, 'max_depth': 6, 'colsample_bytree': 1, 'subsample': 0.4, 'min_child_weight': 25}. Best is trial 96 with value: -7.609182417535175.\u001b[0m\n"
     ]
    },
    {
     "name": "stdout",
     "output_type": "stream",
     "text": [
      "max_r2_score 0.4169630441780251\n"
     ]
    },
    {
     "name": "stderr",
     "output_type": "stream",
     "text": [
      "\u001b[32m[I 2023-06-02 03:10:58,839]\u001b[0m Trial 95 finished with value: -7.3532826480493885 and parameters: {'n_estimators': 2834, 'learning_rate': 0.9305420156987908, 'max_depth': 6, 'colsample_bytree': 1, 'subsample': 0.4, 'min_child_weight': 22}. Best is trial 96 with value: -7.609182417535175.\u001b[0m\n"
     ]
    },
    {
     "name": "stdout",
     "output_type": "stream",
     "text": [
      "max_r2_score 0.4169630441780251\n"
     ]
    },
    {
     "name": "stderr",
     "output_type": "stream",
     "text": [
      "\u001b[32m[I 2023-06-02 03:11:01,754]\u001b[0m Trial 98 finished with value: -6.948262344727125 and parameters: {'n_estimators': 2819, 'learning_rate': 0.9316893078886256, 'max_depth': 6, 'colsample_bytree': 0.8, 'subsample': 0.4, 'min_child_weight': 25}. Best is trial 96 with value: -7.609182417535175.\u001b[0m\n"
     ]
    },
    {
     "name": "stdout",
     "output_type": "stream",
     "text": [
      "max_r2_score 0.4169630441780251\n"
     ]
    },
    {
     "name": "stderr",
     "output_type": "stream",
     "text": [
      "\u001b[32m[I 2023-06-02 03:11:02,706]\u001b[0m Trial 97 finished with value: 0.37905916755334357 and parameters: {'n_estimators': 2828, 'learning_rate': 0.9270102916677521, 'max_depth': 6, 'colsample_bytree': 0.8, 'subsample': 1, 'min_child_weight': 23}. Best is trial 96 with value: -7.609182417535175.\u001b[0m\n"
     ]
    },
    {
     "name": "stdout",
     "output_type": "stream",
     "text": [
      "max_r2_score 0.4169630441780251\n"
     ]
    },
    {
     "name": "stderr",
     "output_type": "stream",
     "text": [
      "\u001b[32m[I 2023-06-02 03:11:03,263]\u001b[0m Trial 99 finished with value: -7.950344189101669 and parameters: {'n_estimators': 2815, 'learning_rate': 0.9379972909497902, 'max_depth': 6, 'colsample_bytree': 0.8, 'subsample': 0.4, 'min_child_weight': 21}. Best is trial 99 with value: -7.950344189101669.\u001b[0m\n"
     ]
    },
    {
     "name": "stdout",
     "output_type": "stream",
     "text": [
      "max_r2_score 0.4169630441780251\n"
     ]
    }
   ],
   "source": [
    "r2_scores=[]\n",
    "find_params=optuna.create_study()\n",
    "find_params.optimize(objective,n_trials=100,n_jobs=-1)"
   ]
  },
  {
   "cell_type": "code",
   "execution_count": 91,
   "metadata": {
    "id": "kTJwmRJ0MwXq"
   },
   "outputs": [],
   "source": [
    "best_param={'n_estimators': 140, \n",
    "            'learning_rate': 0.3386252297927989, \n",
    "            'max_depth': 8, \n",
    "            'colsample_bytree': 0.9, \n",
    "            'subsample': 1, \n",
    "            'min_child_weight': 33}"
   ]
  },
  {
   "cell_type": "code",
   "execution_count": 92,
   "metadata": {
    "id": "sMpc3qNmNYPe"
   },
   "outputs": [
    {
     "name": "stdout",
     "output_type": "stream",
     "text": [
      "41.7 %\n"
     ]
    }
   ],
   "source": [
    "xgb=XGBRegressor(**best_param)\n",
    "xgb.fit(x_train,y_train)\n",
    "y_pred=xgb.predict(x_test)\n",
    "print(round(r2_score(y_test,y_pred,)*100,2),'%')"
   ]
  },
  {
   "cell_type": "markdown",
   "metadata": {
    "id": "fO28FldoOZzt"
   },
   "source": [
    "### **HyperOpt**\n"
   ]
  },
  {
   "cell_type": "markdown",
   "metadata": {
    "id": "XAr8Ox0X_64J"
   },
   "source": [
    "#### **1. RandomForest**"
   ]
  },
  {
   "cell_type": "code",
   "execution_count": 128,
   "metadata": {},
   "outputs": [],
   "source": [
    "def objective(space):    \n",
    "    hyperopt_randf=RandomForestRegressor(**space)  #define model\n",
    "    hyperopt_randf.fit(x_train,y_train)        #fit model\n",
    "    y_pred=hyperopt_randf.predict(x_test)      #prediction\n",
    "    \n",
    "    rmse=np.sqrt(mean_squared_error(y_test,y_pred))    #rmse calculation\n",
    "\n",
    "    return(rmse)"
   ]
  },
  {
   "cell_type": "code",
   "execution_count": 129,
   "metadata": {},
   "outputs": [
    {
     "name": "stdout",
     "output_type": "stream",
     "text": [
      "100%|█████████████████████████████████████████████| 100/100 [1:40:32<00:00, 60.32s/trial, best loss: 45197.69387211323]\n"
     ]
    },
    {
     "data": {
      "text/plain": [
       "{'criterion': 'friedman_mse', 'max_features': 'log2', 'n_estimators': 1003}"
      ]
     },
     "execution_count": 129,
     "metadata": {},
     "output_type": "execute_result"
    }
   ],
   "source": [
    "trials = Trials()\n",
    "\n",
    "space={'n_estimators'     :hp.choice('n_estimators',list(range(100,2000))),\n",
    "      'criterion'         :hp.choice('criterion',['squared_error', 'absolute_error', 'friedman_mse','poisson']),\n",
    "      'max_features'      :hp.choice('max_features',['sqrt', 'log2', None])\n",
    "      }\n",
    "        \n",
    "best = fmin(fn= objective,\n",
    "            space= space,\n",
    "            algo= tpe.suggest,\n",
    "            max_evals = 100,\n",
    "            trials= trials)\n",
    "best_randf=space_eval(space,best)\n",
    "best_randf"
   ]
  },
  {
   "cell_type": "code",
   "execution_count": 130,
   "metadata": {},
   "outputs": [
    {
     "data": {
      "text/plain": [
       "45197.69387211323"
      ]
     },
     "execution_count": 130,
     "metadata": {},
     "output_type": "execute_result"
    }
   ],
   "source": [
    "min(trials.losses())"
   ]
  },
  {
   "cell_type": "code",
   "execution_count": 131,
   "metadata": {},
   "outputs": [
    {
     "name": "stdout",
     "output_type": "stream",
     "text": [
      "42.47 %\n"
     ]
    }
   ],
   "source": [
    "randf=RandomForestRegressor(**best_randf)\n",
    "randf.fit(x_train,y_train)\n",
    "y_pred=randf.predict(x_test)\n",
    "print(round(r2_score(y_test,y_pred,)*100,2),'%')"
   ]
  },
  {
   "cell_type": "markdown",
   "metadata": {
    "id": "XAr8Ox0X_64J"
   },
   "source": [
    "#### **2. AdaBoost**"
   ]
  },
  {
   "cell_type": "code",
   "execution_count": 95,
   "metadata": {
    "id": "4tjhjmZgNiLK"
   },
   "outputs": [],
   "source": [
    "def objective(space):    \n",
    "    hyperopt_adab=AdaBoostRegressor(**space)  #define model\n",
    "    hyperopt_adab.fit(x_train,y_train)        #fit model\n",
    "    y_pred=hyperopt_adab.predict(x_test)      #prediction\n",
    "    \n",
    "    rmse=np.sqrt(mean_squared_error(y_test,y_pred))    #rmse calculation\n",
    "\n",
    "    return(rmse)"
   ]
  },
  {
   "cell_type": "code",
   "execution_count": 96,
   "metadata": {
    "id": "Mfr6fKLeOZWU"
   },
   "outputs": [
    {
     "name": "stdout",
     "output_type": "stream",
     "text": [
      "100%|███████████████████████████████████████████████████████████████████████████████████████████████████| 100/100 [08:35<00:00,  5.15s/trial, best loss: 47319.87556600031]\n"
     ]
    },
    {
     "data": {
      "text/plain": [
       "{'learning_rate': 0.7656970762759261, 'loss': 'linear', 'n_estimators': 1925}"
      ]
     },
     "execution_count": 96,
     "metadata": {},
     "output_type": "execute_result"
    }
   ],
   "source": [
    "trials = Trials()\n",
    "\n",
    "space={'n_estimators'     :hp.choice('n_estimators',list(range(100,2000))),\n",
    "      'learning_rate'     :hp.uniform('learning_rate',0.1,1),\n",
    "      'loss'              :hp.choice('loss',['linear', 'square', 'exponential'])\n",
    "      }\n",
    "best = fmin(fn= objective,\n",
    "            space= space,\n",
    "            algo= tpe.suggest,\n",
    "            max_evals = 100,\n",
    "            trials= trials)\n",
    "best_adab=space_eval(space,best)\n",
    "best_adab"
   ]
  },
  {
   "cell_type": "code",
   "execution_count": 97,
   "metadata": {
    "id": "jC2jQwkpw0rM"
   },
   "outputs": [
    {
     "data": {
      "text/plain": [
       "47319.87556600031"
      ]
     },
     "execution_count": 97,
     "metadata": {},
     "output_type": "execute_result"
    }
   ],
   "source": [
    "min(trials.losses())"
   ]
  },
  {
   "cell_type": "code",
   "execution_count": 98,
   "metadata": {
    "id": "qNgKNI0QG0pf"
   },
   "outputs": [
    {
     "name": "stdout",
     "output_type": "stream",
     "text": [
      "37.4 %\n"
     ]
    }
   ],
   "source": [
    "adab=AdaBoostRegressor(**best_adab)\n",
    "adab.fit(x_train,y_train)\n",
    "y_pred=adab.predict(x_test)\n",
    "print(round(r2_score(y_test,y_pred,)*100,2),'%')"
   ]
  },
  {
   "cell_type": "markdown",
   "metadata": {
    "id": "dzDPF_tXw0rO"
   },
   "source": [
    "#### **3. GradientBoost**"
   ]
  },
  {
   "cell_type": "code",
   "execution_count": 99,
   "metadata": {
    "id": "TAsa3_aQw0rO"
   },
   "outputs": [],
   "source": [
    "def objective(space):\n",
    "    hyperopt_gradb=GradientBoostingRegressor(**space) \n",
    "    hyperopt_gradb.fit(x_train,y_train)        \n",
    "    y_pred=hyperopt_gradb.predict(x_test)      \n",
    "    \n",
    "    rmse=np.sqrt(mean_squared_error(y_test,y_pred))    #rmse calculation\n",
    "    \n",
    "    return(rmse)"
   ]
  },
  {
   "cell_type": "code",
   "execution_count": 100,
   "metadata": {
    "id": "T2GC-mCdw0rP"
   },
   "outputs": [
    {
     "name": "stdout",
     "output_type": "stream",
     "text": [
      "100%|███████████████████████████████████████████████████████████████████████████████████████████████████| 100/100 [47:18<00:00, 28.39s/trial, best loss: 44930.59724384343]\n"
     ]
    },
    {
     "data": {
      "text/plain": [
       "{'learning_rate': 0.04087817328977977,\n",
       " 'loss': 'squared_error',\n",
       " 'max_depth': 10,\n",
       " 'max_features': 'auto',\n",
       " 'min_samples_split': 0.7890204411694645,\n",
       " 'min_weight_fraction_leaf': 0.025825852354358192,\n",
       " 'n_estimators': 663}"
      ]
     },
     "execution_count": 100,
     "metadata": {},
     "output_type": "execute_result"
    }
   ],
   "source": [
    "trials = Trials()\n",
    "\n",
    "space={'n_estimators'             :hp.choice('n_estimators',list(range(100,3000))),\n",
    "       'learning_rate'            :hp.uniform('learning_rate',0.001,1),\n",
    "       'max_depth'                :hp.choice('max_depth',list(range(3, 15))),\n",
    "       'max_features'             :hp.choice('max_features',['auto','log2']),\n",
    "       'min_samples_split'        :hp.uniform('min_samples_split',0.0,1.0),\n",
    "       'min_weight_fraction_leaf' :hp.uniform('min_weight_fraction_leaf',0.0,0.5),\n",
    "       'loss'                     :hp.choice('loss',['squared_error', 'absolute_error', 'huber', 'quantile'])\n",
    "      }\n",
    "\n",
    "best = fmin(fn= objective,\n",
    "            space= space,\n",
    "            algo= tpe.suggest,\n",
    "            max_evals = 100,\n",
    "            trials= trials)\n",
    "best_gradb=space_eval(space,best)\n",
    "best_gradb"
   ]
  },
  {
   "cell_type": "code",
   "execution_count": 101,
   "metadata": {
    "id": "7_lNJoqmw0rP"
   },
   "outputs": [
    {
     "data": {
      "text/plain": [
       "44930.59724384343"
      ]
     },
     "execution_count": 101,
     "metadata": {},
     "output_type": "execute_result"
    }
   ],
   "source": [
    "min(trials.losses())"
   ]
  },
  {
   "cell_type": "code",
   "execution_count": 102,
   "metadata": {
    "id": "qHPDl-_pw0rQ"
   },
   "outputs": [
    {
     "name": "stdout",
     "output_type": "stream",
     "text": [
      "43.34 %\n"
     ]
    }
   ],
   "source": [
    "gradb=GradientBoostingRegressor(**best_gradb)\n",
    "gradb.fit(x_train,y_train)\n",
    "y_pred=gradb.predict(x_test)\n",
    "print(round(r2_score(y_test,y_pred,)*100,2),'%')"
   ]
  },
  {
   "cell_type": "markdown",
   "metadata": {
    "id": "NjoFYJmIw0rR"
   },
   "source": [
    "#### **4. XGBoost**"
   ]
  },
  {
   "cell_type": "code",
   "execution_count": 103,
   "metadata": {
    "id": "K22X3gtAw0rR"
   },
   "outputs": [],
   "source": [
    "def objective(space):\n",
    "     \n",
    "    hyperopt_xgb=XGBRegressor(**space) \n",
    "    hyperopt_xgb.fit(x_train,y_train)        \n",
    "    y_pred=hyperopt_xgb.predict(x_test)      \n",
    "    \n",
    "    rmse=np.sqrt(mean_squared_error(y_test,y_pred))    #rmse calculation\n",
    "    \n",
    "    return(rmse)"
   ]
  },
  {
   "cell_type": "code",
   "execution_count": 105,
   "metadata": {
    "id": "MNRCMhVIw0rR"
   },
   "outputs": [
    {
     "name": "stdout",
     "output_type": "stream",
     "text": [
      "100%|██████████████████████████████████████████████████████████████████████████████████████████████████| 100/100 [07:25<00:00,  4.46s/trial, best loss: 45107.214236552674]\n"
     ]
    },
    {
     "data": {
      "text/plain": [
       "{'colsample_bytree': 0.5,\n",
       " 'learning_rate': 0.1303524977877885,\n",
       " 'max_depth': 1,\n",
       " 'min_child_weight': 66.12775243634465,\n",
       " 'n_estimators': 1028,\n",
       " 'subsample': 0.6}"
      ]
     },
     "execution_count": 105,
     "metadata": {},
     "output_type": "execute_result"
    }
   ],
   "source": [
    "trials = Trials()\n",
    "\n",
    "space={#\"tree_method\"       :\"gpu_hist\",\n",
    "       'n_estimators'      :hp.choice('n_estimators',list(range(100,3000))),\n",
    "       'learning_rate'     :hp.uniform('learning_rate',0.0001,1),\n",
    "       'max_depth'         :hp.choice('max_depth',list(range(1, 15))),\n",
    "       'colsample_bytree'  :hp.choice('colsample_bytree',[.1,.2,.3,.4,.5,.6,.7,.8,.9,1]),\n",
    "       'subsample'         :hp.choice('subsample',[.1,.2,.3,.4,.5,.6,.7,.8,.9,1]),\n",
    "       'min_child_weight'  :hp.uniform('min_child_weight',1,200)\n",
    "      }\n",
    "    \n",
    "best = fmin(fn= objective,\n",
    "            space= space,\n",
    "            algo= tpe.suggest,\n",
    "            max_evals = 100,\n",
    "            trials= trials)\n",
    "best_xgb=space_eval(space,best)\n",
    "best_xgb"
   ]
  },
  {
   "cell_type": "code",
   "execution_count": 106,
   "metadata": {},
   "outputs": [
    {
     "data": {
      "text/plain": [
       "45107.214236552674"
      ]
     },
     "execution_count": 106,
     "metadata": {},
     "output_type": "execute_result"
    }
   ],
   "source": [
    "min(trials.losses())"
   ]
  },
  {
   "cell_type": "code",
   "execution_count": 79,
   "metadata": {
    "id": "dgqbzi8rw0rS",
    "scrolled": true
   },
   "outputs": [
    {
     "data": {
      "text/plain": [
       "[47652.38170740681,\n",
       " 49133.878468399394,\n",
       " 46792.17307599039,\n",
       " 56500.54226305476,\n",
       " 46813.66577569889,\n",
       " 45948.73622652125,\n",
       " 56199.52148919921,\n",
       " 45877.65133228514,\n",
       " 45938.37719915106,\n",
       " 49578.82653266425,\n",
       " 46371.61770548272,\n",
       " 60118.03959538542,\n",
       " 52860.65835347879,\n",
       " 48248.89854621449,\n",
       " 46178.08277414445,\n",
       " 46453.703993439696,\n",
       " 48770.82151519696,\n",
       " 46668.42311705782,\n",
       " 46437.10461292595,\n",
       " 47555.15370828568,\n",
       " 45878.67282496583,\n",
       " 45532.47871208844,\n",
       " 47045.18400591475,\n",
       " 45497.862220402465,\n",
       " 45461.222665738205,\n",
       " 45440.53854803863,\n",
       " 46283.811373281984,\n",
       " 54746.4046260106,\n",
       " 47456.37728965422,\n",
       " 45590.11182609589,\n",
       " 45355.76519565782,\n",
       " 45110.41701170217,\n",
       " 45345.81755491098,\n",
       " 45305.71445902915,\n",
       " 45624.88345839469,\n",
       " 45950.97163744065,\n",
       " 45125.99997009762,\n",
       " 46247.191016465185,\n",
       " 46486.402362313056,\n",
       " 46188.89040851197,\n",
       " 51096.580022667826,\n",
       " 45744.27262919582,\n",
       " 46954.231622191786,\n",
       " 46956.64148838175,\n",
       " 47503.37477803399,\n",
       " 46080.19450487075,\n",
       " 46183.73356078919,\n",
       " 45231.904802017656,\n",
       " 53514.04420852832,\n",
       " 51032.404838519535,\n",
       " 45323.474496586154,\n",
       " 50867.86325731329,\n",
       " 46395.60138711865,\n",
       " 62008.89560055499,\n",
       " 50850.781983442255,\n",
       " 45285.77493670992,\n",
       " 47674.61508035648,\n",
       " 45923.96139067441,\n",
       " 46446.827443815404,\n",
       " 184790.89545384067,\n",
       " 46611.47762540005,\n",
       " 48628.564448157085,\n",
       " 46716.76311470145,\n",
       " 45273.925253653615,\n",
       " 49788.387823754914,\n",
       " 45486.2499631465,\n",
       " 45810.33806221793,\n",
       " 45978.438495291826,\n",
       " 45894.16545644802,\n",
       " 45952.631575555526,\n",
       " 47995.48870895881,\n",
       " 45513.73962920279,\n",
       " 47707.31466591104,\n",
       " 45547.78878229222,\n",
       " 46150.17754654026,\n",
       " 49878.76713378309,\n",
       " 46203.25725224583,\n",
       " 46027.99448761556,\n",
       " 45633.59798125542,\n",
       " 48568.745882348245,\n",
       " 46394.071452202195,\n",
       " 61466.0658624603,\n",
       " 45328.915733579866,\n",
       " 47307.75471013233,\n",
       " 45710.90971641765,\n",
       " 46352.777353320496,\n",
       " 46078.76097934072,\n",
       " 45824.781629262725,\n",
       " 48016.29350343874,\n",
       " 46026.78449238793,\n",
       " 46480.30040218056,\n",
       " 45953.11773839306,\n",
       " 46429.533910806625,\n",
       " 49085.568722864526,\n",
       " 46096.006275170526,\n",
       " 73872.77048375549,\n",
       " 47841.620111858974,\n",
       " 47267.68625794178,\n",
       " 45852.46485028069,\n",
       " 46296.75326419192]"
      ]
     },
     "execution_count": 79,
     "metadata": {},
     "output_type": "execute_result"
    }
   ],
   "source": [
    "trials.losses()"
   ]
  },
  {
   "cell_type": "code",
   "execution_count": 107,
   "metadata": {
    "id": "yoSHPdD_w0rT"
   },
   "outputs": [
    {
     "name": "stdout",
     "output_type": "stream",
     "text": [
      "42.89 %\n"
     ]
    }
   ],
   "source": [
    "xgb=XGBRegressor(**best_xgb)\n",
    "xgb.fit(x_train,y_train)\n",
    "y_pred=xgb.predict(x_test)\n",
    "print(round(r2_score(y_test,y_pred,)*100,2),'%')"
   ]
  },
  {
   "cell_type": "markdown",
   "metadata": {},
   "source": [
    "### **Conclusion**\n"
   ]
  },
  {
   "cell_type": "code",
   "execution_count": 229,
   "metadata": {},
   "outputs": [],
   "source": [
    "data={\n",
    "    'GridSearchCV'      : ['42.35%','35.24%','41.34%','41.08%'],\n",
    "    'RandomizedSearchCV': ['42.18%','35.42%','40.77%','41.04%'],\n",
    "    'Optuna'            : ['42.43%','35.55%','41.77%','41.70%'],\n",
    "    'HyperOpt'          : ['42.47%','37.40%','43.34%','42.89%']\n",
    "}"
   ]
  },
  {
   "cell_type": "code",
   "execution_count": 230,
   "metadata": {},
   "outputs": [],
   "source": [
    "new_df=pd.DataFrame(data=data,columns=data.keys(),index=['RandomForest','AdaBoost','GradientBoost','XGBoost'])"
   ]
  },
  {
   "cell_type": "code",
   "execution_count": 231,
   "metadata": {},
   "outputs": [
    {
     "data": {
      "text/html": [
       "<div>\n",
       "<style scoped>\n",
       "    .dataframe tbody tr th:only-of-type {\n",
       "        vertical-align: middle;\n",
       "    }\n",
       "\n",
       "    .dataframe tbody tr th {\n",
       "        vertical-align: top;\n",
       "    }\n",
       "\n",
       "    .dataframe thead th {\n",
       "        text-align: right;\n",
       "    }\n",
       "</style>\n",
       "<table border=\"1\" class=\"dataframe\">\n",
       "  <thead>\n",
       "    <tr style=\"text-align: right;\">\n",
       "      <th></th>\n",
       "      <th>GridSearchCV</th>\n",
       "      <th>RandomizedSearchCV</th>\n",
       "      <th>Optuna</th>\n",
       "      <th>HyperOpt</th>\n",
       "    </tr>\n",
       "  </thead>\n",
       "  <tbody>\n",
       "    <tr>\n",
       "      <th>RandomForest</th>\n",
       "      <td>42.35%</td>\n",
       "      <td>42.18%</td>\n",
       "      <td>42.43%</td>\n",
       "      <td>42.47%</td>\n",
       "    </tr>\n",
       "    <tr>\n",
       "      <th>AdaBoost</th>\n",
       "      <td>35.24%</td>\n",
       "      <td>35.42%</td>\n",
       "      <td>35.55%</td>\n",
       "      <td>37.40%</td>\n",
       "    </tr>\n",
       "    <tr>\n",
       "      <th>GradientBoost</th>\n",
       "      <td>41.34%</td>\n",
       "      <td>40.77%</td>\n",
       "      <td>41.77%</td>\n",
       "      <td>43.34%</td>\n",
       "    </tr>\n",
       "    <tr>\n",
       "      <th>XGBoost</th>\n",
       "      <td>41.08%</td>\n",
       "      <td>41.04%</td>\n",
       "      <td>41.70%</td>\n",
       "      <td>42.89%</td>\n",
       "    </tr>\n",
       "  </tbody>\n",
       "</table>\n",
       "</div>"
      ],
      "text/plain": [
       "              GridSearchCV RandomizedSearchCV  Optuna HyperOpt\n",
       "RandomForest        42.35%             42.18%  42.43%   42.47%\n",
       "AdaBoost            35.24%             35.42%  35.55%   37.40%\n",
       "GradientBoost       41.34%             40.77%  41.77%   43.34%\n",
       "XGBoost             41.08%             41.04%  41.70%   42.89%"
      ]
     },
     "execution_count": 231,
     "metadata": {},
     "output_type": "execute_result"
    }
   ],
   "source": [
    "new_df"
   ]
  },
  {
   "cell_type": "code",
   "execution_count": null,
   "metadata": {},
   "outputs": [],
   "source": []
  }
 ],
 "metadata": {
  "accelerator": "GPU",
  "colab": {
   "collapsed_sections": [
    "AUvIpQjY4D1E",
    "LAjrjxfdzPbq",
    "vqLO1YBIT6x2",
    "To7ipLzvT6x3",
    "CoKqz9_9OXnS",
    "fO28FldoOZzt"
   ],
   "provenance": []
  },
  "kernelspec": {
   "display_name": "Python 3 (ipykernel)",
   "language": "python",
   "name": "python3"
  },
  "language_info": {
   "codemirror_mode": {
    "name": "ipython",
    "version": 3
   },
   "file_extension": ".py",
   "mimetype": "text/x-python",
   "name": "python",
   "nbconvert_exporter": "python",
   "pygments_lexer": "ipython3",
   "version": "3.10.9"
  }
 },
 "nbformat": 4,
 "nbformat_minor": 1
}
